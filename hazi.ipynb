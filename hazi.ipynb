{
    "metadata": {
        "kernelspec": {
            "name": "SQL",
            "display_name": "SQL",
            "language": "sql"
        },
        "language_info": {
            "name": "sql",
            "version": ""
        }
    },
    "nbformat_minor": 2,
    "nbformat": 4,
    "cells": [
        {
            "cell_type": "markdown",
            "source": [
                "A dvd tábla \"cim\" oszlopának 10 leghosszabb karakterlánca"
            ],
            "metadata": {
                "azdata_cell_guid": "b8512ad1-3ed9-4a45-a1fc-8c879256a9a3"
            },
            "attachments": {}
        },
        {
            "cell_type": "code",
            "source": [
                "SELECT TOP 10 cim AS string, \r\n",
                "        LEN(cim) AS hossz\r\n",
                "FROM dvd\r\n",
                "GROUP BY cim\r\n",
                "ORDER BY 2 DESC"
            ],
            "metadata": {
                "azdata_cell_guid": "19475928-d45e-4b29-8c28-37624f52453c",
                "language": "sql"
            },
            "outputs": [
                {
                    "output_type": "display_data",
                    "data": {
                        "text/html": "(10 rows affected)"
                    },
                    "metadata": {}
                },
                {
                    "output_type": "display_data",
                    "data": {
                        "text/html": "Total execution time: 00:00:00.177"
                    },
                    "metadata": {}
                },
                {
                    "output_type": "execute_result",
                    "execution_count": 10,
                    "data": {
                        "application/vnd.dataresource+json": {
                            "schema": {
                                "fields": [
                                    {
                                        "name": "string"
                                    },
                                    {
                                        "name": "hossz"
                                    }
                                ]
                            },
                            "data": [
                                {
                                    "string": "Dicső napok és hétköznapok 1848 - Digitális forrásgyűjtemény 1.",
                                    "hossz": "63"
                                },
                                {
                                    "string": "Kétfejű sas: A Habsburg-uralom Magyarországon (1699-1790)",
                                    "hossz": "57"
                                },
                                {
                                    "string": "Multimédiás Menedzsment Könyvtár 1. - Változásmenedzsment",
                                    "hossz": "57"
                                },
                                {
                                    "string": "Madárdalos kirándulások - Madártani oktató CD-ROM (1999)",
                                    "hossz": "56"
                                },
                                {
                                    "string": "Matematika felkészítő az érettségi és felvételi vizsgára",
                                    "hossz": "56"
                                },
                                {
                                    "string": "Irodalom  felkészítő az érettségi és felvételi vizsgára",
                                    "hossz": "55"
                                },
                                {
                                    "string": "Kettős kötődés: Az Osztrák-Magyar Monarchia (1867-1918)",
                                    "hossz": "55"
                                },
                                {
                                    "string": "Az Osztrák-Magyar Monarchia írásban és képekben (2001)",
                                    "hossz": "54"
                                },
                                {
                                    "string": "Half-Life Generation: Game of the Year Edition (2002)",
                                    "hossz": "53"
                                },
                                {
                                    "string": "Az Országos Széchényi Könyvtár corvinái, 2002 (2002)",
                                    "hossz": "52"
                                }
                            ]
                        },
                        "text/html": "<table><tr><th>string</th><th>hossz</th></tr><tr><td>Dicső napok és hétköznapok 1848 - Digitális forrásgyűjtemény 1.</td><td>63</td></tr><tr><td>Kétfejű sas: A Habsburg-uralom Magyarországon (1699-1790)</td><td>57</td></tr><tr><td>Multimédiás Menedzsment Könyvtár 1. - Változásmenedzsment</td><td>57</td></tr><tr><td>Madárdalos kirándulások - Madártani oktató CD-ROM (1999)</td><td>56</td></tr><tr><td>Matematika felkészítő az érettségi és felvételi vizsgára</td><td>56</td></tr><tr><td>Irodalom  felkészítő az érettségi és felvételi vizsgára</td><td>55</td></tr><tr><td>Kettős kötődés: Az Osztrák-Magyar Monarchia (1867-1918)</td><td>55</td></tr><tr><td>Az Osztrák-Magyar Monarchia írásban és képekben (2001)</td><td>54</td></tr><tr><td>Half-Life Generation: Game of the Year Edition (2002)</td><td>53</td></tr><tr><td>Az Országos Széchényi Könyvtár corvinái, 2002 (2002)</td><td>52</td></tr></table>"
                    },
                    "metadata": {
                        "azdata_chartOptions": {
                            "type": "horizontalBar",
                            "dataDirection": "horizontal",
                            "columnsAsLabels": true,
                            "labelFirstColumn": true,
                            "legendPosition": "top"
                        }
                    }
                }
            ],
            "execution_count": 10
        },
        {
            "cell_type": "markdown",
            "source": [
                "A dvd tábla \"cim\" oszlopának üres, nem üres és NULL sorainak a száma"
            ],
            "metadata": {
                "azdata_cell_guid": "cf3e44fc-b391-42f5-98fd-6d3edab2c244"
            },
            "attachments": {}
        },
        {
            "cell_type": "code",
            "source": [
                "SELECT típus,\r\n",
                "    COUNT(*) db\r\n",
                "FROM \r\n",
                "    (SELECT \r\n",
                "        CASE WHEN cim IS NULL THEN 'Null'\r\n",
                "            WHEN LEN(cim) = 0 THEN 'Üres'\r\n",
                "            ELSE 'Nem üres' \r\n",
                "            END AS típus\r\n",
                "        FROM dvd) rows\r\n",
                "GROUP BY típus\r\n",
                ""
            ],
            "metadata": {
                "azdata_cell_guid": "6f5646c5-7633-46ad-8869-a10bd0cae9b4",
                "language": "sql"
            },
            "outputs": [
                {
                    "output_type": "display_data",
                    "data": {
                        "text/html": "(2 rows affected)"
                    },
                    "metadata": {}
                },
                {
                    "output_type": "display_data",
                    "data": {
                        "text/html": "Total execution time: 00:00:00.053"
                    },
                    "metadata": {}
                },
                {
                    "output_type": "execute_result",
                    "execution_count": 7,
                    "data": {
                        "application/vnd.dataresource+json": {
                            "schema": {
                                "fields": [
                                    {
                                        "name": "típus"
                                    },
                                    {
                                        "name": "db"
                                    }
                                ]
                            },
                            "data": [
                                {
                                    "típus": "Nem üres",
                                    "db": "317"
                                },
                                {
                                    "típus": "Null",
                                    "db": "1"
                                }
                            ]
                        },
                        "text/html": "<table><tr><th>típus</th><th>db</th></tr><tr><td>Nem üres</td><td>317</td></tr><tr><td>Null</td><td>1</td></tr></table>"
                    },
                    "metadata": {
                        "azdata_chartOptions": {
                            "type": "pie",
                            "dataDirection": "vertical",
                            "columnsAsLabels": true,
                            "labelFirstColumn": false,
                            "legendPosition": "top"
                        }
                    }
                }
            ],
            "execution_count": 7
        },
        {
            "cell_type": "markdown",
            "source": [
                "A dvd tábla \"cim\" oszlop karakterláncainak hossza és a hozzájuk tartozó darabszám"
            ],
            "metadata": {
                "azdata_cell_guid": "cf408bdb-8a01-4dc6-b9d4-1b06a5bf56d1"
            },
            "attachments": {}
        },
        {
            "cell_type": "code",
            "source": [
                "SELECT LEN(cim) AS hossz,\r\n",
                "       count(*) AS db\r\n",
                "FROM dvd\r\n",
                "GROUP BY LEN(cim)\r\n",
                "ORDER BY 1"
            ],
            "metadata": {
                "azdata_cell_guid": "65b1d967-abd7-4f72-9490-833ed8ca5673",
                "language": "sql"
            },
            "outputs": [
                {
                    "output_type": "display_data",
                    "data": {
                        "text/html": "(52 rows affected)"
                    },
                    "metadata": {}
                },
                {
                    "output_type": "display_data",
                    "data": {
                        "text/html": "Total execution time: 00:00:00.046"
                    },
                    "metadata": {}
                },
                {
                    "output_type": "execute_result",
                    "execution_count": 12,
                    "data": {
                        "application/vnd.dataresource+json": {
                            "schema": {
                                "fields": [
                                    {
                                        "name": "hossz"
                                    },
                                    {
                                        "name": "db"
                                    }
                                ]
                            },
                            "data": [
                                {
                                    "hossz": "NULL",
                                    "db": "1"
                                },
                                {
                                    "hossz": "5",
                                    "db": "2"
                                },
                                {
                                    "hossz": "6",
                                    "db": "5"
                                },
                                {
                                    "hossz": "7",
                                    "db": "2"
                                },
                                {
                                    "hossz": "8",
                                    "db": "3"
                                },
                                {
                                    "hossz": "10",
                                    "db": "3"
                                },
                                {
                                    "hossz": "11",
                                    "db": "4"
                                },
                                {
                                    "hossz": "12",
                                    "db": "8"
                                },
                                {
                                    "hossz": "13",
                                    "db": "15"
                                },
                                {
                                    "hossz": "14",
                                    "db": "6"
                                },
                                {
                                    "hossz": "15",
                                    "db": "17"
                                },
                                {
                                    "hossz": "16",
                                    "db": "4"
                                },
                                {
                                    "hossz": "17",
                                    "db": "10"
                                },
                                {
                                    "hossz": "18",
                                    "db": "9"
                                },
                                {
                                    "hossz": "19",
                                    "db": "3"
                                },
                                {
                                    "hossz": "20",
                                    "db": "14"
                                },
                                {
                                    "hossz": "21",
                                    "db": "14"
                                },
                                {
                                    "hossz": "22",
                                    "db": "17"
                                },
                                {
                                    "hossz": "23",
                                    "db": "12"
                                },
                                {
                                    "hossz": "24",
                                    "db": "16"
                                },
                                {
                                    "hossz": "25",
                                    "db": "2"
                                },
                                {
                                    "hossz": "26",
                                    "db": "14"
                                },
                                {
                                    "hossz": "27",
                                    "db": "8"
                                },
                                {
                                    "hossz": "28",
                                    "db": "10"
                                },
                                {
                                    "hossz": "29",
                                    "db": "13"
                                },
                                {
                                    "hossz": "30",
                                    "db": "7"
                                },
                                {
                                    "hossz": "31",
                                    "db": "8"
                                },
                                {
                                    "hossz": "32",
                                    "db": "11"
                                },
                                {
                                    "hossz": "33",
                                    "db": "4"
                                },
                                {
                                    "hossz": "34",
                                    "db": "7"
                                },
                                {
                                    "hossz": "35",
                                    "db": "5"
                                },
                                {
                                    "hossz": "36",
                                    "db": "9"
                                },
                                {
                                    "hossz": "37",
                                    "db": "5"
                                },
                                {
                                    "hossz": "38",
                                    "db": "2"
                                },
                                {
                                    "hossz": "39",
                                    "db": "5"
                                },
                                {
                                    "hossz": "40",
                                    "db": "3"
                                },
                                {
                                    "hossz": "41",
                                    "db": "3"
                                },
                                {
                                    "hossz": "42",
                                    "db": "5"
                                },
                                {
                                    "hossz": "43",
                                    "db": "7"
                                },
                                {
                                    "hossz": "44",
                                    "db": "4"
                                },
                                {
                                    "hossz": "45",
                                    "db": "1"
                                },
                                {
                                    "hossz": "47",
                                    "db": "3"
                                },
                                {
                                    "hossz": "49",
                                    "db": "3"
                                },
                                {
                                    "hossz": "50",
                                    "db": "2"
                                },
                                {
                                    "hossz": "51",
                                    "db": "1"
                                },
                                {
                                    "hossz": "52",
                                    "db": "2"
                                },
                                {
                                    "hossz": "53",
                                    "db": "1"
                                },
                                {
                                    "hossz": "54",
                                    "db": "1"
                                },
                                {
                                    "hossz": "55",
                                    "db": "2"
                                },
                                {
                                    "hossz": "56",
                                    "db": "2"
                                },
                                {
                                    "hossz": "57",
                                    "db": "2"
                                },
                                {
                                    "hossz": "63",
                                    "db": "1"
                                }
                            ]
                        },
                        "text/html": "<table><tr><th>hossz</th><th>db</th></tr><tr><td>NULL</td><td>1</td></tr><tr><td>5</td><td>2</td></tr><tr><td>6</td><td>5</td></tr><tr><td>7</td><td>2</td></tr><tr><td>8</td><td>3</td></tr><tr><td>10</td><td>3</td></tr><tr><td>11</td><td>4</td></tr><tr><td>12</td><td>8</td></tr><tr><td>13</td><td>15</td></tr><tr><td>14</td><td>6</td></tr><tr><td>15</td><td>17</td></tr><tr><td>16</td><td>4</td></tr><tr><td>17</td><td>10</td></tr><tr><td>18</td><td>9</td></tr><tr><td>19</td><td>3</td></tr><tr><td>20</td><td>14</td></tr><tr><td>21</td><td>14</td></tr><tr><td>22</td><td>17</td></tr><tr><td>23</td><td>12</td></tr><tr><td>24</td><td>16</td></tr><tr><td>25</td><td>2</td></tr><tr><td>26</td><td>14</td></tr><tr><td>27</td><td>8</td></tr><tr><td>28</td><td>10</td></tr><tr><td>29</td><td>13</td></tr><tr><td>30</td><td>7</td></tr><tr><td>31</td><td>8</td></tr><tr><td>32</td><td>11</td></tr><tr><td>33</td><td>4</td></tr><tr><td>34</td><td>7</td></tr><tr><td>35</td><td>5</td></tr><tr><td>36</td><td>9</td></tr><tr><td>37</td><td>5</td></tr><tr><td>38</td><td>2</td></tr><tr><td>39</td><td>5</td></tr><tr><td>40</td><td>3</td></tr><tr><td>41</td><td>3</td></tr><tr><td>42</td><td>5</td></tr><tr><td>43</td><td>7</td></tr><tr><td>44</td><td>4</td></tr><tr><td>45</td><td>1</td></tr><tr><td>47</td><td>3</td></tr><tr><td>49</td><td>3</td></tr><tr><td>50</td><td>2</td></tr><tr><td>51</td><td>1</td></tr><tr><td>52</td><td>2</td></tr><tr><td>53</td><td>1</td></tr><tr><td>54</td><td>1</td></tr><tr><td>55</td><td>2</td></tr><tr><td>56</td><td>2</td></tr><tr><td>57</td><td>2</td></tr><tr><td>63</td><td>1</td></tr></table>"
                    },
                    "metadata": {
                        "azdata_chartOptions": {
                            "type": "pie",
                            "dataDirection": "vertical",
                            "columnsAsLabels": true,
                            "labelFirstColumn": false,
                            "legendPosition": "top",
                            "dataType": "number"
                        }
                    }
                }
            ],
            "execution_count": 12
        },
        {
            "cell_type": "markdown",
            "source": [
                "A dvd tábla \"stilus\" oszlopának legrövidebb, leghosszabb karakterlánca és a karakterláncok atlagos hossza"
            ],
            "metadata": {
                "azdata_cell_guid": "61c1df99-5da7-4896-b804-1a021c8b8795"
            },
            "attachments": {}
        },
        {
            "cell_type": "code",
            "source": [
                "SELECT MIN(LEN(stilus)) AS 'Legrövidebb', \r\n",
                "       MAX(LEN(stilus)) AS 'Leghosszabb', \r\n",
                "       AVG(LEN(stilus)) AS 'Átlag'\r\n",
                "FROM dvd\r\n",
                "WHERE stilus IS NOT NULL\r\n",
                "AND LEN(stilus) > 0"
            ],
            "metadata": {
                "azdata_cell_guid": "e5405744-68dd-4bbd-92a5-601c05a65a9f",
                "language": "sql"
            },
            "outputs": [
                {
                    "output_type": "display_data",
                    "data": {
                        "text/html": "(1 row affected)"
                    },
                    "metadata": {}
                },
                {
                    "output_type": "display_data",
                    "data": {
                        "text/html": "Total execution time: 00:00:00.219"
                    },
                    "metadata": {}
                },
                {
                    "output_type": "execute_result",
                    "execution_count": 8,
                    "data": {
                        "application/vnd.dataresource+json": {
                            "schema": {
                                "fields": [
                                    {
                                        "name": "Legrövidebb"
                                    },
                                    {
                                        "name": "Leghosszabb"
                                    },
                                    {
                                        "name": "Átlag"
                                    }
                                ]
                            },
                            "data": [
                                {
                                    "Legrövidebb": "4",
                                    "Leghosszabb": "24",
                                    "Átlag": "9"
                                }
                            ]
                        },
                        "text/html": "<table><tr><th>Legrövidebb</th><th>Leghosszabb</th><th>Átlag</th></tr><tr><td>4</td><td>24</td><td>9</td></tr></table>"
                    },
                    "metadata": {
                        "azdata_chartOptions": {
                            "type": "bar",
                            "dataDirection": "horizontal",
                            "columnsAsLabels": true,
                            "labelFirstColumn": false,
                            "legendPosition": "none",
                            "dataType": "number"
                        }
                    }
                }
            ],
            "execution_count": 8
        },
        {
            "cell_type": "markdown",
            "source": [
                "A dvd tábla \"stilus\" oszlopának 10 leggyakoribb értéke"
            ],
            "metadata": {
                "azdata_cell_guid": "66c68680-d538-4a66-a012-50914fc4eac0"
            },
            "attachments": {}
        },
        {
            "cell_type": "code",
            "source": [
                "SELECT TOP 10\r\n",
                "    stilus AS 'Stílus', \r\n",
                "    COUNT(*) 'db'\r\n",
                "from dvd\r\n",
                "WHERE stilus IS NOT null\r\n",
                "GROUP BY stilus\r\n",
                "ORDER BY COUNT(*) desc"
            ],
            "metadata": {
                "azdata_cell_guid": "3c510ab4-0874-4a80-93a3-2c7c1a1d6c1e",
                "language": "sql"
            },
            "outputs": [
                {
                    "output_type": "display_data",
                    "data": {
                        "text/html": "(10 rows affected)"
                    },
                    "metadata": {}
                },
                {
                    "output_type": "display_data",
                    "data": {
                        "text/html": "Total execution time: 00:00:00.084"
                    },
                    "metadata": {}
                },
                {
                    "output_type": "execute_result",
                    "execution_count": 3,
                    "data": {
                        "application/vnd.dataresource+json": {
                            "schema": {
                                "fields": [
                                    {
                                        "name": "Stílus"
                                    },
                                    {
                                        "name": "db"
                                    }
                                ]
                            },
                            "data": [
                                {
                                    "Stílus": "játék",
                                    "db": "60"
                                },
                                {
                                    "Stílus": "ismeretterjesztő",
                                    "db": "46"
                                },
                                {
                                    "Stílus": "nyelvtanító",
                                    "db": "42"
                                },
                                {
                                    "Stílus": "történelem",
                                    "db": "41"
                                },
                                {
                                    "Stílus": "földrajz",
                                    "db": "16"
                                },
                                {
                                    "Stílus": "irodalom",
                                    "db": "16"
                                },
                                {
                                    "Stílus": "matematika",
                                    "db": "9"
                                },
                                {
                                    "Stílus": "csillagászat",
                                    "db": "7"
                                },
                                {
                                    "Stílus": "szótár",
                                    "db": "7"
                                },
                                {
                                    "Stílus": "felvételi",
                                    "db": "6"
                                }
                            ]
                        },
                        "text/html": "<table><tr><th>Stílus</th><th>db</th></tr><tr><td>játék</td><td>60</td></tr><tr><td>ismeretterjesztő</td><td>46</td></tr><tr><td>nyelvtanító</td><td>42</td></tr><tr><td>történelem</td><td>41</td></tr><tr><td>földrajz</td><td>16</td></tr><tr><td>irodalom</td><td>16</td></tr><tr><td>matematika</td><td>9</td></tr><tr><td>csillagászat</td><td>7</td></tr><tr><td>szótár</td><td>7</td></tr><tr><td>felvételi</td><td>6</td></tr></table>"
                    },
                    "metadata": {
                        "azdata_chartOptions": {
                            "type": "bar",
                            "dataDirection": "horizontal",
                            "columnsAsLabels": true,
                            "labelFirstColumn": true,
                            "legendPosition": "top"
                        }
                    }
                }
            ],
            "execution_count": 3
        },
        {
            "cell_type": "markdown",
            "source": [
                "A dvd tábla \"stilus\" oszlopának összes értéke és az ezekhez tartozó darabszámok"
            ],
            "metadata": {
                "azdata_cell_guid": "4759b590-c96a-425d-bed7-b6afb8ccbb2c"
            },
            "attachments": {}
        },
        {
            "cell_type": "code",
            "source": [
                "SELECT \r\n",
                "    stilus AS stílus, \r\n",
                "    COUNT(*) db\r\n",
                "from dvd\r\n",
                "WHERE stilus IS NOT null\r\n",
                "GROUP BY stilus\r\n",
                "ORDER BY stilus"
            ],
            "metadata": {
                "azdata_cell_guid": "aa323097-8c4f-47ac-aaa8-3edbf938407d",
                "language": "sql"
            },
            "outputs": [
                {
                    "output_type": "display_data",
                    "data": {
                        "text/html": "(47 rows affected)"
                    },
                    "metadata": {}
                },
                {
                    "output_type": "display_data",
                    "data": {
                        "text/html": "Total execution time: 00:00:00.050"
                    },
                    "metadata": {}
                },
                {
                    "output_type": "execute_result",
                    "execution_count": 6,
                    "data": {
                        "application/vnd.dataresource+json": {
                            "schema": {
                                "fields": [
                                    {
                                        "name": "stílus"
                                    },
                                    {
                                        "name": "db"
                                    }
                                ]
                            },
                            "data": [
                                {
                                    "stílus": "állattan",
                                    "db": "3"
                                },
                                {
                                    "stílus": "ásványtan",
                                    "db": "1"
                                },
                                {
                                    "stílus": "betűtípusok",
                                    "db": "1"
                                },
                                {
                                    "stílus": "biológia",
                                    "db": "5"
                                },
                                {
                                    "stílus": "csillagászat",
                                    "db": "7"
                                },
                                {
                                    "stílus": "felvételi",
                                    "db": "6"
                                },
                                {
                                    "stílus": "festészet",
                                    "db": "2"
                                },
                                {
                                    "stílus": "filmtörténet",
                                    "db": "2"
                                },
                                {
                                    "stílus": "fizika",
                                    "db": "3"
                                },
                                {
                                    "stílus": "fordító program",
                                    "db": "1"
                                },
                                {
                                    "stílus": "földrajz",
                                    "db": "16"
                                },
                                {
                                    "stílus": "gasztronómia",
                                    "db": "4"
                                },
                                {
                                    "stílus": "gépírás",
                                    "db": "1"
                                },
                                {
                                    "stílus": "hadtudomány",
                                    "db": "1"
                                },
                                {
                                    "stílus": "humor",
                                    "db": "1"
                                },
                                {
                                    "stílus": "irodalom",
                                    "db": "16"
                                },
                                {
                                    "stílus": "irodalom, nyelv",
                                    "db": "1"
                                },
                                {
                                    "stílus": "ismeretterjesztő",
                                    "db": "46"
                                },
                                {
                                    "stílus": "ismeretterjesztő + játék",
                                    "db": "1"
                                },
                                {
                                    "stílus": "játék",
                                    "db": "60"
                                },
                                {
                                    "stílus": "játék - autós",
                                    "db": "1"
                                },
                                {
                                    "stílus": "játék (autóverseny)",
                                    "db": "4"
                                },
                                {
                                    "stílus": "játék (jégkorong)",
                                    "db": "1"
                                },
                                {
                                    "stílus": "játék (labdarúgás)",
                                    "db": "3"
                                },
                                {
                                    "stílus": "játék (repülős)",
                                    "db": "1"
                                },
                                {
                                    "stílus": "játék (rodeó)",
                                    "db": "1"
                                },
                                {
                                    "stílus": "játék (történelmi)",
                                    "db": "1"
                                },
                                {
                                    "stílus": "játék, sakk",
                                    "db": "1"
                                },
                                {
                                    "stílus": "kémia",
                                    "db": "1"
                                },
                                {
                                    "stílus": "kerttervező",
                                    "db": "1"
                                },
                                {
                                    "stílus": "környezetvédelem",
                                    "db": "1"
                                },
                                {
                                    "stílus": "kresz",
                                    "db": "1"
                                },
                                {
                                    "stílus": "lakástervező",
                                    "db": "1"
                                },
                                {
                                    "stílus": "matematika",
                                    "db": "9"
                                },
                                {
                                    "stílus": "matematika, nyelvtan",
                                    "db": "1"
                                },
                                {
                                    "stílus": "múvészet",
                                    "db": "1"
                                },
                                {
                                    "stílus": "művészet",
                                    "db": "4"
                                },
                                {
                                    "stílus": "növénytan",
                                    "db": "1"
                                },
                                {
                                    "stílus": "nyelvtan",
                                    "db": "3"
                                },
                                {
                                    "stílus": "nyelvtanító",
                                    "db": "42"
                                },
                                {
                                    "stílus": "régészet",
                                    "db": "1"
                                },
                                {
                                    "stílus": "sport",
                                    "db": "1"
                                },
                                {
                                    "stílus": "számítástechnika",
                                    "db": "3"
                                },
                                {
                                    "stílus": "színház",
                                    "db": "1"
                                },
                                {
                                    "stílus": "szótár",
                                    "db": "7"
                                },
                                {
                                    "stílus": "történelem",
                                    "db": "41"
                                },
                                {
                                    "stílus": "zene",
                                    "db": "6"
                                }
                            ]
                        },
                        "text/html": "<table><tr><th>stílus</th><th>db</th></tr><tr><td>állattan</td><td>3</td></tr><tr><td>ásványtan</td><td>1</td></tr><tr><td>betűtípusok</td><td>1</td></tr><tr><td>biológia</td><td>5</td></tr><tr><td>csillagászat</td><td>7</td></tr><tr><td>felvételi</td><td>6</td></tr><tr><td>festészet</td><td>2</td></tr><tr><td>filmtörténet</td><td>2</td></tr><tr><td>fizika</td><td>3</td></tr><tr><td>fordító program</td><td>1</td></tr><tr><td>földrajz</td><td>16</td></tr><tr><td>gasztronómia</td><td>4</td></tr><tr><td>gépírás</td><td>1</td></tr><tr><td>hadtudomány</td><td>1</td></tr><tr><td>humor</td><td>1</td></tr><tr><td>irodalom</td><td>16</td></tr><tr><td>irodalom, nyelv</td><td>1</td></tr><tr><td>ismeretterjesztő</td><td>46</td></tr><tr><td>ismeretterjesztő + játék</td><td>1</td></tr><tr><td>játék</td><td>60</td></tr><tr><td>játék - autós</td><td>1</td></tr><tr><td>játék (autóverseny)</td><td>4</td></tr><tr><td>játék (jégkorong)</td><td>1</td></tr><tr><td>játék (labdarúgás)</td><td>3</td></tr><tr><td>játék (repülős)</td><td>1</td></tr><tr><td>játék (rodeó)</td><td>1</td></tr><tr><td>játék (történelmi)</td><td>1</td></tr><tr><td>játék, sakk</td><td>1</td></tr><tr><td>kémia</td><td>1</td></tr><tr><td>kerttervező</td><td>1</td></tr><tr><td>környezetvédelem</td><td>1</td></tr><tr><td>kresz</td><td>1</td></tr><tr><td>lakástervező</td><td>1</td></tr><tr><td>matematika</td><td>9</td></tr><tr><td>matematika, nyelvtan</td><td>1</td></tr><tr><td>múvészet</td><td>1</td></tr><tr><td>művészet</td><td>4</td></tr><tr><td>növénytan</td><td>1</td></tr><tr><td>nyelvtan</td><td>3</td></tr><tr><td>nyelvtanító</td><td>42</td></tr><tr><td>régészet</td><td>1</td></tr><tr><td>sport</td><td>1</td></tr><tr><td>számítástechnika</td><td>3</td></tr><tr><td>színház</td><td>1</td></tr><tr><td>szótár</td><td>7</td></tr><tr><td>történelem</td><td>41</td></tr><tr><td>zene</td><td>6</td></tr></table>"
                    },
                    "metadata": {
                        "azdata_chartOptions": {
                            "type": "doughnut",
                            "dataDirection": "vertical",
                            "columnsAsLabels": true,
                            "labelFirstColumn": false,
                            "legendPosition": "top"
                        }
                    }
                }
            ],
            "execution_count": 6
        }
    ]
}