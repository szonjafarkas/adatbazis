{
    "metadata": {
        "kernelspec": {
            "name": "SQL",
            "display_name": "SQL",
            "language": "sql"
        },
        "language_info": {
            "name": "sql",
            "version": ""
        },
        "extensions": {
            "azuredatastudio": {
                "version": 1,
                "views": []
            }
        }
    },
    "nbformat_minor": 2,
    "nbformat": 4,
    "cells": [
        {
            "cell_type": "markdown",
            "source": [
                "1. <span style=\"color:rgb(36, 41, 47);font-family:-apple-system, BlinkMacSystemFont, &quot;Segoe UI&quot;, Helvetica, Arial, sans-serif, &quot;Apple Color Emoji&quot;, &quot;Segoe UI Emoji&quot;;font-size:16px;\">Készítsünk lekérdezést, amely listázza, hogy mely napokon hány db kölcsönzés történt!</span>\n",
                "\n",
                "<span style=\"font-size: 16px;\">a.&nbsp;</span> Az oszlopok neve legyen 'Dátum' és 'Kölcsönzések száma'  \n",
                "b. A listát rendezzük a kölcsönzés dátuma szerint csökkenő sorrendbe!"
            ],
            "metadata": {
                "azdata_cell_guid": "77f2d5b3-38e9-41cc-893f-f5afd02b97ef"
            },
            "attachments": {}
        },
        {
            "cell_type": "code",
            "source": [
                "SELECT ki_datum,\r\n",
                "COUNT(*)\r\n",
                "FROM kolcsonzesek\r\n",
                "GROUP BY ki_datum -- A GROUP BYban csak az lehet ami a SELECTben"
            ],
            "metadata": {
                "azdata_cell_guid": "bd3cef1a-4e6e-4ece-9dc3-aaa9d2b5d66d",
                "language": "sql"
            },
            "outputs": [],
            "execution_count": null
        },
        {
            "cell_type": "markdown",
            "source": [
                "2. <span style=\"font-weight: 600; color: rgb(36, 41, 47); font-family: -apple-system, BlinkMacSystemFont, &quot;Segoe UI&quot;, Helvetica, Arial, sans-serif, &quot;Apple Color Emoji&quot;, &quot;Segoe UI Emoji&quot;; font-size: 16px;\">Mennyi a dvd-k átlagos ára stílusonkénti bontásban?</span>\n",
                "\n",
                "1. Csak azokat a stílusokat vegyük figyelembe, ahol az átlagos ár 4500 Ft feletti!\n",
                "2. Az oszlopokat nevezzük el értelemszerűen!\n",
                "3. A listát rendezzük átlagos ár szerint csökkenő sorrendbe!"
            ],
            "metadata": {
                "azdata_cell_guid": "88f5b4bb-f4c1-4bad-a0c7-b2592687b422"
            },
            "attachments": {}
        },
        {
            "cell_type": "code",
            "source": [
                "SELECT stilus,\r\n",
                "AVG(nettoar) AS \"Átlag nettóár\"\r\n",
                "FROM dvd\r\n",
                "GROUP BY stilus\r\n",
                "HAVING AVG(nettoar) > 4500\r\n",
                "ORDER BY AVG(nettoar) DESC"
            ],
            "metadata": {
                "azdata_cell_guid": "e9de5726-f036-4fb9-8c33-a873955ed886",
                "language": "sql"
            },
            "outputs": [],
            "execution_count": null
        },
        {
            "cell_type": "markdown",
            "source": [
                "3. <span style=\"color:rgb(36, 41, 47);font-family:-apple-system, BlinkMacSystemFont, &quot;Segoe UI&quot;, Helvetica, Arial, sans-serif, &quot;Apple Color Emoji&quot;, &quot;Segoe UI Emoji&quot;;font-size:16px;\">Listázzuk nyelvenkénti, azon belül stílusonkénti bontásban, hogy mennyi a dvd-k legkisebb és legnagyobb ára!&nbsp;</span> \n",
                "\n",
                "<span style=\"font-size: 16px;\">a. Az oszlopok neve legyen 'Nyelv', 'Stílus', 'MinÁr' és 'MaxÁr'!<br>b.&nbsp;</span> A listából hagyjuk ki azokat a sorokat, ahol a nyelv vagy a stílus nincs megadva!  \n",
                "c. Szintén hagyjuk ki azokat a csoportokat, ahol a csoport elemszáma 3-nál kisebb!"
            ],
            "metadata": {
                "azdata_cell_guid": "9e7249de-1b59-43d8-84b1-26fa7d81fc5a"
            },
            "attachments": {}
        },
        {
            "cell_type": "code",
            "source": [
                "SELECT lang AS \"Nyelv\",\n",
                "stilus AS \"Stílus\",\n",
                "MIN(nettoar) AS 'MinÁr',\n",
                "MAX(nettoar) AS \"MaxÁr\"\n",
                "FROM  dvd\n",
                "WHERE lang IS NOT NULL AND stilus IS NOT NULL\n",
                "GROUP BY lang, stilus\n",
                "HAVING COUNT(*) >= 3"
            ],
            "metadata": {
                "azdata_cell_guid": "6405d3e8-a9b1-45d7-aa76-3b1e785ef6cc",
                "language": "sql"
            },
            "outputs": [],
            "execution_count": null
        },
        {
            "cell_type": "markdown",
            "source": [
                "4. <span style=\"color: rgb(36, 41, 47); font-family: -apple-system, BlinkMacSystemFont, &quot;Segoe UI&quot;, Helvetica, Arial, sans-serif, &quot;Apple Color Emoji&quot;, &quot;Segoe UI Emoji&quot;; font-size: 16px;\">Készítsünk listát, amely a csoportokat hoz létre aszerint, hogy a mai naptól számítva hány nap telt el a kölcsönzés kezdete óta. A lista jelenítse meg csoportonkénti bontásban a kikölcsönzött dvd-k számát!</span>\n",
                "\n",
                "1. Az oszlopokat nevezzük el értelemszerűen!\n",
                "2. A listát rendezzük az eltelt napok száma szerint csökkenő sorrendbe!"
            ],
            "metadata": {
                "azdata_cell_guid": "6478e469-c094-472c-a772-ccd5b5c61516"
            },
            "attachments": {}
        },
        {
            "cell_type": "code",
            "source": [
                "SELECT DATEDIFF(day,ki_datum,GETDATE()) AS \"Eltelt napok\",\r\n",
                "    COUNT(*) AS \"db\"\r\n",
                "FROM kolcsonzesek\r\n",
                "GROUP BY DATEDIFF(day,ki_datum,GETDATE())\r\n",
                "ORDER BY DATEDIFF(day,ki_datum,GETDATE()) DESC\r\n",
                ""
            ],
            "metadata": {
                "azdata_cell_guid": "02031ea2-3838-458d-839c-228e3b362b61",
                "language": "sql"
            },
            "outputs": [
                {
                    "output_type": "display_data",
                    "data": {
                        "text/html": "(3 rows affected)"
                    },
                    "metadata": {}
                },
                {
                    "output_type": "display_data",
                    "data": {
                        "text/html": "Total execution time: 00:00:00.088"
                    },
                    "metadata": {}
                },
                {
                    "output_type": "execute_result",
                    "execution_count": 3,
                    "data": {
                        "application/vnd.dataresource+json": {
                            "schema": {
                                "fields": [
                                    {
                                        "name": "Eltelt napok"
                                    },
                                    {
                                        "name": "db"
                                    }
                                ]
                            },
                            "data": [
                                {
                                    "Eltelt napok": "7387",
                                    "db": "3"
                                },
                                {
                                    "Eltelt napok": "6362",
                                    "db": "1"
                                },
                                {
                                    "Eltelt napok": "6361",
                                    "db": "1"
                                }
                            ]
                        },
                        "text/html": "<table><tr><th>Eltelt napok</th><th>db</th></tr><tr><td>7387</td><td>3</td></tr><tr><td>6362</td><td>1</td></tr><tr><td>6361</td><td>1</td></tr></table>"
                    },
                    "metadata": {}
                }
            ],
            "execution_count": 3
        },
        {
            "cell_type": "markdown",
            "source": [
                "5. <span style=\"color: rgb(36, 41, 47); font-family: -apple-system, BlinkMacSystemFont, &quot;Segoe UI&quot;, Helvetica, Arial, sans-serif, &quot;Apple Color Emoji&quot;, &quot;Segoe UI Emoji&quot;; font-size: 16px;\">A kölcsönző tulajdonosa elhatározza, hogy ezentúl kerekebb árakat alkalmaz. Ezért minden dvd árát 1000 Ft-ra kerekíti. Készítsünk lekérdezést, amely megmutatja, hogy melyik 1000 Ft-ra kerekített ár szerint, azon belül stílus szerint hány db dvd összesen raktáron! **</span>\n",
                "\n",
                "1. Csak olyan csoportokat listázzunk, ahol a raktárkészlet legalább 30!\n",
                "2. A listát rendezzük kerekített ár szerint, azon belül raktárkészlet szerint növekvő sorrendbe!"
            ],
            "metadata": {
                "azdata_cell_guid": "9edbbaf9-c276-4898-9a01-e1b2993c089f"
            },
            "attachments": {}
        },
        {
            "cell_type": "code",
            "source": [
                "SELECT ROUND(nettoar, -3) AS \"Kerekített ár\",\r\n",
                "    SUM([raktár készlet]) AS \"db\",\r\n",
                "    stilus\r\n",
                "FROM dvd\r\n",
                "GROUP BY ROUND(nettoar, -3), stilus\r\n",
                "HAVING SUM([raktár készlet]) >= 30\r\n",
                "ORDER BY ROUND(nettoar, -3), SUM([raktár készlet])"
            ],
            "metadata": {
                "azdata_cell_guid": "5ad5fdcb-2878-4111-861a-833bcd50e935",
                "language": "sql"
            },
            "outputs": [
                {
                    "output_type": "display_data",
                    "data": {
                        "text/html": "(27 rows affected)"
                    },
                    "metadata": {}
                },
                {
                    "output_type": "display_data",
                    "data": {
                        "text/html": "Total execution time: 00:00:00.107"
                    },
                    "metadata": {}
                },
                {
                    "output_type": "execute_result",
                    "execution_count": 12,
                    "data": {
                        "application/vnd.dataresource+json": {
                            "schema": {
                                "fields": [
                                    {
                                        "name": "Kerekített ár"
                                    },
                                    {
                                        "name": "db"
                                    },
                                    {
                                        "name": "stilus"
                                    }
                                ]
                            },
                            "data": [
                                {
                                    "Kerekített ár": "3000",
                                    "db": "30",
                                    "stilus": "földrajz"
                                },
                                {
                                    "Kerekített ár": "3000",
                                    "db": "30",
                                    "stilus": "nyelvtanító"
                                },
                                {
                                    "Kerekített ár": "3000",
                                    "db": "40",
                                    "stilus": "játék"
                                },
                                {
                                    "Kerekített ár": "3000",
                                    "db": "40",
                                    "stilus": "történelem"
                                },
                                {
                                    "Kerekített ár": "3000",
                                    "db": "70",
                                    "stilus": "ismeretterjesztő"
                                },
                                {
                                    "Kerekített ár": "4000",
                                    "db": "30",
                                    "stilus": "szótár"
                                },
                                {
                                    "Kerekített ár": "4000",
                                    "db": "40",
                                    "stilus": "csillagászat"
                                },
                                {
                                    "Kerekített ár": "4000",
                                    "db": "50",
                                    "stilus": "földrajz"
                                },
                                {
                                    "Kerekített ár": "4000",
                                    "db": "90",
                                    "stilus": "irodalom"
                                },
                                {
                                    "Kerekített ár": "4000",
                                    "db": "130",
                                    "stilus": "ismeretterjesztő"
                                },
                                {
                                    "Kerekített ár": "4000",
                                    "db": "140",
                                    "stilus": "nyelvtanító"
                                },
                                {
                                    "Kerekített ár": "4000",
                                    "db": "160",
                                    "stilus": "történelem"
                                },
                                {
                                    "Kerekített ár": "4000",
                                    "db": "180",
                                    "stilus": "játék"
                                },
                                {
                                    "Kerekített ár": "5000",
                                    "db": "30",
                                    "stilus": "irodalom"
                                },
                                {
                                    "Kerekített ár": "5000",
                                    "db": "30",
                                    "stilus": "matematika"
                                },
                                {
                                    "Kerekített ár": "5000",
                                    "db": "30",
                                    "stilus": "zene"
                                },
                                {
                                    "Kerekített ár": "5000",
                                    "db": "60",
                                    "stilus": "földrajz"
                                },
                                {
                                    "Kerekített ár": "5000",
                                    "db": "120",
                                    "stilus": "történelem"
                                },
                                {
                                    "Kerekített ár": "5000",
                                    "db": "140",
                                    "stilus": "nyelvtanító"
                                },
                                {
                                    "Kerekített ár": "5000",
                                    "db": "170",
                                    "stilus": "ismeretterjesztő"
                                },
                                {
                                    "Kerekített ár": "5000",
                                    "db": "210",
                                    "stilus": "játék"
                                },
                                {
                                    "Kerekített ár": "6000",
                                    "db": "30",
                                    "stilus": "csillagászat"
                                },
                                {
                                    "Kerekített ár": "6000",
                                    "db": "30",
                                    "stilus": "irodalom"
                                },
                                {
                                    "Kerekített ár": "6000",
                                    "db": "88",
                                    "stilus": "történelem"
                                },
                                {
                                    "Kerekített ár": "6000",
                                    "db": "90",
                                    "stilus": "ismeretterjesztő"
                                },
                                {
                                    "Kerekített ár": "6000",
                                    "db": "110",
                                    "stilus": "nyelvtanító"
                                },
                                {
                                    "Kerekített ár": "6000",
                                    "db": "170",
                                    "stilus": "játék"
                                }
                            ]
                        },
                        "text/html": "<table><tr><th>Kerekített ár</th><th>db</th><th>stilus</th></tr><tr><td>3000</td><td>30</td><td>földrajz</td></tr><tr><td>3000</td><td>30</td><td>nyelvtanító</td></tr><tr><td>3000</td><td>40</td><td>játék</td></tr><tr><td>3000</td><td>40</td><td>történelem</td></tr><tr><td>3000</td><td>70</td><td>ismeretterjesztő</td></tr><tr><td>4000</td><td>30</td><td>szótár</td></tr><tr><td>4000</td><td>40</td><td>csillagászat</td></tr><tr><td>4000</td><td>50</td><td>földrajz</td></tr><tr><td>4000</td><td>90</td><td>irodalom</td></tr><tr><td>4000</td><td>130</td><td>ismeretterjesztő</td></tr><tr><td>4000</td><td>140</td><td>nyelvtanító</td></tr><tr><td>4000</td><td>160</td><td>történelem</td></tr><tr><td>4000</td><td>180</td><td>játék</td></tr><tr><td>5000</td><td>30</td><td>irodalom</td></tr><tr><td>5000</td><td>30</td><td>matematika</td></tr><tr><td>5000</td><td>30</td><td>zene</td></tr><tr><td>5000</td><td>60</td><td>földrajz</td></tr><tr><td>5000</td><td>120</td><td>történelem</td></tr><tr><td>5000</td><td>140</td><td>nyelvtanító</td></tr><tr><td>5000</td><td>170</td><td>ismeretterjesztő</td></tr><tr><td>5000</td><td>210</td><td>játék</td></tr><tr><td>6000</td><td>30</td><td>csillagászat</td></tr><tr><td>6000</td><td>30</td><td>irodalom</td></tr><tr><td>6000</td><td>88</td><td>történelem</td></tr><tr><td>6000</td><td>90</td><td>ismeretterjesztő</td></tr><tr><td>6000</td><td>110</td><td>nyelvtanító</td></tr><tr><td>6000</td><td>170</td><td>játék</td></tr></table>"
                    },
                    "metadata": {}
                }
            ],
            "execution_count": 12
        },
        {
            "cell_type": "markdown",
            "source": [
                "6. <span style=\"font-weight: 600; color: rgb(36, 41, 47); font-family: -apple-system, BlinkMacSystemFont, &quot;Segoe UI&quot;, Helvetica, Arial, sans-serif, &quot;Apple Color Emoji&quot;, &quot;Segoe UI Emoji&quot;; font-size: 16px;\">A dvd-ket csoportosíthatjuk aszerint, hogy milyen hosszú a címük. Amelyiknél a cím hosszúsága 10 karakter alatt van, az legyen Rövid, 10-20-ig Átlagos, 20 felett Hosszú. Hány Rövid, Átlagos, illetve Hosszú dvd-van összesen raktáron?</span>\n",
                "\n",
                "1. Az oszlopok neve legyen 'Cím hosszúság' és 'Darabszám"
            ],
            "metadata": {
                "azdata_cell_guid": "5fe65c1c-2479-45ac-ad03-ec99d12eae21"
            },
            "attachments": {}
        },
        {
            "cell_type": "code",
            "source": [
                "SELECT SUM([raktár készlet]) AS 'Darabszám',\r\n",
                "CASE WHEN LEN(cim) <10 THEN 'Rövid'\r\n",
                "    WHEN LEN(cim) > 20 THEN 'Hosszú'\r\n",
                "    ELSE 'Átlagos'\r\n",
                "    END AS 'Cím hosszúság'\r\n",
                "FROM dvd\r\n",
                "GROUP BY CASE WHEN LEN(cim) <10 THEN 'Rövid'\r\n",
                "    WHEN LEN(cim) > 20 THEN 'Hosszú'\r\n",
                "    ELSE 'Átlagos'\r\n",
                "    END"
            ],
            "metadata": {
                "azdata_cell_guid": "924f2dde-f1c2-4def-a7f9-dbf4bace7735",
                "language": "sql"
            },
            "outputs": [
                {
                    "output_type": "display_data",
                    "data": {
                        "text/html": "(3 rows affected)"
                    },
                    "metadata": {}
                },
                {
                    "output_type": "display_data",
                    "data": {
                        "text/html": "Total execution time: 00:00:24.927"
                    },
                    "metadata": {}
                },
                {
                    "output_type": "execute_result",
                    "execution_count": 19,
                    "data": {
                        "application/vnd.dataresource+json": {
                            "schema": {
                                "fields": [
                                    {
                                        "name": "Darabszám"
                                    },
                                    {
                                        "name": "Cím hosszúság"
                                    }
                                ]
                            },
                            "data": [
                                {
                                    "Darabszám": "940",
                                    "Cím hosszúság": "Átlagos"
                                },
                                {
                                    "Darabszám": "2118",
                                    "Cím hosszúság": "Hosszú"
                                },
                                {
                                    "Darabszám": "120",
                                    "Cím hosszúság": "Rövid"
                                }
                            ]
                        },
                        "text/html": "<table><tr><th>Darabszám</th><th>Cím hosszúság</th></tr><tr><td>940</td><td>Átlagos</td></tr><tr><td>2118</td><td>Hosszú</td></tr><tr><td>120</td><td>Rövid</td></tr></table>"
                    },
                    "metadata": {}
                }
            ],
            "execution_count": 19
        },
        {
            "cell_type": "markdown",
            "source": [
                "7. <span style=\"color: rgb(36, 41, 47); font-family: -apple-system, BlinkMacSystemFont, &quot;Segoe UI&quot;, Helvetica, Arial, sans-serif, &quot;Apple Color Emoji&quot;, &quot;Segoe UI Emoji&quot;; font-size: 16px;\">Készítsünk listát arról, hogy melyik teremben hány óra van!</span>\n",
                "\n",
                "1. Jelenítsük meg a termek azonosítóit és a teremben tartott órák számát!\n",
                "2. Az oszlopokat nevezzük el értelemszerűen!\n",
                "3. Szűrjünk azokra a termekre, ahol az órák száma legalább 3!"
            ],
            "metadata": {
                "azdata_cell_guid": "3aeb6bf5-b111-40d5-92b2-9712ce335696"
            },
            "attachments": {}
        },
        {
            "cell_type": "code",
            "source": [
                "SELECT terem AS 'Teremkód',\r\n",
                "       COUNT(*) AS 'Óraszám'\r\n",
                "FROM Orak\r\n",
                "GROUP BY terem\r\n",
                "HAVING COUNT(*) >=3"
            ],
            "metadata": {
                "azdata_cell_guid": "3e89b651-f56f-4102-af52-30eb2bbe360d",
                "language": "sql"
            },
            "outputs": [
                {
                    "output_type": "display_data",
                    "data": {
                        "text/html": "(11 rows affected)"
                    },
                    "metadata": {}
                },
                {
                    "output_type": "display_data",
                    "data": {
                        "text/html": "Total execution time: 00:00:00.193"
                    },
                    "metadata": {}
                },
                {
                    "output_type": "execute_result",
                    "execution_count": 5,
                    "data": {
                        "application/vnd.dataresource+json": {
                            "schema": {
                                "fields": [
                                    {
                                        "name": "Teremkód"
                                    },
                                    {
                                        "name": "Óraszám"
                                    }
                                ]
                            },
                            "data": [
                                {
                                    "Teremkód": "2",
                                    "Óraszám": "5"
                                },
                                {
                                    "Teremkód": "3",
                                    "Óraszám": "11"
                                },
                                {
                                    "Teremkód": "4",
                                    "Óraszám": "8"
                                },
                                {
                                    "Teremkód": "5",
                                    "Óraszám": "5"
                                },
                                {
                                    "Teremkód": "6",
                                    "Óraszám": "6"
                                },
                                {
                                    "Teremkód": "7",
                                    "Óraszám": "6"
                                },
                                {
                                    "Teremkód": "8",
                                    "Óraszám": "6"
                                },
                                {
                                    "Teremkód": "10",
                                    "Óraszám": "3"
                                },
                                {
                                    "Teremkód": "12",
                                    "Óraszám": "3"
                                },
                                {
                                    "Teremkód": "13",
                                    "Óraszám": "5"
                                },
                                {
                                    "Teremkód": "14",
                                    "Óraszám": "3"
                                }
                            ]
                        },
                        "text/html": "<table><tr><th>Teremkód</th><th>Óraszám</th></tr><tr><td>2</td><td>5</td></tr><tr><td>3</td><td>11</td></tr><tr><td>4</td><td>8</td></tr><tr><td>5</td><td>5</td></tr><tr><td>6</td><td>6</td></tr><tr><td>7</td><td>6</td></tr><tr><td>8</td><td>6</td></tr><tr><td>10</td><td>3</td></tr><tr><td>12</td><td>3</td></tr><tr><td>13</td><td>5</td></tr><tr><td>14</td><td>3</td></tr></table>"
                    },
                    "metadata": {}
                }
            ],
            "execution_count": 5
        },
        {
            "cell_type": "markdown",
            "source": [
                "8. <span style=\"color: rgb(36, 41, 47); font-family: -apple-system, BlinkMacSystemFont, &quot;Segoe UI&quot;, Helvetica, Arial, sans-serif, &quot;Apple Color Emoji&quot;, &quot;Segoe UI Emoji&quot;; font-size: 16px;\">Készítsünk lekérdezést, amely megadja, hogy minimálian és maximálisan hány kreditet ér egy tantárgy!</span>\n",
                "\n",
                "1. Az oszlopokat nevezzük el értelemszerűen!\n",
                "2. Ne vegyük figyelembe azokat a tantárgyakat, amelyek nevében az „alapjai” szó szerepel, vagy a tantárgy neve 10 karakternél rövidebb!"
            ],
            "metadata": {
                "azdata_cell_guid": "26a504dc-ff6a-439f-94c0-4580eca3eacf"
            },
            "attachments": {}
        },
        {
            "cell_type": "code",
            "source": [
                "SELECT MIN(Kredit) AS 'Minimum kredit',\r\n",
                "    MAX(kredit) AS 'Maximum Kredit'\r\n",
                "FROM Tantárgyak\r\n",
                "WHERE Tantárgynév NOT LIKE '%alapjai%' AND LEN(Tantárgynév) >=10"
            ],
            "metadata": {
                "azdata_cell_guid": "1cbb8aeb-78b5-4350-aa45-e3202fdab85b",
                "language": "sql"
            },
            "outputs": [
                {
                    "output_type": "display_data",
                    "data": {
                        "text/html": "(1 row affected)"
                    },
                    "metadata": {}
                },
                {
                    "output_type": "display_data",
                    "data": {
                        "text/html": "Total execution time: 00:00:00.126"
                    },
                    "metadata": {}
                },
                {
                    "output_type": "execute_result",
                    "execution_count": 12,
                    "data": {
                        "application/vnd.dataresource+json": {
                            "schema": {
                                "fields": [
                                    {
                                        "name": "Minimum kredit"
                                    },
                                    {
                                        "name": "Maximum Kredit"
                                    }
                                ]
                            },
                            "data": [
                                {
                                    "Minimum kredit": "1",
                                    "Maximum Kredit": "5"
                                }
                            ]
                        },
                        "text/html": "<table><tr><th>Minimum kredit</th><th>Maximum Kredit</th></tr><tr><td>1</td><td>5</td></tr></table>"
                    },
                    "metadata": {}
                }
            ],
            "execution_count": 12
        },
        {
            "cell_type": "markdown",
            "source": [
                "9. <span style=\"color: rgb(36, 41, 47); font-family: -apple-system, BlinkMacSystemFont, &quot;Segoe UI&quot;, Helvetica, Arial, sans-serif, &quot;Apple Color Emoji&quot;, &quot;Segoe UI Emoji&quot;; font-size: 16px;\">A tapasztalat alapján a tanársegédeknek 8, az óraadóknak 10 órájuk van egy héten. A többiek annyi órát tartanak, amennyi az elvárt óraszámuk. Készítsünk lekérdezést, amely minden beosztáshoz megjeleníti, hogy hetente hány túlóra tartozik hozzá!</span>\n",
                "\n",
                "1. A lekérdezés csak a beosztások nevét és a heti túlórák számát jelenítse meg!"
            ],
            "metadata": {
                "azdata_cell_guid": "435e2860-2dd5-4877-90f4-34a43baeb53c"
            },
            "attachments": {}
        },
        {
            "cell_type": "code",
            "source": [
                "SELECT *\n",
                "FROM Beosztások"
            ],
            "metadata": {
                "azdata_cell_guid": "ce846351-ddbe-4d8e-b8fb-2a92c73ac80b",
                "language": "sql",
                "tags": []
            },
            "outputs": [],
            "execution_count": null
        },
        {
            "cell_type": "markdown",
            "source": [
                "10. <span style=\"font-weight: 600; color: rgb(36, 41, 47); font-family: -apple-system, BlinkMacSystemFont, &quot;Segoe UI&quot;, Helvetica, Arial, sans-serif, &quot;Apple Color Emoji&quot;, &quot;Segoe UI Emoji&quot;; font-size: 16px;\">Melyek azok az oktatók, akiknek nincs órájuk?</span>\n",
                "\n",
                "1. Csak az oktatók neve jelenjen meg!\n",
                "2. ÖTLET: használjunk LEFT JOIN-t, és szűrjünk azokra a rekordokra, ahol NULL érték van a JOIN utáni feltétel jobb oldalán!"
            ],
            "metadata": {
                "
            "attachments": {}
        },
        {
            "cell_type": "code",
            "source": [
                ""
            ],
            "metadata": {
                "azdata_cell_guid": "a9cc0926-3dbd-4ed8-8179-1c39d64a0762",
                "language": "sql"
            },
            "outputs": [],
            "execution_count": null
        },
        {
            "cell_type": "markdown",
            "source": [
                "11. <span style=\"font-weight: 600; color: rgb(36, 41, 47); font-family: -apple-system, BlinkMacSystemFont, &quot;Segoe UI&quot;, Helvetica, Arial, sans-serif, &quot;Apple Color Emoji&quot;, &quot;Segoe UI Emoji&quot;; font-size: 16px;\">Készítsünk lekérdezést, amely részletesen megjeleníti az egyes órák fontosabb adatait, azaz</span>\n",
                "\n",
                "1. Az órák azonosítóit, a tanár nevét, a tantárgy nevét, a terem nevét és a kezdési időpontot!\n",
                "2. Az oszlopokat nevezzük el értelemszerűen!"
            ],
            "metadata": {
                "azdata_cell_guid": "d2340f5f-1614-473c-b937-85740d67f7c1"
            },
            "attachments": {}
        },
        {
            "cell_type": "code",
            "source": [
                "SELECT o.ora_id AS 'Azonosító', \r\n",
                "       okt.nev AS 'Tanár', \r\n",
                "\t   t.tantárgynév AS 'Tantárgy', \r\n",
                "\t   tm.Terem AS 'terem',\r\n",
                "\t   s.Időpont AS 'Kezdés'\r\n",
                "FROM Orak o JOIN Oktatok okt ON o.tanar = okt.oktato_id\r\n",
                "            JOIN Tantárgyak t on o.targy = t.tkód\r\n",
                "\t\t\tJOIN Termek tm ON o.terem = tm.tkód\r\n",
                "\t\t\tJOIN Savok s on o.sav = s.sav_id"
            ],
            "metadata": {
                "azdata_cell_guid": "e99c2c53-898f-4787-b0e6-182d106dc16f",
                "language": "sql"
            },
            "outputs": [],
            "execution_count": null
        },
        {
            "cell_type": "markdown",
            "source": [
                "12. <span style=\"color: rgb(36, 41, 47); font-family: -apple-system, BlinkMacSystemFont, &quot;Segoe UI&quot;, Helvetica, Arial, sans-serif, &quot;Apple Color Emoji&quot;, &quot;Segoe UI Emoji&quot;; font-size: 16px;\">Készítsünk listát, amely tartalmazza az egyes órák azonosítóit, és az órán oktatott tantárgy felelősének nevét!</span>\n",
                "\n",
                "1. Rendezzük a listát a tantárgyfelelős neve szerint csökkenő sorrendbe!"
            ],
            "metadata": {
                "azdata_cell_guid": "a765e9d6-58b3-4171-872a-78f3118fd6e3"
            },
            "attachments": {}
        },
        {
            "cell_type": "code",
            "source": [
                ""
            ],
            "metadata": {
                "azdata_cell_guid": "422e8127-b652-4d3a-bfd7-9b1637b5781e",
                "language": "sql"
            },
            "outputs": [],
            "execution_count": null
        },
        {
            "cell_type": "markdown",
            "source": [
                "13. <span style=\"color: rgb(36, 41, 47); font-family: -apple-system, BlinkMacSystemFont, &quot;Segoe UI&quot;, Helvetica, Arial, sans-serif, &quot;Apple Color Emoji&quot;, &quot;Segoe UI Emoji&quot;; font-size: 16px;\">Készítsünk listát, amely megjeleníti, hogy az Orak táblában lévő órák közül hányat tart Dr., illetve nem Dr. titulusú tanár!</span>\n",
                "\n",
                "1. Az oszlopokat nevezzük el értelemszerűen!"
            ],
            "metadata": {
                "azdata_cell_guid": "3f9237ae-f109-401c-acb9-31d75e73331b"
            },
            "attachments": {}
        },
        {
            "cell_type": "code",
            "source": [
                ""
            ],
            "metadata": {
                "azdata_cell_guid": "4b31bb89-cfbc-46b1-8639-85c462877786",
                "language": "sql"
            },
            "outputs": [],
            "execution_count": null
        },
        {
            "cell_type": "markdown",
            "source": [
                "14. <span style=\"color: rgb(36, 41, 47); font-family: -apple-system, BlinkMacSystemFont, &quot;Segoe UI&quot;, Helvetica, Arial, sans-serif, &quot;Apple Color Emoji&quot;, &quot;Segoe UI Emoji&quot;; font-size: 16px;\">Készítsünk listát arról, hogy beosztásonként hány óra szerepel az Orak táblában!</span>\n",
                "\n",
                "1. Jelenítsük meg a beosztások nevét és az órák számát!\n",
                "2. A listát szűrjük azokra a beosztásokra, ahol ez az óraszám 10 feletti!"
            ],
            "metadata": {
                "azdata_cell_guid": "f634e09a-85ef-4e70-8ec6-ef355dfddaa7"
            },
            "attachments": {}
        },
        {
            "cell_type": "code",
            "source": [
                ""
            ],
            "metadata": {
                "azdata_cell_guid": "88abc55b-2c78-495b-a72f-3f8f4eb5fe70",
                "language": "sql"
            },
            "outputs": [],
            "execution_count": null
        },
        {
            "cell_type": "markdown",
            "source": [
                "15. <span style=\"color: rgb(36, 41, 47); font-family: -apple-system, BlinkMacSystemFont, &quot;Segoe UI&quot;, Helvetica, Arial, sans-serif, &quot;Apple Color Emoji&quot;, &quot;Segoe UI Emoji&quot;; font-size: 16px;\">Melyek azok az órák, amelyek kezdési időpontja olyan sávba esik, amely a mostani időpont (óra:perc) után van?</span>\n",
                "\n",
                "1. Listázzuk az órák azonosítóit, valamint az órakezdés napját és időpontját!\n",
                "2. A listát rendezzük az időpont szerint növekvő sorrendbe!"
            ],
            "metadata": {
                "azdata_cell_guid": "4cbf2f0d-a65d-480a-8186-ccdb24498443"
            },
            "attachments": {}
        },
        {
            "cell_type": "code",
            "source": [
                ""
            ],
            "metadata": {
                "azdata_cell_guid": "c148aee8-bc85-40bf-b80a-a4898a6c05cb",
                "language": "sql"
            },
            "outputs": [],
            "execution_count": null
        }
    ]
}