{
    "metadata": {
        "kernelspec": {
            "name": "SQL",
            "display_name": "SQL",
            "language": "sql"
        },
        "language_info": {
            "name": "sql",
            "version": ""
        }
    },
    "nbformat_minor": 2,
    "nbformat": 4,
    "cells": [
        {
            "cell_type": "markdown",
            "source": [
                "Jelenítsük meg minden egyes szoba esetén, hogy hányszor foglalták le!\n",
                "\n",
                "- Csak a szoba azonosítója és a foglalások darabszáma jelenjen meg\n",
                "- Azok a szobák is jelenjenek meg, ahol nem történt foglalás"
            ],
            "metadata": {
                "azdata_cell_guid": "ebdc7d34-f856-4d10-add4-84dcde439fd4"
            },
            "attachments": {}
        },
        {
            "cell_type": "code",
            "source": [
                "SELECT sz.SZOBA_SZAMA,\r\n",
                "    COUNT(*)\r\n",
                "FROM Szoba sz JOIN Foglalas f ON sz.SZOBA_ID = f.SZOBA_FK\r\n",
                "GROUP BY sz.SZOBA_SZAMA"
            ],
            "metadata": {
                "azdata_cell_guid": "91a145ed-1ed5-4ac2-bcc5-ab4fae9fdd7c",
                "language": "sql"
            },
            "outputs": [
                {
                    "output_type": "display_data",
                    "data": {
                        "text/html": "(39 rows affected)"
                    },
                    "metadata": {}
                },
                {
                    "output_type": "display_data",
                    "data": {
                        "text/html": "Total execution time: 00:00:00.008"
                    },
                    "metadata": {}
                },
                {
                    "output_type": "execute_result",
                    "metadata": {},
                    "execution_count": 7,
                    "data": {
                        "application/vnd.dataresource+json": {
                            "schema": {
                                "fields": [
                                    {
                                        "name": "SZOBA_SZAMA"
                                    },
                                    {
                                        "name": "(No column name)"
                                    }
                                ]
                            },
                            "data": [
                                {
                                    "SZOBA_SZAMA": "2",
                                    "(No column name)": "50"
                                },
                                {
                                    "SZOBA_SZAMA": "34",
                                    "(No column name)": "22"
                                },
                                {
                                    "SZOBA_SZAMA": "39",
                                    "(No column name)": "4"
                                },
                                {
                                    "SZOBA_SZAMA": "15",
                                    "(No column name)": "25"
                                },
                                {
                                    "SZOBA_SZAMA": "3",
                                    "(No column name)": "65"
                                },
                                {
                                    "SZOBA_SZAMA": "26",
                                    "(No column name)": "10"
                                },
                                {
                                    "SZOBA_SZAMA": "6",
                                    "(No column name)": "52"
                                },
                                {
                                    "SZOBA_SZAMA": "21",
                                    "(No column name)": "33"
                                },
                                {
                                    "SZOBA_SZAMA": "23",
                                    "(No column name)": "21"
                                },
                                {
                                    "SZOBA_SZAMA": "11",
                                    "(No column name)": "28"
                                },
                                {
                                    "SZOBA_SZAMA": "4",
                                    "(No column name)": "75"
                                },
                                {
                                    "SZOBA_SZAMA": "35",
                                    "(No column name)": "5"
                                },
                                {
                                    "SZOBA_SZAMA": "16",
                                    "(No column name)": "16"
                                },
                                {
                                    "SZOBA_SZAMA": "22",
                                    "(No column name)": "19"
                                },
                                {
                                    "SZOBA_SZAMA": "31",
                                    "(No column name)": "21"
                                },
                                {
                                    "SZOBA_SZAMA": "10",
                                    "(No column name)": "35"
                                },
                                {
                                    "SZOBA_SZAMA": "27",
                                    "(No column name)": "16"
                                },
                                {
                                    "SZOBA_SZAMA": "13",
                                    "(No column name)": "17"
                                },
                                {
                                    "SZOBA_SZAMA": "29",
                                    "(No column name)": "18"
                                },
                                {
                                    "SZOBA_SZAMA": "24",
                                    "(No column name)": "17"
                                },
                                {
                                    "SZOBA_SZAMA": "38",
                                    "(No column name)": "5"
                                },
                                {
                                    "SZOBA_SZAMA": "19",
                                    "(No column name)": "19"
                                },
                                {
                                    "SZOBA_SZAMA": "14",
                                    "(No column name)": "26"
                                },
                                {
                                    "SZOBA_SZAMA": "20",
                                    "(No column name)": "21"
                                },
                                {
                                    "SZOBA_SZAMA": "12",
                                    "(No column name)": "34"
                                },
                                {
                                    "SZOBA_SZAMA": "17",
                                    "(No column name)": "18"
                                },
                                {
                                    "SZOBA_SZAMA": "7",
                                    "(No column name)": "36"
                                },
                                {
                                    "SZOBA_SZAMA": "30",
                                    "(No column name)": "12"
                                },
                                {
                                    "SZOBA_SZAMA": "37",
                                    "(No column name)": "7"
                                },
                                {
                                    "SZOBA_SZAMA": "33",
                                    "(No column name)": "17"
                                },
                                {
                                    "SZOBA_SZAMA": "8",
                                    "(No column name)": "30"
                                },
                                {
                                    "SZOBA_SZAMA": "25",
                                    "(No column name)": "21"
                                },
                                {
                                    "SZOBA_SZAMA": "28",
                                    "(No column name)": "15"
                                },
                                {
                                    "SZOBA_SZAMA": "5",
                                    "(No column name)": "62"
                                },
                                {
                                    "SZOBA_SZAMA": "32",
                                    "(No column name)": "18"
                                },
                                {
                                    "SZOBA_SZAMA": "1",
                                    "(No column name)": "57"
                                },
                                {
                                    "SZOBA_SZAMA": "36",
                                    "(No column name)": "6"
                                },
                                {
                                    "SZOBA_SZAMA": "9",
                                    "(No column name)": "50"
                                },
                                {
                                    "SZOBA_SZAMA": "18",
                                    "(No column name)": "24"
                                }
                            ]
                        },
                        "text/html": [
                            "<table>",
                            "<tr><th>SZOBA_SZAMA</th><th>(No column name)</th></tr>",
                            "<tr><td>2</td><td>50</td></tr>",
                            "<tr><td>34</td><td>22</td></tr>",
                            "<tr><td>39</td><td>4</td></tr>",
                            "<tr><td>15</td><td>25</td></tr>",
                            "<tr><td>3</td><td>65</td></tr>",
                            "<tr><td>26</td><td>10</td></tr>",
                            "<tr><td>6</td><td>52</td></tr>",
                            "<tr><td>21</td><td>33</td></tr>",
                            "<tr><td>23</td><td>21</td></tr>",
                            "<tr><td>11</td><td>28</td></tr>",
                            "<tr><td>4</td><td>75</td></tr>",
                            "<tr><td>35</td><td>5</td></tr>",
                            "<tr><td>16</td><td>16</td></tr>",
                            "<tr><td>22</td><td>19</td></tr>",
                            "<tr><td>31</td><td>21</td></tr>",
                            "<tr><td>10</td><td>35</td></tr>",
                            "<tr><td>27</td><td>16</td></tr>",
                            "<tr><td>13</td><td>17</td></tr>",
                            "<tr><td>29</td><td>18</td></tr>",
                            "<tr><td>24</td><td>17</td></tr>",
                            "<tr><td>38</td><td>5</td></tr>",
                            "<tr><td>19</td><td>19</td></tr>",
                            "<tr><td>14</td><td>26</td></tr>",
                            "<tr><td>20</td><td>21</td></tr>",
                            "<tr><td>12</td><td>34</td></tr>",
                            "<tr><td>17</td><td>18</td></tr>",
                            "<tr><td>7</td><td>36</td></tr>",
                            "<tr><td>30</td><td>12</td></tr>",
                            "<tr><td>37</td><td>7</td></tr>",
                            "<tr><td>33</td><td>17</td></tr>",
                            "<tr><td>8</td><td>30</td></tr>",
                            "<tr><td>25</td><td>21</td></tr>",
                            "<tr><td>28</td><td>15</td></tr>",
                            "<tr><td>5</td><td>62</td></tr>",
                            "<tr><td>32</td><td>18</td></tr>",
                            "<tr><td>1</td><td>57</td></tr>",
                            "<tr><td>36</td><td>6</td></tr>",
                            "<tr><td>9</td><td>50</td></tr>",
                            "<tr><td>18</td><td>24</td></tr>",
                            "</table>"
                        ]
                    }
                }
            ],
            "execution_count": 7
        },
        {
            "cell_type": "markdown",
            "source": [
                "Listázzuk azon szálláshelyek azonosítóját és nevét, amelyek a saját helyükön (HELY) a legtöbb csillaggal rendelkeznek!"
            ],
            "metadata": {
                "azdata_cell_guid": "db96a9bc-d276-466b-aa57-eb36543876a4"
            },
            "attachments": {}
        },
        {
            "cell_type": "code",
            "source": [
                "SELECT SZALLAS_ID,\r\n",
                "SZALLAS_NEV,\r\n",
                "MAX(CSILLAGOK_SZAMA) OVER (PARTITION BY HELY)\r\n",
                "FROM Szallashely\r\n",
                ""
            ],
            "metadata": {
                "azdata_cell_guid": "cfe34a22-cda4-461c-8f2b-a0b2fd8935bc",
                "language": "sql"
            },
            "outputs": [
                {
                    "output_type": "display_data",
                    "data": {
                        "text/html": "(21 rows affected)"
                    },
                    "metadata": {}
                },
                {
                    "output_type": "display_data",
                    "data": {
                        "text/html": "Total execution time: 00:00:00.002"
                    },
                    "metadata": {}
                },
                {
                    "output_type": "execute_result",
                    "metadata": {},
                    "execution_count": 8,
                    "data": {
                        "application/vnd.dataresource+json": {
                            "schema": {
                                "fields": [
                                    {
                                        "name": "SZALLAS_ID"
                                    },
                                    {
                                        "name": "SZALLAS_NEV"
                                    },
                                    {
                                        "name": "(No column name)"
                                    }
                                ]
                            },
                            "data": [
                                {
                                    "SZALLAS_ID": "1",
                                    "SZALLAS_NEV": "Sába-Ház",
                                    "(No column name)": "4"
                                },
                                {
                                    "SZALLAS_ID": "2",
                                    "SZALLAS_NEV": "Családi Ház",
                                    "(No column name)": "4"
                                },
                                {
                                    "SZALLAS_ID": "6",
                                    "SZALLAS_NEV": "Kentaur Hotel",
                                    "(No column name)": "4"
                                },
                                {
                                    "SZALLAS_ID": "7",
                                    "SZALLAS_NEV": "Szieszta Apartmanház",
                                    "(No column name)": "4"
                                },
                                {
                                    "SZALLAS_ID": "8",
                                    "SZALLAS_NEV": "Hotel Három Hattyú",
                                    "(No column name)": "4"
                                },
                                {
                                    "SZALLAS_ID": "9",
                                    "SZALLAS_NEV": "Jáde panzió",
                                    "(No column name)": "4"
                                },
                                {
                                    "SZALLAS_ID": "15",
                                    "SZALLAS_NEV": "Tímárház Panzió",
                                    "(No column name)": "4"
                                },
                                {
                                    "SZALLAS_ID": "11",
                                    "SZALLAS_NEV": "Partiszél Vendégház",
                                    "(No column name)": "0"
                                },
                                {
                                    "SZALLAS_ID": "5",
                                    "SZALLAS_NEV": "Fortuna Panzió",
                                    "(No column name)": "3"
                                },
                                {
                                    "SZALLAS_ID": "4",
                                    "SZALLAS_NEV": "Fortuna panzió",
                                    "(No column name)": "4"
                                },
                                {
                                    "SZALLAS_ID": "10",
                                    "SZALLAS_NEV": "Lagúna Hotel",
                                    "(No column name)": "4"
                                },
                                {
                                    "SZALLAS_ID": "12",
                                    "SZALLAS_NEV": "Gold Hotel",
                                    "(No column name)": "4"
                                },
                                {
                                    "SZALLAS_ID": "20",
                                    "SZALLAS_NEV": "Kollégium",
                                    "(No column name)": "4"
                                },
                                {
                                    "SZALLAS_ID": "13",
                                    "SZALLAS_NEV": "Riviéra Panzió",
                                    "(No column name)": "3"
                                },
                                {
                                    "SZALLAS_ID": "14",
                                    "SZALLAS_NEV": "Nyárfás Vendégház",
                                    "(No column name)": "3"
                                },
                                {
                                    "SZALLAS_ID": "18",
                                    "SZALLAS_NEV": "Fortuna Apartman",
                                    "(No column name)": "0"
                                },
                                {
                                    "SZALLAS_ID": "19",
                                    "SZALLAS_NEV": "Nyárfás Vendégház",
                                    "(No column name)": "0"
                                },
                                {
                                    "SZALLAS_ID": "21",
                                    "SZALLAS_NEV": "Müller Vendégház",
                                    "(No column name)": "0"
                                },
                                {
                                    "SZALLAS_ID": "3",
                                    "SZALLAS_NEV": "Fortuna Apartman",
                                    "(No column name)": "0"
                                },
                                {
                                    "SZALLAS_ID": "16",
                                    "SZALLAS_NEV": "Bagoly Hotel",
                                    "(No column name)": "3"
                                },
                                {
                                    "SZALLAS_ID": "17",
                                    "SZALLAS_NEV": "Szarvas Hotel",
                                    "(No column name)": "4"
                                }
                            ]
                        },
                        "text/html": [
                            "<table>",
                            "<tr><th>SZALLAS_ID</th><th>SZALLAS_NEV</th><th>(No column name)</th></tr>",
                            "<tr><td>1</td><td>Sába-Ház</td><td>4</td></tr>",
                            "<tr><td>2</td><td>Családi Ház</td><td>4</td></tr>",
                            "<tr><td>6</td><td>Kentaur Hotel</td><td>4</td></tr>",
                            "<tr><td>7</td><td>Szieszta Apartmanház</td><td>4</td></tr>",
                            "<tr><td>8</td><td>Hotel Három Hattyú</td><td>4</td></tr>",
                            "<tr><td>9</td><td>Jáde panzió</td><td>4</td></tr>",
                            "<tr><td>15</td><td>Tímárház Panzió</td><td>4</td></tr>",
                            "<tr><td>11</td><td>Partiszél Vendégház</td><td>0</td></tr>",
                            "<tr><td>5</td><td>Fortuna Panzió</td><td>3</td></tr>",
                            "<tr><td>4</td><td>Fortuna panzió</td><td>4</td></tr>",
                            "<tr><td>10</td><td>Lagúna Hotel</td><td>4</td></tr>",
                            "<tr><td>12</td><td>Gold Hotel</td><td>4</td></tr>",
                            "<tr><td>20</td><td>Kollégium</td><td>4</td></tr>",
                            "<tr><td>13</td><td>Riviéra Panzió</td><td>3</td></tr>",
                            "<tr><td>14</td><td>Nyárfás Vendégház</td><td>3</td></tr>",
                            "<tr><td>18</td><td>Fortuna Apartman</td><td>0</td></tr>",
                            "<tr><td>19</td><td>Nyárfás Vendégház</td><td>0</td></tr>",
                            "<tr><td>21</td><td>Müller Vendégház</td><td>0</td></tr>",
                            "<tr><td>3</td><td>Fortuna Apartman</td><td>0</td></tr>",
                            "<tr><td>16</td><td>Bagoly Hotel</td><td>3</td></tr>",
                            "<tr><td>17</td><td>Szarvas Hotel</td><td>4</td></tr>",
                            "</table>"
                        ]
                    }
                }
            ],
            "execution_count": 8
        },
        {
            "cell_type": "markdown",
            "source": [
                "Listázzuk a vendégek azonosítóját, nevét és születési dátumát!\n",
                "\n",
                "- Vegyünk fel két új oszlopot, amelyben a vendég legelső, illetve legutolsó foglalásának dátuma szerepel\n",
                "- A foglalás dátumánál a METTOL oszlopot használjuk"
            ],
            "metadata": {
                "azdata_cell_guid": "c3300ae0-c755-4943-9f4b-f658b9bbf0f7"
            },
            "attachments": {}
        },
        {
            "cell_type": "code",
            "source": [
                "SELECT USERNEV,\r\n",
                "    NEV,\r\n",
                "    SZUL_DAT\r\n",
                "\r\n",
                "FROM Vendeg v JOIN Foglalas f ON v.USERNEV = f.UGYFEL_FK"
            ],
            "metadata": {
                "azdata_cell_guid": "2175ed52-e866-4c79-9ef9-79c2c0cc2ed9",
                "language": "sql"
            },
            "outputs": [
                {
                    "output_type": "display_data",
                    "data": {
                        "text/html": "(1027 rows affected)"
                    },
                    "metadata": {}
                },
                {
                    "output_type": "display_data",
                    "data": {
                        "text/html": "Total execution time: 00:00:00.040"
                    },
                    "metadata": {}
                },
                {
                    "output_type": "execute_result",
                    "metadata": {},
                    "execution_count": 9,
                    "data": {
                        "application/vnd.dataresource+json": {
                            "schema": {
                                "fields": [
                                    {
                                        "name": "USERNEV"
                                    },
                                    {
                                        "name": "NEV"
                                    },
                                    {
                                        "name": "SZUL_DAT"
                                    }
                                ]
                            },
                            "data": [
                                {
                                    "USERNEV": "adam1",
                                    "NEV": "Kiss Ádám",
                                    "SZUL_DAT": "1991-12-28"
                                },
                                {
                                    "USERNEV": "adam1",
                                    "NEV": "Kiss Ádám",
                                    "SZUL_DAT": "1991-12-28"
                                },
                                {
                                    "USERNEV": "adam1",
                                    "NEV": "Kiss Ádám",
                                    "SZUL_DAT": "1991-12-28"
                                },
                                {
                                    "USERNEV": "adam3",
                                    "NEV": "Barkóci Ádám",
                                    "SZUL_DAT": "1970-06-07"
                                },
                                {
                                    "USERNEV": "adam3",
                                    "NEV": "Barkóci Ádám",
                                    "SZUL_DAT": "1970-06-07"
                                },
                                {
                                    "USERNEV": "adam4",
                                    "NEV": "Bieniek Ádám",
                                    "SZUL_DAT": "1976-08-01"
                                },
                                {
                                    "USERNEV": "adam4",
                                    "NEV": "Bieniek Ádám",
                                    "SZUL_DAT": "1976-08-01"
                                },
                                {
                                    "USERNEV": "adam4",
                                    "NEV": "Bieniek Ádám",
                                    "SZUL_DAT": "1976-08-01"
                                },
                                {
                                    "USERNEV": "adam4",
                                    "NEV": "Bieniek Ádám",
                                    "SZUL_DAT": "1976-08-01"
                                },
                                {
                                    "USERNEV": "adam4",
                                    "NEV": "Bieniek Ádám",
                                    "SZUL_DAT": "1976-08-01"
                                },
                                {
                                    "USERNEV": "adam4",
                                    "NEV": "Bieniek Ádám",
                                    "SZUL_DAT": "1976-08-01"
                                },
                                {
                                    "USERNEV": "agnes",
                                    "NEV": "Lengyel Ágnes",
                                    "SZUL_DAT": "1979-12-10"
                                },
                                {
                                    "USERNEV": "agnes",
                                    "NEV": "Lengyel Ágnes",
                                    "SZUL_DAT": "1979-12-10"
                                },
                                {
                                    "USERNEV": "agnes",
                                    "NEV": "Lengyel Ágnes",
                                    "SZUL_DAT": "1979-12-10"
                                },
                                {
                                    "USERNEV": "agnes",
                                    "NEV": "Lengyel Ágnes",
                                    "SZUL_DAT": "1979-12-10"
                                },
                                {
                                    "USERNEV": "agnes",
                                    "NEV": "Lengyel Ágnes",
                                    "SZUL_DAT": "1979-12-10"
                                },
                                {
                                    "USERNEV": "agnes3",
                                    "NEV": "Hartyánszky Ágnes",
                                    "SZUL_DAT": "1967-04-11"
                                },
                                {
                                    "USERNEV": "agnes3",
                                    "NEV": "Hartyánszky Ágnes",
                                    "SZUL_DAT": "1967-04-11"
                                },
                                {
                                    "USERNEV": "agnes3",
                                    "NEV": "Hartyánszky Ágnes",
                                    "SZUL_DAT": "1967-04-11"
                                },
                                {
                                    "USERNEV": "AGNESH",
                                    "NEV": "Horváth Ágnes",
                                    "SZUL_DAT": "1981-12-24"
                                },
                                {
                                    "USERNEV": "AGNESH",
                                    "NEV": "Horváth Ágnes",
                                    "SZUL_DAT": "1981-12-24"
                                },
                                {
                                    "USERNEV": "AGNESH",
                                    "NEV": "Horváth Ágnes",
                                    "SZUL_DAT": "1981-12-24"
                                },
                                {
                                    "USERNEV": "AGNESH",
                                    "NEV": "Horváth Ágnes",
                                    "SZUL_DAT": "1981-12-24"
                                },
                                {
                                    "USERNEV": "AGNESH",
                                    "NEV": "Horváth Ágnes",
                                    "SZUL_DAT": "1981-12-24"
                                },
                                {
                                    "USERNEV": "AGNESH",
                                    "NEV": "Horváth Ágnes",
                                    "SZUL_DAT": "1981-12-24"
                                },
                                {
                                    "USERNEV": "AGNESK",
                                    "NEV": "Kovács Ágnes",
                                    "SZUL_DAT": "1988-10-02"
                                },
                                {
                                    "USERNEV": "AGNESK",
                                    "NEV": "Kovács Ágnes",
                                    "SZUL_DAT": "1988-10-02"
                                },
                                {
                                    "USERNEV": "AGNESK",
                                    "NEV": "Kovács Ágnes",
                                    "SZUL_DAT": "1988-10-02"
                                },
                                {
                                    "USERNEV": "akos",
                                    "NEV": "Bíró Ákos",
                                    "SZUL_DAT": "1982-04-24"
                                },
                                {
                                    "USERNEV": "akos",
                                    "NEV": "Bíró Ákos",
                                    "SZUL_DAT": "1982-04-24"
                                },
                                {
                                    "USERNEV": "akos",
                                    "NEV": "Bíró Ákos",
                                    "SZUL_DAT": "1982-04-24"
                                },
                                {
                                    "USERNEV": "akos",
                                    "NEV": "Bíró Ákos",
                                    "SZUL_DAT": "1982-04-24"
                                },
                                {
                                    "USERNEV": "akos",
                                    "NEV": "Bíró Ákos",
                                    "SZUL_DAT": "1982-04-24"
                                },
                                {
                                    "USERNEV": "akos",
                                    "NEV": "Bíró Ákos",
                                    "SZUL_DAT": "1982-04-24"
                                },
                                {
                                    "USERNEV": "akos",
                                    "NEV": "Bíró Ákos",
                                    "SZUL_DAT": "1982-04-24"
                                },
                                {
                                    "USERNEV": "akos",
                                    "NEV": "Bíró Ákos",
                                    "SZUL_DAT": "1982-04-24"
                                },
                                {
                                    "USERNEV": "akos",
                                    "NEV": "Bíró Ákos",
                                    "SZUL_DAT": "1982-04-24"
                                },
                                {
                                    "USERNEV": "akos",
                                    "NEV": "Bíró Ákos",
                                    "SZUL_DAT": "1982-04-24"
                                },
                                {
                                    "USERNEV": "aladar",
                                    "NEV": "Dunai Aladár",
                                    "SZUL_DAT": "1980-11-01"
                                },
                                {
                                    "USERNEV": "aladar",
                                    "NEV": "Dunai Aladár",
                                    "SZUL_DAT": "1980-11-01"
                                },
                                {
                                    "USERNEV": "aladar",
                                    "NEV": "Dunai Aladár",
                                    "SZUL_DAT": "1980-11-01"
                                },
                                {
                                    "USERNEV": "alexandra",
                                    "NEV": "Bagóczki Alexandra",
                                    "SZUL_DAT": "1992-03-25"
                                },
                                {
                                    "USERNEV": "alexandra",
                                    "NEV": "Bagóczki Alexandra",
                                    "SZUL_DAT": "1992-03-25"
                                },
                                {
                                    "USERNEV": "alexandra",
                                    "NEV": "Bagóczki Alexandra",
                                    "SZUL_DAT": "1992-03-25"
                                },
                                {
                                    "USERNEV": "alexandra",
                                    "NEV": "Bagóczki Alexandra",
                                    "SZUL_DAT": "1992-03-25"
                                },
                                {
                                    "USERNEV": "alexandra",
                                    "NEV": "Bagóczki Alexandra",
                                    "SZUL_DAT": "1992-03-25"
                                },
                                {
                                    "USERNEV": "alexandra",
                                    "NEV": "Bagóczki Alexandra",
                                    "SZUL_DAT": "1992-03-25"
                                },
                                {
                                    "USERNEV": "alexandra",
                                    "NEV": "Bagóczki Alexandra",
                                    "SZUL_DAT": "1992-03-25"
                                },
                                {
                                    "USERNEV": "andi",
                                    "NEV": "Maródi Andrea",
                                    "SZUL_DAT": "1968-05-07"
                                },
                                {
                                    "USERNEV": "andi",
                                    "NEV": "Maródi Andrea",
                                    "SZUL_DAT": "1968-05-07"
                                },
                                {
                                    "USERNEV": "andi",
                                    "NEV": "Maródi Andrea",
                                    "SZUL_DAT": "1968-05-07"
                                },
                                {
                                    "USERNEV": "andi",
                                    "NEV": "Maródi Andrea",
                                    "SZUL_DAT": "1968-05-07"
                                },
                                {
                                    "USERNEV": "andi",
                                    "NEV": "Maródi Andrea",
                                    "SZUL_DAT": "1968-05-07"
                                },
                                {
                                    "USERNEV": "andras2",
                                    "NEV": "Tóth András",
                                    "SZUL_DAT": "1997-10-31"
                                },
                                {
                                    "USERNEV": "andras2",
                                    "NEV": "Tóth András",
                                    "SZUL_DAT": "1997-10-31"
                                },
                                {
                                    "USERNEV": "andras2",
                                    "NEV": "Tóth András",
                                    "SZUL_DAT": "1997-10-31"
                                },
                                {
                                    "USERNEV": "andras2",
                                    "NEV": "Tóth András",
                                    "SZUL_DAT": "1997-10-31"
                                },
                                {
                                    "USERNEV": "andras2",
                                    "NEV": "Tóth András",
                                    "SZUL_DAT": "1997-10-31"
                                },
                                {
                                    "USERNEV": "andras21",
                                    "NEV": "Molnár András",
                                    "SZUL_DAT": "1977-11-16"
                                },
                                {
                                    "USERNEV": "andras21",
                                    "NEV": "Molnár András",
                                    "SZUL_DAT": "1977-11-16"
                                },
                                {
                                    "USERNEV": "andras21",
                                    "NEV": "Molnár András",
                                    "SZUL_DAT": "1977-11-16"
                                },
                                {
                                    "USERNEV": "andras21",
                                    "NEV": "Molnár András",
                                    "SZUL_DAT": "1977-11-16"
                                },
                                {
                                    "USERNEV": "andras21",
                                    "NEV": "Molnár András",
                                    "SZUL_DAT": "1977-11-16"
                                },
                                {
                                    "USERNEV": "andras21",
                                    "NEV": "Molnár András",
                                    "SZUL_DAT": "1977-11-16"
                                },
                                {
                                    "USERNEV": "andras21",
                                    "NEV": "Molnár András",
                                    "SZUL_DAT": "1977-11-16"
                                },
                                {
                                    "USERNEV": "andras3",
                                    "NEV": "Vígh András",
                                    "SZUL_DAT": "1971-04-02"
                                },
                                {
                                    "USERNEV": "andras3",
                                    "NEV": "Vígh András",
                                    "SZUL_DAT": "1971-04-02"
                                },
                                {
                                    "USERNEV": "andras3",
                                    "NEV": "Vígh András",
                                    "SZUL_DAT": "1971-04-02"
                                },
                                {
                                    "USERNEV": "andras3",
                                    "NEV": "Vígh András",
                                    "SZUL_DAT": "1971-04-02"
                                },
                                {
                                    "USERNEV": "andras3",
                                    "NEV": "Vígh András",
                                    "SZUL_DAT": "1971-04-02"
                                },
                                {
                                    "USERNEV": "andras3",
                                    "NEV": "Vígh András",
                                    "SZUL_DAT": "1971-04-02"
                                },
                                {
                                    "USERNEV": "andras3",
                                    "NEV": "Vígh András",
                                    "SZUL_DAT": "1971-04-02"
                                },
                                {
                                    "USERNEV": "andras3",
                                    "NEV": "Vígh András",
                                    "SZUL_DAT": "1971-04-02"
                                },
                                {
                                    "USERNEV": "andras4",
                                    "NEV": "Back András",
                                    "SZUL_DAT": "1984-04-07"
                                },
                                {
                                    "USERNEV": "andras4",
                                    "NEV": "Back András",
                                    "SZUL_DAT": "1984-04-07"
                                },
                                {
                                    "USERNEV": "andras4",
                                    "NEV": "Back András",
                                    "SZUL_DAT": "1984-04-07"
                                },
                                {
                                    "USERNEV": "andras41",
                                    "NEV": "Komjáti András",
                                    "SZUL_DAT": "1997-10-25"
                                },
                                {
                                    "USERNEV": "andras41",
                                    "NEV": "Komjáti András",
                                    "SZUL_DAT": "1997-10-25"
                                },
                                {
                                    "USERNEV": "andras41",
                                    "NEV": "Komjáti András",
                                    "SZUL_DAT": "1997-10-25"
                                },
                                {
                                    "USERNEV": "andras41",
                                    "NEV": "Komjáti András",
                                    "SZUL_DAT": "1997-10-25"
                                },
                                {
                                    "USERNEV": "andras41",
                                    "NEV": "Komjáti András",
                                    "SZUL_DAT": "1997-10-25"
                                },
                                {
                                    "USERNEV": "andras41",
                                    "NEV": "Komjáti András",
                                    "SZUL_DAT": "1997-10-25"
                                },
                                {
                                    "USERNEV": "andras41",
                                    "NEV": "Komjáti András",
                                    "SZUL_DAT": "1997-10-25"
                                },
                                {
                                    "USERNEV": "andras41",
                                    "NEV": "Komjáti András",
                                    "SZUL_DAT": "1997-10-25"
                                },
                                {
                                    "USERNEV": "andras41",
                                    "NEV": "Komjáti András",
                                    "SZUL_DAT": "1997-10-25"
                                },
                                {
                                    "USERNEV": "andras41",
                                    "NEV": "Komjáti András",
                                    "SZUL_DAT": "1997-10-25"
                                },
                                {
                                    "USERNEV": "andras41",
                                    "NEV": "Komjáti András",
                                    "SZUL_DAT": "1997-10-25"
                                },
                                {
                                    "USERNEV": "andras41",
                                    "NEV": "Komjáti András",
                                    "SZUL_DAT": "1997-10-25"
                                },
                                {
                                    "USERNEV": "andras41",
                                    "NEV": "Komjáti András",
                                    "SZUL_DAT": "1997-10-25"
                                },
                                {
                                    "USERNEV": "ANDRASE",
                                    "NEV": "Erdei András",
                                    "SZUL_DAT": "1997-05-29"
                                },
                                {
                                    "USERNEV": "ANDRASE",
                                    "NEV": "Erdei András",
                                    "SZUL_DAT": "1997-05-29"
                                },
                                {
                                    "USERNEV": "ANDRASE",
                                    "NEV": "Erdei András",
                                    "SZUL_DAT": "1997-05-29"
                                },
                                {
                                    "USERNEV": "ANDRASE",
                                    "NEV": "Erdei András",
                                    "SZUL_DAT": "1997-05-29"
                                },
                                {
                                    "USERNEV": "ANDRASE",
                                    "NEV": "Erdei András",
                                    "SZUL_DAT": "1997-05-29"
                                },
                                {
                                    "USERNEV": "ANDRASN",
                                    "NEV": "Nagy András",
                                    "SZUL_DAT": "1980-09-05"
                                },
                                {
                                    "USERNEV": "andrea",
                                    "NEV": "Kiss Andrea",
                                    "SZUL_DAT": "1993-03-25"
                                },
                                {
                                    "USERNEV": "andrea",
                                    "NEV": "Kiss Andrea",
                                    "SZUL_DAT": "1993-03-25"
                                },
                                {
                                    "USERNEV": "andrea",
                                    "NEV": "Kiss Andrea",
                                    "SZUL_DAT": "1993-03-25"
                                },
                                {
                                    "USERNEV": "andrea",
                                    "NEV": "Kiss Andrea",
                                    "SZUL_DAT": "1993-03-25"
                                },
                                {
                                    "USERNEV": "andrea",
                                    "NEV": "Kiss Andrea",
                                    "SZUL_DAT": "1993-03-25"
                                },
                                {
                                    "USERNEV": "andrea",
                                    "NEV": "Kiss Andrea",
                                    "SZUL_DAT": "1993-03-25"
                                },
                                {
                                    "USERNEV": "andrea3",
                                    "NEV": "Szomor Andrea",
                                    "SZUL_DAT": "1996-05-10"
                                },
                                {
                                    "USERNEV": "andrea4",
                                    "NEV": "Neizer Andrea",
                                    "SZUL_DAT": "1981-05-17"
                                },
                                {
                                    "USERNEV": "andrea4",
                                    "NEV": "Neizer Andrea",
                                    "SZUL_DAT": "1981-05-17"
                                },
                                {
                                    "USERNEV": "andrea4",
                                    "NEV": "Neizer Andrea",
                                    "SZUL_DAT": "1981-05-17"
                                },
                                {
                                    "USERNEV": "andrea4",
                                    "NEV": "Neizer Andrea",
                                    "SZUL_DAT": "1981-05-17"
                                },
                                {
                                    "USERNEV": "ANDREAT",
                                    "NEV": "Tornyos Andrea",
                                    "SZUL_DAT": "1986-11-14"
                                },
                                {
                                    "USERNEV": "ANDREAT",
                                    "NEV": "Tornyos Andrea",
                                    "SZUL_DAT": "1986-11-14"
                                },
                                {
                                    "USERNEV": "ANDREAT",
                                    "NEV": "Tornyos Andrea",
                                    "SZUL_DAT": "1986-11-14"
                                },
                                {
                                    "USERNEV": "anett3",
                                    "NEV": "Pivarcsi Anett",
                                    "SZUL_DAT": "1967-01-03"
                                },
                                {
                                    "USERNEV": "anett3",
                                    "NEV": "Pivarcsi Anett",
                                    "SZUL_DAT": "1967-01-03"
                                },
                                {
                                    "USERNEV": "anett3",
                                    "NEV": "Pivarcsi Anett",
                                    "SZUL_DAT": "1967-01-03"
                                },
                                {
                                    "USERNEV": "anett3",
                                    "NEV": "Pivarcsi Anett",
                                    "SZUL_DAT": "1967-01-03"
                                },
                                {
                                    "USERNEV": "anett3",
                                    "NEV": "Pivarcsi Anett",
                                    "SZUL_DAT": "1967-01-03"
                                },
                                {
                                    "USERNEV": "anett3",
                                    "NEV": "Pivarcsi Anett",
                                    "SZUL_DAT": "1967-01-03"
                                },
                                {
                                    "USERNEV": "anett3",
                                    "NEV": "Pivarcsi Anett",
                                    "SZUL_DAT": "1967-01-03"
                                },
                                {
                                    "USERNEV": "anett3",
                                    "NEV": "Pivarcsi Anett",
                                    "SZUL_DAT": "1967-01-03"
                                },
                                {
                                    "USERNEV": "aniko",
                                    "NEV": "Tóth Anikó",
                                    "SZUL_DAT": "1973-06-03"
                                },
                                {
                                    "USERNEV": "aniko",
                                    "NEV": "Tóth Anikó",
                                    "SZUL_DAT": "1973-06-03"
                                },
                                {
                                    "USERNEV": "aniko",
                                    "NEV": "Tóth Anikó",
                                    "SZUL_DAT": "1973-06-03"
                                },
                                {
                                    "USERNEV": "aniko4",
                                    "NEV": "Böröcz Anikó",
                                    "SZUL_DAT": "1978-03-26"
                                },
                                {
                                    "USERNEV": "aniko4",
                                    "NEV": "Böröcz Anikó",
                                    "SZUL_DAT": "1978-03-26"
                                },
                                {
                                    "USERNEV": "aniko4",
                                    "NEV": "Böröcz Anikó",
                                    "SZUL_DAT": "1978-03-26"
                                },
                                {
                                    "USERNEV": "aniko4",
                                    "NEV": "Böröcz Anikó",
                                    "SZUL_DAT": "1978-03-26"
                                },
                                {
                                    "USERNEV": "ANIKOS",
                                    "NEV": "Simon Anikó",
                                    "SZUL_DAT": "1988-12-14"
                                },
                                {
                                    "USERNEV": "ANIKOS",
                                    "NEV": "Simon Anikó",
                                    "SZUL_DAT": "1988-12-14"
                                },
                                {
                                    "USERNEV": "ANIKOS",
                                    "NEV": "Simon Anikó",
                                    "SZUL_DAT": "1988-12-14"
                                },
                                {
                                    "USERNEV": "ANIKOS",
                                    "NEV": "Simon Anikó",
                                    "SZUL_DAT": "1988-12-14"
                                },
                                {
                                    "USERNEV": "ANIKOS",
                                    "NEV": "Simon Anikó",
                                    "SZUL_DAT": "1988-12-14"
                                },
                                {
                                    "USERNEV": "ANIKOS",
                                    "NEV": "Simon Anikó",
                                    "SZUL_DAT": "1988-12-14"
                                },
                                {
                                    "USERNEV": "ANIKOS",
                                    "NEV": "Simon Anikó",
                                    "SZUL_DAT": "1988-12-14"
                                },
                                {
                                    "USERNEV": "ANIKOS",
                                    "NEV": "Simon Anikó",
                                    "SZUL_DAT": "1988-12-14"
                                },
                                {
                                    "USERNEV": "ANIKOS",
                                    "NEV": "Simon Anikó",
                                    "SZUL_DAT": "1988-12-14"
                                },
                                {
                                    "USERNEV": "anita",
                                    "NEV": "Hamvay-Kovács Anita",
                                    "SZUL_DAT": "1971-03-20"
                                },
                                {
                                    "USERNEV": "anita",
                                    "NEV": "Hamvay-Kovács Anita",
                                    "SZUL_DAT": "1971-03-20"
                                },
                                {
                                    "USERNEV": "anita",
                                    "NEV": "Hamvay-Kovács Anita",
                                    "SZUL_DAT": "1971-03-20"
                                },
                                {
                                    "USERNEV": "anita",
                                    "NEV": "Hamvay-Kovács Anita",
                                    "SZUL_DAT": "1971-03-20"
                                },
                                {
                                    "USERNEV": "annamaria1",
                                    "NEV": "Szűcs Annamária",
                                    "SZUL_DAT": "1990-04-27"
                                },
                                {
                                    "USERNEV": "annamaria1",
                                    "NEV": "Szűcs Annamária",
                                    "SZUL_DAT": "1990-04-27"
                                },
                                {
                                    "USERNEV": "ANNAMARIAR",
                                    "NEV": "Regős Annamária",
                                    "SZUL_DAT": "1977-09-26"
                                },
                                {
                                    "USERNEV": "ANNAMARIAR",
                                    "NEV": "Regős Annamária",
                                    "SZUL_DAT": "1977-09-26"
                                },
                                {
                                    "USERNEV": "ANNAMARIAR",
                                    "NEV": "Regős Annamária",
                                    "SZUL_DAT": "1977-09-26"
                                },
                                {
                                    "USERNEV": "ANNAMARIAR",
                                    "NEV": "Regős Annamária",
                                    "SZUL_DAT": "1977-09-26"
                                },
                                {
                                    "USERNEV": "ANNAMARIAR",
                                    "NEV": "Regős Annamária",
                                    "SZUL_DAT": "1977-09-26"
                                },
                                {
                                    "USERNEV": "ANNAMARIAR",
                                    "NEV": "Regős Annamária",
                                    "SZUL_DAT": "1977-09-26"
                                },
                                {
                                    "USERNEV": "aron2",
                                    "NEV": "Jakab Áron",
                                    "SZUL_DAT": "1971-04-26"
                                },
                                {
                                    "USERNEV": "aron2",
                                    "NEV": "Jakab Áron",
                                    "SZUL_DAT": "1971-04-26"
                                },
                                {
                                    "USERNEV": "aron2",
                                    "NEV": "Jakab Áron",
                                    "SZUL_DAT": "1971-04-26"
                                },
                                {
                                    "USERNEV": "aron2",
                                    "NEV": "Jakab Áron",
                                    "SZUL_DAT": "1971-04-26"
                                },
                                {
                                    "USERNEV": "aron2",
                                    "NEV": "Jakab Áron",
                                    "SZUL_DAT": "1971-04-26"
                                },
                                {
                                    "USERNEV": "aron2",
                                    "NEV": "Jakab Áron",
                                    "SZUL_DAT": "1971-04-26"
                                },
                                {
                                    "USERNEV": "ARONK",
                                    "NEV": "Kelemen Áron",
                                    "SZUL_DAT": "1989-08-10"
                                },
                                {
                                    "USERNEV": "ARONK",
                                    "NEV": "Kelemen Áron",
                                    "SZUL_DAT": "1989-08-10"
                                },
                                {
                                    "USERNEV": "ARONK",
                                    "NEV": "Kelemen Áron",
                                    "SZUL_DAT": "1989-08-10"
                                },
                                {
                                    "USERNEV": "ARONK",
                                    "NEV": "Kelemen Áron",
                                    "SZUL_DAT": "1989-08-10"
                                },
                                {
                                    "USERNEV": "ARONK",
                                    "NEV": "Kelemen Áron",
                                    "SZUL_DAT": "1989-08-10"
                                },
                                {
                                    "USERNEV": "ARONK",
                                    "NEV": "Kelemen Áron",
                                    "SZUL_DAT": "1989-08-10"
                                },
                                {
                                    "USERNEV": "ARONK",
                                    "NEV": "Kelemen Áron",
                                    "SZUL_DAT": "1989-08-10"
                                },
                                {
                                    "USERNEV": "ARONK",
                                    "NEV": "Kelemen Áron",
                                    "SZUL_DAT": "1989-08-10"
                                },
                                {
                                    "USERNEV": "ARONK",
                                    "NEV": "Kelemen Áron",
                                    "SZUL_DAT": "1989-08-10"
                                },
                                {
                                    "USERNEV": "ARONK",
                                    "NEV": "Kelemen Áron",
                                    "SZUL_DAT": "1989-08-10"
                                },
                                {
                                    "USERNEV": "ARONK",
                                    "NEV": "Kelemen Áron",
                                    "SZUL_DAT": "1989-08-10"
                                },
                                {
                                    "USERNEV": "ARONK",
                                    "NEV": "Kelemen Áron",
                                    "SZUL_DAT": "1989-08-10"
                                },
                                {
                                    "USERNEV": "ARONK",
                                    "NEV": "Kelemen Áron",
                                    "SZUL_DAT": "1989-08-10"
                                },
                                {
                                    "USERNEV": "arpad2",
                                    "NEV": "Ötvös Árpád",
                                    "SZUL_DAT": "1990-06-08"
                                },
                                {
                                    "USERNEV": "arpad2",
                                    "NEV": "Ötvös Árpád",
                                    "SZUL_DAT": "1990-06-08"
                                },
                                {
                                    "USERNEV": "arpad2",
                                    "NEV": "Ötvös Árpád",
                                    "SZUL_DAT": "1990-06-08"
                                },
                                {
                                    "USERNEV": "arpad2",
                                    "NEV": "Ötvös Árpád",
                                    "SZUL_DAT": "1990-06-08"
                                },
                                {
                                    "USERNEV": "arpad2",
                                    "NEV": "Ötvös Árpád",
                                    "SZUL_DAT": "1990-06-08"
                                },
                                {
                                    "USERNEV": "arpad2",
                                    "NEV": "Ötvös Árpád",
                                    "SZUL_DAT": "1990-06-08"
                                },
                                {
                                    "USERNEV": "arpad2",
                                    "NEV": "Ötvös Árpád",
                                    "SZUL_DAT": "1990-06-08"
                                },
                                {
                                    "USERNEV": "ARPADH",
                                    "NEV": "Horváth Árpád",
                                    "SZUL_DAT": "1990-05-18"
                                },
                                {
                                    "USERNEV": "ARPADH",
                                    "NEV": "Horváth Árpád",
                                    "SZUL_DAT": "1990-05-18"
                                },
                                {
                                    "USERNEV": "ARPADH",
                                    "NEV": "Horváth Árpád",
                                    "SZUL_DAT": "1990-05-18"
                                },
                                {
                                    "USERNEV": "ARPADH",
                                    "NEV": "Horváth Árpád",
                                    "SZUL_DAT": "1990-05-18"
                                },
                                {
                                    "USERNEV": "ARPADH",
                                    "NEV": "Horváth Árpád",
                                    "SZUL_DAT": "1990-05-18"
                                },
                                {
                                    "USERNEV": "ARPADH",
                                    "NEV": "Horváth Árpád",
                                    "SZUL_DAT": "1990-05-18"
                                },
                                {
                                    "USERNEV": "ARPADH",
                                    "NEV": "Horváth Árpád",
                                    "SZUL_DAT": "1990-05-18"
                                },
                                {
                                    "USERNEV": "ARPADM",
                                    "NEV": "Móricz Árpád",
                                    "SZUL_DAT": "1986-04-20"
                                },
                                {
                                    "USERNEV": "ARPADM",
                                    "NEV": "Móricz Árpád",
                                    "SZUL_DAT": "1986-04-20"
                                },
                                {
                                    "USERNEV": "ARPADM",
                                    "NEV": "Móricz Árpád",
                                    "SZUL_DAT": "1986-04-20"
                                },
                                {
                                    "USERNEV": "ARPADM",
                                    "NEV": "Móricz Árpád",
                                    "SZUL_DAT": "1986-04-20"
                                },
                                {
                                    "USERNEV": "ARPADM",
                                    "NEV": "Móricz Árpád",
                                    "SZUL_DAT": "1986-04-20"
                                },
                                {
                                    "USERNEV": "ARPADM",
                                    "NEV": "Móricz Árpád",
                                    "SZUL_DAT": "1986-04-20"
                                },
                                {
                                    "USERNEV": "attila",
                                    "NEV": "Csóti Attila",
                                    "SZUL_DAT": "1979-12-25"
                                },
                                {
                                    "USERNEV": "attila",
                                    "NEV": "Csóti Attila",
                                    "SZUL_DAT": "1979-12-25"
                                },
                                {
                                    "USERNEV": "attila",
                                    "NEV": "Csóti Attila",
                                    "SZUL_DAT": "1979-12-25"
                                },
                                {
                                    "USERNEV": "attila1",
                                    "NEV": "Gulyás Attila",
                                    "SZUL_DAT": "1982-08-16"
                                },
                                {
                                    "USERNEV": "attila1",
                                    "NEV": "Gulyás Attila",
                                    "SZUL_DAT": "1982-08-16"
                                },
                                {
                                    "USERNEV": "attila1",
                                    "NEV": "Gulyás Attila",
                                    "SZUL_DAT": "1982-08-16"
                                },
                                {
                                    "USERNEV": "attila1",
                                    "NEV": "Gulyás Attila",
                                    "SZUL_DAT": "1982-08-16"
                                },
                                {
                                    "USERNEV": "attila1",
                                    "NEV": "Gulyás Attila",
                                    "SZUL_DAT": "1982-08-16"
                                },
                                {
                                    "USERNEV": "attila1",
                                    "NEV": "Gulyás Attila",
                                    "SZUL_DAT": "1982-08-16"
                                },
                                {
                                    "USERNEV": "attila4",
                                    "NEV": "Baróti Attila",
                                    "SZUL_DAT": "1975-11-06"
                                },
                                {
                                    "USERNEV": "attila4",
                                    "NEV": "Baróti Attila",
                                    "SZUL_DAT": "1975-11-06"
                                },
                                {
                                    "USERNEV": "attila4",
                                    "NEV": "Baróti Attila",
                                    "SZUL_DAT": "1975-11-06"
                                },
                                {
                                    "USERNEV": "ATTILAO",
                                    "NEV": "Opra Attila",
                                    "SZUL_DAT": "1995-05-08"
                                },
                                {
                                    "USERNEV": "ATTILAO",
                                    "NEV": "Opra Attila",
                                    "SZUL_DAT": "1995-05-08"
                                },
                                {
                                    "USERNEV": "ATTILAO",
                                    "NEV": "Opra Attila",
                                    "SZUL_DAT": "1995-05-08"
                                },
                                {
                                    "USERNEV": "ATTILAO",
                                    "NEV": "Opra Attila",
                                    "SZUL_DAT": "1995-05-08"
                                },
                                {
                                    "USERNEV": "balazs1",
                                    "NEV": "Bozsik Balázs",
                                    "SZUL_DAT": "1992-11-03"
                                },
                                {
                                    "USERNEV": "balazs1",
                                    "NEV": "Bozsik Balázs",
                                    "SZUL_DAT": "1992-11-03"
                                },
                                {
                                    "USERNEV": "balazs1",
                                    "NEV": "Bozsik Balázs",
                                    "SZUL_DAT": "1992-11-03"
                                },
                                {
                                    "USERNEV": "balazs1",
                                    "NEV": "Bozsik Balázs",
                                    "SZUL_DAT": "1992-11-03"
                                },
                                {
                                    "USERNEV": "balazs1",
                                    "NEV": "Bozsik Balázs",
                                    "SZUL_DAT": "1992-11-03"
                                },
                                {
                                    "USERNEV": "balazs1",
                                    "NEV": "Bozsik Balázs",
                                    "SZUL_DAT": "1992-11-03"
                                },
                                {
                                    "USERNEV": "balazs2",
                                    "NEV": "Szűcs Balázs",
                                    "SZUL_DAT": "1984-10-31"
                                },
                                {
                                    "USERNEV": "balazs2",
                                    "NEV": "Szűcs Balázs",
                                    "SZUL_DAT": "1984-10-31"
                                },
                                {
                                    "USERNEV": "balazs2",
                                    "NEV": "Szűcs Balázs",
                                    "SZUL_DAT": "1984-10-31"
                                },
                                {
                                    "USERNEV": "balazs2",
                                    "NEV": "Szűcs Balázs",
                                    "SZUL_DAT": "1984-10-31"
                                },
                                {
                                    "USERNEV": "balazs2",
                                    "NEV": "Szűcs Balázs",
                                    "SZUL_DAT": "1984-10-31"
                                },
                                {
                                    "USERNEV": "balazs2",
                                    "NEV": "Szűcs Balázs",
                                    "SZUL_DAT": "1984-10-31"
                                },
                                {
                                    "USERNEV": "balazs2",
                                    "NEV": "Szűcs Balázs",
                                    "SZUL_DAT": "1984-10-31"
                                },
                                {
                                    "USERNEV": "balazs2",
                                    "NEV": "Szűcs Balázs",
                                    "SZUL_DAT": "1984-10-31"
                                },
                                {
                                    "USERNEV": "balazs2",
                                    "NEV": "Szűcs Balázs",
                                    "SZUL_DAT": "1984-10-31"
                                },
                                {
                                    "USERNEV": "balazs2",
                                    "NEV": "Szűcs Balázs",
                                    "SZUL_DAT": "1984-10-31"
                                },
                                {
                                    "USERNEV": "balazs3",
                                    "NEV": "Bakódy Balázs",
                                    "SZUL_DAT": "1986-09-09"
                                },
                                {
                                    "USERNEV": "balazs3",
                                    "NEV": "Bakódy Balázs",
                                    "SZUL_DAT": "1986-09-09"
                                },
                                {
                                    "USERNEV": "balazs3",
                                    "NEV": "Bakódy Balázs",
                                    "SZUL_DAT": "1986-09-09"
                                },
                                {
                                    "USERNEV": "balazs3",
                                    "NEV": "Bakódy Balázs",
                                    "SZUL_DAT": "1986-09-09"
                                },
                                {
                                    "USERNEV": "balazs3",
                                    "NEV": "Bakódy Balázs",
                                    "SZUL_DAT": "1986-09-09"
                                },
                                {
                                    "USERNEV": "balazs3",
                                    "NEV": "Bakódy Balázs",
                                    "SZUL_DAT": "1986-09-09"
                                },
                                {
                                    "USERNEV": "balint",
                                    "NEV": "Horváth Bálint",
                                    "SZUL_DAT": "1996-03-17"
                                },
                                {
                                    "USERNEV": "balint",
                                    "NEV": "Horváth Bálint",
                                    "SZUL_DAT": "1996-03-17"
                                },
                                {
                                    "USERNEV": "balint",
                                    "NEV": "Horváth Bálint",
                                    "SZUL_DAT": "1996-03-17"
                                },
                                {
                                    "USERNEV": "balint1",
                                    "NEV": "Molnár Bálint",
                                    "SZUL_DAT": "1989-08-24"
                                },
                                {
                                    "USERNEV": "balint1",
                                    "NEV": "Molnár Bálint",
                                    "SZUL_DAT": "1989-08-24"
                                },
                                {
                                    "USERNEV": "balint1",
                                    "NEV": "Molnár Bálint",
                                    "SZUL_DAT": "1989-08-24"
                                },
                                {
                                    "USERNEV": "balint1",
                                    "NEV": "Molnár Bálint",
                                    "SZUL_DAT": "1989-08-24"
                                },
                                {
                                    "USERNEV": "balint1",
                                    "NEV": "Molnár Bálint",
                                    "SZUL_DAT": "1989-08-24"
                                },
                                {
                                    "USERNEV": "balint1",
                                    "NEV": "Molnár Bálint",
                                    "SZUL_DAT": "1989-08-24"
                                },
                                {
                                    "USERNEV": "balint1",
                                    "NEV": "Molnár Bálint",
                                    "SZUL_DAT": "1989-08-24"
                                },
                                {
                                    "USERNEV": "balint1",
                                    "NEV": "Molnár Bálint",
                                    "SZUL_DAT": "1989-08-24"
                                },
                                {
                                    "USERNEV": "balint1",
                                    "NEV": "Molnár Bálint",
                                    "SZUL_DAT": "1989-08-24"
                                },
                                {
                                    "USERNEV": "balint1",
                                    "NEV": "Molnár Bálint",
                                    "SZUL_DAT": "1989-08-24"
                                },
                                {
                                    "USERNEV": "balint2",
                                    "NEV": "Vukasinovity Bálint",
                                    "SZUL_DAT": "1997-09-03"
                                },
                                {
                                    "USERNEV": "balint2",
                                    "NEV": "Vukasinovity Bálint",
                                    "SZUL_DAT": "1997-09-03"
                                },
                                {
                                    "USERNEV": "balu",
                                    "NEV": "Endresz Bálint",
                                    "SZUL_DAT": "1976-08-01"
                                },
                                {
                                    "USERNEV": "balu",
                                    "NEV": "Endresz Bálint",
                                    "SZUL_DAT": "1976-08-01"
                                },
                                {
                                    "USERNEV": "beata4",
                                    "NEV": "Bagi Beáta",
                                    "SZUL_DAT": "1994-03-19"
                                },
                                {
                                    "USERNEV": "beata4",
                                    "NEV": "Bagi Beáta",
                                    "SZUL_DAT": "1994-03-19"
                                },
                                {
                                    "USERNEV": "beata4",
                                    "NEV": "Bagi Beáta",
                                    "SZUL_DAT": "1994-03-19"
                                },
                                {
                                    "USERNEV": "beata4",
                                    "NEV": "Bagi Beáta",
                                    "SZUL_DAT": "1994-03-19"
                                },
                                {
                                    "USERNEV": "beata4",
                                    "NEV": "Bagi Beáta",
                                    "SZUL_DAT": "1994-03-19"
                                },
                                {
                                    "USERNEV": "beata4",
                                    "NEV": "Bagi Beáta",
                                    "SZUL_DAT": "1994-03-19"
                                },
                                {
                                    "USERNEV": "BEATRIXK",
                                    "NEV": "Kerényi Beatrix",
                                    "SZUL_DAT": "1972-04-06"
                                },
                                {
                                    "USERNEV": "BEATRIXK",
                                    "NEV": "Kerényi Beatrix",
                                    "SZUL_DAT": "1972-04-06"
                                },
                                {
                                    "USERNEV": "BEATRIXK",
                                    "NEV": "Kerényi Beatrix",
                                    "SZUL_DAT": "1972-04-06"
                                },
                                {
                                    "USERNEV": "BEATRIXK",
                                    "NEV": "Kerényi Beatrix",
                                    "SZUL_DAT": "1972-04-06"
                                },
                                {
                                    "USERNEV": "BEATRIXK",
                                    "NEV": "Kerényi Beatrix",
                                    "SZUL_DAT": "1972-04-06"
                                },
                                {
                                    "USERNEV": "BEATRIXK",
                                    "NEV": "Kerényi Beatrix",
                                    "SZUL_DAT": "1972-04-06"
                                },
                                {
                                    "USERNEV": "BEATRIXK",
                                    "NEV": "Kerényi Beatrix",
                                    "SZUL_DAT": "1972-04-06"
                                },
                                {
                                    "USERNEV": "BEATRIXK",
                                    "NEV": "Kerényi Beatrix",
                                    "SZUL_DAT": "1972-04-06"
                                },
                                {
                                    "USERNEV": "BEATRIXK",
                                    "NEV": "Kerényi Beatrix",
                                    "SZUL_DAT": "1972-04-06"
                                },
                                {
                                    "USERNEV": "BEATRIXS",
                                    "NEV": "Szekendi Beatrix",
                                    "SZUL_DAT": "1981-04-06"
                                },
                                {
                                    "USERNEV": "BEATRIXS",
                                    "NEV": "Szekendi Beatrix",
                                    "SZUL_DAT": "1981-04-06"
                                },
                                {
                                    "USERNEV": "BEATRIXS",
                                    "NEV": "Szekendi Beatrix",
                                    "SZUL_DAT": "1981-04-06"
                                },
                                {
                                    "USERNEV": "BEATRIXS",
                                    "NEV": "Szekendi Beatrix",
                                    "SZUL_DAT": "1981-04-06"
                                },
                                {
                                    "USERNEV": "BEATRIXS",
                                    "NEV": "Szekendi Beatrix",
                                    "SZUL_DAT": "1981-04-06"
                                },
                                {
                                    "USERNEV": "BEATRIXS",
                                    "NEV": "Szekendi Beatrix",
                                    "SZUL_DAT": "1981-04-06"
                                },
                                {
                                    "USERNEV": "BELAF",
                                    "NEV": "Farkas Béla",
                                    "SZUL_DAT": "1995-02-24"
                                },
                                {
                                    "USERNEV": "BELAF",
                                    "NEV": "Farkas Béla",
                                    "SZUL_DAT": "1995-02-24"
                                },
                                {
                                    "USERNEV": "BELAF",
                                    "NEV": "Farkas Béla",
                                    "SZUL_DAT": "1995-02-24"
                                },
                                {
                                    "USERNEV": "BELAF",
                                    "NEV": "Farkas Béla",
                                    "SZUL_DAT": "1995-02-24"
                                },
                                {
                                    "USERNEV": "BELAF",
                                    "NEV": "Farkas Béla",
                                    "SZUL_DAT": "1995-02-24"
                                },
                                {
                                    "USERNEV": "BELAF",
                                    "NEV": "Farkas Béla",
                                    "SZUL_DAT": "1995-02-24"
                                },
                                {
                                    "USERNEV": "bence",
                                    "NEV": "Győrffy Bence",
                                    "SZUL_DAT": "1987-07-09"
                                },
                                {
                                    "USERNEV": "bence",
                                    "NEV": "Győrffy Bence",
                                    "SZUL_DAT": "1987-07-09"
                                },
                                {
                                    "USERNEV": "bence",
                                    "NEV": "Győrffy Bence",
                                    "SZUL_DAT": "1987-07-09"
                                },
                                {
                                    "USERNEV": "bence",
                                    "NEV": "Győrffy Bence",
                                    "SZUL_DAT": "1987-07-09"
                                },
                                {
                                    "USERNEV": "bence",
                                    "NEV": "Győrffy Bence",
                                    "SZUL_DAT": "1987-07-09"
                                },
                                {
                                    "USERNEV": "bence",
                                    "NEV": "Győrffy Bence",
                                    "SZUL_DAT": "1987-07-09"
                                },
                                {
                                    "USERNEV": "bence",
                                    "NEV": "Győrffy Bence",
                                    "SZUL_DAT": "1987-07-09"
                                },
                                {
                                    "USERNEV": "bence",
                                    "NEV": "Győrffy Bence",
                                    "SZUL_DAT": "1987-07-09"
                                },
                                {
                                    "USERNEV": "bence",
                                    "NEV": "Győrffy Bence",
                                    "SZUL_DAT": "1987-07-09"
                                },
                                {
                                    "USERNEV": "BENCEB",
                                    "NEV": "Bajusz Bence",
                                    "SZUL_DAT": "1973-06-21"
                                },
                                {
                                    "USERNEV": "BENCEB",
                                    "NEV": "Bajusz Bence",
                                    "SZUL_DAT": "1973-06-21"
                                },
                                {
                                    "USERNEV": "BENCEB",
                                    "NEV": "Bajusz Bence",
                                    "SZUL_DAT": "1973-06-21"
                                },
                                {
                                    "USERNEV": "BENCEB",
                                    "NEV": "Bajusz Bence",
                                    "SZUL_DAT": "1973-06-21"
                                },
                                {
                                    "USERNEV": "BENCEB",
                                    "NEV": "Bajusz Bence",
                                    "SZUL_DAT": "1973-06-21"
                                },
                                {
                                    "USERNEV": "BENCEB",
                                    "NEV": "Bajusz Bence",
                                    "SZUL_DAT": "1973-06-21"
                                },
                                {
                                    "USERNEV": "bernadett1",
                                    "NEV": "Simon Bernadett",
                                    "SZUL_DAT": "1984-10-13"
                                },
                                {
                                    "USERNEV": "bernadett1",
                                    "NEV": "Simon Bernadett",
                                    "SZUL_DAT": "1984-10-13"
                                },
                                {
                                    "USERNEV": "bernadett1",
                                    "NEV": "Simon Bernadett",
                                    "SZUL_DAT": "1984-10-13"
                                },
                                {
                                    "USERNEV": "bernadett1",
                                    "NEV": "Simon Bernadett",
                                    "SZUL_DAT": "1984-10-13"
                                },
                                {
                                    "USERNEV": "bernadett1",
                                    "NEV": "Simon Bernadett",
                                    "SZUL_DAT": "1984-10-13"
                                },
                                {
                                    "USERNEV": "bernadett1",
                                    "NEV": "Simon Bernadett",
                                    "SZUL_DAT": "1984-10-13"
                                },
                                {
                                    "USERNEV": "bernadett1",
                                    "NEV": "Simon Bernadett",
                                    "SZUL_DAT": "1984-10-13"
                                },
                                {
                                    "USERNEV": "bernadett2",
                                    "NEV": "Kovács Bernadett",
                                    "SZUL_DAT": "1996-08-20"
                                },
                                {
                                    "USERNEV": "bernadett2",
                                    "NEV": "Kovács Bernadett",
                                    "SZUL_DAT": "1996-08-20"
                                },
                                {
                                    "USERNEV": "bernadett2",
                                    "NEV": "Kovács Bernadett",
                                    "SZUL_DAT": "1996-08-20"
                                },
                                {
                                    "USERNEV": "bernadett2",
                                    "NEV": "Kovács Bernadett",
                                    "SZUL_DAT": "1996-08-20"
                                },
                                {
                                    "USERNEV": "bernadett2",
                                    "NEV": "Kovács Bernadett",
                                    "SZUL_DAT": "1996-08-20"
                                },
                                {
                                    "USERNEV": "bernadett2",
                                    "NEV": "Kovács Bernadett",
                                    "SZUL_DAT": "1996-08-20"
                                },
                                {
                                    "USERNEV": "bernadett2",
                                    "NEV": "Kovács Bernadett",
                                    "SZUL_DAT": "1996-08-20"
                                },
                                {
                                    "USERNEV": "bernadett2",
                                    "NEV": "Kovács Bernadett",
                                    "SZUL_DAT": "1996-08-20"
                                },
                                {
                                    "USERNEV": "BERNADETTO",
                                    "NEV": "Orbán Bernadett",
                                    "SZUL_DAT": "1987-12-07"
                                },
                                {
                                    "USERNEV": "BERNADETTO",
                                    "NEV": "Orbán Bernadett",
                                    "SZUL_DAT": "1987-12-07"
                                },
                                {
                                    "USERNEV": "BERNADETTO",
                                    "NEV": "Orbán Bernadett",
                                    "SZUL_DAT": "1987-12-07"
                                },
                                {
                                    "USERNEV": "BERNADETTO",
                                    "NEV": "Orbán Bernadett",
                                    "SZUL_DAT": "1987-12-07"
                                },
                                {
                                    "USERNEV": "BERNADETTO",
                                    "NEV": "Orbán Bernadett",
                                    "SZUL_DAT": "1987-12-07"
                                },
                                {
                                    "USERNEV": "BERNADETTO",
                                    "NEV": "Orbán Bernadett",
                                    "SZUL_DAT": "1987-12-07"
                                },
                                {
                                    "USERNEV": "BERNADETTO",
                                    "NEV": "Orbán Bernadett",
                                    "SZUL_DAT": "1987-12-07"
                                },
                                {
                                    "USERNEV": "bertalan",
                                    "NEV": "Csiger Bertalan",
                                    "SZUL_DAT": "1977-10-15"
                                },
                                {
                                    "USERNEV": "bertalan",
                                    "NEV": "Csiger Bertalan",
                                    "SZUL_DAT": "1977-10-15"
                                },
                                {
                                    "USERNEV": "bertalan",
                                    "NEV": "Csiger Bertalan",
                                    "SZUL_DAT": "1977-10-15"
                                },
                                {
                                    "USERNEV": "bertalan",
                                    "NEV": "Csiger Bertalan",
                                    "SZUL_DAT": "1977-10-15"
                                },
                                {
                                    "USERNEV": "bertalan",
                                    "NEV": "Csiger Bertalan",
                                    "SZUL_DAT": "1977-10-15"
                                },
                                {
                                    "USERNEV": "bertalan",
                                    "NEV": "Csiger Bertalan",
                                    "SZUL_DAT": "1977-10-15"
                                },
                                {
                                    "USERNEV": "brigitta",
                                    "NEV": "Székely Brigitta",
                                    "SZUL_DAT": "1978-09-13"
                                },
                                {
                                    "USERNEV": "brigitta",
                                    "NEV": "Székely Brigitta",
                                    "SZUL_DAT": "1978-09-13"
                                },
                                {
                                    "USERNEV": "brigitta",
                                    "NEV": "Székely Brigitta",
                                    "SZUL_DAT": "1978-09-13"
                                },
                                {
                                    "USERNEV": "brigitta",
                                    "NEV": "Székely Brigitta",
                                    "SZUL_DAT": "1978-09-13"
                                },
                                {
                                    "USERNEV": "brigitta",
                                    "NEV": "Székely Brigitta",
                                    "SZUL_DAT": "1978-09-13"
                                },
                                {
                                    "USERNEV": "brigitta3",
                                    "NEV": "Pataki Brigitta",
                                    "SZUL_DAT": "1991-05-23"
                                },
                                {
                                    "USERNEV": "brigitta3",
                                    "NEV": "Pataki Brigitta",
                                    "SZUL_DAT": "1991-05-23"
                                },
                                {
                                    "USERNEV": "brigitta3",
                                    "NEV": "Pataki Brigitta",
                                    "SZUL_DAT": "1991-05-23"
                                },
                                {
                                    "USERNEV": "brigitta3",
                                    "NEV": "Pataki Brigitta",
                                    "SZUL_DAT": "1991-05-23"
                                },
                                {
                                    "USERNEV": "brigitta3",
                                    "NEV": "Pataki Brigitta",
                                    "SZUL_DAT": "1991-05-23"
                                },
                                {
                                    "USERNEV": "csongor3",
                                    "NEV": "Nagymihály Csongor",
                                    "SZUL_DAT": "1984-03-05"
                                },
                                {
                                    "USERNEV": "csongor3",
                                    "NEV": "Nagymihály Csongor",
                                    "SZUL_DAT": "1984-03-05"
                                },
                                {
                                    "USERNEV": "csongor3",
                                    "NEV": "Nagymihály Csongor",
                                    "SZUL_DAT": "1984-03-05"
                                },
                                {
                                    "USERNEV": "csongor3",
                                    "NEV": "Nagymihály Csongor",
                                    "SZUL_DAT": "1984-03-05"
                                },
                                {
                                    "USERNEV": "csongor3",
                                    "NEV": "Nagymihály Csongor",
                                    "SZUL_DAT": "1984-03-05"
                                },
                                {
                                    "USERNEV": "csongor3",
                                    "NEV": "Nagymihály Csongor",
                                    "SZUL_DAT": "1984-03-05"
                                },
                                {
                                    "USERNEV": "csongor3",
                                    "NEV": "Nagymihály Csongor",
                                    "SZUL_DAT": "1984-03-05"
                                },
                                {
                                    "USERNEV": "csongor3",
                                    "NEV": "Nagymihály Csongor",
                                    "SZUL_DAT": "1984-03-05"
                                },
                                {
                                    "USERNEV": "dani",
                                    "NEV": "Vörös Dániel",
                                    "SZUL_DAT": "1986-10-14"
                                },
                                {
                                    "USERNEV": "dani",
                                    "NEV": "Vörös Dániel",
                                    "SZUL_DAT": "1986-10-14"
                                },
                                {
                                    "USERNEV": "dani",
                                    "NEV": "Vörös Dániel",
                                    "SZUL_DAT": "1986-10-14"
                                },
                                {
                                    "USERNEV": "dani",
                                    "NEV": "Vörös Dániel",
                                    "SZUL_DAT": "1986-10-14"
                                },
                                {
                                    "USERNEV": "dani",
                                    "NEV": "Vörös Dániel",
                                    "SZUL_DAT": "1986-10-14"
                                },
                                {
                                    "USERNEV": "dani",
                                    "NEV": "Vörös Dániel",
                                    "SZUL_DAT": "1986-10-14"
                                },
                                {
                                    "USERNEV": "dani",
                                    "NEV": "Vörös Dániel",
                                    "SZUL_DAT": "1986-10-14"
                                },
                                {
                                    "USERNEV": "dani",
                                    "NEV": "Vörös Dániel",
                                    "SZUL_DAT": "1986-10-14"
                                },
                                {
                                    "USERNEV": "dani",
                                    "NEV": "Vörös Dániel",
                                    "SZUL_DAT": "1986-10-14"
                                },
                                {
                                    "USERNEV": "daniel",
                                    "NEV": "Rácz Dániel",
                                    "SZUL_DAT": "1978-11-28"
                                },
                                {
                                    "USERNEV": "daniel",
                                    "NEV": "Rácz Dániel",
                                    "SZUL_DAT": "1978-11-28"
                                },
                                {
                                    "USERNEV": "daniel",
                                    "NEV": "Rácz Dániel",
                                    "SZUL_DAT": "1978-11-28"
                                },
                                {
                                    "USERNEV": "daniel",
                                    "NEV": "Rácz Dániel",
                                    "SZUL_DAT": "1978-11-28"
                                },
                                {
                                    "USERNEV": "daniel",
                                    "NEV": "Rácz Dániel",
                                    "SZUL_DAT": "1978-11-28"
                                },
                                {
                                    "USERNEV": "daniel",
                                    "NEV": "Rácz Dániel",
                                    "SZUL_DAT": "1978-11-28"
                                },
                                {
                                    "USERNEV": "daniel",
                                    "NEV": "Rácz Dániel",
                                    "SZUL_DAT": "1978-11-28"
                                },
                                {
                                    "USERNEV": "daniel",
                                    "NEV": "Rácz Dániel",
                                    "SZUL_DAT": "1978-11-28"
                                },
                                {
                                    "USERNEV": "daniel",
                                    "NEV": "Rácz Dániel",
                                    "SZUL_DAT": "1978-11-28"
                                },
                                {
                                    "USERNEV": "daniel1",
                                    "NEV": "Keszler Dániel",
                                    "SZUL_DAT": "1969-07-16"
                                },
                                {
                                    "USERNEV": "daniel1",
                                    "NEV": "Keszler Dániel",
                                    "SZUL_DAT": "1969-07-16"
                                },
                                {
                                    "USERNEV": "daniel1",
                                    "NEV": "Keszler Dániel",
                                    "SZUL_DAT": "1969-07-16"
                                },
                                {
                                    "USERNEV": "daniel1",
                                    "NEV": "Keszler Dániel",
                                    "SZUL_DAT": "1969-07-16"
                                },
                                {
                                    "USERNEV": "daniel1",
                                    "NEV": "Keszler Dániel",
                                    "SZUL_DAT": "1969-07-16"
                                },
                                {
                                    "USERNEV": "daniel1",
                                    "NEV": "Keszler Dániel",
                                    "SZUL_DAT": "1969-07-16"
                                },
                                {
                                    "USERNEV": "daniel1",
                                    "NEV": "Keszler Dániel",
                                    "SZUL_DAT": "1969-07-16"
                                },
                                {
                                    "USERNEV": "david",
                                    "NEV": "Ambrus Dávid",
                                    "SZUL_DAT": "1974-02-11"
                                },
                                {
                                    "USERNEV": "david",
                                    "NEV": "Ambrus Dávid",
                                    "SZUL_DAT": "1974-02-11"
                                },
                                {
                                    "USERNEV": "david",
                                    "NEV": "Ambrus Dávid",
                                    "SZUL_DAT": "1974-02-11"
                                },
                                {
                                    "USERNEV": "david",
                                    "NEV": "Ambrus Dávid",
                                    "SZUL_DAT": "1974-02-11"
                                },
                                {
                                    "USERNEV": "david",
                                    "NEV": "Ambrus Dávid",
                                    "SZUL_DAT": "1974-02-11"
                                },
                                {
                                    "USERNEV": "david",
                                    "NEV": "Ambrus Dávid",
                                    "SZUL_DAT": "1974-02-11"
                                },
                                {
                                    "USERNEV": "david",
                                    "NEV": "Ambrus Dávid",
                                    "SZUL_DAT": "1974-02-11"
                                },
                                {
                                    "USERNEV": "david",
                                    "NEV": "Ambrus Dávid",
                                    "SZUL_DAT": "1974-02-11"
                                },
                                {
                                    "USERNEV": "david",
                                    "NEV": "Ambrus Dávid",
                                    "SZUL_DAT": "1974-02-11"
                                },
                                {
                                    "USERNEV": "david1",
                                    "NEV": "Sobják Dávid",
                                    "SZUL_DAT": "1970-08-16"
                                },
                                {
                                    "USERNEV": "david1",
                                    "NEV": "Sobják Dávid",
                                    "SZUL_DAT": "1970-08-16"
                                },
                                {
                                    "USERNEV": "david1",
                                    "NEV": "Sobják Dávid",
                                    "SZUL_DAT": "1970-08-16"
                                },
                                {
                                    "USERNEV": "david1",
                                    "NEV": "Sobják Dávid",
                                    "SZUL_DAT": "1970-08-16"
                                },
                                {
                                    "USERNEV": "david1",
                                    "NEV": "Sobják Dávid",
                                    "SZUL_DAT": "1970-08-16"
                                },
                                {
                                    "USERNEV": "david1",
                                    "NEV": "Sobják Dávid",
                                    "SZUL_DAT": "1970-08-16"
                                },
                                {
                                    "USERNEV": "david4",
                                    "NEV": "Berta Dávid",
                                    "SZUL_DAT": "1990-10-08"
                                },
                                {
                                    "USERNEV": "debora",
                                    "NEV": "Barna Debóra",
                                    "SZUL_DAT": "1976-10-14"
                                },
                                {
                                    "USERNEV": "debora",
                                    "NEV": "Barna Debóra",
                                    "SZUL_DAT": "1976-10-14"
                                },
                                {
                                    "USERNEV": "debora",
                                    "NEV": "Barna Debóra",
                                    "SZUL_DAT": "1976-10-14"
                                },
                                {
                                    "USERNEV": "debora",
                                    "NEV": "Barna Debóra",
                                    "SZUL_DAT": "1976-10-14"
                                },
                                {
                                    "USERNEV": "denes",
                                    "NEV": "Tömböly Dénes",
                                    "SZUL_DAT": "1975-03-14"
                                },
                                {
                                    "USERNEV": "denes",
                                    "NEV": "Tömböly Dénes",
                                    "SZUL_DAT": "1975-03-14"
                                },
                                {
                                    "USERNEV": "denes",
                                    "NEV": "Tömböly Dénes",
                                    "SZUL_DAT": "1975-03-14"
                                },
                                {
                                    "USERNEV": "denes",
                                    "NEV": "Tömböly Dénes",
                                    "SZUL_DAT": "1975-03-14"
                                },
                                {
                                    "USERNEV": "denes",
                                    "NEV": "Tömböly Dénes",
                                    "SZUL_DAT": "1975-03-14"
                                },
                                {
                                    "USERNEV": "denes",
                                    "NEV": "Tömböly Dénes",
                                    "SZUL_DAT": "1975-03-14"
                                },
                                {
                                    "USERNEV": "dora3",
                                    "NEV": "Sarodi Dóra",
                                    "SZUL_DAT": "1995-05-18"
                                },
                                {
                                    "USERNEV": "dora3",
                                    "NEV": "Sarodi Dóra",
                                    "SZUL_DAT": "1995-05-18"
                                },
                                {
                                    "USERNEV": "dora3",
                                    "NEV": "Sarodi Dóra",
                                    "SZUL_DAT": "1995-05-18"
                                },
                                {
                                    "USERNEV": "dora3",
                                    "NEV": "Sarodi Dóra",
                                    "SZUL_DAT": "1995-05-18"
                                },
                                {
                                    "USERNEV": "dora3",
                                    "NEV": "Sarodi Dóra",
                                    "SZUL_DAT": "1995-05-18"
                                },
                                {
                                    "USERNEV": "edit",
                                    "NEV": "Bittmann Edit",
                                    "SZUL_DAT": "1984-04-20"
                                },
                                {
                                    "USERNEV": "edit",
                                    "NEV": "Bittmann Edit",
                                    "SZUL_DAT": "1984-04-20"
                                },
                                {
                                    "USERNEV": "edit",
                                    "NEV": "Bittmann Edit",
                                    "SZUL_DAT": "1984-04-20"
                                },
                                {
                                    "USERNEV": "edit",
                                    "NEV": "Bittmann Edit",
                                    "SZUL_DAT": "1984-04-20"
                                },
                                {
                                    "USERNEV": "edit",
                                    "NEV": "Bittmann Edit",
                                    "SZUL_DAT": "1984-04-20"
                                },
                                {
                                    "USERNEV": "edit",
                                    "NEV": "Bittmann Edit",
                                    "SZUL_DAT": "1984-04-20"
                                },
                                {
                                    "USERNEV": "edit",
                                    "NEV": "Bittmann Edit",
                                    "SZUL_DAT": "1984-04-20"
                                },
                                {
                                    "USERNEV": "emese",
                                    "NEV": "Kuruc Emese",
                                    "SZUL_DAT": "1989-08-10"
                                },
                                {
                                    "USERNEV": "emese",
                                    "NEV": "Kuruc Emese",
                                    "SZUL_DAT": "1989-08-10"
                                },
                                {
                                    "USERNEV": "emese",
                                    "NEV": "Kuruc Emese",
                                    "SZUL_DAT": "1989-08-10"
                                },
                                {
                                    "USERNEV": "emese",
                                    "NEV": "Kuruc Emese",
                                    "SZUL_DAT": "1989-08-10"
                                },
                                {
                                    "USERNEV": "emese",
                                    "NEV": "Kuruc Emese",
                                    "SZUL_DAT": "1989-08-10"
                                },
                                {
                                    "USERNEV": "emese",
                                    "NEV": "Kuruc Emese",
                                    "SZUL_DAT": "1989-08-10"
                                },
                                {
                                    "USERNEV": "emese",
                                    "NEV": "Kuruc Emese",
                                    "SZUL_DAT": "1989-08-10"
                                },
                                {
                                    "USERNEV": "eszter",
                                    "NEV": "Molnár Eszter",
                                    "SZUL_DAT": "1987-05-10"
                                },
                                {
                                    "USERNEV": "eszter",
                                    "NEV": "Molnár Eszter",
                                    "SZUL_DAT": "1987-05-10"
                                },
                                {
                                    "USERNEV": "eszter",
                                    "NEV": "Molnár Eszter",
                                    "SZUL_DAT": "1987-05-10"
                                },
                                {
                                    "USERNEV": "eszter",
                                    "NEV": "Molnár Eszter",
                                    "SZUL_DAT": "1987-05-10"
                                },
                                {
                                    "USERNEV": "eszter2",
                                    "NEV": "Balogh Eszter",
                                    "SZUL_DAT": "1998-01-31"
                                },
                                {
                                    "USERNEV": "eszter2",
                                    "NEV": "Balogh Eszter",
                                    "SZUL_DAT": "1998-01-31"
                                },
                                {
                                    "USERNEV": "eszter2",
                                    "NEV": "Balogh Eszter",
                                    "SZUL_DAT": "1998-01-31"
                                },
                                {
                                    "USERNEV": "eszter2",
                                    "NEV": "Balogh Eszter",
                                    "SZUL_DAT": "1998-01-31"
                                },
                                {
                                    "USERNEV": "eszter2",
                                    "NEV": "Balogh Eszter",
                                    "SZUL_DAT": "1998-01-31"
                                },
                                {
                                    "USERNEV": "eszter2",
                                    "NEV": "Balogh Eszter",
                                    "SZUL_DAT": "1998-01-31"
                                },
                                {
                                    "USERNEV": "eszter2",
                                    "NEV": "Balogh Eszter",
                                    "SZUL_DAT": "1998-01-31"
                                },
                                {
                                    "USERNEV": "eszter2",
                                    "NEV": "Balogh Eszter",
                                    "SZUL_DAT": "1998-01-31"
                                },
                                {
                                    "USERNEV": "eszter2",
                                    "NEV": "Balogh Eszter",
                                    "SZUL_DAT": "1998-01-31"
                                },
                                {
                                    "USERNEV": "eszter2",
                                    "NEV": "Balogh Eszter",
                                    "SZUL_DAT": "1998-01-31"
                                },
                                {
                                    "USERNEV": "eszter4",
                                    "NEV": "Fülöp Eszter",
                                    "SZUL_DAT": "1993-06-28"
                                },
                                {
                                    "USERNEV": "eszter4",
                                    "NEV": "Fülöp Eszter",
                                    "SZUL_DAT": "1993-06-28"
                                },
                                {
                                    "USERNEV": "eszter4",
                                    "NEV": "Fülöp Eszter",
                                    "SZUL_DAT": "1993-06-28"
                                },
                                {
                                    "USERNEV": "ESZTERE",
                                    "NEV": "Érsek Eszter",
                                    "SZUL_DAT": "1978-08-28"
                                },
                                {
                                    "USERNEV": "ESZTERE",
                                    "NEV": "Érsek Eszter",
                                    "SZUL_DAT": "1978-08-28"
                                },
                                {
                                    "USERNEV": "ESZTERE",
                                    "NEV": "Érsek Eszter",
                                    "SZUL_DAT": "1978-08-28"
                                },
                                {
                                    "USERNEV": "ESZTERE",
                                    "NEV": "Érsek Eszter",
                                    "SZUL_DAT": "1978-08-28"
                                },
                                {
                                    "USERNEV": "eva",
                                    "NEV": "Enyedi Éva",
                                    "SZUL_DAT": "1967-06-30"
                                },
                                {
                                    "USERNEV": "eva",
                                    "NEV": "Enyedi Éva",
                                    "SZUL_DAT": "1967-06-30"
                                },
                                {
                                    "USERNEV": "eva2",
                                    "NEV": "Perlinger Éva",
                                    "SZUL_DAT": "1971-08-19"
                                },
                                {
                                    "USERNEV": "eva2",
                                    "NEV": "Perlinger Éva",
                                    "SZUL_DAT": "1971-08-19"
                                },
                                {
                                    "USERNEV": "eva2",
                                    "NEV": "Perlinger Éva",
                                    "SZUL_DAT": "1971-08-19"
                                },
                                {
                                    "USERNEV": "eva2",
                                    "NEV": "Perlinger Éva",
                                    "SZUL_DAT": "1971-08-19"
                                },
                                {
                                    "USERNEV": "EVAV",
                                    "NEV": "Viktor Éva",
                                    "SZUL_DAT": "1980-12-26"
                                },
                                {
                                    "USERNEV": "EVAV",
                                    "NEV": "Viktor Éva",
                                    "SZUL_DAT": "1980-12-26"
                                },
                                {
                                    "USERNEV": "EVAV",
                                    "NEV": "Viktor Éva",
                                    "SZUL_DAT": "1980-12-26"
                                },
                                {
                                    "USERNEV": "EVAV",
                                    "NEV": "Viktor Éva",
                                    "SZUL_DAT": "1980-12-26"
                                },
                                {
                                    "USERNEV": "EVAV",
                                    "NEV": "Viktor Éva",
                                    "SZUL_DAT": "1980-12-26"
                                },
                                {
                                    "USERNEV": "ferenc1",
                                    "NEV": "Orosz Ferenc",
                                    "SZUL_DAT": "1983-10-08"
                                },
                                {
                                    "USERNEV": "ferenc1",
                                    "NEV": "Orosz Ferenc",
                                    "SZUL_DAT": "1983-10-08"
                                },
                                {
                                    "USERNEV": "ferenc1",
                                    "NEV": "Orosz Ferenc",
                                    "SZUL_DAT": "1983-10-08"
                                },
                                {
                                    "USERNEV": "ferenc1",
                                    "NEV": "Orosz Ferenc",
                                    "SZUL_DAT": "1983-10-08"
                                },
                                {
                                    "USERNEV": "fruzsina4",
                                    "NEV": "Frank Fruzsina",
                                    "SZUL_DAT": "1996-08-16"
                                },
                                {
                                    "USERNEV": "fruzsina4",
                                    "NEV": "Frank Fruzsina",
                                    "SZUL_DAT": "1996-08-16"
                                },
                                {
                                    "USERNEV": "fruzsina4",
                                    "NEV": "Frank Fruzsina",
                                    "SZUL_DAT": "1996-08-16"
                                },
                                {
                                    "USERNEV": "fruzsina4",
                                    "NEV": "Frank Fruzsina",
                                    "SZUL_DAT": "1996-08-16"
                                },
                                {
                                    "USERNEV": "fruzsina4",
                                    "NEV": "Frank Fruzsina",
                                    "SZUL_DAT": "1996-08-16"
                                },
                                {
                                    "USERNEV": "fruzsina4",
                                    "NEV": "Frank Fruzsina",
                                    "SZUL_DAT": "1996-08-16"
                                },
                                {
                                    "USERNEV": "fruzsina4",
                                    "NEV": "Frank Fruzsina",
                                    "SZUL_DAT": "1996-08-16"
                                },
                                {
                                    "USERNEV": "fruzsina4",
                                    "NEV": "Frank Fruzsina",
                                    "SZUL_DAT": "1996-08-16"
                                },
                                {
                                    "USERNEV": "gabor1",
                                    "NEV": "Köves Gábor",
                                    "SZUL_DAT": "1973-07-15"
                                },
                                {
                                    "USERNEV": "gabor1",
                                    "NEV": "Köves Gábor",
                                    "SZUL_DAT": "1973-07-15"
                                },
                                {
                                    "USERNEV": "gabor1",
                                    "NEV": "Köves Gábor",
                                    "SZUL_DAT": "1973-07-15"
                                },
                                {
                                    "USERNEV": "gabor1",
                                    "NEV": "Köves Gábor",
                                    "SZUL_DAT": "1973-07-15"
                                },
                                {
                                    "USERNEV": "gabor1",
                                    "NEV": "Köves Gábor",
                                    "SZUL_DAT": "1973-07-15"
                                },
                                {
                                    "USERNEV": "gabor1",
                                    "NEV": "Köves Gábor",
                                    "SZUL_DAT": "1973-07-15"
                                },
                                {
                                    "USERNEV": "gabor4",
                                    "NEV": "Telek Gábor",
                                    "SZUL_DAT": "1987-03-15"
                                },
                                {
                                    "USERNEV": "gabor4",
                                    "NEV": "Telek Gábor",
                                    "SZUL_DAT": "1987-03-15"
                                },
                                {
                                    "USERNEV": "gabor4",
                                    "NEV": "Telek Gábor",
                                    "SZUL_DAT": "1987-03-15"
                                },
                                {
                                    "USERNEV": "gabor4",
                                    "NEV": "Telek Gábor",
                                    "SZUL_DAT": "1987-03-15"
                                },
                                {
                                    "USERNEV": "gabriella1",
                                    "NEV": "Nagy Gabriella",
                                    "SZUL_DAT": "1982-11-01"
                                },
                                {
                                    "USERNEV": "gabriella1",
                                    "NEV": "Nagy Gabriella",
                                    "SZUL_DAT": "1982-11-01"
                                },
                                {
                                    "USERNEV": "gabriella1",
                                    "NEV": "Nagy Gabriella",
                                    "SZUL_DAT": "1982-11-01"
                                },
                                {
                                    "USERNEV": "gabriella1",
                                    "NEV": "Nagy Gabriella",
                                    "SZUL_DAT": "1982-11-01"
                                },
                                {
                                    "USERNEV": "gabriella1",
                                    "NEV": "Nagy Gabriella",
                                    "SZUL_DAT": "1982-11-01"
                                },
                                {
                                    "USERNEV": "gabriella1",
                                    "NEV": "Nagy Gabriella",
                                    "SZUL_DAT": "1982-11-01"
                                },
                                {
                                    "USERNEV": "gabriella10",
                                    "NEV": "Vida Gabriella",
                                    "SZUL_DAT": "1969-06-18"
                                },
                                {
                                    "USERNEV": "georgij",
                                    "NEV": "Nyíri Georgij",
                                    "SZUL_DAT": "1983-02-23"
                                },
                                {
                                    "USERNEV": "georgij",
                                    "NEV": "Nyíri Georgij",
                                    "SZUL_DAT": "1983-02-23"
                                },
                                {
                                    "USERNEV": "georgij",
                                    "NEV": "Nyíri Georgij",
                                    "SZUL_DAT": "1983-02-23"
                                },
                                {
                                    "USERNEV": "georgij",
                                    "NEV": "Nyíri Georgij",
                                    "SZUL_DAT": "1983-02-23"
                                },
                                {
                                    "USERNEV": "gusztav",
                                    "NEV": "Bárci Gusztáv",
                                    "SZUL_DAT": "1967-02-25"
                                },
                                {
                                    "USERNEV": "gusztav",
                                    "NEV": "Bárci Gusztáv",
                                    "SZUL_DAT": "1967-02-25"
                                },
                                {
                                    "USERNEV": "gusztav",
                                    "NEV": "Bárci Gusztáv",
                                    "SZUL_DAT": "1967-02-25"
                                },
                                {
                                    "USERNEV": "gusztav",
                                    "NEV": "Bárci Gusztáv",
                                    "SZUL_DAT": "1967-02-25"
                                },
                                {
                                    "USERNEV": "gusztav",
                                    "NEV": "Bárci Gusztáv",
                                    "SZUL_DAT": "1967-02-25"
                                },
                                {
                                    "USERNEV": "GYONGYIK",
                                    "NEV": "Kornseé Gyöngyi",
                                    "SZUL_DAT": "1974-06-07"
                                },
                                {
                                    "USERNEV": "GYONGYIK",
                                    "NEV": "Kornseé Gyöngyi",
                                    "SZUL_DAT": "1974-06-07"
                                },
                                {
                                    "USERNEV": "GYONGYIK",
                                    "NEV": "Kornseé Gyöngyi",
                                    "SZUL_DAT": "1974-06-07"
                                },
                                {
                                    "USERNEV": "GYONGYIK",
                                    "NEV": "Kornseé Gyöngyi",
                                    "SZUL_DAT": "1974-06-07"
                                },
                                {
                                    "USERNEV": "GYONGYIK",
                                    "NEV": "Kornseé Gyöngyi",
                                    "SZUL_DAT": "1974-06-07"
                                },
                                {
                                    "USERNEV": "GYONGYIK",
                                    "NEV": "Kornseé Gyöngyi",
                                    "SZUL_DAT": "1974-06-07"
                                },
                                {
                                    "USERNEV": "GYONGYIK",
                                    "NEV": "Kornseé Gyöngyi",
                                    "SZUL_DAT": "1974-06-07"
                                },
                                {
                                    "USERNEV": "GYORGYO",
                                    "NEV": "Oroszi György",
                                    "SZUL_DAT": "1980-03-23"
                                },
                                {
                                    "USERNEV": "GYORGYO",
                                    "NEV": "Oroszi György",
                                    "SZUL_DAT": "1980-03-23"
                                },
                                {
                                    "USERNEV": "GYORGYO",
                                    "NEV": "Oroszi György",
                                    "SZUL_DAT": "1980-03-23"
                                },
                                {
                                    "USERNEV": "GYORGYO",
                                    "NEV": "Oroszi György",
                                    "SZUL_DAT": "1980-03-23"
                                },
                                {
                                    "USERNEV": "GYORGYO",
                                    "NEV": "Oroszi György",
                                    "SZUL_DAT": "1980-03-23"
                                },
                                {
                                    "USERNEV": "GYORGYO",
                                    "NEV": "Oroszi György",
                                    "SZUL_DAT": "1980-03-23"
                                },
                                {
                                    "USERNEV": "GYORGYO",
                                    "NEV": "Oroszi György",
                                    "SZUL_DAT": "1980-03-23"
                                },
                                {
                                    "USERNEV": "GYORGYO",
                                    "NEV": "Oroszi György",
                                    "SZUL_DAT": "1980-03-23"
                                },
                                {
                                    "USERNEV": "henrik3",
                                    "NEV": "Nádudvari Henrik",
                                    "SZUL_DAT": "1986-12-05"
                                },
                                {
                                    "USERNEV": "henrik3",
                                    "NEV": "Nádudvari Henrik",
                                    "SZUL_DAT": "1986-12-05"
                                },
                                {
                                    "USERNEV": "henrik3",
                                    "NEV": "Nádudvari Henrik",
                                    "SZUL_DAT": "1986-12-05"
                                },
                                {
                                    "USERNEV": "IBOLYAA",
                                    "NEV": "Andor Ibolya",
                                    "SZUL_DAT": "1983-11-27"
                                },
                                {
                                    "USERNEV": "IBOLYAA",
                                    "NEV": "Andor Ibolya",
                                    "SZUL_DAT": "1983-11-27"
                                },
                                {
                                    "USERNEV": "IBOLYAA",
                                    "NEV": "Andor Ibolya",
                                    "SZUL_DAT": "1983-11-27"
                                },
                                {
                                    "USERNEV": "ilona3",
                                    "NEV": "Bosnyák Ilona",
                                    "SZUL_DAT": "1990-08-06"
                                },
                                {
                                    "USERNEV": "ilona3",
                                    "NEV": "Bosnyák Ilona",
                                    "SZUL_DAT": "1990-08-06"
                                },
                                {
                                    "USERNEV": "ilona3",
                                    "NEV": "Bosnyák Ilona",
                                    "SZUL_DAT": "1990-08-06"
                                },
                                {
                                    "USERNEV": "ilona3",
                                    "NEV": "Bosnyák Ilona",
                                    "SZUL_DAT": "1990-08-06"
                                },
                                {
                                    "USERNEV": "imre",
                                    "NEV": "Búza Imre",
                                    "SZUL_DAT": "1988-09-30"
                                },
                                {
                                    "USERNEV": "imre",
                                    "NEV": "Búza Imre",
                                    "SZUL_DAT": "1988-09-30"
                                },
                                {
                                    "USERNEV": "imre1",
                                    "NEV": "Papp Imre",
                                    "SZUL_DAT": "1976-06-25"
                                },
                                {
                                    "USERNEV": "imre1",
                                    "NEV": "Papp Imre",
                                    "SZUL_DAT": "1976-06-25"
                                },
                                {
                                    "USERNEV": "imre1",
                                    "NEV": "Papp Imre",
                                    "SZUL_DAT": "1976-06-25"
                                },
                                {
                                    "USERNEV": "imre1",
                                    "NEV": "Papp Imre",
                                    "SZUL_DAT": "1976-06-25"
                                },
                                {
                                    "USERNEV": "imre1",
                                    "NEV": "Papp Imre",
                                    "SZUL_DAT": "1976-06-25"
                                },
                                {
                                    "USERNEV": "imre1",
                                    "NEV": "Papp Imre",
                                    "SZUL_DAT": "1976-06-25"
                                },
                                {
                                    "USERNEV": "imre1",
                                    "NEV": "Papp Imre",
                                    "SZUL_DAT": "1976-06-25"
                                },
                                {
                                    "USERNEV": "istvan",
                                    "NEV": "Soós István",
                                    "SZUL_DAT": "1986-06-28"
                                },
                                {
                                    "USERNEV": "istvan",
                                    "NEV": "Soós István",
                                    "SZUL_DAT": "1986-06-28"
                                },
                                {
                                    "USERNEV": "istvan",
                                    "NEV": "Soós István",
                                    "SZUL_DAT": "1986-06-28"
                                },
                                {
                                    "USERNEV": "istvan1",
                                    "NEV": "Vizi István",
                                    "SZUL_DAT": "1997-12-01"
                                },
                                {
                                    "USERNEV": "istvan1",
                                    "NEV": "Vizi István",
                                    "SZUL_DAT": "1997-12-01"
                                },
                                {
                                    "USERNEV": "istvan1",
                                    "NEV": "Vizi István",
                                    "SZUL_DAT": "1997-12-01"
                                },
                                {
                                    "USERNEV": "istvan1",
                                    "NEV": "Vizi István",
                                    "SZUL_DAT": "1997-12-01"
                                },
                                {
                                    "USERNEV": "ISTVANV",
                                    "NEV": "Varga István",
                                    "SZUL_DAT": "1989-04-09"
                                },
                                {
                                    "USERNEV": "ISTVANV",
                                    "NEV": "Varga István",
                                    "SZUL_DAT": "1989-04-09"
                                },
                                {
                                    "USERNEV": "janos3",
                                    "NEV": "Harangozó János",
                                    "SZUL_DAT": "1967-11-02"
                                },
                                {
                                    "USERNEV": "janos3",
                                    "NEV": "Harangozó János",
                                    "SZUL_DAT": "1967-11-02"
                                },
                                {
                                    "USERNEV": "janos3",
                                    "NEV": "Harangozó János",
                                    "SZUL_DAT": "1967-11-02"
                                },
                                {
                                    "USERNEV": "janos3",
                                    "NEV": "Harangozó János",
                                    "SZUL_DAT": "1967-11-02"
                                },
                                {
                                    "USERNEV": "janos3",
                                    "NEV": "Harangozó János",
                                    "SZUL_DAT": "1967-11-02"
                                },
                                {
                                    "USERNEV": "JANOSG",
                                    "NEV": "Giliga János",
                                    "SZUL_DAT": "1975-01-03"
                                },
                                {
                                    "USERNEV": "JANOSG",
                                    "NEV": "Giliga János",
                                    "SZUL_DAT": "1975-01-03"
                                },
                                {
                                    "USERNEV": "JANOSG",
                                    "NEV": "Giliga János",
                                    "SZUL_DAT": "1975-01-03"
                                },
                                {
                                    "USERNEV": "JANOSG",
                                    "NEV": "Giliga János",
                                    "SZUL_DAT": "1975-01-03"
                                },
                                {
                                    "USERNEV": "JANOSG",
                                    "NEV": "Giliga János",
                                    "SZUL_DAT": "1975-01-03"
                                },
                                {
                                    "USERNEV": "JANOSG",
                                    "NEV": "Giliga János",
                                    "SZUL_DAT": "1975-01-03"
                                },
                                {
                                    "USERNEV": "JANOSG",
                                    "NEV": "Giliga János",
                                    "SZUL_DAT": "1975-01-03"
                                },
                                {
                                    "USERNEV": "JANOSP",
                                    "NEV": "Pálinkás János",
                                    "SZUL_DAT": "1984-10-12"
                                },
                                {
                                    "USERNEV": "JANOSP",
                                    "NEV": "Pálinkás János",
                                    "SZUL_DAT": "1984-10-12"
                                },
                                {
                                    "USERNEV": "JANOSP",
                                    "NEV": "Pálinkás János",
                                    "SZUL_DAT": "1984-10-12"
                                },
                                {
                                    "USERNEV": "JANOSP",
                                    "NEV": "Pálinkás János",
                                    "SZUL_DAT": "1984-10-12"
                                },
                                {
                                    "USERNEV": "jozsef",
                                    "NEV": "Gergely József",
                                    "SZUL_DAT": "1985-11-01"
                                },
                                {
                                    "USERNEV": "jozsef",
                                    "NEV": "Gergely József",
                                    "SZUL_DAT": "1985-11-01"
                                },
                                {
                                    "USERNEV": "jozsef",
                                    "NEV": "Gergely József",
                                    "SZUL_DAT": "1985-11-01"
                                },
                                {
                                    "USERNEV": "jozsef2",
                                    "NEV": "Vajda József",
                                    "SZUL_DAT": "1978-09-04"
                                },
                                {
                                    "USERNEV": "jozsef2",
                                    "NEV": "Vajda József",
                                    "SZUL_DAT": "1978-09-04"
                                },
                                {
                                    "USERNEV": "jozsef2",
                                    "NEV": "Vajda József",
                                    "SZUL_DAT": "1978-09-04"
                                },
                                {
                                    "USERNEV": "jozsef2",
                                    "NEV": "Vajda József",
                                    "SZUL_DAT": "1978-09-04"
                                },
                                {
                                    "USERNEV": "jozsef2",
                                    "NEV": "Vajda József",
                                    "SZUL_DAT": "1978-09-04"
                                },
                                {
                                    "USERNEV": "JOZSEFG",
                                    "NEV": "Gyuris József",
                                    "SZUL_DAT": "1975-05-26"
                                },
                                {
                                    "USERNEV": "JOZSEFG",
                                    "NEV": "Gyuris József",
                                    "SZUL_DAT": "1975-05-26"
                                },
                                {
                                    "USERNEV": "JOZSEFG",
                                    "NEV": "Gyuris József",
                                    "SZUL_DAT": "1975-05-26"
                                },
                                {
                                    "USERNEV": "JOZSEFG",
                                    "NEV": "Gyuris József",
                                    "SZUL_DAT": "1975-05-26"
                                },
                                {
                                    "USERNEV": "JOZSEFG",
                                    "NEV": "Gyuris József",
                                    "SZUL_DAT": "1975-05-26"
                                },
                                {
                                    "USERNEV": "JOZSEFG",
                                    "NEV": "Gyuris József",
                                    "SZUL_DAT": "1975-05-26"
                                },
                                {
                                    "USERNEV": "JOZSEFG",
                                    "NEV": "Gyuris József",
                                    "SZUL_DAT": "1975-05-26"
                                },
                                {
                                    "USERNEV": "JUDITH",
                                    "NEV": "Hídasi Judit",
                                    "SZUL_DAT": "1997-07-12"
                                },
                                {
                                    "USERNEV": "JUDITH",
                                    "NEV": "Hídasi Judit",
                                    "SZUL_DAT": "1997-07-12"
                                },
                                {
                                    "USERNEV": "JUDITH",
                                    "NEV": "Hídasi Judit",
                                    "SZUL_DAT": "1997-07-12"
                                },
                                {
                                    "USERNEV": "julia",
                                    "NEV": "Tóth Júlia",
                                    "SZUL_DAT": "1993-03-02"
                                },
                                {
                                    "USERNEV": "julia",
                                    "NEV": "Tóth Júlia",
                                    "SZUL_DAT": "1993-03-02"
                                },
                                {
                                    "USERNEV": "julia",
                                    "NEV": "Tóth Júlia",
                                    "SZUL_DAT": "1993-03-02"
                                },
                                {
                                    "USERNEV": "julia",
                                    "NEV": "Tóth Júlia",
                                    "SZUL_DAT": "1993-03-02"
                                },
                                {
                                    "USERNEV": "julia",
                                    "NEV": "Tóth Júlia",
                                    "SZUL_DAT": "1993-03-02"
                                },
                                {
                                    "USERNEV": "julia4",
                                    "NEV": "Nagy Júlia",
                                    "SZUL_DAT": "1985-08-11"
                                },
                                {
                                    "USERNEV": "julia4",
                                    "NEV": "Nagy Júlia",
                                    "SZUL_DAT": "1985-08-11"
                                },
                                {
                                    "USERNEV": "julianna4",
                                    "NEV": "Szabó Julianna",
                                    "SZUL_DAT": "1990-09-29"
                                },
                                {
                                    "USERNEV": "julianna4",
                                    "NEV": "Szabó Julianna",
                                    "SZUL_DAT": "1990-09-29"
                                },
                                {
                                    "USERNEV": "julianna4",
                                    "NEV": "Szabó Julianna",
                                    "SZUL_DAT": "1990-09-29"
                                },
                                {
                                    "USERNEV": "julianna4",
                                    "NEV": "Szabó Julianna",
                                    "SZUL_DAT": "1990-09-29"
                                },
                                {
                                    "USERNEV": "kata",
                                    "NEV": "Gondos Katalin",
                                    "SZUL_DAT": "1968-06-22"
                                },
                                {
                                    "USERNEV": "kata",
                                    "NEV": "Gondos Katalin",
                                    "SZUL_DAT": "1968-06-22"
                                },
                                {
                                    "USERNEV": "kata",
                                    "NEV": "Gondos Katalin",
                                    "SZUL_DAT": "1968-06-22"
                                },
                                {
                                    "USERNEV": "kata",
                                    "NEV": "Gondos Katalin",
                                    "SZUL_DAT": "1968-06-22"
                                },
                                {
                                    "USERNEV": "kata",
                                    "NEV": "Gondos Katalin",
                                    "SZUL_DAT": "1968-06-22"
                                },
                                {
                                    "USERNEV": "kata",
                                    "NEV": "Gondos Katalin",
                                    "SZUL_DAT": "1968-06-22"
                                },
                                {
                                    "USERNEV": "kata",
                                    "NEV": "Gondos Katalin",
                                    "SZUL_DAT": "1968-06-22"
                                },
                                {
                                    "USERNEV": "kata",
                                    "NEV": "Gondos Katalin",
                                    "SZUL_DAT": "1968-06-22"
                                },
                                {
                                    "USERNEV": "kata",
                                    "NEV": "Gondos Katalin",
                                    "SZUL_DAT": "1968-06-22"
                                },
                                {
                                    "USERNEV": "kata",
                                    "NEV": "Gondos Katalin",
                                    "SZUL_DAT": "1968-06-22"
                                },
                                {
                                    "USERNEV": "katalin",
                                    "NEV": "Horváth Katalin",
                                    "SZUL_DAT": "1968-01-01"
                                },
                                {
                                    "USERNEV": "katalin",
                                    "NEV": "Horváth Katalin",
                                    "SZUL_DAT": "1968-01-01"
                                },
                                {
                                    "USERNEV": "katalin",
                                    "NEV": "Horváth Katalin",
                                    "SZUL_DAT": "1968-01-01"
                                },
                                {
                                    "USERNEV": "katalin",
                                    "NEV": "Horváth Katalin",
                                    "SZUL_DAT": "1968-01-01"
                                },
                                {
                                    "USERNEV": "katalin",
                                    "NEV": "Horváth Katalin",
                                    "SZUL_DAT": "1968-01-01"
                                },
                                {
                                    "USERNEV": "katalin",
                                    "NEV": "Horváth Katalin",
                                    "SZUL_DAT": "1968-01-01"
                                },
                                {
                                    "USERNEV": "katalin",
                                    "NEV": "Horváth Katalin",
                                    "SZUL_DAT": "1968-01-01"
                                },
                                {
                                    "USERNEV": "katalin",
                                    "NEV": "Horváth Katalin",
                                    "SZUL_DAT": "1968-01-01"
                                },
                                {
                                    "USERNEV": "katalin",
                                    "NEV": "Horváth Katalin",
                                    "SZUL_DAT": "1968-01-01"
                                },
                                {
                                    "USERNEV": "katalin4",
                                    "NEV": "Kertész Katalin",
                                    "SZUL_DAT": "1986-04-13"
                                },
                                {
                                    "USERNEV": "katalin4",
                                    "NEV": "Kertész Katalin",
                                    "SZUL_DAT": "1986-04-13"
                                },
                                {
                                    "USERNEV": "katalin4",
                                    "NEV": "Kertész Katalin",
                                    "SZUL_DAT": "1986-04-13"
                                },
                                {
                                    "USERNEV": "katalin4",
                                    "NEV": "Kertész Katalin",
                                    "SZUL_DAT": "1986-04-13"
                                },
                                {
                                    "USERNEV": "katalin4",
                                    "NEV": "Kertész Katalin",
                                    "SZUL_DAT": "1986-04-13"
                                },
                                {
                                    "USERNEV": "katalin4",
                                    "NEV": "Kertész Katalin",
                                    "SZUL_DAT": "1986-04-13"
                                },
                                {
                                    "USERNEV": "kati",
                                    "NEV": "Zatykó Katalin",
                                    "SZUL_DAT": "1995-05-01"
                                },
                                {
                                    "USERNEV": "kati",
                                    "NEV": "Zatykó Katalin",
                                    "SZUL_DAT": "1995-05-01"
                                },
                                {
                                    "USERNEV": "kati",
                                    "NEV": "Zatykó Katalin",
                                    "SZUL_DAT": "1995-05-01"
                                },
                                {
                                    "USERNEV": "kati",
                                    "NEV": "Zatykó Katalin",
                                    "SZUL_DAT": "1995-05-01"
                                },
                                {
                                    "USERNEV": "kati",
                                    "NEV": "Zatykó Katalin",
                                    "SZUL_DAT": "1995-05-01"
                                },
                                {
                                    "USERNEV": "kati",
                                    "NEV": "Zatykó Katalin",
                                    "SZUL_DAT": "1995-05-01"
                                },
                                {
                                    "USERNEV": "kati",
                                    "NEV": "Zatykó Katalin",
                                    "SZUL_DAT": "1995-05-01"
                                },
                                {
                                    "USERNEV": "katka",
                                    "NEV": "Kovács Katalin",
                                    "SZUL_DAT": "1975-03-31"
                                },
                                {
                                    "USERNEV": "katka",
                                    "NEV": "Kovács Katalin",
                                    "SZUL_DAT": "1975-03-31"
                                },
                                {
                                    "USERNEV": "katka",
                                    "NEV": "Kovács Katalin",
                                    "SZUL_DAT": "1975-03-31"
                                },
                                {
                                    "USERNEV": "katka",
                                    "NEV": "Kovács Katalin",
                                    "SZUL_DAT": "1975-03-31"
                                },
                                {
                                    "USERNEV": "katka",
                                    "NEV": "Kovács Katalin",
                                    "SZUL_DAT": "1975-03-31"
                                },
                                {
                                    "USERNEV": "katka",
                                    "NEV": "Kovács Katalin",
                                    "SZUL_DAT": "1975-03-31"
                                },
                                {
                                    "USERNEV": "katka",
                                    "NEV": "Kovács Katalin",
                                    "SZUL_DAT": "1975-03-31"
                                },
                                {
                                    "USERNEV": "katka",
                                    "NEV": "Kovács Katalin",
                                    "SZUL_DAT": "1975-03-31"
                                },
                                {
                                    "USERNEV": "katka",
                                    "NEV": "Kovács Katalin",
                                    "SZUL_DAT": "1975-03-31"
                                },
                                {
                                    "USERNEV": "klaudia2",
                                    "NEV": "Bakó Klaudia",
                                    "SZUL_DAT": "1982-04-16"
                                },
                                {
                                    "USERNEV": "klaudia2",
                                    "NEV": "Bakó Klaudia",
                                    "SZUL_DAT": "1982-04-16"
                                },
                                {
                                    "USERNEV": "klaudia2",
                                    "NEV": "Bakó Klaudia",
                                    "SZUL_DAT": "1982-04-16"
                                },
                                {
                                    "USERNEV": "kornel4",
                                    "NEV": "Lukács Kornél",
                                    "SZUL_DAT": "1975-09-30"
                                },
                                {
                                    "USERNEV": "kornel4",
                                    "NEV": "Lukács Kornél",
                                    "SZUL_DAT": "1975-09-30"
                                },
                                {
                                    "USERNEV": "kornel4",
                                    "NEV": "Lukács Kornél",
                                    "SZUL_DAT": "1975-09-30"
                                },
                                {
                                    "USERNEV": "kristof4",
                                    "NEV": "Poprádi Kristóf",
                                    "SZUL_DAT": "1984-01-15"
                                },
                                {
                                    "USERNEV": "kristof4",
                                    "NEV": "Poprádi Kristóf",
                                    "SZUL_DAT": "1984-01-15"
                                },
                                {
                                    "USERNEV": "kriszti",
                                    "NEV": "Horváth Krisztina",
                                    "SZUL_DAT": "1978-06-12"
                                },
                                {
                                    "USERNEV": "kriszti",
                                    "NEV": "Horváth Krisztina",
                                    "SZUL_DAT": "1978-06-12"
                                },
                                {
                                    "USERNEV": "kriszti",
                                    "NEV": "Horváth Krisztina",
                                    "SZUL_DAT": "1978-06-12"
                                },
                                {
                                    "USERNEV": "kriszti",
                                    "NEV": "Horváth Krisztina",
                                    "SZUL_DAT": "1978-06-12"
                                },
                                {
                                    "USERNEV": "kriszti",
                                    "NEV": "Horváth Krisztina",
                                    "SZUL_DAT": "1978-06-12"
                                },
                                {
                                    "USERNEV": "kriszti",
                                    "NEV": "Horváth Krisztina",
                                    "SZUL_DAT": "1978-06-12"
                                },
                                {
                                    "USERNEV": "krisztian4",
                                    "NEV": "Czérna Krisztián",
                                    "SZUL_DAT": "1970-08-01"
                                },
                                {
                                    "USERNEV": "krisztian4",
                                    "NEV": "Czérna Krisztián",
                                    "SZUL_DAT": "1970-08-01"
                                },
                                {
                                    "USERNEV": "krisztian4",
                                    "NEV": "Czérna Krisztián",
                                    "SZUL_DAT": "1970-08-01"
                                },
                                {
                                    "USERNEV": "krisztian4",
                                    "NEV": "Czérna Krisztián",
                                    "SZUL_DAT": "1970-08-01"
                                },
                                {
                                    "USERNEV": "krisztian4",
                                    "NEV": "Czérna Krisztián",
                                    "SZUL_DAT": "1970-08-01"
                                },
                                {
                                    "USERNEV": "krisztian4",
                                    "NEV": "Czérna Krisztián",
                                    "SZUL_DAT": "1970-08-01"
                                },
                                {
                                    "USERNEV": "krisztian4",
                                    "NEV": "Czérna Krisztián",
                                    "SZUL_DAT": "1970-08-01"
                                },
                                {
                                    "USERNEV": "krisztian4",
                                    "NEV": "Czérna Krisztián",
                                    "SZUL_DAT": "1970-08-01"
                                },
                                {
                                    "USERNEV": "krisztian4",
                                    "NEV": "Czérna Krisztián",
                                    "SZUL_DAT": "1970-08-01"
                                },
                                {
                                    "USERNEV": "krisztian4",
                                    "NEV": "Czérna Krisztián",
                                    "SZUL_DAT": "1970-08-01"
                                },
                                {
                                    "USERNEV": "krisztian4",
                                    "NEV": "Czérna Krisztián",
                                    "SZUL_DAT": "1970-08-01"
                                },
                                {
                                    "USERNEV": "krisztian4",
                                    "NEV": "Czérna Krisztián",
                                    "SZUL_DAT": "1970-08-01"
                                },
                                {
                                    "USERNEV": "KRISZTIANM",
                                    "NEV": "Mogyródi Krisztián",
                                    "SZUL_DAT": "1968-05-27"
                                },
                                {
                                    "USERNEV": "KRISZTIANM",
                                    "NEV": "Mogyródi Krisztián",
                                    "SZUL_DAT": "1968-05-27"
                                },
                                {
                                    "USERNEV": "KRISZTIANM",
                                    "NEV": "Mogyródi Krisztián",
                                    "SZUL_DAT": "1968-05-27"
                                },
                                {
                                    "USERNEV": "KRISZTIANM",
                                    "NEV": "Mogyródi Krisztián",
                                    "SZUL_DAT": "1968-05-27"
                                },
                                {
                                    "USERNEV": "KRISZTIANM",
                                    "NEV": "Mogyródi Krisztián",
                                    "SZUL_DAT": "1968-05-27"
                                },
                                {
                                    "USERNEV": "KRISZTIANM",
                                    "NEV": "Mogyródi Krisztián",
                                    "SZUL_DAT": "1968-05-27"
                                },
                                {
                                    "USERNEV": "krisztina",
                                    "NEV": "Szedlár Krisztina",
                                    "SZUL_DAT": "1979-05-10"
                                },
                                {
                                    "USERNEV": "krisztina",
                                    "NEV": "Szedlár Krisztina",
                                    "SZUL_DAT": "1979-05-10"
                                },
                                {
                                    "USERNEV": "krisztina",
                                    "NEV": "Szedlár Krisztina",
                                    "SZUL_DAT": "1979-05-10"
                                },
                                {
                                    "USERNEV": "krisztina",
                                    "NEV": "Szedlár Krisztina",
                                    "SZUL_DAT": "1979-05-10"
                                },
                                {
                                    "USERNEV": "krisztina",
                                    "NEV": "Szedlár Krisztina",
                                    "SZUL_DAT": "1979-05-10"
                                },
                                {
                                    "USERNEV": "krisztina",
                                    "NEV": "Szedlár Krisztina",
                                    "SZUL_DAT": "1979-05-10"
                                },
                                {
                                    "USERNEV": "krisztina",
                                    "NEV": "Szedlár Krisztina",
                                    "SZUL_DAT": "1979-05-10"
                                },
                                {
                                    "USERNEV": "krisztina",
                                    "NEV": "Szedlár Krisztina",
                                    "SZUL_DAT": "1979-05-10"
                                },
                                {
                                    "USERNEV": "krisztina1",
                                    "NEV": "Bori Krisztina",
                                    "SZUL_DAT": "1969-10-13"
                                },
                                {
                                    "USERNEV": "krisztina1",
                                    "NEV": "Bori Krisztina",
                                    "SZUL_DAT": "1969-10-13"
                                },
                                {
                                    "USERNEV": "krisztina1",
                                    "NEV": "Bori Krisztina",
                                    "SZUL_DAT": "1969-10-13"
                                },
                                {
                                    "USERNEV": "krisztina1",
                                    "NEV": "Bori Krisztina",
                                    "SZUL_DAT": "1969-10-13"
                                },
                                {
                                    "USERNEV": "krisztina1",
                                    "NEV": "Bori Krisztina",
                                    "SZUL_DAT": "1969-10-13"
                                },
                                {
                                    "USERNEV": "krisztina1",
                                    "NEV": "Bori Krisztina",
                                    "SZUL_DAT": "1969-10-13"
                                },
                                {
                                    "USERNEV": "KRISZTINAG",
                                    "NEV": "Gyárfás Krisztina",
                                    "SZUL_DAT": "1987-09-19"
                                },
                                {
                                    "USERNEV": "KRISZTINAG",
                                    "NEV": "Gyárfás Krisztina",
                                    "SZUL_DAT": "1987-09-19"
                                },
                                {
                                    "USERNEV": "KRISZTINAG",
                                    "NEV": "Gyárfás Krisztina",
                                    "SZUL_DAT": "1987-09-19"
                                },
                                {
                                    "USERNEV": "KRISZTINAG",
                                    "NEV": "Gyárfás Krisztina",
                                    "SZUL_DAT": "1987-09-19"
                                },
                                {
                                    "USERNEV": "KRISZTINAG",
                                    "NEV": "Gyárfás Krisztina",
                                    "SZUL_DAT": "1987-09-19"
                                },
                                {
                                    "USERNEV": "lajos",
                                    "NEV": "Kiss Lajos",
                                    "SZUL_DAT": "1978-10-31"
                                },
                                {
                                    "USERNEV": "lajos",
                                    "NEV": "Kiss Lajos",
                                    "SZUL_DAT": "1978-10-31"
                                },
                                {
                                    "USERNEV": "lajos",
                                    "NEV": "Kiss Lajos",
                                    "SZUL_DAT": "1978-10-31"
                                },
                                {
                                    "USERNEV": "lala",
                                    "NEV": "Nagymihály Lajos",
                                    "SZUL_DAT": "1997-02-24"
                                },
                                {
                                    "USERNEV": "lala",
                                    "NEV": "Nagymihály Lajos",
                                    "SZUL_DAT": "1997-02-24"
                                },
                                {
                                    "USERNEV": "lala",
                                    "NEV": "Nagymihály Lajos",
                                    "SZUL_DAT": "1997-02-24"
                                },
                                {
                                    "USERNEV": "lala",
                                    "NEV": "Nagymihály Lajos",
                                    "SZUL_DAT": "1997-02-24"
                                },
                                {
                                    "USERNEV": "lala",
                                    "NEV": "Nagymihály Lajos",
                                    "SZUL_DAT": "1997-02-24"
                                },
                                {
                                    "USERNEV": "lala",
                                    "NEV": "Nagymihály Lajos",
                                    "SZUL_DAT": "1997-02-24"
                                },
                                {
                                    "USERNEV": "laszlo1",
                                    "NEV": "Farkas László",
                                    "SZUL_DAT": "1967-10-30"
                                },
                                {
                                    "USERNEV": "laszlo2",
                                    "NEV": "Móra László",
                                    "SZUL_DAT": "1975-02-19"
                                },
                                {
                                    "USERNEV": "laszlo2",
                                    "NEV": "Móra László",
                                    "SZUL_DAT": "1975-02-19"
                                },
                                {
                                    "USERNEV": "laszlo2",
                                    "NEV": "Móra László",
                                    "SZUL_DAT": "1975-02-19"
                                },
                                {
                                    "USERNEV": "laszlo2",
                                    "NEV": "Móra László",
                                    "SZUL_DAT": "1975-02-19"
                                },
                                {
                                    "USERNEV": "laszlo2",
                                    "NEV": "Móra László",
                                    "SZUL_DAT": "1975-02-19"
                                },
                                {
                                    "USERNEV": "LASZLOA",
                                    "NEV": "Antal László",
                                    "SZUL_DAT": "1969-06-29"
                                },
                                {
                                    "USERNEV": "LASZLOA",
                                    "NEV": "Antal László",
                                    "SZUL_DAT": "1969-06-29"
                                },
                                {
                                    "USERNEV": "LASZLOA",
                                    "NEV": "Antal László",
                                    "SZUL_DAT": "1969-06-29"
                                },
                                {
                                    "USERNEV": "LASZLOA",
                                    "NEV": "Antal László",
                                    "SZUL_DAT": "1969-06-29"
                                },
                                {
                                    "USERNEV": "LASZLON",
                                    "NEV": "Nagy László",
                                    "SZUL_DAT": "1969-04-12"
                                },
                                {
                                    "USERNEV": "LASZLON",
                                    "NEV": "Nagy László",
                                    "SZUL_DAT": "1969-04-12"
                                },
                                {
                                    "USERNEV": "LASZLON",
                                    "NEV": "Nagy László",
                                    "SZUL_DAT": "1969-04-12"
                                },
                                {
                                    "USERNEV": "LASZLON",
                                    "NEV": "Nagy László",
                                    "SZUL_DAT": "1969-04-12"
                                },
                                {
                                    "USERNEV": "LASZLON",
                                    "NEV": "Nagy László",
                                    "SZUL_DAT": "1969-04-12"
                                },
                                {
                                    "USERNEV": "LASZLON",
                                    "NEV": "Nagy László",
                                    "SZUL_DAT": "1969-04-12"
                                },
                                {
                                    "USERNEV": "maria1",
                                    "NEV": "Baráth Mária",
                                    "SZUL_DAT": "1995-11-19"
                                },
                                {
                                    "USERNEV": "maria1",
                                    "NEV": "Baráth Mária",
                                    "SZUL_DAT": "1995-11-19"
                                },
                                {
                                    "USERNEV": "maria1",
                                    "NEV": "Baráth Mária",
                                    "SZUL_DAT": "1995-11-19"
                                },
                                {
                                    "USERNEV": "maria1",
                                    "NEV": "Baráth Mária",
                                    "SZUL_DAT": "1995-11-19"
                                },
                                {
                                    "USERNEV": "maria1",
                                    "NEV": "Baráth Mária",
                                    "SZUL_DAT": "1995-11-19"
                                },
                                {
                                    "USERNEV": "maria1",
                                    "NEV": "Baráth Mária",
                                    "SZUL_DAT": "1995-11-19"
                                },
                                {
                                    "USERNEV": "maria1",
                                    "NEV": "Baráth Mária",
                                    "SZUL_DAT": "1995-11-19"
                                },
                                {
                                    "USERNEV": "maria1",
                                    "NEV": "Baráth Mária",
                                    "SZUL_DAT": "1995-11-19"
                                },
                                {
                                    "USERNEV": "mark",
                                    "NEV": "Kispál Márk",
                                    "SZUL_DAT": "1996-01-23"
                                },
                                {
                                    "USERNEV": "mark",
                                    "NEV": "Kispál Márk",
                                    "SZUL_DAT": "1996-01-23"
                                },
                                {
                                    "USERNEV": "mark",
                                    "NEV": "Kispál Márk",
                                    "SZUL_DAT": "1996-01-23"
                                },
                                {
                                    "USERNEV": "mark",
                                    "NEV": "Kispál Márk",
                                    "SZUL_DAT": "1996-01-23"
                                },
                                {
                                    "USERNEV": "mark",
                                    "NEV": "Kispál Márk",
                                    "SZUL_DAT": "1996-01-23"
                                },
                                {
                                    "USERNEV": "MARKH",
                                    "NEV": "Horváth Márk",
                                    "SZUL_DAT": "1997-09-23"
                                },
                                {
                                    "USERNEV": "MARKH",
                                    "NEV": "Horváth Márk",
                                    "SZUL_DAT": "1997-09-23"
                                },
                                {
                                    "USERNEV": "MARKH",
                                    "NEV": "Horváth Márk",
                                    "SZUL_DAT": "1997-09-23"
                                },
                                {
                                    "USERNEV": "MARKH",
                                    "NEV": "Horváth Márk",
                                    "SZUL_DAT": "1997-09-23"
                                },
                                {
                                    "USERNEV": "marton",
                                    "NEV": "Kalacsi Márton",
                                    "SZUL_DAT": "1989-06-24"
                                },
                                {
                                    "USERNEV": "marton",
                                    "NEV": "Kalacsi Márton",
                                    "SZUL_DAT": "1989-06-24"
                                },
                                {
                                    "USERNEV": "marton",
                                    "NEV": "Kalacsi Márton",
                                    "SZUL_DAT": "1989-06-24"
                                },
                                {
                                    "USERNEV": "marton",
                                    "NEV": "Kalacsi Márton",
                                    "SZUL_DAT": "1989-06-24"
                                },
                                {
                                    "USERNEV": "marton",
                                    "NEV": "Kalacsi Márton",
                                    "SZUL_DAT": "1989-06-24"
                                },
                                {
                                    "USERNEV": "marton",
                                    "NEV": "Kalacsi Márton",
                                    "SZUL_DAT": "1989-06-24"
                                },
                                {
                                    "USERNEV": "marton",
                                    "NEV": "Kalacsi Márton",
                                    "SZUL_DAT": "1989-06-24"
                                },
                                {
                                    "USERNEV": "MATEK",
                                    "NEV": "Koza Máté",
                                    "SZUL_DAT": "1997-02-28"
                                },
                                {
                                    "USERNEV": "MATEK",
                                    "NEV": "Koza Máté",
                                    "SZUL_DAT": "1997-02-28"
                                },
                                {
                                    "USERNEV": "MATEK",
                                    "NEV": "Koza Máté",
                                    "SZUL_DAT": "1997-02-28"
                                },
                                {
                                    "USERNEV": "matyas2",
                                    "NEV": "Botka Mátyás",
                                    "SZUL_DAT": "1972-07-07"
                                },
                                {
                                    "USERNEV": "matyas2",
                                    "NEV": "Botka Mátyás",
                                    "SZUL_DAT": "1972-07-07"
                                },
                                {
                                    "USERNEV": "MATYASS",
                                    "NEV": "Szilágyi Mátyás",
                                    "SZUL_DAT": "1975-03-22"
                                },
                                {
                                    "USERNEV": "MATYASS",
                                    "NEV": "Szilágyi Mátyás",
                                    "SZUL_DAT": "1975-03-22"
                                },
                                {
                                    "USERNEV": "MATYASS",
                                    "NEV": "Szilágyi Mátyás",
                                    "SZUL_DAT": "1975-03-22"
                                },
                                {
                                    "USERNEV": "MATYASS",
                                    "NEV": "Szilágyi Mátyás",
                                    "SZUL_DAT": "1975-03-22"
                                },
                                {
                                    "USERNEV": "MATYASS",
                                    "NEV": "Szilágyi Mátyás",
                                    "SZUL_DAT": "1975-03-22"
                                },
                                {
                                    "USERNEV": "MATYASS",
                                    "NEV": "Szilágyi Mátyás",
                                    "SZUL_DAT": "1975-03-22"
                                },
                                {
                                    "USERNEV": "MATYASS",
                                    "NEV": "Szilágyi Mátyás",
                                    "SZUL_DAT": "1975-03-22"
                                },
                                {
                                    "USERNEV": "MATYASS",
                                    "NEV": "Szilágyi Mátyás",
                                    "SZUL_DAT": "1975-03-22"
                                },
                                {
                                    "USERNEV": "MIHALYJ",
                                    "NEV": "Juhász Mihály",
                                    "SZUL_DAT": "1979-10-12"
                                },
                                {
                                    "USERNEV": "MIHALYJ",
                                    "NEV": "Juhász Mihály",
                                    "SZUL_DAT": "1979-10-12"
                                },
                                {
                                    "USERNEV": "MIHALYJ",
                                    "NEV": "Juhász Mihály",
                                    "SZUL_DAT": "1979-10-12"
                                },
                                {
                                    "USERNEV": "MIHALYJ",
                                    "NEV": "Juhász Mihály",
                                    "SZUL_DAT": "1979-10-12"
                                },
                                {
                                    "USERNEV": "MIHALYJ",
                                    "NEV": "Juhász Mihály",
                                    "SZUL_DAT": "1979-10-12"
                                },
                                {
                                    "USERNEV": "miklos2",
                                    "NEV": "Gondos Miklós",
                                    "SZUL_DAT": "1995-10-07"
                                },
                                {
                                    "USERNEV": "miklos2",
                                    "NEV": "Gondos Miklós",
                                    "SZUL_DAT": "1995-10-07"
                                },
                                {
                                    "USERNEV": "miklos2",
                                    "NEV": "Gondos Miklós",
                                    "SZUL_DAT": "1995-10-07"
                                },
                                {
                                    "USERNEV": "MIKLOSB",
                                    "NEV": "Balla Miklós",
                                    "SZUL_DAT": "1979-02-16"
                                },
                                {
                                    "USERNEV": "MIKLOSB",
                                    "NEV": "Balla Miklós",
                                    "SZUL_DAT": "1979-02-16"
                                },
                                {
                                    "USERNEV": "MIKLOSB",
                                    "NEV": "Balla Miklós",
                                    "SZUL_DAT": "1979-02-16"
                                },
                                {
                                    "USERNEV": "MONIKAM",
                                    "NEV": "Mohos Mónika",
                                    "SZUL_DAT": "1974-10-01"
                                },
                                {
                                    "USERNEV": "MONIKAM",
                                    "NEV": "Mohos Mónika",
                                    "SZUL_DAT": "1974-10-01"
                                },
                                {
                                    "USERNEV": "MONIKAM",
                                    "NEV": "Mohos Mónika",
                                    "SZUL_DAT": "1974-10-01"
                                },
                                {
                                    "USERNEV": "MONIKAM",
                                    "NEV": "Mohos Mónika",
                                    "SZUL_DAT": "1974-10-01"
                                },
                                {
                                    "USERNEV": "MONIKAM",
                                    "NEV": "Mohos Mónika",
                                    "SZUL_DAT": "1974-10-01"
                                },
                                {
                                    "USERNEV": "MONIKAM",
                                    "NEV": "Mohos Mónika",
                                    "SZUL_DAT": "1974-10-01"
                                },
                                {
                                    "USERNEV": "NANDORF",
                                    "NEV": "Fő Nándor",
                                    "SZUL_DAT": "1968-11-12"
                                },
                                {
                                    "USERNEV": "NANDORF",
                                    "NEV": "Fő Nándor",
                                    "SZUL_DAT": "1968-11-12"
                                },
                                {
                                    "USERNEV": "NANDORF",
                                    "NEV": "Fő Nándor",
                                    "SZUL_DAT": "1968-11-12"
                                },
                                {
                                    "USERNEV": "nikolett3",
                                    "NEV": "Horváth Nikolett",
                                    "SZUL_DAT": "1981-09-29"
                                },
                                {
                                    "USERNEV": "nikolett3",
                                    "NEV": "Horváth Nikolett",
                                    "SZUL_DAT": "1981-09-29"
                                },
                                {
                                    "USERNEV": "nikolett3",
                                    "NEV": "Horváth Nikolett",
                                    "SZUL_DAT": "1981-09-29"
                                },
                                {
                                    "USERNEV": "nikolett3",
                                    "NEV": "Horváth Nikolett",
                                    "SZUL_DAT": "1981-09-29"
                                },
                                {
                                    "USERNEV": "nikoletta4",
                                    "NEV": "Kő Nikoletta",
                                    "SZUL_DAT": "1972-01-10"
                                },
                                {
                                    "USERNEV": "nikoletta4",
                                    "NEV": "Kő Nikoletta",
                                    "SZUL_DAT": "1972-01-10"
                                },
                                {
                                    "USERNEV": "nikoletta4",
                                    "NEV": "Kő Nikoletta",
                                    "SZUL_DAT": "1972-01-10"
                                },
                                {
                                    "USERNEV": "nikoletta4",
                                    "NEV": "Kő Nikoletta",
                                    "SZUL_DAT": "1972-01-10"
                                },
                                {
                                    "USERNEV": "nikoletta4",
                                    "NEV": "Kő Nikoletta",
                                    "SZUL_DAT": "1972-01-10"
                                },
                                {
                                    "USERNEV": "nikoletta4",
                                    "NEV": "Kő Nikoletta",
                                    "SZUL_DAT": "1972-01-10"
                                },
                                {
                                    "USERNEV": "nikoletta4",
                                    "NEV": "Kő Nikoletta",
                                    "SZUL_DAT": "1972-01-10"
                                },
                                {
                                    "USERNEV": "NIKOLETTAT",
                                    "NEV": "Tatár Nikoletta",
                                    "SZUL_DAT": "1997-10-19"
                                },
                                {
                                    "USERNEV": "NIKOLETTAT",
                                    "NEV": "Tatár Nikoletta",
                                    "SZUL_DAT": "1997-10-19"
                                },
                                {
                                    "USERNEV": "NIKOLETTAT",
                                    "NEV": "Tatár Nikoletta",
                                    "SZUL_DAT": "1997-10-19"
                                },
                                {
                                    "USERNEV": "NIKOLETTAT",
                                    "NEV": "Tatár Nikoletta",
                                    "SZUL_DAT": "1997-10-19"
                                },
                                {
                                    "USERNEV": "norbert",
                                    "NEV": "Szűcs Norbert",
                                    "SZUL_DAT": "1969-07-17"
                                },
                                {
                                    "USERNEV": "norbert",
                                    "NEV": "Szűcs Norbert",
                                    "SZUL_DAT": "1969-07-17"
                                },
                                {
                                    "USERNEV": "norbert",
                                    "NEV": "Szűcs Norbert",
                                    "SZUL_DAT": "1969-07-17"
                                },
                                {
                                    "USERNEV": "norbert",
                                    "NEV": "Szűcs Norbert",
                                    "SZUL_DAT": "1969-07-17"
                                },
                                {
                                    "USERNEV": "norbert",
                                    "NEV": "Szűcs Norbert",
                                    "SZUL_DAT": "1969-07-17"
                                },
                                {
                                    "USERNEV": "norbert2",
                                    "NEV": "Hegedűs Norbert",
                                    "SZUL_DAT": "1991-07-17"
                                },
                                {
                                    "USERNEV": "norbert2",
                                    "NEV": "Hegedűs Norbert",
                                    "SZUL_DAT": "1991-07-17"
                                },
                                {
                                    "USERNEV": "norbert2",
                                    "NEV": "Hegedűs Norbert",
                                    "SZUL_DAT": "1991-07-17"
                                },
                                {
                                    "USERNEV": "norbert2",
                                    "NEV": "Hegedűs Norbert",
                                    "SZUL_DAT": "1991-07-17"
                                },
                                {
                                    "USERNEV": "norbert2",
                                    "NEV": "Hegedűs Norbert",
                                    "SZUL_DAT": "1991-07-17"
                                },
                                {
                                    "USERNEV": "norbert2",
                                    "NEV": "Hegedűs Norbert",
                                    "SZUL_DAT": "1991-07-17"
                                },
                                {
                                    "USERNEV": "norbert2",
                                    "NEV": "Hegedűs Norbert",
                                    "SZUL_DAT": "1991-07-17"
                                },
                                {
                                    "USERNEV": "norbert4",
                                    "NEV": "Mile Norbert",
                                    "SZUL_DAT": "1983-06-15"
                                },
                                {
                                    "USERNEV": "norbert4",
                                    "NEV": "Mile Norbert",
                                    "SZUL_DAT": "1983-06-15"
                                },
                                {
                                    "USERNEV": "norbert4",
                                    "NEV": "Mile Norbert",
                                    "SZUL_DAT": "1983-06-15"
                                },
                                {
                                    "USERNEV": "norbert4",
                                    "NEV": "Mile Norbert",
                                    "SZUL_DAT": "1983-06-15"
                                },
                                {
                                    "USERNEV": "norbert4",
                                    "NEV": "Mile Norbert",
                                    "SZUL_DAT": "1983-06-15"
                                },
                                {
                                    "USERNEV": "norbert4",
                                    "NEV": "Mile Norbert",
                                    "SZUL_DAT": "1983-06-15"
                                },
                                {
                                    "USERNEV": "norbert4",
                                    "NEV": "Mile Norbert",
                                    "SZUL_DAT": "1983-06-15"
                                },
                                {
                                    "USERNEV": "norbert4",
                                    "NEV": "Mile Norbert",
                                    "SZUL_DAT": "1983-06-15"
                                },
                                {
                                    "USERNEV": "norbert4",
                                    "NEV": "Mile Norbert",
                                    "SZUL_DAT": "1983-06-15"
                                },
                                {
                                    "USERNEV": "norbert5",
                                    "NEV": "Béres Norbert",
                                    "SZUL_DAT": "1975-07-27"
                                },
                                {
                                    "USERNEV": "norbert5",
                                    "NEV": "Béres Norbert",
                                    "SZUL_DAT": "1975-07-27"
                                },
                                {
                                    "USERNEV": "norbert5",
                                    "NEV": "Béres Norbert",
                                    "SZUL_DAT": "1975-07-27"
                                },
                                {
                                    "USERNEV": "pal",
                                    "NEV": "Barabás Pál",
                                    "SZUL_DAT": "1968-02-06"
                                },
                                {
                                    "USERNEV": "pal",
                                    "NEV": "Barabás Pál",
                                    "SZUL_DAT": "1968-02-06"
                                },
                                {
                                    "USERNEV": "pal",
                                    "NEV": "Barabás Pál",
                                    "SZUL_DAT": "1968-02-06"
                                },
                                {
                                    "USERNEV": "pal",
                                    "NEV": "Barabás Pál",
                                    "SZUL_DAT": "1968-02-06"
                                },
                                {
                                    "USERNEV": "pal",
                                    "NEV": "Barabás Pál",
                                    "SZUL_DAT": "1968-02-06"
                                },
                                {
                                    "USERNEV": "peter1",
                                    "NEV": "Kozma Péter",
                                    "SZUL_DAT": "1976-03-18"
                                },
                                {
                                    "USERNEV": "peter1",
                                    "NEV": "Kozma Péter",
                                    "SZUL_DAT": "1976-03-18"
                                },
                                {
                                    "USERNEV": "peter1",
                                    "NEV": "Kozma Péter",
                                    "SZUL_DAT": "1976-03-18"
                                },
                                {
                                    "USERNEV": "peter1",
                                    "NEV": "Kozma Péter",
                                    "SZUL_DAT": "1976-03-18"
                                },
                                {
                                    "USERNEV": "peter2",
                                    "NEV": "Bozsó Péter",
                                    "SZUL_DAT": "1976-01-26"
                                },
                                {
                                    "USERNEV": "peter2",
                                    "NEV": "Bozsó Péter",
                                    "SZUL_DAT": "1976-01-26"
                                },
                                {
                                    "USERNEV": "peter2",
                                    "NEV": "Bozsó Péter",
                                    "SZUL_DAT": "1976-01-26"
                                },
                                {
                                    "USERNEV": "peter2",
                                    "NEV": "Bozsó Péter",
                                    "SZUL_DAT": "1976-01-26"
                                },
                                {
                                    "USERNEV": "peter3",
                                    "NEV": "Szalai Péter",
                                    "SZUL_DAT": "1983-07-18"
                                },
                                {
                                    "USERNEV": "peter3",
                                    "NEV": "Szalai Péter",
                                    "SZUL_DAT": "1983-07-18"
                                },
                                {
                                    "USERNEV": "peter3",
                                    "NEV": "Szalai Péter",
                                    "SZUL_DAT": "1983-07-18"
                                },
                                {
                                    "USERNEV": "peter3",
                                    "NEV": "Szalai Péter",
                                    "SZUL_DAT": "1983-07-18"
                                },
                                {
                                    "USERNEV": "peter3",
                                    "NEV": "Szalai Péter",
                                    "SZUL_DAT": "1983-07-18"
                                },
                                {
                                    "USERNEV": "peter3",
                                    "NEV": "Szalai Péter",
                                    "SZUL_DAT": "1983-07-18"
                                },
                                {
                                    "USERNEV": "peter4",
                                    "NEV": "Bíró Péter",
                                    "SZUL_DAT": "1985-09-01"
                                },
                                {
                                    "USERNEV": "peter4",
                                    "NEV": "Bíró Péter",
                                    "SZUL_DAT": "1985-09-01"
                                },
                                {
                                    "USERNEV": "peter4",
                                    "NEV": "Bíró Péter",
                                    "SZUL_DAT": "1985-09-01"
                                },
                                {
                                    "USERNEV": "peter4",
                                    "NEV": "Bíró Péter",
                                    "SZUL_DAT": "1985-09-01"
                                },
                                {
                                    "USERNEV": "peter4",
                                    "NEV": "Bíró Péter",
                                    "SZUL_DAT": "1985-09-01"
                                },
                                {
                                    "USERNEV": "peter4",
                                    "NEV": "Bíró Péter",
                                    "SZUL_DAT": "1985-09-01"
                                },
                                {
                                    "USERNEV": "peter4",
                                    "NEV": "Bíró Péter",
                                    "SZUL_DAT": "1985-09-01"
                                },
                                {
                                    "USERNEV": "peter4",
                                    "NEV": "Bíró Péter",
                                    "SZUL_DAT": "1985-09-01"
                                },
                                {
                                    "USERNEV": "peter4",
                                    "NEV": "Bíró Péter",
                                    "SZUL_DAT": "1985-09-01"
                                },
                                {
                                    "USERNEV": "peter4",
                                    "NEV": "Bíró Péter",
                                    "SZUL_DAT": "1985-09-01"
                                },
                                {
                                    "USERNEV": "peter4",
                                    "NEV": "Bíró Péter",
                                    "SZUL_DAT": "1985-09-01"
                                },
                                {
                                    "USERNEV": "peter4",
                                    "NEV": "Bíró Péter",
                                    "SZUL_DAT": "1985-09-01"
                                },
                                {
                                    "USERNEV": "PETERB",
                                    "NEV": "Berendi Péter",
                                    "SZUL_DAT": "1969-01-01"
                                },
                                {
                                    "USERNEV": "PETERB",
                                    "NEV": "Berendi Péter",
                                    "SZUL_DAT": "1969-01-01"
                                },
                                {
                                    "USERNEV": "PETERB",
                                    "NEV": "Berendi Péter",
                                    "SZUL_DAT": "1969-01-01"
                                },
                                {
                                    "USERNEV": "PETERB",
                                    "NEV": "Berendi Péter",
                                    "SZUL_DAT": "1969-01-01"
                                },
                                {
                                    "USERNEV": "PETERB",
                                    "NEV": "Berendi Péter",
                                    "SZUL_DAT": "1969-01-01"
                                },
                                {
                                    "USERNEV": "polla",
                                    "NEV": "Palágyi Polla",
                                    "SZUL_DAT": "1994-02-04"
                                },
                                {
                                    "USERNEV": "polla",
                                    "NEV": "Palágyi Polla",
                                    "SZUL_DAT": "1994-02-04"
                                },
                                {
                                    "USERNEV": "polla",
                                    "NEV": "Palágyi Polla",
                                    "SZUL_DAT": "1994-02-04"
                                },
                                {
                                    "USERNEV": "polla",
                                    "NEV": "Palágyi Polla",
                                    "SZUL_DAT": "1994-02-04"
                                },
                                {
                                    "USERNEV": "polla",
                                    "NEV": "Palágyi Polla",
                                    "SZUL_DAT": "1994-02-04"
                                },
                                {
                                    "USERNEV": "polla",
                                    "NEV": "Palágyi Polla",
                                    "SZUL_DAT": "1994-02-04"
                                },
                                {
                                    "USERNEV": "rajmond4",
                                    "NEV": "Rácz Rajmond",
                                    "SZUL_DAT": "1993-09-25"
                                },
                                {
                                    "USERNEV": "rajmond4",
                                    "NEV": "Rácz Rajmond",
                                    "SZUL_DAT": "1993-09-25"
                                },
                                {
                                    "USERNEV": "rajmond4",
                                    "NEV": "Rácz Rajmond",
                                    "SZUL_DAT": "1993-09-25"
                                },
                                {
                                    "USERNEV": "rajmond4",
                                    "NEV": "Rácz Rajmond",
                                    "SZUL_DAT": "1993-09-25"
                                },
                                {
                                    "USERNEV": "reka4",
                                    "NEV": "Szikszai Réka",
                                    "SZUL_DAT": "1969-11-27"
                                },
                                {
                                    "USERNEV": "reka4",
                                    "NEV": "Szikszai Réka",
                                    "SZUL_DAT": "1969-11-27"
                                },
                                {
                                    "USERNEV": "reka4",
                                    "NEV": "Szikszai Réka",
                                    "SZUL_DAT": "1969-11-27"
                                },
                                {
                                    "USERNEV": "reka4",
                                    "NEV": "Szikszai Réka",
                                    "SZUL_DAT": "1969-11-27"
                                },
                                {
                                    "USERNEV": "reka4",
                                    "NEV": "Szikszai Réka",
                                    "SZUL_DAT": "1969-11-27"
                                },
                                {
                                    "USERNEV": "RENATAK",
                                    "NEV": "Kardos Renáta",
                                    "SZUL_DAT": "1988-05-17"
                                },
                                {
                                    "USERNEV": "RENATAK",
                                    "NEV": "Kardos Renáta",
                                    "SZUL_DAT": "1988-05-17"
                                },
                                {
                                    "USERNEV": "RENATAK",
                                    "NEV": "Kardos Renáta",
                                    "SZUL_DAT": "1988-05-17"
                                },
                                {
                                    "USERNEV": "RENATAK",
                                    "NEV": "Kardos Renáta",
                                    "SZUL_DAT": "1988-05-17"
                                },
                                {
                                    "USERNEV": "RENATAK",
                                    "NEV": "Kardos Renáta",
                                    "SZUL_DAT": "1988-05-17"
                                },
                                {
                                    "USERNEV": "RENATAK",
                                    "NEV": "Kardos Renáta",
                                    "SZUL_DAT": "1988-05-17"
                                },
                                {
                                    "USERNEV": "RENATAS",
                                    "NEV": "Szirmai Renáta",
                                    "SZUL_DAT": "1991-03-26"
                                },
                                {
                                    "USERNEV": "RENATAS",
                                    "NEV": "Szirmai Renáta",
                                    "SZUL_DAT": "1991-03-26"
                                },
                                {
                                    "USERNEV": "RENATAS",
                                    "NEV": "Szirmai Renáta",
                                    "SZUL_DAT": "1991-03-26"
                                },
                                {
                                    "USERNEV": "RENATAS",
                                    "NEV": "Szirmai Renáta",
                                    "SZUL_DAT": "1991-03-26"
                                },
                                {
                                    "USERNEV": "RENATAS",
                                    "NEV": "Szirmai Renáta",
                                    "SZUL_DAT": "1991-03-26"
                                },
                                {
                                    "USERNEV": "robert2",
                                    "NEV": "Patay Róbert",
                                    "SZUL_DAT": "1977-01-08"
                                },
                                {
                                    "USERNEV": "robert2",
                                    "NEV": "Patay Róbert",
                                    "SZUL_DAT": "1977-01-08"
                                },
                                {
                                    "USERNEV": "robert2",
                                    "NEV": "Patay Róbert",
                                    "SZUL_DAT": "1977-01-08"
                                },
                                {
                                    "USERNEV": "robert2",
                                    "NEV": "Patay Róbert",
                                    "SZUL_DAT": "1977-01-08"
                                },
                                {
                                    "USERNEV": "ROBERTI",
                                    "NEV": "Iván Róbert",
                                    "SZUL_DAT": "1967-07-02"
                                },
                                {
                                    "USERNEV": "ROBERTI",
                                    "NEV": "Iván Róbert",
                                    "SZUL_DAT": "1967-07-02"
                                },
                                {
                                    "USERNEV": "ROBERTI",
                                    "NEV": "Iván Róbert",
                                    "SZUL_DAT": "1967-07-02"
                                },
                                {
                                    "USERNEV": "ROBERTI",
                                    "NEV": "Iván Róbert",
                                    "SZUL_DAT": "1967-07-02"
                                },
                                {
                                    "USERNEV": "ROBERTI",
                                    "NEV": "Iván Róbert",
                                    "SZUL_DAT": "1967-07-02"
                                },
                                {
                                    "USERNEV": "ROBERTI",
                                    "NEV": "Iván Róbert",
                                    "SZUL_DAT": "1967-07-02"
                                },
                                {
                                    "USERNEV": "ROBERTI",
                                    "NEV": "Iván Róbert",
                                    "SZUL_DAT": "1967-07-02"
                                },
                                {
                                    "USERNEV": "ROBERTI",
                                    "NEV": "Iván Róbert",
                                    "SZUL_DAT": "1967-07-02"
                                },
                                {
                                    "USERNEV": "ROBERTP",
                                    "NEV": "Pásztor Róbert",
                                    "SZUL_DAT": "1972-05-16"
                                },
                                {
                                    "USERNEV": "ROBERTP",
                                    "NEV": "Pásztor Róbert",
                                    "SZUL_DAT": "1972-05-16"
                                },
                                {
                                    "USERNEV": "roland",
                                    "NEV": "Tóth Roland",
                                    "SZUL_DAT": "1968-03-21"
                                },
                                {
                                    "USERNEV": "roland",
                                    "NEV": "Tóth Roland",
                                    "SZUL_DAT": "1968-03-21"
                                },
                                {
                                    "USERNEV": "roland",
                                    "NEV": "Tóth Roland",
                                    "SZUL_DAT": "1968-03-21"
                                },
                                {
                                    "USERNEV": "roland",
                                    "NEV": "Tóth Roland",
                                    "SZUL_DAT": "1968-03-21"
                                },
                                {
                                    "USERNEV": "roland1",
                                    "NEV": "Ferencz Roland",
                                    "SZUL_DAT": "1985-12-31"
                                },
                                {
                                    "USERNEV": "roland1",
                                    "NEV": "Ferencz Roland",
                                    "SZUL_DAT": "1985-12-31"
                                },
                                {
                                    "USERNEV": "roland1",
                                    "NEV": "Ferencz Roland",
                                    "SZUL_DAT": "1985-12-31"
                                },
                                {
                                    "USERNEV": "roland1",
                                    "NEV": "Ferencz Roland",
                                    "SZUL_DAT": "1985-12-31"
                                },
                                {
                                    "USERNEV": "roza2",
                                    "NEV": "Bucskó Róza",
                                    "SZUL_DAT": "1988-12-26"
                                },
                                {
                                    "USERNEV": "roza2",
                                    "NEV": "Bucskó Róza",
                                    "SZUL_DAT": "1988-12-26"
                                },
                                {
                                    "USERNEV": "roza2",
                                    "NEV": "Bucskó Róza",
                                    "SZUL_DAT": "1988-12-26"
                                },
                                {
                                    "USERNEV": "sandor",
                                    "NEV": "Karasz Sándor",
                                    "SZUL_DAT": "1970-01-27"
                                },
                                {
                                    "USERNEV": "sandor",
                                    "NEV": "Karasz Sándor",
                                    "SZUL_DAT": "1970-01-27"
                                },
                                {
                                    "USERNEV": "sandor",
                                    "NEV": "Karasz Sándor",
                                    "SZUL_DAT": "1970-01-27"
                                },
                                {
                                    "USERNEV": "sandor",
                                    "NEV": "Karasz Sándor",
                                    "SZUL_DAT": "1970-01-27"
                                },
                                {
                                    "USERNEV": "sandor3",
                                    "NEV": "Farkas Sándor",
                                    "SZUL_DAT": "1989-01-27"
                                },
                                {
                                    "USERNEV": "sandor3",
                                    "NEV": "Farkas Sándor",
                                    "SZUL_DAT": "1989-01-27"
                                },
                                {
                                    "USERNEV": "sandor3",
                                    "NEV": "Farkas Sándor",
                                    "SZUL_DAT": "1989-01-27"
                                },
                                {
                                    "USERNEV": "sandor3",
                                    "NEV": "Farkas Sándor",
                                    "SZUL_DAT": "1989-01-27"
                                },
                                {
                                    "USERNEV": "sandor3",
                                    "NEV": "Farkas Sándor",
                                    "SZUL_DAT": "1989-01-27"
                                },
                                {
                                    "USERNEV": "sandor4",
                                    "NEV": "Nagy Sándor",
                                    "SZUL_DAT": "1997-06-11"
                                },
                                {
                                    "USERNEV": "sandor4",
                                    "NEV": "Nagy Sándor",
                                    "SZUL_DAT": "1997-06-11"
                                },
                                {
                                    "USERNEV": "sandor4",
                                    "NEV": "Nagy Sándor",
                                    "SZUL_DAT": "1997-06-11"
                                },
                                {
                                    "USERNEV": "sandor4",
                                    "NEV": "Nagy Sándor",
                                    "SZUL_DAT": "1997-06-11"
                                },
                                {
                                    "USERNEV": "sara",
                                    "NEV": "Farkas Sára",
                                    "SZUL_DAT": "1973-04-05"
                                },
                                {
                                    "USERNEV": "sara",
                                    "NEV": "Farkas Sára",
                                    "SZUL_DAT": "1973-04-05"
                                },
                                {
                                    "USERNEV": "sara",
                                    "NEV": "Farkas Sára",
                                    "SZUL_DAT": "1973-04-05"
                                },
                                {
                                    "USERNEV": "sara",
                                    "NEV": "Farkas Sára",
                                    "SZUL_DAT": "1973-04-05"
                                },
                                {
                                    "USERNEV": "sara",
                                    "NEV": "Farkas Sára",
                                    "SZUL_DAT": "1973-04-05"
                                },
                                {
                                    "USERNEV": "sara",
                                    "NEV": "Farkas Sára",
                                    "SZUL_DAT": "1973-04-05"
                                },
                                {
                                    "USERNEV": "sara",
                                    "NEV": "Farkas Sára",
                                    "SZUL_DAT": "1973-04-05"
                                },
                                {
                                    "USERNEV": "sara",
                                    "NEV": "Farkas Sára",
                                    "SZUL_DAT": "1973-04-05"
                                },
                                {
                                    "USERNEV": "sara",
                                    "NEV": "Farkas Sára",
                                    "SZUL_DAT": "1973-04-05"
                                },
                                {
                                    "USERNEV": "sara",
                                    "NEV": "Farkas Sára",
                                    "SZUL_DAT": "1973-04-05"
                                },
                                {
                                    "USERNEV": "sara",
                                    "NEV": "Farkas Sára",
                                    "SZUL_DAT": "1973-04-05"
                                },
                                {
                                    "USERNEV": "sara",
                                    "NEV": "Farkas Sára",
                                    "SZUL_DAT": "1973-04-05"
                                },
                                {
                                    "USERNEV": "SEBASTIANF",
                                    "NEV": "Foltényi Sebastián",
                                    "SZUL_DAT": "1992-09-09"
                                },
                                {
                                    "USERNEV": "SEBASTIANF",
                                    "NEV": "Foltényi Sebastián",
                                    "SZUL_DAT": "1992-09-09"
                                },
                                {
                                    "USERNEV": "SEBASTIANF",
                                    "NEV": "Foltényi Sebastián",
                                    "SZUL_DAT": "1992-09-09"
                                },
                                {
                                    "USERNEV": "SEBASTIANF",
                                    "NEV": "Foltényi Sebastián",
                                    "SZUL_DAT": "1992-09-09"
                                },
                                {
                                    "USERNEV": "SEBASTIANF",
                                    "NEV": "Foltényi Sebastián",
                                    "SZUL_DAT": "1992-09-09"
                                },
                                {
                                    "USERNEV": "sebestyen",
                                    "NEV": "Rab Sebestyén",
                                    "SZUL_DAT": "1992-03-03"
                                },
                                {
                                    "USERNEV": "sebestyen",
                                    "NEV": "Rab Sebestyén",
                                    "SZUL_DAT": "1992-03-03"
                                },
                                {
                                    "USERNEV": "sebestyen",
                                    "NEV": "Rab Sebestyén",
                                    "SZUL_DAT": "1992-03-03"
                                },
                                {
                                    "USERNEV": "sebestyen",
                                    "NEV": "Rab Sebestyén",
                                    "SZUL_DAT": "1992-03-03"
                                },
                                {
                                    "USERNEV": "szabolcs",
                                    "NEV": "Bodor Szabolcs",
                                    "SZUL_DAT": "1990-07-16"
                                },
                                {
                                    "USERNEV": "SZABOLCSM",
                                    "NEV": "Miklós Szabolcs",
                                    "SZUL_DAT": "1980-08-11"
                                },
                                {
                                    "USERNEV": "SZABOLCSM",
                                    "NEV": "Miklós Szabolcs",
                                    "SZUL_DAT": "1980-08-11"
                                },
                                {
                                    "USERNEV": "SZABOLCSM",
                                    "NEV": "Miklós Szabolcs",
                                    "SZUL_DAT": "1980-08-11"
                                },
                                {
                                    "USERNEV": "SZABOLCSM",
                                    "NEV": "Miklós Szabolcs",
                                    "SZUL_DAT": "1980-08-11"
                                },
                                {
                                    "USERNEV": "SZABOLCSM",
                                    "NEV": "Miklós Szabolcs",
                                    "SZUL_DAT": "1980-08-11"
                                },
                                {
                                    "USERNEV": "SZABOLCSM",
                                    "NEV": "Miklós Szabolcs",
                                    "SZUL_DAT": "1980-08-11"
                                },
                                {
                                    "USERNEV": "SZABOLCSM",
                                    "NEV": "Miklós Szabolcs",
                                    "SZUL_DAT": "1980-08-11"
                                },
                                {
                                    "USERNEV": "SZILARDS",
                                    "NEV": "Szalai Szilárd",
                                    "SZUL_DAT": "1967-09-28"
                                },
                                {
                                    "USERNEV": "SZILARDS",
                                    "NEV": "Szalai Szilárd",
                                    "SZUL_DAT": "1967-09-28"
                                },
                                {
                                    "USERNEV": "SZILARDS",
                                    "NEV": "Szalai Szilárd",
                                    "SZUL_DAT": "1967-09-28"
                                },
                                {
                                    "USERNEV": "SZILARDS",
                                    "NEV": "Szalai Szilárd",
                                    "SZUL_DAT": "1967-09-28"
                                },
                                {
                                    "USERNEV": "SZILARDS",
                                    "NEV": "Szalai Szilárd",
                                    "SZUL_DAT": "1967-09-28"
                                },
                                {
                                    "USERNEV": "SZILARDS",
                                    "NEV": "Szalai Szilárd",
                                    "SZUL_DAT": "1967-09-28"
                                },
                                {
                                    "USERNEV": "SZILARDS",
                                    "NEV": "Szalai Szilárd",
                                    "SZUL_DAT": "1967-09-28"
                                },
                                {
                                    "USERNEV": "szilvia1",
                                    "NEV": "Tari Szilvia",
                                    "SZUL_DAT": "1971-03-09"
                                },
                                {
                                    "USERNEV": "szilvia1",
                                    "NEV": "Tari Szilvia",
                                    "SZUL_DAT": "1971-03-09"
                                },
                                {
                                    "USERNEV": "szilvia1",
                                    "NEV": "Tari Szilvia",
                                    "SZUL_DAT": "1971-03-09"
                                },
                                {
                                    "USERNEV": "szilvia1",
                                    "NEV": "Tari Szilvia",
                                    "SZUL_DAT": "1971-03-09"
                                },
                                {
                                    "USERNEV": "szilvia1",
                                    "NEV": "Tari Szilvia",
                                    "SZUL_DAT": "1971-03-09"
                                },
                                {
                                    "USERNEV": "szilvia1",
                                    "NEV": "Tari Szilvia",
                                    "SZUL_DAT": "1971-03-09"
                                },
                                {
                                    "USERNEV": "szilvia1",
                                    "NEV": "Tari Szilvia",
                                    "SZUL_DAT": "1971-03-09"
                                },
                                {
                                    "USERNEV": "szilvia1",
                                    "NEV": "Tari Szilvia",
                                    "SZUL_DAT": "1971-03-09"
                                },
                                {
                                    "USERNEV": "szilvia1",
                                    "NEV": "Tari Szilvia",
                                    "SZUL_DAT": "1971-03-09"
                                },
                                {
                                    "USERNEV": "tamara2",
                                    "NEV": "Miklós Tamara",
                                    "SZUL_DAT": "1980-08-11"
                                },
                                {
                                    "USERNEV": "tamara2",
                                    "NEV": "Miklós Tamara",
                                    "SZUL_DAT": "1980-08-11"
                                },
                                {
                                    "USERNEV": "tamas",
                                    "NEV": "Antal Tamás",
                                    "SZUL_DAT": "1984-09-05"
                                },
                                {
                                    "USERNEV": "tamas",
                                    "NEV": "Antal Tamás",
                                    "SZUL_DAT": "1984-09-05"
                                },
                                {
                                    "USERNEV": "tamas",
                                    "NEV": "Antal Tamás",
                                    "SZUL_DAT": "1984-09-05"
                                },
                                {
                                    "USERNEV": "tamas",
                                    "NEV": "Antal Tamás",
                                    "SZUL_DAT": "1984-09-05"
                                },
                                {
                                    "USERNEV": "TAMASF",
                                    "NEV": "Fényes Tamás",
                                    "SZUL_DAT": "1997-11-06"
                                },
                                {
                                    "USERNEV": "TAMASF",
                                    "NEV": "Fényes Tamás",
                                    "SZUL_DAT": "1997-11-06"
                                },
                                {
                                    "USERNEV": "TAMASF",
                                    "NEV": "Fényes Tamás",
                                    "SZUL_DAT": "1997-11-06"
                                },
                                {
                                    "USERNEV": "TAMASF",
                                    "NEV": "Fényes Tamás",
                                    "SZUL_DAT": "1997-11-06"
                                },
                                {
                                    "USERNEV": "TAMASF",
                                    "NEV": "Fényes Tamás",
                                    "SZUL_DAT": "1997-11-06"
                                },
                                {
                                    "USERNEV": "TAMASF",
                                    "NEV": "Fényes Tamás",
                                    "SZUL_DAT": "1997-11-06"
                                },
                                {
                                    "USERNEV": "TAMASF",
                                    "NEV": "Fényes Tamás",
                                    "SZUL_DAT": "1997-11-06"
                                },
                                {
                                    "USERNEV": "TAMASF",
                                    "NEV": "Fényes Tamás",
                                    "SZUL_DAT": "1997-11-06"
                                },
                                {
                                    "USERNEV": "TAMASF",
                                    "NEV": "Fényes Tamás",
                                    "SZUL_DAT": "1997-11-06"
                                },
                                {
                                    "USERNEV": "tibor",
                                    "NEV": "Gombos Tibor",
                                    "SZUL_DAT": "1993-11-28"
                                },
                                {
                                    "USERNEV": "tibor",
                                    "NEV": "Gombos Tibor",
                                    "SZUL_DAT": "1993-11-28"
                                },
                                {
                                    "USERNEV": "tibor2",
                                    "NEV": "Dániel Tibor",
                                    "SZUL_DAT": "1985-02-02"
                                },
                                {
                                    "USERNEV": "tihamer",
                                    "NEV": "Kazy Tihamér",
                                    "SZUL_DAT": "1991-07-05"
                                },
                                {
                                    "USERNEV": "tihamer",
                                    "NEV": "Kazy Tihamér",
                                    "SZUL_DAT": "1991-07-05"
                                },
                                {
                                    "USERNEV": "tihamer",
                                    "NEV": "Kazy Tihamér",
                                    "SZUL_DAT": "1991-07-05"
                                },
                                {
                                    "USERNEV": "tihamer",
                                    "NEV": "Kazy Tihamér",
                                    "SZUL_DAT": "1991-07-05"
                                },
                                {
                                    "USERNEV": "tihamer",
                                    "NEV": "Kazy Tihamér",
                                    "SZUL_DAT": "1991-07-05"
                                },
                                {
                                    "USERNEV": "tihamer",
                                    "NEV": "Kazy Tihamér",
                                    "SZUL_DAT": "1991-07-05"
                                },
                                {
                                    "USERNEV": "timea",
                                    "NEV": "Papós Tímea",
                                    "SZUL_DAT": "1996-01-08"
                                },
                                {
                                    "USERNEV": "timea2",
                                    "NEV": "Dusha Tímea",
                                    "SZUL_DAT": "1975-08-22"
                                },
                                {
                                    "USERNEV": "timea2",
                                    "NEV": "Dusha Tímea",
                                    "SZUL_DAT": "1975-08-22"
                                },
                                {
                                    "USERNEV": "timea2",
                                    "NEV": "Dusha Tímea",
                                    "SZUL_DAT": "1975-08-22"
                                },
                                {
                                    "USERNEV": "timea2",
                                    "NEV": "Dusha Tímea",
                                    "SZUL_DAT": "1975-08-22"
                                },
                                {
                                    "USERNEV": "timea2",
                                    "NEV": "Dusha Tímea",
                                    "SZUL_DAT": "1975-08-22"
                                },
                                {
                                    "USERNEV": "tunde",
                                    "NEV": "Turcsik Tünde",
                                    "SZUL_DAT": "1974-02-12"
                                },
                                {
                                    "USERNEV": "tunde",
                                    "NEV": "Turcsik Tünde",
                                    "SZUL_DAT": "1974-02-12"
                                },
                                {
                                    "USERNEV": "tunde",
                                    "NEV": "Turcsik Tünde",
                                    "SZUL_DAT": "1974-02-12"
                                },
                                {
                                    "USERNEV": "tunde",
                                    "NEV": "Turcsik Tünde",
                                    "SZUL_DAT": "1974-02-12"
                                },
                                {
                                    "USERNEV": "tunde",
                                    "NEV": "Turcsik Tünde",
                                    "SZUL_DAT": "1974-02-12"
                                },
                                {
                                    "USERNEV": "tunde",
                                    "NEV": "Turcsik Tünde",
                                    "SZUL_DAT": "1974-02-12"
                                },
                                {
                                    "USERNEV": "tunde",
                                    "NEV": "Turcsik Tünde",
                                    "SZUL_DAT": "1974-02-12"
                                },
                                {
                                    "USERNEV": "tunde",
                                    "NEV": "Turcsik Tünde",
                                    "SZUL_DAT": "1974-02-12"
                                },
                                {
                                    "USERNEV": "valentin",
                                    "NEV": "Feró Valentin",
                                    "SZUL_DAT": "1986-01-09"
                                },
                                {
                                    "USERNEV": "valentin",
                                    "NEV": "Feró Valentin",
                                    "SZUL_DAT": "1986-01-09"
                                },
                                {
                                    "USERNEV": "valentin",
                                    "NEV": "Feró Valentin",
                                    "SZUL_DAT": "1986-01-09"
                                },
                                {
                                    "USERNEV": "valentin",
                                    "NEV": "Feró Valentin",
                                    "SZUL_DAT": "1986-01-09"
                                },
                                {
                                    "USERNEV": "valentin",
                                    "NEV": "Feró Valentin",
                                    "SZUL_DAT": "1986-01-09"
                                },
                                {
                                    "USERNEV": "veronika4",
                                    "NEV": "Tankó Veronika",
                                    "SZUL_DAT": "1983-08-28"
                                },
                                {
                                    "USERNEV": "veronika4",
                                    "NEV": "Tankó Veronika",
                                    "SZUL_DAT": "1983-08-28"
                                },
                                {
                                    "USERNEV": "veronika4",
                                    "NEV": "Tankó Veronika",
                                    "SZUL_DAT": "1983-08-28"
                                },
                                {
                                    "USERNEV": "veronika4",
                                    "NEV": "Tankó Veronika",
                                    "SZUL_DAT": "1983-08-28"
                                },
                                {
                                    "USERNEV": "veronika4",
                                    "NEV": "Tankó Veronika",
                                    "SZUL_DAT": "1983-08-28"
                                },
                                {
                                    "USERNEV": "veronika4",
                                    "NEV": "Tankó Veronika",
                                    "SZUL_DAT": "1983-08-28"
                                },
                                {
                                    "USERNEV": "VIKTORIAU",
                                    "NEV": "Urbán Viktoria",
                                    "SZUL_DAT": "1996-05-03"
                                },
                                {
                                    "USERNEV": "VIKTORIAU",
                                    "NEV": "Urbán Viktoria",
                                    "SZUL_DAT": "1996-05-03"
                                },
                                {
                                    "USERNEV": "VIKTORIAU",
                                    "NEV": "Urbán Viktoria",
                                    "SZUL_DAT": "1996-05-03"
                                },
                                {
                                    "USERNEV": "VIKTORIAU",
                                    "NEV": "Urbán Viktoria",
                                    "SZUL_DAT": "1996-05-03"
                                },
                                {
                                    "USERNEV": "VIKTORK",
                                    "NEV": "Keresztúri Viktor",
                                    "SZUL_DAT": "1989-05-05"
                                },
                                {
                                    "USERNEV": "VIKTORK",
                                    "NEV": "Keresztúri Viktor",
                                    "SZUL_DAT": "1989-05-05"
                                },
                                {
                                    "USERNEV": "vivien3",
                                    "NEV": "Boros Vivien",
                                    "SZUL_DAT": "1991-07-01"
                                },
                                {
                                    "USERNEV": "vivien3",
                                    "NEV": "Boros Vivien",
                                    "SZUL_DAT": "1991-07-01"
                                },
                                {
                                    "USERNEV": "vivien3",
                                    "NEV": "Boros Vivien",
                                    "SZUL_DAT": "1991-07-01"
                                },
                                {
                                    "USERNEV": "vivien3",
                                    "NEV": "Boros Vivien",
                                    "SZUL_DAT": "1991-07-01"
                                },
                                {
                                    "USERNEV": "vivien3",
                                    "NEV": "Boros Vivien",
                                    "SZUL_DAT": "1991-07-01"
                                },
                                {
                                    "USERNEV": "vivien3",
                                    "NEV": "Boros Vivien",
                                    "SZUL_DAT": "1991-07-01"
                                },
                                {
                                    "USERNEV": "vivien3",
                                    "NEV": "Boros Vivien",
                                    "SZUL_DAT": "1991-07-01"
                                },
                                {
                                    "USERNEV": "zoltan",
                                    "NEV": "Fodor Zoltán",
                                    "SZUL_DAT": "1979-11-25"
                                },
                                {
                                    "USERNEV": "zoltan",
                                    "NEV": "Fodor Zoltán",
                                    "SZUL_DAT": "1979-11-25"
                                },
                                {
                                    "USERNEV": "zoltan4",
                                    "NEV": "Barna Zoltán",
                                    "SZUL_DAT": "1986-05-20"
                                },
                                {
                                    "USERNEV": "zoltan4",
                                    "NEV": "Barna Zoltán",
                                    "SZUL_DAT": "1986-05-20"
                                },
                                {
                                    "USERNEV": "zoltan4",
                                    "NEV": "Barna Zoltán",
                                    "SZUL_DAT": "1986-05-20"
                                },
                                {
                                    "USERNEV": "zoltan4",
                                    "NEV": "Barna Zoltán",
                                    "SZUL_DAT": "1986-05-20"
                                },
                                {
                                    "USERNEV": "zoltan4",
                                    "NEV": "Barna Zoltán",
                                    "SZUL_DAT": "1986-05-20"
                                },
                                {
                                    "USERNEV": "zoltan4",
                                    "NEV": "Barna Zoltán",
                                    "SZUL_DAT": "1986-05-20"
                                },
                                {
                                    "USERNEV": "zoltan4",
                                    "NEV": "Barna Zoltán",
                                    "SZUL_DAT": "1986-05-20"
                                },
                                {
                                    "USERNEV": "zoltan4",
                                    "NEV": "Barna Zoltán",
                                    "SZUL_DAT": "1986-05-20"
                                },
                                {
                                    "USERNEV": "zoltan4",
                                    "NEV": "Barna Zoltán",
                                    "SZUL_DAT": "1986-05-20"
                                },
                                {
                                    "USERNEV": "zoltan4",
                                    "NEV": "Barna Zoltán",
                                    "SZUL_DAT": "1986-05-20"
                                },
                                {
                                    "USERNEV": "zoltan4",
                                    "NEV": "Barna Zoltán",
                                    "SZUL_DAT": "1986-05-20"
                                },
                                {
                                    "USERNEV": "zoltan4",
                                    "NEV": "Barna Zoltán",
                                    "SZUL_DAT": "1986-05-20"
                                },
                                {
                                    "USERNEV": "ZOLTANP",
                                    "NEV": "Pintér Zoltán",
                                    "SZUL_DAT": "1977-06-07"
                                },
                                {
                                    "USERNEV": "ZOLTANP",
                                    "NEV": "Pintér Zoltán",
                                    "SZUL_DAT": "1977-06-07"
                                },
                                {
                                    "USERNEV": "ZOLTANP",
                                    "NEV": "Pintér Zoltán",
                                    "SZUL_DAT": "1977-06-07"
                                },
                                {
                                    "USERNEV": "ZOLTANP",
                                    "NEV": "Pintér Zoltán",
                                    "SZUL_DAT": "1977-06-07"
                                },
                                {
                                    "USERNEV": "ZOLTANP",
                                    "NEV": "Pintér Zoltán",
                                    "SZUL_DAT": "1977-06-07"
                                },
                                {
                                    "USERNEV": "ZOLTANP",
                                    "NEV": "Pintér Zoltán",
                                    "SZUL_DAT": "1977-06-07"
                                },
                                {
                                    "USERNEV": "ZOLTANT",
                                    "NEV": "Tóth Zoltán",
                                    "SZUL_DAT": "1985-12-14"
                                },
                                {
                                    "USERNEV": "ZOLTANT",
                                    "NEV": "Tóth Zoltán",
                                    "SZUL_DAT": "1985-12-14"
                                },
                                {
                                    "USERNEV": "ZOLTANT",
                                    "NEV": "Tóth Zoltán",
                                    "SZUL_DAT": "1985-12-14"
                                },
                                {
                                    "USERNEV": "zsofi1",
                                    "NEV": "Molnár Zsófi",
                                    "SZUL_DAT": "1983-11-17"
                                },
                                {
                                    "USERNEV": "zsofi1",
                                    "NEV": "Molnár Zsófi",
                                    "SZUL_DAT": "1983-11-17"
                                },
                                {
                                    "USERNEV": "zsolt1",
                                    "NEV": "Pulai Zsolt",
                                    "SZUL_DAT": "1988-05-27"
                                },
                                {
                                    "USERNEV": "zsolt1",
                                    "NEV": "Pulai Zsolt",
                                    "SZUL_DAT": "1988-05-27"
                                },
                                {
                                    "USERNEV": "zsolt1",
                                    "NEV": "Pulai Zsolt",
                                    "SZUL_DAT": "1988-05-27"
                                },
                                {
                                    "USERNEV": "zsolt1",
                                    "NEV": "Pulai Zsolt",
                                    "SZUL_DAT": "1988-05-27"
                                },
                                {
                                    "USERNEV": "ZSOLTJ",
                                    "NEV": "Józsa Zsolt",
                                    "SZUL_DAT": "1983-09-29"
                                },
                                {
                                    "USERNEV": "ZSOLTJ",
                                    "NEV": "Józsa Zsolt",
                                    "SZUL_DAT": "1983-09-29"
                                },
                                {
                                    "USERNEV": "ZSOLTJ",
                                    "NEV": "Józsa Zsolt",
                                    "SZUL_DAT": "1983-09-29"
                                },
                                {
                                    "USERNEV": "ZSOLTJ",
                                    "NEV": "Józsa Zsolt",
                                    "SZUL_DAT": "1983-09-29"
                                },
                                {
                                    "USERNEV": "ZSOLTJ",
                                    "NEV": "Józsa Zsolt",
                                    "SZUL_DAT": "1983-09-29"
                                },
                                {
                                    "USERNEV": "ZSOLTJ",
                                    "NEV": "Józsa Zsolt",
                                    "SZUL_DAT": "1983-09-29"
                                },
                                {
                                    "USERNEV": "zsuzsa",
                                    "NEV": "Pusztai Zsuzsanna",
                                    "SZUL_DAT": "1980-09-17"
                                },
                                {
                                    "USERNEV": "zsuzsa",
                                    "NEV": "Pusztai Zsuzsanna",
                                    "SZUL_DAT": "1980-09-17"
                                },
                                {
                                    "USERNEV": "zsuzsa",
                                    "NEV": "Pusztai Zsuzsanna",
                                    "SZUL_DAT": "1980-09-17"
                                },
                                {
                                    "USERNEV": "zsuzsa3",
                                    "NEV": "Varsányi Zsuzsa",
                                    "SZUL_DAT": "1979-03-06"
                                },
                                {
                                    "USERNEV": "zsuzsa3",
                                    "NEV": "Varsányi Zsuzsa",
                                    "SZUL_DAT": "1979-03-06"
                                },
                                {
                                    "USERNEV": "zsuzsa3",
                                    "NEV": "Varsányi Zsuzsa",
                                    "SZUL_DAT": "1979-03-06"
                                },
                                {
                                    "USERNEV": "zsuzsa3",
                                    "NEV": "Varsányi Zsuzsa",
                                    "SZUL_DAT": "1979-03-06"
                                },
                                {
                                    "USERNEV": "zsuzsanna",
                                    "NEV": "Barta Zsuzsanna",
                                    "SZUL_DAT": "1994-10-07"
                                },
                                {
                                    "USERNEV": "zsuzsanna",
                                    "NEV": "Barta Zsuzsanna",
                                    "SZUL_DAT": "1994-10-07"
                                },
                                {
                                    "USERNEV": "zsuzsanna",
                                    "NEV": "Barta Zsuzsanna",
                                    "SZUL_DAT": "1994-10-07"
                                },
                                {
                                    "USERNEV": "zsuzsanna",
                                    "NEV": "Barta Zsuzsanna",
                                    "SZUL_DAT": "1994-10-07"
                                },
                                {
                                    "USERNEV": "ZSUZSAV",
                                    "NEV": "Vajda Zsuzsa",
                                    "SZUL_DAT": "1976-12-11"
                                },
                                {
                                    "USERNEV": "ZSUZSAV",
                                    "NEV": "Vajda Zsuzsa",
                                    "SZUL_DAT": "1976-12-11"
                                },
                                {
                                    "USERNEV": "ZSUZSAV",
                                    "NEV": "Vajda Zsuzsa",
                                    "SZUL_DAT": "1976-12-11"
                                },
                                {
                                    "USERNEV": "ZSUZSAV",
                                    "NEV": "Vajda Zsuzsa",
                                    "SZUL_DAT": "1976-12-11"
                                },
                                {
                                    "USERNEV": "ZSUZSAV",
                                    "NEV": "Vajda Zsuzsa",
                                    "SZUL_DAT": "1976-12-11"
                                },
                                {
                                    "USERNEV": "ZSUZSAV",
                                    "NEV": "Vajda Zsuzsa",
                                    "SZUL_DAT": "1976-12-11"
                                }
                            ]
                        },
                        "text/html": [
                            "<table>",
                            "<tr><th>USERNEV</th><th>NEV</th><th>SZUL_DAT</th></tr>",
                            "<tr><td>adam1</td><td>Kiss Ádám</td><td>1991-12-28</td></tr>",
                            "<tr><td>adam1</td><td>Kiss Ádám</td><td>1991-12-28</td></tr>",
                            "<tr><td>adam1</td><td>Kiss Ádám</td><td>1991-12-28</td></tr>",
                            "<tr><td>adam3</td><td>Barkóci Ádám</td><td>1970-06-07</td></tr>",
                            "<tr><td>adam3</td><td>Barkóci Ádám</td><td>1970-06-07</td></tr>",
                            "<tr><td>adam4</td><td>Bieniek Ádám</td><td>1976-08-01</td></tr>",
                            "<tr><td>adam4</td><td>Bieniek Ádám</td><td>1976-08-01</td></tr>",
                            "<tr><td>adam4</td><td>Bieniek Ádám</td><td>1976-08-01</td></tr>",
                            "<tr><td>adam4</td><td>Bieniek Ádám</td><td>1976-08-01</td></tr>",
                            "<tr><td>adam4</td><td>Bieniek Ádám</td><td>1976-08-01</td></tr>",
                            "<tr><td>adam4</td><td>Bieniek Ádám</td><td>1976-08-01</td></tr>",
                            "<tr><td>agnes</td><td>Lengyel Ágnes</td><td>1979-12-10</td></tr>",
                            "<tr><td>agnes</td><td>Lengyel Ágnes</td><td>1979-12-10</td></tr>",
                            "<tr><td>agnes</td><td>Lengyel Ágnes</td><td>1979-12-10</td></tr>",
                            "<tr><td>agnes</td><td>Lengyel Ágnes</td><td>1979-12-10</td></tr>",
                            "<tr><td>agnes</td><td>Lengyel Ágnes</td><td>1979-12-10</td></tr>",
                            "<tr><td>agnes3</td><td>Hartyánszky Ágnes</td><td>1967-04-11</td></tr>",
                            "<tr><td>agnes3</td><td>Hartyánszky Ágnes</td><td>1967-04-11</td></tr>",
                            "<tr><td>agnes3</td><td>Hartyánszky Ágnes</td><td>1967-04-11</td></tr>",
                            "<tr><td>AGNESH</td><td>Horváth Ágnes</td><td>1981-12-24</td></tr>",
                            "<tr><td>AGNESH</td><td>Horváth Ágnes</td><td>1981-12-24</td></tr>",
                            "<tr><td>AGNESH</td><td>Horváth Ágnes</td><td>1981-12-24</td></tr>",
                            "<tr><td>AGNESH</td><td>Horváth Ágnes</td><td>1981-12-24</td></tr>",
                            "<tr><td>AGNESH</td><td>Horváth Ágnes</td><td>1981-12-24</td></tr>",
                            "<tr><td>AGNESH</td><td>Horváth Ágnes</td><td>1981-12-24</td></tr>",
                            "<tr><td>AGNESK</td><td>Kovács Ágnes</td><td>1988-10-02</td></tr>",
                            "<tr><td>AGNESK</td><td>Kovács Ágnes</td><td>1988-10-02</td></tr>",
                            "<tr><td>AGNESK</td><td>Kovács Ágnes</td><td>1988-10-02</td></tr>",
                            "<tr><td>akos</td><td>Bíró Ákos</td><td>1982-04-24</td></tr>",
                            "<tr><td>akos</td><td>Bíró Ákos</td><td>1982-04-24</td></tr>",
                            "<tr><td>akos</td><td>Bíró Ákos</td><td>1982-04-24</td></tr>",
                            "<tr><td>akos</td><td>Bíró Ákos</td><td>1982-04-24</td></tr>",
                            "<tr><td>akos</td><td>Bíró Ákos</td><td>1982-04-24</td></tr>",
                            "<tr><td>akos</td><td>Bíró Ákos</td><td>1982-04-24</td></tr>",
                            "<tr><td>akos</td><td>Bíró Ákos</td><td>1982-04-24</td></tr>",
                            "<tr><td>akos</td><td>Bíró Ákos</td><td>1982-04-24</td></tr>",
                            "<tr><td>akos</td><td>Bíró Ákos</td><td>1982-04-24</td></tr>",
                            "<tr><td>akos</td><td>Bíró Ákos</td><td>1982-04-24</td></tr>",
                            "<tr><td>aladar</td><td>Dunai Aladár</td><td>1980-11-01</td></tr>",
                            "<tr><td>aladar</td><td>Dunai Aladár</td><td>1980-11-01</td></tr>",
                            "<tr><td>aladar</td><td>Dunai Aladár</td><td>1980-11-01</td></tr>",
                            "<tr><td>alexandra</td><td>Bagóczki Alexandra</td><td>1992-03-25</td></tr>",
                            "<tr><td>alexandra</td><td>Bagóczki Alexandra</td><td>1992-03-25</td></tr>",
                            "<tr><td>alexandra</td><td>Bagóczki Alexandra</td><td>1992-03-25</td></tr>",
                            "<tr><td>alexandra</td><td>Bagóczki Alexandra</td><td>1992-03-25</td></tr>",
                            "<tr><td>alexandra</td><td>Bagóczki Alexandra</td><td>1992-03-25</td></tr>",
                            "<tr><td>alexandra</td><td>Bagóczki Alexandra</td><td>1992-03-25</td></tr>",
                            "<tr><td>alexandra</td><td>Bagóczki Alexandra</td><td>1992-03-25</td></tr>",
                            "<tr><td>andi</td><td>Maródi Andrea</td><td>1968-05-07</td></tr>",
                            "<tr><td>andi</td><td>Maródi Andrea</td><td>1968-05-07</td></tr>",
                            "<tr><td>andi</td><td>Maródi Andrea</td><td>1968-05-07</td></tr>",
                            "<tr><td>andi</td><td>Maródi Andrea</td><td>1968-05-07</td></tr>",
                            "<tr><td>andi</td><td>Maródi Andrea</td><td>1968-05-07</td></tr>",
                            "<tr><td>andras2</td><td>Tóth András</td><td>1997-10-31</td></tr>",
                            "<tr><td>andras2</td><td>Tóth András</td><td>1997-10-31</td></tr>",
                            "<tr><td>andras2</td><td>Tóth András</td><td>1997-10-31</td></tr>",
                            "<tr><td>andras2</td><td>Tóth András</td><td>1997-10-31</td></tr>",
                            "<tr><td>andras2</td><td>Tóth András</td><td>1997-10-31</td></tr>",
                            "<tr><td>andras21</td><td>Molnár András</td><td>1977-11-16</td></tr>",
                            "<tr><td>andras21</td><td>Molnár András</td><td>1977-11-16</td></tr>",
                            "<tr><td>andras21</td><td>Molnár András</td><td>1977-11-16</td></tr>",
                            "<tr><td>andras21</td><td>Molnár András</td><td>1977-11-16</td></tr>",
                            "<tr><td>andras21</td><td>Molnár András</td><td>1977-11-16</td></tr>",
                            "<tr><td>andras21</td><td>Molnár András</td><td>1977-11-16</td></tr>",
                            "<tr><td>andras21</td><td>Molnár András</td><td>1977-11-16</td></tr>",
                            "<tr><td>andras3</td><td>Vígh András</td><td>1971-04-02</td></tr>",
                            "<tr><td>andras3</td><td>Vígh András</td><td>1971-04-02</td></tr>",
                            "<tr><td>andras3</td><td>Vígh András</td><td>1971-04-02</td></tr>",
                            "<tr><td>andras3</td><td>Vígh András</td><td>1971-04-02</td></tr>",
                            "<tr><td>andras3</td><td>Vígh András</td><td>1971-04-02</td></tr>",
                            "<tr><td>andras3</td><td>Vígh András</td><td>1971-04-02</td></tr>",
                            "<tr><td>andras3</td><td>Vígh András</td><td>1971-04-02</td></tr>",
                            "<tr><td>andras3</td><td>Vígh András</td><td>1971-04-02</td></tr>",
                            "<tr><td>andras4</td><td>Back András</td><td>1984-04-07</td></tr>",
                            "<tr><td>andras4</td><td>Back András</td><td>1984-04-07</td></tr>",
                            "<tr><td>andras4</td><td>Back András</td><td>1984-04-07</td></tr>",
                            "<tr><td>andras41</td><td>Komjáti András</td><td>1997-10-25</td></tr>",
                            "<tr><td>andras41</td><td>Komjáti András</td><td>1997-10-25</td></tr>",
                            "<tr><td>andras41</td><td>Komjáti András</td><td>1997-10-25</td></tr>",
                            "<tr><td>andras41</td><td>Komjáti András</td><td>1997-10-25</td></tr>",
                            "<tr><td>andras41</td><td>Komjáti András</td><td>1997-10-25</td></tr>",
                            "<tr><td>andras41</td><td>Komjáti András</td><td>1997-10-25</td></tr>",
                            "<tr><td>andras41</td><td>Komjáti András</td><td>1997-10-25</td></tr>",
                            "<tr><td>andras41</td><td>Komjáti András</td><td>1997-10-25</td></tr>",
                            "<tr><td>andras41</td><td>Komjáti András</td><td>1997-10-25</td></tr>",
                            "<tr><td>andras41</td><td>Komjáti András</td><td>1997-10-25</td></tr>",
                            "<tr><td>andras41</td><td>Komjáti András</td><td>1997-10-25</td></tr>",
                            "<tr><td>andras41</td><td>Komjáti András</td><td>1997-10-25</td></tr>",
                            "<tr><td>andras41</td><td>Komjáti András</td><td>1997-10-25</td></tr>",
                            "<tr><td>ANDRASE</td><td>Erdei András</td><td>1997-05-29</td></tr>",
                            "<tr><td>ANDRASE</td><td>Erdei András</td><td>1997-05-29</td></tr>",
                            "<tr><td>ANDRASE</td><td>Erdei András</td><td>1997-05-29</td></tr>",
                            "<tr><td>ANDRASE</td><td>Erdei András</td><td>1997-05-29</td></tr>",
                            "<tr><td>ANDRASE</td><td>Erdei András</td><td>1997-05-29</td></tr>",
                            "<tr><td>ANDRASN</td><td>Nagy András</td><td>1980-09-05</td></tr>",
                            "<tr><td>andrea</td><td>Kiss Andrea</td><td>1993-03-25</td></tr>",
                            "<tr><td>andrea</td><td>Kiss Andrea</td><td>1993-03-25</td></tr>",
                            "<tr><td>andrea</td><td>Kiss Andrea</td><td>1993-03-25</td></tr>",
                            "<tr><td>andrea</td><td>Kiss Andrea</td><td>1993-03-25</td></tr>",
                            "<tr><td>andrea</td><td>Kiss Andrea</td><td>1993-03-25</td></tr>",
                            "<tr><td>andrea</td><td>Kiss Andrea</td><td>1993-03-25</td></tr>",
                            "<tr><td>andrea3</td><td>Szomor Andrea</td><td>1996-05-10</td></tr>",
                            "<tr><td>andrea4</td><td>Neizer Andrea</td><td>1981-05-17</td></tr>",
                            "<tr><td>andrea4</td><td>Neizer Andrea</td><td>1981-05-17</td></tr>",
                            "<tr><td>andrea4</td><td>Neizer Andrea</td><td>1981-05-17</td></tr>",
                            "<tr><td>andrea4</td><td>Neizer Andrea</td><td>1981-05-17</td></tr>",
                            "<tr><td>ANDREAT</td><td>Tornyos Andrea</td><td>1986-11-14</td></tr>",
                            "<tr><td>ANDREAT</td><td>Tornyos Andrea</td><td>1986-11-14</td></tr>",
                            "<tr><td>ANDREAT</td><td>Tornyos Andrea</td><td>1986-11-14</td></tr>",
                            "<tr><td>anett3</td><td>Pivarcsi Anett</td><td>1967-01-03</td></tr>",
                            "<tr><td>anett3</td><td>Pivarcsi Anett</td><td>1967-01-03</td></tr>",
                            "<tr><td>anett3</td><td>Pivarcsi Anett</td><td>1967-01-03</td></tr>",
                            "<tr><td>anett3</td><td>Pivarcsi Anett</td><td>1967-01-03</td></tr>",
                            "<tr><td>anett3</td><td>Pivarcsi Anett</td><td>1967-01-03</td></tr>",
                            "<tr><td>anett3</td><td>Pivarcsi Anett</td><td>1967-01-03</td></tr>",
                            "<tr><td>anett3</td><td>Pivarcsi Anett</td><td>1967-01-03</td></tr>",
                            "<tr><td>anett3</td><td>Pivarcsi Anett</td><td>1967-01-03</td></tr>",
                            "<tr><td>aniko</td><td>Tóth Anikó</td><td>1973-06-03</td></tr>",
                            "<tr><td>aniko</td><td>Tóth Anikó</td><td>1973-06-03</td></tr>",
                            "<tr><td>aniko</td><td>Tóth Anikó</td><td>1973-06-03</td></tr>",
                            "<tr><td>aniko4</td><td>Böröcz Anikó</td><td>1978-03-26</td></tr>",
                            "<tr><td>aniko4</td><td>Böröcz Anikó</td><td>1978-03-26</td></tr>",
                            "<tr><td>aniko4</td><td>Böröcz Anikó</td><td>1978-03-26</td></tr>",
                            "<tr><td>aniko4</td><td>Böröcz Anikó</td><td>1978-03-26</td></tr>",
                            "<tr><td>ANIKOS</td><td>Simon Anikó</td><td>1988-12-14</td></tr>",
                            "<tr><td>ANIKOS</td><td>Simon Anikó</td><td>1988-12-14</td></tr>",
                            "<tr><td>ANIKOS</td><td>Simon Anikó</td><td>1988-12-14</td></tr>",
                            "<tr><td>ANIKOS</td><td>Simon Anikó</td><td>1988-12-14</td></tr>",
                            "<tr><td>ANIKOS</td><td>Simon Anikó</td><td>1988-12-14</td></tr>",
                            "<tr><td>ANIKOS</td><td>Simon Anikó</td><td>1988-12-14</td></tr>",
                            "<tr><td>ANIKOS</td><td>Simon Anikó</td><td>1988-12-14</td></tr>",
                            "<tr><td>ANIKOS</td><td>Simon Anikó</td><td>1988-12-14</td></tr>",
                            "<tr><td>ANIKOS</td><td>Simon Anikó</td><td>1988-12-14</td></tr>",
                            "<tr><td>anita</td><td>Hamvay-Kovács Anita</td><td>1971-03-20</td></tr>",
                            "<tr><td>anita</td><td>Hamvay-Kovács Anita</td><td>1971-03-20</td></tr>",
                            "<tr><td>anita</td><td>Hamvay-Kovács Anita</td><td>1971-03-20</td></tr>",
                            "<tr><td>anita</td><td>Hamvay-Kovács Anita</td><td>1971-03-20</td></tr>",
                            "<tr><td>annamaria1</td><td>Szűcs Annamária</td><td>1990-04-27</td></tr>",
                            "<tr><td>annamaria1</td><td>Szűcs Annamária</td><td>1990-04-27</td></tr>",
                            "<tr><td>ANNAMARIAR</td><td>Regős Annamária</td><td>1977-09-26</td></tr>",
                            "<tr><td>ANNAMARIAR</td><td>Regős Annamária</td><td>1977-09-26</td></tr>",
                            "<tr><td>ANNAMARIAR</td><td>Regős Annamária</td><td>1977-09-26</td></tr>",
                            "<tr><td>ANNAMARIAR</td><td>Regős Annamária</td><td>1977-09-26</td></tr>",
                            "<tr><td>ANNAMARIAR</td><td>Regős Annamária</td><td>1977-09-26</td></tr>",
                            "<tr><td>ANNAMARIAR</td><td>Regős Annamária</td><td>1977-09-26</td></tr>",
                            "<tr><td>aron2</td><td>Jakab Áron</td><td>1971-04-26</td></tr>",
                            "<tr><td>aron2</td><td>Jakab Áron</td><td>1971-04-26</td></tr>",
                            "<tr><td>aron2</td><td>Jakab Áron</td><td>1971-04-26</td></tr>",
                            "<tr><td>aron2</td><td>Jakab Áron</td><td>1971-04-26</td></tr>",
                            "<tr><td>aron2</td><td>Jakab Áron</td><td>1971-04-26</td></tr>",
                            "<tr><td>aron2</td><td>Jakab Áron</td><td>1971-04-26</td></tr>",
                            "<tr><td>ARONK</td><td>Kelemen Áron</td><td>1989-08-10</td></tr>",
                            "<tr><td>ARONK</td><td>Kelemen Áron</td><td>1989-08-10</td></tr>",
                            "<tr><td>ARONK</td><td>Kelemen Áron</td><td>1989-08-10</td></tr>",
                            "<tr><td>ARONK</td><td>Kelemen Áron</td><td>1989-08-10</td></tr>",
                            "<tr><td>ARONK</td><td>Kelemen Áron</td><td>1989-08-10</td></tr>",
                            "<tr><td>ARONK</td><td>Kelemen Áron</td><td>1989-08-10</td></tr>",
                            "<tr><td>ARONK</td><td>Kelemen Áron</td><td>1989-08-10</td></tr>",
                            "<tr><td>ARONK</td><td>Kelemen Áron</td><td>1989-08-10</td></tr>",
                            "<tr><td>ARONK</td><td>Kelemen Áron</td><td>1989-08-10</td></tr>",
                            "<tr><td>ARONK</td><td>Kelemen Áron</td><td>1989-08-10</td></tr>",
                            "<tr><td>ARONK</td><td>Kelemen Áron</td><td>1989-08-10</td></tr>",
                            "<tr><td>ARONK</td><td>Kelemen Áron</td><td>1989-08-10</td></tr>",
                            "<tr><td>ARONK</td><td>Kelemen Áron</td><td>1989-08-10</td></tr>",
                            "<tr><td>arpad2</td><td>Ötvös Árpád</td><td>1990-06-08</td></tr>",
                            "<tr><td>arpad2</td><td>Ötvös Árpád</td><td>1990-06-08</td></tr>",
                            "<tr><td>arpad2</td><td>Ötvös Árpád</td><td>1990-06-08</td></tr>",
                            "<tr><td>arpad2</td><td>Ötvös Árpád</td><td>1990-06-08</td></tr>",
                            "<tr><td>arpad2</td><td>Ötvös Árpád</td><td>1990-06-08</td></tr>",
                            "<tr><td>arpad2</td><td>Ötvös Árpád</td><td>1990-06-08</td></tr>",
                            "<tr><td>arpad2</td><td>Ötvös Árpád</td><td>1990-06-08</td></tr>",
                            "<tr><td>ARPADH</td><td>Horváth Árpád</td><td>1990-05-18</td></tr>",
                            "<tr><td>ARPADH</td><td>Horváth Árpád</td><td>1990-05-18</td></tr>",
                            "<tr><td>ARPADH</td><td>Horváth Árpád</td><td>1990-05-18</td></tr>",
                            "<tr><td>ARPADH</td><td>Horváth Árpád</td><td>1990-05-18</td></tr>",
                            "<tr><td>ARPADH</td><td>Horváth Árpád</td><td>1990-05-18</td></tr>",
                            "<tr><td>ARPADH</td><td>Horváth Árpád</td><td>1990-05-18</td></tr>",
                            "<tr><td>ARPADH</td><td>Horváth Árpád</td><td>1990-05-18</td></tr>",
                            "<tr><td>ARPADM</td><td>Móricz Árpád</td><td>1986-04-20</td></tr>",
                            "<tr><td>ARPADM</td><td>Móricz Árpád</td><td>1986-04-20</td></tr>",
                            "<tr><td>ARPADM</td><td>Móricz Árpád</td><td>1986-04-20</td></tr>",
                            "<tr><td>ARPADM</td><td>Móricz Árpád</td><td>1986-04-20</td></tr>",
                            "<tr><td>ARPADM</td><td>Móricz Árpád</td><td>1986-04-20</td></tr>",
                            "<tr><td>ARPADM</td><td>Móricz Árpád</td><td>1986-04-20</td></tr>",
                            "<tr><td>attila</td><td>Csóti Attila</td><td>1979-12-25</td></tr>",
                            "<tr><td>attila</td><td>Csóti Attila</td><td>1979-12-25</td></tr>",
                            "<tr><td>attila</td><td>Csóti Attila</td><td>1979-12-25</td></tr>",
                            "<tr><td>attila1</td><td>Gulyás Attila</td><td>1982-08-16</td></tr>",
                            "<tr><td>attila1</td><td>Gulyás Attila</td><td>1982-08-16</td></tr>",
                            "<tr><td>attila1</td><td>Gulyás Attila</td><td>1982-08-16</td></tr>",
                            "<tr><td>attila1</td><td>Gulyás Attila</td><td>1982-08-16</td></tr>",
                            "<tr><td>attila1</td><td>Gulyás Attila</td><td>1982-08-16</td></tr>",
                            "<tr><td>attila1</td><td>Gulyás Attila</td><td>1982-08-16</td></tr>",
                            "<tr><td>attila4</td><td>Baróti Attila</td><td>1975-11-06</td></tr>",
                            "<tr><td>attila4</td><td>Baróti Attila</td><td>1975-11-06</td></tr>",
                            "<tr><td>attila4</td><td>Baróti Attila</td><td>1975-11-06</td></tr>",
                            "<tr><td>ATTILAO</td><td>Opra Attila</td><td>1995-05-08</td></tr>",
                            "<tr><td>ATTILAO</td><td>Opra Attila</td><td>1995-05-08</td></tr>",
                            "<tr><td>ATTILAO</td><td>Opra Attila</td><td>1995-05-08</td></tr>",
                            "<tr><td>ATTILAO</td><td>Opra Attila</td><td>1995-05-08</td></tr>",
                            "<tr><td>balazs1</td><td>Bozsik Balázs</td><td>1992-11-03</td></tr>",
                            "<tr><td>balazs1</td><td>Bozsik Balázs</td><td>1992-11-03</td></tr>",
                            "<tr><td>balazs1</td><td>Bozsik Balázs</td><td>1992-11-03</td></tr>",
                            "<tr><td>balazs1</td><td>Bozsik Balázs</td><td>1992-11-03</td></tr>",
                            "<tr><td>balazs1</td><td>Bozsik Balázs</td><td>1992-11-03</td></tr>",
                            "<tr><td>balazs1</td><td>Bozsik Balázs</td><td>1992-11-03</td></tr>",
                            "<tr><td>balazs2</td><td>Szűcs Balázs</td><td>1984-10-31</td></tr>",
                            "<tr><td>balazs2</td><td>Szűcs Balázs</td><td>1984-10-31</td></tr>",
                            "<tr><td>balazs2</td><td>Szűcs Balázs</td><td>1984-10-31</td></tr>",
                            "<tr><td>balazs2</td><td>Szűcs Balázs</td><td>1984-10-31</td></tr>",
                            "<tr><td>balazs2</td><td>Szűcs Balázs</td><td>1984-10-31</td></tr>",
                            "<tr><td>balazs2</td><td>Szűcs Balázs</td><td>1984-10-31</td></tr>",
                            "<tr><td>balazs2</td><td>Szűcs Balázs</td><td>1984-10-31</td></tr>",
                            "<tr><td>balazs2</td><td>Szűcs Balázs</td><td>1984-10-31</td></tr>",
                            "<tr><td>balazs2</td><td>Szűcs Balázs</td><td>1984-10-31</td></tr>",
                            "<tr><td>balazs2</td><td>Szűcs Balázs</td><td>1984-10-31</td></tr>",
                            "<tr><td>balazs3</td><td>Bakódy Balázs</td><td>1986-09-09</td></tr>",
                            "<tr><td>balazs3</td><td>Bakódy Balázs</td><td>1986-09-09</td></tr>",
                            "<tr><td>balazs3</td><td>Bakódy Balázs</td><td>1986-09-09</td></tr>",
                            "<tr><td>balazs3</td><td>Bakódy Balázs</td><td>1986-09-09</td></tr>",
                            "<tr><td>balazs3</td><td>Bakódy Balázs</td><td>1986-09-09</td></tr>",
                            "<tr><td>balazs3</td><td>Bakódy Balázs</td><td>1986-09-09</td></tr>",
                            "<tr><td>balint</td><td>Horváth Bálint</td><td>1996-03-17</td></tr>",
                            "<tr><td>balint</td><td>Horváth Bálint</td><td>1996-03-17</td></tr>",
                            "<tr><td>balint</td><td>Horváth Bálint</td><td>1996-03-17</td></tr>",
                            "<tr><td>balint1</td><td>Molnár Bálint</td><td>1989-08-24</td></tr>",
                            "<tr><td>balint1</td><td>Molnár Bálint</td><td>1989-08-24</td></tr>",
                            "<tr><td>balint1</td><td>Molnár Bálint</td><td>1989-08-24</td></tr>",
                            "<tr><td>balint1</td><td>Molnár Bálint</td><td>1989-08-24</td></tr>",
                            "<tr><td>balint1</td><td>Molnár Bálint</td><td>1989-08-24</td></tr>",
                            "<tr><td>balint1</td><td>Molnár Bálint</td><td>1989-08-24</td></tr>",
                            "<tr><td>balint1</td><td>Molnár Bálint</td><td>1989-08-24</td></tr>",
                            "<tr><td>balint1</td><td>Molnár Bálint</td><td>1989-08-24</td></tr>",
                            "<tr><td>balint1</td><td>Molnár Bálint</td><td>1989-08-24</td></tr>",
                            "<tr><td>balint1</td><td>Molnár Bálint</td><td>1989-08-24</td></tr>",
                            "<tr><td>balint2</td><td>Vukasinovity Bálint</td><td>1997-09-03</td></tr>",
                            "<tr><td>balint2</td><td>Vukasinovity Bálint</td><td>1997-09-03</td></tr>",
                            "<tr><td>balu</td><td>Endresz Bálint</td><td>1976-08-01</td></tr>",
                            "<tr><td>balu</td><td>Endresz Bálint</td><td>1976-08-01</td></tr>",
                            "<tr><td>beata4</td><td>Bagi Beáta</td><td>1994-03-19</td></tr>",
                            "<tr><td>beata4</td><td>Bagi Beáta</td><td>1994-03-19</td></tr>",
                            "<tr><td>beata4</td><td>Bagi Beáta</td><td>1994-03-19</td></tr>",
                            "<tr><td>beata4</td><td>Bagi Beáta</td><td>1994-03-19</td></tr>",
                            "<tr><td>beata4</td><td>Bagi Beáta</td><td>1994-03-19</td></tr>",
                            "<tr><td>beata4</td><td>Bagi Beáta</td><td>1994-03-19</td></tr>",
                            "<tr><td>BEATRIXK</td><td>Kerényi Beatrix</td><td>1972-04-06</td></tr>",
                            "<tr><td>BEATRIXK</td><td>Kerényi Beatrix</td><td>1972-04-06</td></tr>",
                            "<tr><td>BEATRIXK</td><td>Kerényi Beatrix</td><td>1972-04-06</td></tr>",
                            "<tr><td>BEATRIXK</td><td>Kerényi Beatrix</td><td>1972-04-06</td></tr>",
                            "<tr><td>BEATRIXK</td><td>Kerényi Beatrix</td><td>1972-04-06</td></tr>",
                            "<tr><td>BEATRIXK</td><td>Kerényi Beatrix</td><td>1972-04-06</td></tr>",
                            "<tr><td>BEATRIXK</td><td>Kerényi Beatrix</td><td>1972-04-06</td></tr>",
                            "<tr><td>BEATRIXK</td><td>Kerényi Beatrix</td><td>1972-04-06</td></tr>",
                            "<tr><td>BEATRIXK</td><td>Kerényi Beatrix</td><td>1972-04-06</td></tr>",
                            "<tr><td>BEATRIXS</td><td>Szekendi Beatrix</td><td>1981-04-06</td></tr>",
                            "<tr><td>BEATRIXS</td><td>Szekendi Beatrix</td><td>1981-04-06</td></tr>",
                            "<tr><td>BEATRIXS</td><td>Szekendi Beatrix</td><td>1981-04-06</td></tr>",
                            "<tr><td>BEATRIXS</td><td>Szekendi Beatrix</td><td>1981-04-06</td></tr>",
                            "<tr><td>BEATRIXS</td><td>Szekendi Beatrix</td><td>1981-04-06</td></tr>",
                            "<tr><td>BEATRIXS</td><td>Szekendi Beatrix</td><td>1981-04-06</td></tr>",
                            "<tr><td>BELAF</td><td>Farkas Béla</td><td>1995-02-24</td></tr>",
                            "<tr><td>BELAF</td><td>Farkas Béla</td><td>1995-02-24</td></tr>",
                            "<tr><td>BELAF</td><td>Farkas Béla</td><td>1995-02-24</td></tr>",
                            "<tr><td>BELAF</td><td>Farkas Béla</td><td>1995-02-24</td></tr>",
                            "<tr><td>BELAF</td><td>Farkas Béla</td><td>1995-02-24</td></tr>",
                            "<tr><td>BELAF</td><td>Farkas Béla</td><td>1995-02-24</td></tr>",
                            "<tr><td>bence</td><td>Győrffy Bence</td><td>1987-07-09</td></tr>",
                            "<tr><td>bence</td><td>Győrffy Bence</td><td>1987-07-09</td></tr>",
                            "<tr><td>bence</td><td>Győrffy Bence</td><td>1987-07-09</td></tr>",
                            "<tr><td>bence</td><td>Győrffy Bence</td><td>1987-07-09</td></tr>",
                            "<tr><td>bence</td><td>Győrffy Bence</td><td>1987-07-09</td></tr>",
                            "<tr><td>bence</td><td>Győrffy Bence</td><td>1987-07-09</td></tr>",
                            "<tr><td>bence</td><td>Győrffy Bence</td><td>1987-07-09</td></tr>",
                            "<tr><td>bence</td><td>Győrffy Bence</td><td>1987-07-09</td></tr>",
                            "<tr><td>bence</td><td>Győrffy Bence</td><td>1987-07-09</td></tr>",
                            "<tr><td>BENCEB</td><td>Bajusz Bence</td><td>1973-06-21</td></tr>",
                            "<tr><td>BENCEB</td><td>Bajusz Bence</td><td>1973-06-21</td></tr>",
                            "<tr><td>BENCEB</td><td>Bajusz Bence</td><td>1973-06-21</td></tr>",
                            "<tr><td>BENCEB</td><td>Bajusz Bence</td><td>1973-06-21</td></tr>",
                            "<tr><td>BENCEB</td><td>Bajusz Bence</td><td>1973-06-21</td></tr>",
                            "<tr><td>BENCEB</td><td>Bajusz Bence</td><td>1973-06-21</td></tr>",
                            "<tr><td>bernadett1</td><td>Simon Bernadett</td><td>1984-10-13</td></tr>",
                            "<tr><td>bernadett1</td><td>Simon Bernadett</td><td>1984-10-13</td></tr>",
                            "<tr><td>bernadett1</td><td>Simon Bernadett</td><td>1984-10-13</td></tr>",
                            "<tr><td>bernadett1</td><td>Simon Bernadett</td><td>1984-10-13</td></tr>",
                            "<tr><td>bernadett1</td><td>Simon Bernadett</td><td>1984-10-13</td></tr>",
                            "<tr><td>bernadett1</td><td>Simon Bernadett</td><td>1984-10-13</td></tr>",
                            "<tr><td>bernadett1</td><td>Simon Bernadett</td><td>1984-10-13</td></tr>",
                            "<tr><td>bernadett2</td><td>Kovács Bernadett</td><td>1996-08-20</td></tr>",
                            "<tr><td>bernadett2</td><td>Kovács Bernadett</td><td>1996-08-20</td></tr>",
                            "<tr><td>bernadett2</td><td>Kovács Bernadett</td><td>1996-08-20</td></tr>",
                            "<tr><td>bernadett2</td><td>Kovács Bernadett</td><td>1996-08-20</td></tr>",
                            "<tr><td>bernadett2</td><td>Kovács Bernadett</td><td>1996-08-20</td></tr>",
                            "<tr><td>bernadett2</td><td>Kovács Bernadett</td><td>1996-08-20</td></tr>",
                            "<tr><td>bernadett2</td><td>Kovács Bernadett</td><td>1996-08-20</td></tr>",
                            "<tr><td>bernadett2</td><td>Kovács Bernadett</td><td>1996-08-20</td></tr>",
                            "<tr><td>BERNADETTO</td><td>Orbán Bernadett</td><td>1987-12-07</td></tr>",
                            "<tr><td>BERNADETTO</td><td>Orbán Bernadett</td><td>1987-12-07</td></tr>",
                            "<tr><td>BERNADETTO</td><td>Orbán Bernadett</td><td>1987-12-07</td></tr>",
                            "<tr><td>BERNADETTO</td><td>Orbán Bernadett</td><td>1987-12-07</td></tr>",
                            "<tr><td>BERNADETTO</td><td>Orbán Bernadett</td><td>1987-12-07</td></tr>",
                            "<tr><td>BERNADETTO</td><td>Orbán Bernadett</td><td>1987-12-07</td></tr>",
                            "<tr><td>BERNADETTO</td><td>Orbán Bernadett</td><td>1987-12-07</td></tr>",
                            "<tr><td>bertalan</td><td>Csiger Bertalan</td><td>1977-10-15</td></tr>",
                            "<tr><td>bertalan</td><td>Csiger Bertalan</td><td>1977-10-15</td></tr>",
                            "<tr><td>bertalan</td><td>Csiger Bertalan</td><td>1977-10-15</td></tr>",
                            "<tr><td>bertalan</td><td>Csiger Bertalan</td><td>1977-10-15</td></tr>",
                            "<tr><td>bertalan</td><td>Csiger Bertalan</td><td>1977-10-15</td></tr>",
                            "<tr><td>bertalan</td><td>Csiger Bertalan</td><td>1977-10-15</td></tr>",
                            "<tr><td>brigitta</td><td>Székely Brigitta</td><td>1978-09-13</td></tr>",
                            "<tr><td>brigitta</td><td>Székely Brigitta</td><td>1978-09-13</td></tr>",
                            "<tr><td>brigitta</td><td>Székely Brigitta</td><td>1978-09-13</td></tr>",
                            "<tr><td>brigitta</td><td>Székely Brigitta</td><td>1978-09-13</td></tr>",
                            "<tr><td>brigitta</td><td>Székely Brigitta</td><td>1978-09-13</td></tr>",
                            "<tr><td>brigitta3</td><td>Pataki Brigitta</td><td>1991-05-23</td></tr>",
                            "<tr><td>brigitta3</td><td>Pataki Brigitta</td><td>1991-05-23</td></tr>",
                            "<tr><td>brigitta3</td><td>Pataki Brigitta</td><td>1991-05-23</td></tr>",
                            "<tr><td>brigitta3</td><td>Pataki Brigitta</td><td>1991-05-23</td></tr>",
                            "<tr><td>brigitta3</td><td>Pataki Brigitta</td><td>1991-05-23</td></tr>",
                            "<tr><td>csongor3</td><td>Nagymihály Csongor</td><td>1984-03-05</td></tr>",
                            "<tr><td>csongor3</td><td>Nagymihály Csongor</td><td>1984-03-05</td></tr>",
                            "<tr><td>csongor3</td><td>Nagymihály Csongor</td><td>1984-03-05</td></tr>",
                            "<tr><td>csongor3</td><td>Nagymihály Csongor</td><td>1984-03-05</td></tr>",
                            "<tr><td>csongor3</td><td>Nagymihály Csongor</td><td>1984-03-05</td></tr>",
                            "<tr><td>csongor3</td><td>Nagymihály Csongor</td><td>1984-03-05</td></tr>",
                            "<tr><td>csongor3</td><td>Nagymihály Csongor</td><td>1984-03-05</td></tr>",
                            "<tr><td>csongor3</td><td>Nagymihály Csongor</td><td>1984-03-05</td></tr>",
                            "<tr><td>dani</td><td>Vörös Dániel</td><td>1986-10-14</td></tr>",
                            "<tr><td>dani</td><td>Vörös Dániel</td><td>1986-10-14</td></tr>",
                            "<tr><td>dani</td><td>Vörös Dániel</td><td>1986-10-14</td></tr>",
                            "<tr><td>dani</td><td>Vörös Dániel</td><td>1986-10-14</td></tr>",
                            "<tr><td>dani</td><td>Vörös Dániel</td><td>1986-10-14</td></tr>",
                            "<tr><td>dani</td><td>Vörös Dániel</td><td>1986-10-14</td></tr>",
                            "<tr><td>dani</td><td>Vörös Dániel</td><td>1986-10-14</td></tr>",
                            "<tr><td>dani</td><td>Vörös Dániel</td><td>1986-10-14</td></tr>",
                            "<tr><td>dani</td><td>Vörös Dániel</td><td>1986-10-14</td></tr>",
                            "<tr><td>daniel</td><td>Rácz Dániel</td><td>1978-11-28</td></tr>",
                            "<tr><td>daniel</td><td>Rácz Dániel</td><td>1978-11-28</td></tr>",
                            "<tr><td>daniel</td><td>Rácz Dániel</td><td>1978-11-28</td></tr>",
                            "<tr><td>daniel</td><td>Rácz Dániel</td><td>1978-11-28</td></tr>",
                            "<tr><td>daniel</td><td>Rácz Dániel</td><td>1978-11-28</td></tr>",
                            "<tr><td>daniel</td><td>Rácz Dániel</td><td>1978-11-28</td></tr>",
                            "<tr><td>daniel</td><td>Rácz Dániel</td><td>1978-11-28</td></tr>",
                            "<tr><td>daniel</td><td>Rácz Dániel</td><td>1978-11-28</td></tr>",
                            "<tr><td>daniel</td><td>Rácz Dániel</td><td>1978-11-28</td></tr>",
                            "<tr><td>daniel1</td><td>Keszler Dániel</td><td>1969-07-16</td></tr>",
                            "<tr><td>daniel1</td><td>Keszler Dániel</td><td>1969-07-16</td></tr>",
                            "<tr><td>daniel1</td><td>Keszler Dániel</td><td>1969-07-16</td></tr>",
                            "<tr><td>daniel1</td><td>Keszler Dániel</td><td>1969-07-16</td></tr>",
                            "<tr><td>daniel1</td><td>Keszler Dániel</td><td>1969-07-16</td></tr>",
                            "<tr><td>daniel1</td><td>Keszler Dániel</td><td>1969-07-16</td></tr>",
                            "<tr><td>daniel1</td><td>Keszler Dániel</td><td>1969-07-16</td></tr>",
                            "<tr><td>david</td><td>Ambrus Dávid</td><td>1974-02-11</td></tr>",
                            "<tr><td>david</td><td>Ambrus Dávid</td><td>1974-02-11</td></tr>",
                            "<tr><td>david</td><td>Ambrus Dávid</td><td>1974-02-11</td></tr>",
                            "<tr><td>david</td><td>Ambrus Dávid</td><td>1974-02-11</td></tr>",
                            "<tr><td>david</td><td>Ambrus Dávid</td><td>1974-02-11</td></tr>",
                            "<tr><td>david</td><td>Ambrus Dávid</td><td>1974-02-11</td></tr>",
                            "<tr><td>david</td><td>Ambrus Dávid</td><td>1974-02-11</td></tr>",
                            "<tr><td>david</td><td>Ambrus Dávid</td><td>1974-02-11</td></tr>",
                            "<tr><td>david</td><td>Ambrus Dávid</td><td>1974-02-11</td></tr>",
                            "<tr><td>david1</td><td>Sobják Dávid</td><td>1970-08-16</td></tr>",
                            "<tr><td>david1</td><td>Sobják Dávid</td><td>1970-08-16</td></tr>",
                            "<tr><td>david1</td><td>Sobják Dávid</td><td>1970-08-16</td></tr>",
                            "<tr><td>david1</td><td>Sobják Dávid</td><td>1970-08-16</td></tr>",
                            "<tr><td>david1</td><td>Sobják Dávid</td><td>1970-08-16</td></tr>",
                            "<tr><td>david1</td><td>Sobják Dávid</td><td>1970-08-16</td></tr>",
                            "<tr><td>david4</td><td>Berta Dávid</td><td>1990-10-08</td></tr>",
                            "<tr><td>debora</td><td>Barna Debóra</td><td>1976-10-14</td></tr>",
                            "<tr><td>debora</td><td>Barna Debóra</td><td>1976-10-14</td></tr>",
                            "<tr><td>debora</td><td>Barna Debóra</td><td>1976-10-14</td></tr>",
                            "<tr><td>debora</td><td>Barna Debóra</td><td>1976-10-14</td></tr>",
                            "<tr><td>denes</td><td>Tömböly Dénes</td><td>1975-03-14</td></tr>",
                            "<tr><td>denes</td><td>Tömböly Dénes</td><td>1975-03-14</td></tr>",
                            "<tr><td>denes</td><td>Tömböly Dénes</td><td>1975-03-14</td></tr>",
                            "<tr><td>denes</td><td>Tömböly Dénes</td><td>1975-03-14</td></tr>",
                            "<tr><td>denes</td><td>Tömböly Dénes</td><td>1975-03-14</td></tr>",
                            "<tr><td>denes</td><td>Tömböly Dénes</td><td>1975-03-14</td></tr>",
                            "<tr><td>dora3</td><td>Sarodi Dóra</td><td>1995-05-18</td></tr>",
                            "<tr><td>dora3</td><td>Sarodi Dóra</td><td>1995-05-18</td></tr>",
                            "<tr><td>dora3</td><td>Sarodi Dóra</td><td>1995-05-18</td></tr>",
                            "<tr><td>dora3</td><td>Sarodi Dóra</td><td>1995-05-18</td></tr>",
                            "<tr><td>dora3</td><td>Sarodi Dóra</td><td>1995-05-18</td></tr>",
                            "<tr><td>edit</td><td>Bittmann Edit</td><td>1984-04-20</td></tr>",
                            "<tr><td>edit</td><td>Bittmann Edit</td><td>1984-04-20</td></tr>",
                            "<tr><td>edit</td><td>Bittmann Edit</td><td>1984-04-20</td></tr>",
                            "<tr><td>edit</td><td>Bittmann Edit</td><td>1984-04-20</td></tr>",
                            "<tr><td>edit</td><td>Bittmann Edit</td><td>1984-04-20</td></tr>",
                            "<tr><td>edit</td><td>Bittmann Edit</td><td>1984-04-20</td></tr>",
                            "<tr><td>edit</td><td>Bittmann Edit</td><td>1984-04-20</td></tr>",
                            "<tr><td>emese</td><td>Kuruc Emese</td><td>1989-08-10</td></tr>",
                            "<tr><td>emese</td><td>Kuruc Emese</td><td>1989-08-10</td></tr>",
                            "<tr><td>emese</td><td>Kuruc Emese</td><td>1989-08-10</td></tr>",
                            "<tr><td>emese</td><td>Kuruc Emese</td><td>1989-08-10</td></tr>",
                            "<tr><td>emese</td><td>Kuruc Emese</td><td>1989-08-10</td></tr>",
                            "<tr><td>emese</td><td>Kuruc Emese</td><td>1989-08-10</td></tr>",
                            "<tr><td>emese</td><td>Kuruc Emese</td><td>1989-08-10</td></tr>",
                            "<tr><td>eszter</td><td>Molnár Eszter</td><td>1987-05-10</td></tr>",
                            "<tr><td>eszter</td><td>Molnár Eszter</td><td>1987-05-10</td></tr>",
                            "<tr><td>eszter</td><td>Molnár Eszter</td><td>1987-05-10</td></tr>",
                            "<tr><td>eszter</td><td>Molnár Eszter</td><td>1987-05-10</td></tr>",
                            "<tr><td>eszter2</td><td>Balogh Eszter</td><td>1998-01-31</td></tr>",
                            "<tr><td>eszter2</td><td>Balogh Eszter</td><td>1998-01-31</td></tr>",
                            "<tr><td>eszter2</td><td>Balogh Eszter</td><td>1998-01-31</td></tr>",
                            "<tr><td>eszter2</td><td>Balogh Eszter</td><td>1998-01-31</td></tr>",
                            "<tr><td>eszter2</td><td>Balogh Eszter</td><td>1998-01-31</td></tr>",
                            "<tr><td>eszter2</td><td>Balogh Eszter</td><td>1998-01-31</td></tr>",
                            "<tr><td>eszter2</td><td>Balogh Eszter</td><td>1998-01-31</td></tr>",
                            "<tr><td>eszter2</td><td>Balogh Eszter</td><td>1998-01-31</td></tr>",
                            "<tr><td>eszter2</td><td>Balogh Eszter</td><td>1998-01-31</td></tr>",
                            "<tr><td>eszter2</td><td>Balogh Eszter</td><td>1998-01-31</td></tr>",
                            "<tr><td>eszter4</td><td>Fülöp Eszter</td><td>1993-06-28</td></tr>",
                            "<tr><td>eszter4</td><td>Fülöp Eszter</td><td>1993-06-28</td></tr>",
                            "<tr><td>eszter4</td><td>Fülöp Eszter</td><td>1993-06-28</td></tr>",
                            "<tr><td>ESZTERE</td><td>Érsek Eszter</td><td>1978-08-28</td></tr>",
                            "<tr><td>ESZTERE</td><td>Érsek Eszter</td><td>1978-08-28</td></tr>",
                            "<tr><td>ESZTERE</td><td>Érsek Eszter</td><td>1978-08-28</td></tr>",
                            "<tr><td>ESZTERE</td><td>Érsek Eszter</td><td>1978-08-28</td></tr>",
                            "<tr><td>eva</td><td>Enyedi Éva</td><td>1967-06-30</td></tr>",
                            "<tr><td>eva</td><td>Enyedi Éva</td><td>1967-06-30</td></tr>",
                            "<tr><td>eva2</td><td>Perlinger Éva</td><td>1971-08-19</td></tr>",
                            "<tr><td>eva2</td><td>Perlinger Éva</td><td>1971-08-19</td></tr>",
                            "<tr><td>eva2</td><td>Perlinger Éva</td><td>1971-08-19</td></tr>",
                            "<tr><td>eva2</td><td>Perlinger Éva</td><td>1971-08-19</td></tr>",
                            "<tr><td>EVAV</td><td>Viktor Éva</td><td>1980-12-26</td></tr>",
                            "<tr><td>EVAV</td><td>Viktor Éva</td><td>1980-12-26</td></tr>",
                            "<tr><td>EVAV</td><td>Viktor Éva</td><td>1980-12-26</td></tr>",
                            "<tr><td>EVAV</td><td>Viktor Éva</td><td>1980-12-26</td></tr>",
                            "<tr><td>EVAV</td><td>Viktor Éva</td><td>1980-12-26</td></tr>",
                            "<tr><td>ferenc1</td><td>Orosz Ferenc</td><td>1983-10-08</td></tr>",
                            "<tr><td>ferenc1</td><td>Orosz Ferenc</td><td>1983-10-08</td></tr>",
                            "<tr><td>ferenc1</td><td>Orosz Ferenc</td><td>1983-10-08</td></tr>",
                            "<tr><td>ferenc1</td><td>Orosz Ferenc</td><td>1983-10-08</td></tr>",
                            "<tr><td>fruzsina4</td><td>Frank Fruzsina</td><td>1996-08-16</td></tr>",
                            "<tr><td>fruzsina4</td><td>Frank Fruzsina</td><td>1996-08-16</td></tr>",
                            "<tr><td>fruzsina4</td><td>Frank Fruzsina</td><td>1996-08-16</td></tr>",
                            "<tr><td>fruzsina4</td><td>Frank Fruzsina</td><td>1996-08-16</td></tr>",
                            "<tr><td>fruzsina4</td><td>Frank Fruzsina</td><td>1996-08-16</td></tr>",
                            "<tr><td>fruzsina4</td><td>Frank Fruzsina</td><td>1996-08-16</td></tr>",
                            "<tr><td>fruzsina4</td><td>Frank Fruzsina</td><td>1996-08-16</td></tr>",
                            "<tr><td>fruzsina4</td><td>Frank Fruzsina</td><td>1996-08-16</td></tr>",
                            "<tr><td>gabor1</td><td>Köves Gábor</td><td>1973-07-15</td></tr>",
                            "<tr><td>gabor1</td><td>Köves Gábor</td><td>1973-07-15</td></tr>",
                            "<tr><td>gabor1</td><td>Köves Gábor</td><td>1973-07-15</td></tr>",
                            "<tr><td>gabor1</td><td>Köves Gábor</td><td>1973-07-15</td></tr>",
                            "<tr><td>gabor1</td><td>Köves Gábor</td><td>1973-07-15</td></tr>",
                            "<tr><td>gabor1</td><td>Köves Gábor</td><td>1973-07-15</td></tr>",
                            "<tr><td>gabor4</td><td>Telek Gábor</td><td>1987-03-15</td></tr>",
                            "<tr><td>gabor4</td><td>Telek Gábor</td><td>1987-03-15</td></tr>",
                            "<tr><td>gabor4</td><td>Telek Gábor</td><td>1987-03-15</td></tr>",
                            "<tr><td>gabor4</td><td>Telek Gábor</td><td>1987-03-15</td></tr>",
                            "<tr><td>gabriella1</td><td>Nagy Gabriella</td><td>1982-11-01</td></tr>",
                            "<tr><td>gabriella1</td><td>Nagy Gabriella</td><td>1982-11-01</td></tr>",
                            "<tr><td>gabriella1</td><td>Nagy Gabriella</td><td>1982-11-01</td></tr>",
                            "<tr><td>gabriella1</td><td>Nagy Gabriella</td><td>1982-11-01</td></tr>",
                            "<tr><td>gabriella1</td><td>Nagy Gabriella</td><td>1982-11-01</td></tr>",
                            "<tr><td>gabriella1</td><td>Nagy Gabriella</td><td>1982-11-01</td></tr>",
                            "<tr><td>gabriella10</td><td>Vida Gabriella</td><td>1969-06-18</td></tr>",
                            "<tr><td>georgij</td><td>Nyíri Georgij</td><td>1983-02-23</td></tr>",
                            "<tr><td>georgij</td><td>Nyíri Georgij</td><td>1983-02-23</td></tr>",
                            "<tr><td>georgij</td><td>Nyíri Georgij</td><td>1983-02-23</td></tr>",
                            "<tr><td>georgij</td><td>Nyíri Georgij</td><td>1983-02-23</td></tr>",
                            "<tr><td>gusztav</td><td>Bárci Gusztáv</td><td>1967-02-25</td></tr>",
                            "<tr><td>gusztav</td><td>Bárci Gusztáv</td><td>1967-02-25</td></tr>",
                            "<tr><td>gusztav</td><td>Bárci Gusztáv</td><td>1967-02-25</td></tr>",
                            "<tr><td>gusztav</td><td>Bárci Gusztáv</td><td>1967-02-25</td></tr>",
                            "<tr><td>gusztav</td><td>Bárci Gusztáv</td><td>1967-02-25</td></tr>",
                            "<tr><td>GYONGYIK</td><td>Kornseé Gyöngyi</td><td>1974-06-07</td></tr>",
                            "<tr><td>GYONGYIK</td><td>Kornseé Gyöngyi</td><td>1974-06-07</td></tr>",
                            "<tr><td>GYONGYIK</td><td>Kornseé Gyöngyi</td><td>1974-06-07</td></tr>",
                            "<tr><td>GYONGYIK</td><td>Kornseé Gyöngyi</td><td>1974-06-07</td></tr>",
                            "<tr><td>GYONGYIK</td><td>Kornseé Gyöngyi</td><td>1974-06-07</td></tr>",
                            "<tr><td>GYONGYIK</td><td>Kornseé Gyöngyi</td><td>1974-06-07</td></tr>",
                            "<tr><td>GYONGYIK</td><td>Kornseé Gyöngyi</td><td>1974-06-07</td></tr>",
                            "<tr><td>GYORGYO</td><td>Oroszi György</td><td>1980-03-23</td></tr>",
                            "<tr><td>GYORGYO</td><td>Oroszi György</td><td>1980-03-23</td></tr>",
                            "<tr><td>GYORGYO</td><td>Oroszi György</td><td>1980-03-23</td></tr>",
                            "<tr><td>GYORGYO</td><td>Oroszi György</td><td>1980-03-23</td></tr>",
                            "<tr><td>GYORGYO</td><td>Oroszi György</td><td>1980-03-23</td></tr>",
                            "<tr><td>GYORGYO</td><td>Oroszi György</td><td>1980-03-23</td></tr>",
                            "<tr><td>GYORGYO</td><td>Oroszi György</td><td>1980-03-23</td></tr>",
                            "<tr><td>GYORGYO</td><td>Oroszi György</td><td>1980-03-23</td></tr>",
                            "<tr><td>henrik3</td><td>Nádudvari Henrik</td><td>1986-12-05</td></tr>",
                            "<tr><td>henrik3</td><td>Nádudvari Henrik</td><td>1986-12-05</td></tr>",
                            "<tr><td>henrik3</td><td>Nádudvari Henrik</td><td>1986-12-05</td></tr>",
                            "<tr><td>IBOLYAA</td><td>Andor Ibolya</td><td>1983-11-27</td></tr>",
                            "<tr><td>IBOLYAA</td><td>Andor Ibolya</td><td>1983-11-27</td></tr>",
                            "<tr><td>IBOLYAA</td><td>Andor Ibolya</td><td>1983-11-27</td></tr>",
                            "<tr><td>ilona3</td><td>Bosnyák Ilona</td><td>1990-08-06</td></tr>",
                            "<tr><td>ilona3</td><td>Bosnyák Ilona</td><td>1990-08-06</td></tr>",
                            "<tr><td>ilona3</td><td>Bosnyák Ilona</td><td>1990-08-06</td></tr>",
                            "<tr><td>ilona3</td><td>Bosnyák Ilona</td><td>1990-08-06</td></tr>",
                            "<tr><td>imre</td><td>Búza Imre</td><td>1988-09-30</td></tr>",
                            "<tr><td>imre</td><td>Búza Imre</td><td>1988-09-30</td></tr>",
                            "<tr><td>imre1</td><td>Papp Imre</td><td>1976-06-25</td></tr>",
                            "<tr><td>imre1</td><td>Papp Imre</td><td>1976-06-25</td></tr>",
                            "<tr><td>imre1</td><td>Papp Imre</td><td>1976-06-25</td></tr>",
                            "<tr><td>imre1</td><td>Papp Imre</td><td>1976-06-25</td></tr>",
                            "<tr><td>imre1</td><td>Papp Imre</td><td>1976-06-25</td></tr>",
                            "<tr><td>imre1</td><td>Papp Imre</td><td>1976-06-25</td></tr>",
                            "<tr><td>imre1</td><td>Papp Imre</td><td>1976-06-25</td></tr>",
                            "<tr><td>istvan</td><td>Soós István</td><td>1986-06-28</td></tr>",
                            "<tr><td>istvan</td><td>Soós István</td><td>1986-06-28</td></tr>",
                            "<tr><td>istvan</td><td>Soós István</td><td>1986-06-28</td></tr>",
                            "<tr><td>istvan1</td><td>Vizi István</td><td>1997-12-01</td></tr>",
                            "<tr><td>istvan1</td><td>Vizi István</td><td>1997-12-01</td></tr>",
                            "<tr><td>istvan1</td><td>Vizi István</td><td>1997-12-01</td></tr>",
                            "<tr><td>istvan1</td><td>Vizi István</td><td>1997-12-01</td></tr>",
                            "<tr><td>ISTVANV</td><td>Varga István</td><td>1989-04-09</td></tr>",
                            "<tr><td>ISTVANV</td><td>Varga István</td><td>1989-04-09</td></tr>",
                            "<tr><td>janos3</td><td>Harangozó János</td><td>1967-11-02</td></tr>",
                            "<tr><td>janos3</td><td>Harangozó János</td><td>1967-11-02</td></tr>",
                            "<tr><td>janos3</td><td>Harangozó János</td><td>1967-11-02</td></tr>",
                            "<tr><td>janos3</td><td>Harangozó János</td><td>1967-11-02</td></tr>",
                            "<tr><td>janos3</td><td>Harangozó János</td><td>1967-11-02</td></tr>",
                            "<tr><td>JANOSG</td><td>Giliga János</td><td>1975-01-03</td></tr>",
                            "<tr><td>JANOSG</td><td>Giliga János</td><td>1975-01-03</td></tr>",
                            "<tr><td>JANOSG</td><td>Giliga János</td><td>1975-01-03</td></tr>",
                            "<tr><td>JANOSG</td><td>Giliga János</td><td>1975-01-03</td></tr>",
                            "<tr><td>JANOSG</td><td>Giliga János</td><td>1975-01-03</td></tr>",
                            "<tr><td>JANOSG</td><td>Giliga János</td><td>1975-01-03</td></tr>",
                            "<tr><td>JANOSG</td><td>Giliga János</td><td>1975-01-03</td></tr>",
                            "<tr><td>JANOSP</td><td>Pálinkás János</td><td>1984-10-12</td></tr>",
                            "<tr><td>JANOSP</td><td>Pálinkás János</td><td>1984-10-12</td></tr>",
                            "<tr><td>JANOSP</td><td>Pálinkás János</td><td>1984-10-12</td></tr>",
                            "<tr><td>JANOSP</td><td>Pálinkás János</td><td>1984-10-12</td></tr>",
                            "<tr><td>jozsef</td><td>Gergely József</td><td>1985-11-01</td></tr>",
                            "<tr><td>jozsef</td><td>Gergely József</td><td>1985-11-01</td></tr>",
                            "<tr><td>jozsef</td><td>Gergely József</td><td>1985-11-01</td></tr>",
                            "<tr><td>jozsef2</td><td>Vajda József</td><td>1978-09-04</td></tr>",
                            "<tr><td>jozsef2</td><td>Vajda József</td><td>1978-09-04</td></tr>",
                            "<tr><td>jozsef2</td><td>Vajda József</td><td>1978-09-04</td></tr>",
                            "<tr><td>jozsef2</td><td>Vajda József</td><td>1978-09-04</td></tr>",
                            "<tr><td>jozsef2</td><td>Vajda József</td><td>1978-09-04</td></tr>",
                            "<tr><td>JOZSEFG</td><td>Gyuris József</td><td>1975-05-26</td></tr>",
                            "<tr><td>JOZSEFG</td><td>Gyuris József</td><td>1975-05-26</td></tr>",
                            "<tr><td>JOZSEFG</td><td>Gyuris József</td><td>1975-05-26</td></tr>",
                            "<tr><td>JOZSEFG</td><td>Gyuris József</td><td>1975-05-26</td></tr>",
                            "<tr><td>JOZSEFG</td><td>Gyuris József</td><td>1975-05-26</td></tr>",
                            "<tr><td>JOZSEFG</td><td>Gyuris József</td><td>1975-05-26</td></tr>",
                            "<tr><td>JOZSEFG</td><td>Gyuris József</td><td>1975-05-26</td></tr>",
                            "<tr><td>JUDITH</td><td>Hídasi Judit</td><td>1997-07-12</td></tr>",
                            "<tr><td>JUDITH</td><td>Hídasi Judit</td><td>1997-07-12</td></tr>",
                            "<tr><td>JUDITH</td><td>Hídasi Judit</td><td>1997-07-12</td></tr>",
                            "<tr><td>julia</td><td>Tóth Júlia</td><td>1993-03-02</td></tr>",
                            "<tr><td>julia</td><td>Tóth Júlia</td><td>1993-03-02</td></tr>",
                            "<tr><td>julia</td><td>Tóth Júlia</td><td>1993-03-02</td></tr>",
                            "<tr><td>julia</td><td>Tóth Júlia</td><td>1993-03-02</td></tr>",
                            "<tr><td>julia</td><td>Tóth Júlia</td><td>1993-03-02</td></tr>",
                            "<tr><td>julia4</td><td>Nagy Júlia</td><td>1985-08-11</td></tr>",
                            "<tr><td>julia4</td><td>Nagy Júlia</td><td>1985-08-11</td></tr>",
                            "<tr><td>julianna4</td><td>Szabó Julianna</td><td>1990-09-29</td></tr>",
                            "<tr><td>julianna4</td><td>Szabó Julianna</td><td>1990-09-29</td></tr>",
                            "<tr><td>julianna4</td><td>Szabó Julianna</td><td>1990-09-29</td></tr>",
                            "<tr><td>julianna4</td><td>Szabó Julianna</td><td>1990-09-29</td></tr>",
                            "<tr><td>kata</td><td>Gondos Katalin</td><td>1968-06-22</td></tr>",
                            "<tr><td>kata</td><td>Gondos Katalin</td><td>1968-06-22</td></tr>",
                            "<tr><td>kata</td><td>Gondos Katalin</td><td>1968-06-22</td></tr>",
                            "<tr><td>kata</td><td>Gondos Katalin</td><td>1968-06-22</td></tr>",
                            "<tr><td>kata</td><td>Gondos Katalin</td><td>1968-06-22</td></tr>",
                            "<tr><td>kata</td><td>Gondos Katalin</td><td>1968-06-22</td></tr>",
                            "<tr><td>kata</td><td>Gondos Katalin</td><td>1968-06-22</td></tr>",
                            "<tr><td>kata</td><td>Gondos Katalin</td><td>1968-06-22</td></tr>",
                            "<tr><td>kata</td><td>Gondos Katalin</td><td>1968-06-22</td></tr>",
                            "<tr><td>kata</td><td>Gondos Katalin</td><td>1968-06-22</td></tr>",
                            "<tr><td>katalin</td><td>Horváth Katalin</td><td>1968-01-01</td></tr>",
                            "<tr><td>katalin</td><td>Horváth Katalin</td><td>1968-01-01</td></tr>",
                            "<tr><td>katalin</td><td>Horváth Katalin</td><td>1968-01-01</td></tr>",
                            "<tr><td>katalin</td><td>Horváth Katalin</td><td>1968-01-01</td></tr>",
                            "<tr><td>katalin</td><td>Horváth Katalin</td><td>1968-01-01</td></tr>",
                            "<tr><td>katalin</td><td>Horváth Katalin</td><td>1968-01-01</td></tr>",
                            "<tr><td>katalin</td><td>Horváth Katalin</td><td>1968-01-01</td></tr>",
                            "<tr><td>katalin</td><td>Horváth Katalin</td><td>1968-01-01</td></tr>",
                            "<tr><td>katalin</td><td>Horváth Katalin</td><td>1968-01-01</td></tr>",
                            "<tr><td>katalin4</td><td>Kertész Katalin</td><td>1986-04-13</td></tr>",
                            "<tr><td>katalin4</td><td>Kertész Katalin</td><td>1986-04-13</td></tr>",
                            "<tr><td>katalin4</td><td>Kertész Katalin</td><td>1986-04-13</td></tr>",
                            "<tr><td>katalin4</td><td>Kertész Katalin</td><td>1986-04-13</td></tr>",
                            "<tr><td>katalin4</td><td>Kertész Katalin</td><td>1986-04-13</td></tr>",
                            "<tr><td>katalin4</td><td>Kertész Katalin</td><td>1986-04-13</td></tr>",
                            "<tr><td>kati</td><td>Zatykó Katalin</td><td>1995-05-01</td></tr>",
                            "<tr><td>kati</td><td>Zatykó Katalin</td><td>1995-05-01</td></tr>",
                            "<tr><td>kati</td><td>Zatykó Katalin</td><td>1995-05-01</td></tr>",
                            "<tr><td>kati</td><td>Zatykó Katalin</td><td>1995-05-01</td></tr>",
                            "<tr><td>kati</td><td>Zatykó Katalin</td><td>1995-05-01</td></tr>",
                            "<tr><td>kati</td><td>Zatykó Katalin</td><td>1995-05-01</td></tr>",
                            "<tr><td>kati</td><td>Zatykó Katalin</td><td>1995-05-01</td></tr>",
                            "<tr><td>katka</td><td>Kovács Katalin</td><td>1975-03-31</td></tr>",
                            "<tr><td>katka</td><td>Kovács Katalin</td><td>1975-03-31</td></tr>",
                            "<tr><td>katka</td><td>Kovács Katalin</td><td>1975-03-31</td></tr>",
                            "<tr><td>katka</td><td>Kovács Katalin</td><td>1975-03-31</td></tr>",
                            "<tr><td>katka</td><td>Kovács Katalin</td><td>1975-03-31</td></tr>",
                            "<tr><td>katka</td><td>Kovács Katalin</td><td>1975-03-31</td></tr>",
                            "<tr><td>katka</td><td>Kovács Katalin</td><td>1975-03-31</td></tr>",
                            "<tr><td>katka</td><td>Kovács Katalin</td><td>1975-03-31</td></tr>",
                            "<tr><td>katka</td><td>Kovács Katalin</td><td>1975-03-31</td></tr>",
                            "<tr><td>klaudia2</td><td>Bakó Klaudia</td><td>1982-04-16</td></tr>",
                            "<tr><td>klaudia2</td><td>Bakó Klaudia</td><td>1982-04-16</td></tr>",
                            "<tr><td>klaudia2</td><td>Bakó Klaudia</td><td>1982-04-16</td></tr>",
                            "<tr><td>kornel4</td><td>Lukács Kornél</td><td>1975-09-30</td></tr>",
                            "<tr><td>kornel4</td><td>Lukács Kornél</td><td>1975-09-30</td></tr>",
                            "<tr><td>kornel4</td><td>Lukács Kornél</td><td>1975-09-30</td></tr>",
                            "<tr><td>kristof4</td><td>Poprádi Kristóf</td><td>1984-01-15</td></tr>",
                            "<tr><td>kristof4</td><td>Poprádi Kristóf</td><td>1984-01-15</td></tr>",
                            "<tr><td>kriszti</td><td>Horváth Krisztina</td><td>1978-06-12</td></tr>",
                            "<tr><td>kriszti</td><td>Horváth Krisztina</td><td>1978-06-12</td></tr>",
                            "<tr><td>kriszti</td><td>Horváth Krisztina</td><td>1978-06-12</td></tr>",
                            "<tr><td>kriszti</td><td>Horváth Krisztina</td><td>1978-06-12</td></tr>",
                            "<tr><td>kriszti</td><td>Horváth Krisztina</td><td>1978-06-12</td></tr>",
                            "<tr><td>kriszti</td><td>Horváth Krisztina</td><td>1978-06-12</td></tr>",
                            "<tr><td>krisztian4</td><td>Czérna Krisztián</td><td>1970-08-01</td></tr>",
                            "<tr><td>krisztian4</td><td>Czérna Krisztián</td><td>1970-08-01</td></tr>",
                            "<tr><td>krisztian4</td><td>Czérna Krisztián</td><td>1970-08-01</td></tr>",
                            "<tr><td>krisztian4</td><td>Czérna Krisztián</td><td>1970-08-01</td></tr>",
                            "<tr><td>krisztian4</td><td>Czérna Krisztián</td><td>1970-08-01</td></tr>",
                            "<tr><td>krisztian4</td><td>Czérna Krisztián</td><td>1970-08-01</td></tr>",
                            "<tr><td>krisztian4</td><td>Czérna Krisztián</td><td>1970-08-01</td></tr>",
                            "<tr><td>krisztian4</td><td>Czérna Krisztián</td><td>1970-08-01</td></tr>",
                            "<tr><td>krisztian4</td><td>Czérna Krisztián</td><td>1970-08-01</td></tr>",
                            "<tr><td>krisztian4</td><td>Czérna Krisztián</td><td>1970-08-01</td></tr>",
                            "<tr><td>krisztian4</td><td>Czérna Krisztián</td><td>1970-08-01</td></tr>",
                            "<tr><td>krisztian4</td><td>Czérna Krisztián</td><td>1970-08-01</td></tr>",
                            "<tr><td>KRISZTIANM</td><td>Mogyródi Krisztián</td><td>1968-05-27</td></tr>",
                            "<tr><td>KRISZTIANM</td><td>Mogyródi Krisztián</td><td>1968-05-27</td></tr>",
                            "<tr><td>KRISZTIANM</td><td>Mogyródi Krisztián</td><td>1968-05-27</td></tr>",
                            "<tr><td>KRISZTIANM</td><td>Mogyródi Krisztián</td><td>1968-05-27</td></tr>",
                            "<tr><td>KRISZTIANM</td><td>Mogyródi Krisztián</td><td>1968-05-27</td></tr>",
                            "<tr><td>KRISZTIANM</td><td>Mogyródi Krisztián</td><td>1968-05-27</td></tr>",
                            "<tr><td>krisztina</td><td>Szedlár Krisztina</td><td>1979-05-10</td></tr>",
                            "<tr><td>krisztina</td><td>Szedlár Krisztina</td><td>1979-05-10</td></tr>",
                            "<tr><td>krisztina</td><td>Szedlár Krisztina</td><td>1979-05-10</td></tr>",
                            "<tr><td>krisztina</td><td>Szedlár Krisztina</td><td>1979-05-10</td></tr>",
                            "<tr><td>krisztina</td><td>Szedlár Krisztina</td><td>1979-05-10</td></tr>",
                            "<tr><td>krisztina</td><td>Szedlár Krisztina</td><td>1979-05-10</td></tr>",
                            "<tr><td>krisztina</td><td>Szedlár Krisztina</td><td>1979-05-10</td></tr>",
                            "<tr><td>krisztina</td><td>Szedlár Krisztina</td><td>1979-05-10</td></tr>",
                            "<tr><td>krisztina1</td><td>Bori Krisztina</td><td>1969-10-13</td></tr>",
                            "<tr><td>krisztina1</td><td>Bori Krisztina</td><td>1969-10-13</td></tr>",
                            "<tr><td>krisztina1</td><td>Bori Krisztina</td><td>1969-10-13</td></tr>",
                            "<tr><td>krisztina1</td><td>Bori Krisztina</td><td>1969-10-13</td></tr>",
                            "<tr><td>krisztina1</td><td>Bori Krisztina</td><td>1969-10-13</td></tr>",
                            "<tr><td>krisztina1</td><td>Bori Krisztina</td><td>1969-10-13</td></tr>",
                            "<tr><td>KRISZTINAG</td><td>Gyárfás Krisztina</td><td>1987-09-19</td></tr>",
                            "<tr><td>KRISZTINAG</td><td>Gyárfás Krisztina</td><td>1987-09-19</td></tr>",
                            "<tr><td>KRISZTINAG</td><td>Gyárfás Krisztina</td><td>1987-09-19</td></tr>",
                            "<tr><td>KRISZTINAG</td><td>Gyárfás Krisztina</td><td>1987-09-19</td></tr>",
                            "<tr><td>KRISZTINAG</td><td>Gyárfás Krisztina</td><td>1987-09-19</td></tr>",
                            "<tr><td>lajos</td><td>Kiss Lajos</td><td>1978-10-31</td></tr>",
                            "<tr><td>lajos</td><td>Kiss Lajos</td><td>1978-10-31</td></tr>",
                            "<tr><td>lajos</td><td>Kiss Lajos</td><td>1978-10-31</td></tr>",
                            "<tr><td>lala</td><td>Nagymihály Lajos</td><td>1997-02-24</td></tr>",
                            "<tr><td>lala</td><td>Nagymihály Lajos</td><td>1997-02-24</td></tr>",
                            "<tr><td>lala</td><td>Nagymihály Lajos</td><td>1997-02-24</td></tr>",
                            "<tr><td>lala</td><td>Nagymihály Lajos</td><td>1997-02-24</td></tr>",
                            "<tr><td>lala</td><td>Nagymihály Lajos</td><td>1997-02-24</td></tr>",
                            "<tr><td>lala</td><td>Nagymihály Lajos</td><td>1997-02-24</td></tr>",
                            "<tr><td>laszlo1</td><td>Farkas László</td><td>1967-10-30</td></tr>",
                            "<tr><td>laszlo2</td><td>Móra László</td><td>1975-02-19</td></tr>",
                            "<tr><td>laszlo2</td><td>Móra László</td><td>1975-02-19</td></tr>",
                            "<tr><td>laszlo2</td><td>Móra László</td><td>1975-02-19</td></tr>",
                            "<tr><td>laszlo2</td><td>Móra László</td><td>1975-02-19</td></tr>",
                            "<tr><td>laszlo2</td><td>Móra László</td><td>1975-02-19</td></tr>",
                            "<tr><td>LASZLOA</td><td>Antal László</td><td>1969-06-29</td></tr>",
                            "<tr><td>LASZLOA</td><td>Antal László</td><td>1969-06-29</td></tr>",
                            "<tr><td>LASZLOA</td><td>Antal László</td><td>1969-06-29</td></tr>",
                            "<tr><td>LASZLOA</td><td>Antal László</td><td>1969-06-29</td></tr>",
                            "<tr><td>LASZLON</td><td>Nagy László</td><td>1969-04-12</td></tr>",
                            "<tr><td>LASZLON</td><td>Nagy László</td><td>1969-04-12</td></tr>",
                            "<tr><td>LASZLON</td><td>Nagy László</td><td>1969-04-12</td></tr>",
                            "<tr><td>LASZLON</td><td>Nagy László</td><td>1969-04-12</td></tr>",
                            "<tr><td>LASZLON</td><td>Nagy László</td><td>1969-04-12</td></tr>",
                            "<tr><td>LASZLON</td><td>Nagy László</td><td>1969-04-12</td></tr>",
                            "<tr><td>maria1</td><td>Baráth Mária</td><td>1995-11-19</td></tr>",
                            "<tr><td>maria1</td><td>Baráth Mária</td><td>1995-11-19</td></tr>",
                            "<tr><td>maria1</td><td>Baráth Mária</td><td>1995-11-19</td></tr>",
                            "<tr><td>maria1</td><td>Baráth Mária</td><td>1995-11-19</td></tr>",
                            "<tr><td>maria1</td><td>Baráth Mária</td><td>1995-11-19</td></tr>",
                            "<tr><td>maria1</td><td>Baráth Mária</td><td>1995-11-19</td></tr>",
                            "<tr><td>maria1</td><td>Baráth Mária</td><td>1995-11-19</td></tr>",
                            "<tr><td>maria1</td><td>Baráth Mária</td><td>1995-11-19</td></tr>",
                            "<tr><td>mark</td><td>Kispál Márk</td><td>1996-01-23</td></tr>",
                            "<tr><td>mark</td><td>Kispál Márk</td><td>1996-01-23</td></tr>",
                            "<tr><td>mark</td><td>Kispál Márk</td><td>1996-01-23</td></tr>",
                            "<tr><td>mark</td><td>Kispál Márk</td><td>1996-01-23</td></tr>",
                            "<tr><td>mark</td><td>Kispál Márk</td><td>1996-01-23</td></tr>",
                            "<tr><td>MARKH</td><td>Horváth Márk</td><td>1997-09-23</td></tr>",
                            "<tr><td>MARKH</td><td>Horváth Márk</td><td>1997-09-23</td></tr>",
                            "<tr><td>MARKH</td><td>Horváth Márk</td><td>1997-09-23</td></tr>",
                            "<tr><td>MARKH</td><td>Horváth Márk</td><td>1997-09-23</td></tr>",
                            "<tr><td>marton</td><td>Kalacsi Márton</td><td>1989-06-24</td></tr>",
                            "<tr><td>marton</td><td>Kalacsi Márton</td><td>1989-06-24</td></tr>",
                            "<tr><td>marton</td><td>Kalacsi Márton</td><td>1989-06-24</td></tr>",
                            "<tr><td>marton</td><td>Kalacsi Márton</td><td>1989-06-24</td></tr>",
                            "<tr><td>marton</td><td>Kalacsi Márton</td><td>1989-06-24</td></tr>",
                            "<tr><td>marton</td><td>Kalacsi Márton</td><td>1989-06-24</td></tr>",
                            "<tr><td>marton</td><td>Kalacsi Márton</td><td>1989-06-24</td></tr>",
                            "<tr><td>MATEK</td><td>Koza Máté</td><td>1997-02-28</td></tr>",
                            "<tr><td>MATEK</td><td>Koza Máté</td><td>1997-02-28</td></tr>",
                            "<tr><td>MATEK</td><td>Koza Máté</td><td>1997-02-28</td></tr>",
                            "<tr><td>matyas2</td><td>Botka Mátyás</td><td>1972-07-07</td></tr>",
                            "<tr><td>matyas2</td><td>Botka Mátyás</td><td>1972-07-07</td></tr>",
                            "<tr><td>MATYASS</td><td>Szilágyi Mátyás</td><td>1975-03-22</td></tr>",
                            "<tr><td>MATYASS</td><td>Szilágyi Mátyás</td><td>1975-03-22</td></tr>",
                            "<tr><td>MATYASS</td><td>Szilágyi Mátyás</td><td>1975-03-22</td></tr>",
                            "<tr><td>MATYASS</td><td>Szilágyi Mátyás</td><td>1975-03-22</td></tr>",
                            "<tr><td>MATYASS</td><td>Szilágyi Mátyás</td><td>1975-03-22</td></tr>",
                            "<tr><td>MATYASS</td><td>Szilágyi Mátyás</td><td>1975-03-22</td></tr>",
                            "<tr><td>MATYASS</td><td>Szilágyi Mátyás</td><td>1975-03-22</td></tr>",
                            "<tr><td>MATYASS</td><td>Szilágyi Mátyás</td><td>1975-03-22</td></tr>",
                            "<tr><td>MIHALYJ</td><td>Juhász Mihály</td><td>1979-10-12</td></tr>",
                            "<tr><td>MIHALYJ</td><td>Juhász Mihály</td><td>1979-10-12</td></tr>",
                            "<tr><td>MIHALYJ</td><td>Juhász Mihály</td><td>1979-10-12</td></tr>",
                            "<tr><td>MIHALYJ</td><td>Juhász Mihály</td><td>1979-10-12</td></tr>",
                            "<tr><td>MIHALYJ</td><td>Juhász Mihály</td><td>1979-10-12</td></tr>",
                            "<tr><td>miklos2</td><td>Gondos Miklós</td><td>1995-10-07</td></tr>",
                            "<tr><td>miklos2</td><td>Gondos Miklós</td><td>1995-10-07</td></tr>",
                            "<tr><td>miklos2</td><td>Gondos Miklós</td><td>1995-10-07</td></tr>",
                            "<tr><td>MIKLOSB</td><td>Balla Miklós</td><td>1979-02-16</td></tr>",
                            "<tr><td>MIKLOSB</td><td>Balla Miklós</td><td>1979-02-16</td></tr>",
                            "<tr><td>MIKLOSB</td><td>Balla Miklós</td><td>1979-02-16</td></tr>",
                            "<tr><td>MONIKAM</td><td>Mohos Mónika</td><td>1974-10-01</td></tr>",
                            "<tr><td>MONIKAM</td><td>Mohos Mónika</td><td>1974-10-01</td></tr>",
                            "<tr><td>MONIKAM</td><td>Mohos Mónika</td><td>1974-10-01</td></tr>",
                            "<tr><td>MONIKAM</td><td>Mohos Mónika</td><td>1974-10-01</td></tr>",
                            "<tr><td>MONIKAM</td><td>Mohos Mónika</td><td>1974-10-01</td></tr>",
                            "<tr><td>MONIKAM</td><td>Mohos Mónika</td><td>1974-10-01</td></tr>",
                            "<tr><td>NANDORF</td><td>Fő Nándor</td><td>1968-11-12</td></tr>",
                            "<tr><td>NANDORF</td><td>Fő Nándor</td><td>1968-11-12</td></tr>",
                            "<tr><td>NANDORF</td><td>Fő Nándor</td><td>1968-11-12</td></tr>",
                            "<tr><td>nikolett3</td><td>Horváth Nikolett</td><td>1981-09-29</td></tr>",
                            "<tr><td>nikolett3</td><td>Horváth Nikolett</td><td>1981-09-29</td></tr>",
                            "<tr><td>nikolett3</td><td>Horváth Nikolett</td><td>1981-09-29</td></tr>",
                            "<tr><td>nikolett3</td><td>Horváth Nikolett</td><td>1981-09-29</td></tr>",
                            "<tr><td>nikoletta4</td><td>Kő Nikoletta</td><td>1972-01-10</td></tr>",
                            "<tr><td>nikoletta4</td><td>Kő Nikoletta</td><td>1972-01-10</td></tr>",
                            "<tr><td>nikoletta4</td><td>Kő Nikoletta</td><td>1972-01-10</td></tr>",
                            "<tr><td>nikoletta4</td><td>Kő Nikoletta</td><td>1972-01-10</td></tr>",
                            "<tr><td>nikoletta4</td><td>Kő Nikoletta</td><td>1972-01-10</td></tr>",
                            "<tr><td>nikoletta4</td><td>Kő Nikoletta</td><td>1972-01-10</td></tr>",
                            "<tr><td>nikoletta4</td><td>Kő Nikoletta</td><td>1972-01-10</td></tr>",
                            "<tr><td>NIKOLETTAT</td><td>Tatár Nikoletta</td><td>1997-10-19</td></tr>",
                            "<tr><td>NIKOLETTAT</td><td>Tatár Nikoletta</td><td>1997-10-19</td></tr>",
                            "<tr><td>NIKOLETTAT</td><td>Tatár Nikoletta</td><td>1997-10-19</td></tr>",
                            "<tr><td>NIKOLETTAT</td><td>Tatár Nikoletta</td><td>1997-10-19</td></tr>",
                            "<tr><td>norbert</td><td>Szűcs Norbert</td><td>1969-07-17</td></tr>",
                            "<tr><td>norbert</td><td>Szűcs Norbert</td><td>1969-07-17</td></tr>",
                            "<tr><td>norbert</td><td>Szűcs Norbert</td><td>1969-07-17</td></tr>",
                            "<tr><td>norbert</td><td>Szűcs Norbert</td><td>1969-07-17</td></tr>",
                            "<tr><td>norbert</td><td>Szűcs Norbert</td><td>1969-07-17</td></tr>",
                            "<tr><td>norbert2</td><td>Hegedűs Norbert</td><td>1991-07-17</td></tr>",
                            "<tr><td>norbert2</td><td>Hegedűs Norbert</td><td>1991-07-17</td></tr>",
                            "<tr><td>norbert2</td><td>Hegedűs Norbert</td><td>1991-07-17</td></tr>",
                            "<tr><td>norbert2</td><td>Hegedűs Norbert</td><td>1991-07-17</td></tr>",
                            "<tr><td>norbert2</td><td>Hegedűs Norbert</td><td>1991-07-17</td></tr>",
                            "<tr><td>norbert2</td><td>Hegedűs Norbert</td><td>1991-07-17</td></tr>",
                            "<tr><td>norbert2</td><td>Hegedűs Norbert</td><td>1991-07-17</td></tr>",
                            "<tr><td>norbert4</td><td>Mile Norbert</td><td>1983-06-15</td></tr>",
                            "<tr><td>norbert4</td><td>Mile Norbert</td><td>1983-06-15</td></tr>",
                            "<tr><td>norbert4</td><td>Mile Norbert</td><td>1983-06-15</td></tr>",
                            "<tr><td>norbert4</td><td>Mile Norbert</td><td>1983-06-15</td></tr>",
                            "<tr><td>norbert4</td><td>Mile Norbert</td><td>1983-06-15</td></tr>",
                            "<tr><td>norbert4</td><td>Mile Norbert</td><td>1983-06-15</td></tr>",
                            "<tr><td>norbert4</td><td>Mile Norbert</td><td>1983-06-15</td></tr>",
                            "<tr><td>norbert4</td><td>Mile Norbert</td><td>1983-06-15</td></tr>",
                            "<tr><td>norbert4</td><td>Mile Norbert</td><td>1983-06-15</td></tr>",
                            "<tr><td>norbert5</td><td>Béres Norbert</td><td>1975-07-27</td></tr>",
                            "<tr><td>norbert5</td><td>Béres Norbert</td><td>1975-07-27</td></tr>",
                            "<tr><td>norbert5</td><td>Béres Norbert</td><td>1975-07-27</td></tr>",
                            "<tr><td>pal</td><td>Barabás Pál</td><td>1968-02-06</td></tr>",
                            "<tr><td>pal</td><td>Barabás Pál</td><td>1968-02-06</td></tr>",
                            "<tr><td>pal</td><td>Barabás Pál</td><td>1968-02-06</td></tr>",
                            "<tr><td>pal</td><td>Barabás Pál</td><td>1968-02-06</td></tr>",
                            "<tr><td>pal</td><td>Barabás Pál</td><td>1968-02-06</td></tr>",
                            "<tr><td>peter1</td><td>Kozma Péter</td><td>1976-03-18</td></tr>",
                            "<tr><td>peter1</td><td>Kozma Péter</td><td>1976-03-18</td></tr>",
                            "<tr><td>peter1</td><td>Kozma Péter</td><td>1976-03-18</td></tr>",
                            "<tr><td>peter1</td><td>Kozma Péter</td><td>1976-03-18</td></tr>",
                            "<tr><td>peter2</td><td>Bozsó Péter</td><td>1976-01-26</td></tr>",
                            "<tr><td>peter2</td><td>Bozsó Péter</td><td>1976-01-26</td></tr>",
                            "<tr><td>peter2</td><td>Bozsó Péter</td><td>1976-01-26</td></tr>",
                            "<tr><td>peter2</td><td>Bozsó Péter</td><td>1976-01-26</td></tr>",
                            "<tr><td>peter3</td><td>Szalai Péter</td><td>1983-07-18</td></tr>",
                            "<tr><td>peter3</td><td>Szalai Péter</td><td>1983-07-18</td></tr>",
                            "<tr><td>peter3</td><td>Szalai Péter</td><td>1983-07-18</td></tr>",
                            "<tr><td>peter3</td><td>Szalai Péter</td><td>1983-07-18</td></tr>",
                            "<tr><td>peter3</td><td>Szalai Péter</td><td>1983-07-18</td></tr>",
                            "<tr><td>peter3</td><td>Szalai Péter</td><td>1983-07-18</td></tr>",
                            "<tr><td>peter4</td><td>Bíró Péter</td><td>1985-09-01</td></tr>",
                            "<tr><td>peter4</td><td>Bíró Péter</td><td>1985-09-01</td></tr>",
                            "<tr><td>peter4</td><td>Bíró Péter</td><td>1985-09-01</td></tr>",
                            "<tr><td>peter4</td><td>Bíró Péter</td><td>1985-09-01</td></tr>",
                            "<tr><td>peter4</td><td>Bíró Péter</td><td>1985-09-01</td></tr>",
                            "<tr><td>peter4</td><td>Bíró Péter</td><td>1985-09-01</td></tr>",
                            "<tr><td>peter4</td><td>Bíró Péter</td><td>1985-09-01</td></tr>",
                            "<tr><td>peter4</td><td>Bíró Péter</td><td>1985-09-01</td></tr>",
                            "<tr><td>peter4</td><td>Bíró Péter</td><td>1985-09-01</td></tr>",
                            "<tr><td>peter4</td><td>Bíró Péter</td><td>1985-09-01</td></tr>",
                            "<tr><td>peter4</td><td>Bíró Péter</td><td>1985-09-01</td></tr>",
                            "<tr><td>peter4</td><td>Bíró Péter</td><td>1985-09-01</td></tr>",
                            "<tr><td>PETERB</td><td>Berendi Péter</td><td>1969-01-01</td></tr>",
                            "<tr><td>PETERB</td><td>Berendi Péter</td><td>1969-01-01</td></tr>",
                            "<tr><td>PETERB</td><td>Berendi Péter</td><td>1969-01-01</td></tr>",
                            "<tr><td>PETERB</td><td>Berendi Péter</td><td>1969-01-01</td></tr>",
                            "<tr><td>PETERB</td><td>Berendi Péter</td><td>1969-01-01</td></tr>",
                            "<tr><td>polla</td><td>Palágyi Polla</td><td>1994-02-04</td></tr>",
                            "<tr><td>polla</td><td>Palágyi Polla</td><td>1994-02-04</td></tr>",
                            "<tr><td>polla</td><td>Palágyi Polla</td><td>1994-02-04</td></tr>",
                            "<tr><td>polla</td><td>Palágyi Polla</td><td>1994-02-04</td></tr>",
                            "<tr><td>polla</td><td>Palágyi Polla</td><td>1994-02-04</td></tr>",
                            "<tr><td>polla</td><td>Palágyi Polla</td><td>1994-02-04</td></tr>",
                            "<tr><td>rajmond4</td><td>Rácz Rajmond</td><td>1993-09-25</td></tr>",
                            "<tr><td>rajmond4</td><td>Rácz Rajmond</td><td>1993-09-25</td></tr>",
                            "<tr><td>rajmond4</td><td>Rácz Rajmond</td><td>1993-09-25</td></tr>",
                            "<tr><td>rajmond4</td><td>Rácz Rajmond</td><td>1993-09-25</td></tr>",
                            "<tr><td>reka4</td><td>Szikszai Réka</td><td>1969-11-27</td></tr>",
                            "<tr><td>reka4</td><td>Szikszai Réka</td><td>1969-11-27</td></tr>",
                            "<tr><td>reka4</td><td>Szikszai Réka</td><td>1969-11-27</td></tr>",
                            "<tr><td>reka4</td><td>Szikszai Réka</td><td>1969-11-27</td></tr>",
                            "<tr><td>reka4</td><td>Szikszai Réka</td><td>1969-11-27</td></tr>",
                            "<tr><td>RENATAK</td><td>Kardos Renáta</td><td>1988-05-17</td></tr>",
                            "<tr><td>RENATAK</td><td>Kardos Renáta</td><td>1988-05-17</td></tr>",
                            "<tr><td>RENATAK</td><td>Kardos Renáta</td><td>1988-05-17</td></tr>",
                            "<tr><td>RENATAK</td><td>Kardos Renáta</td><td>1988-05-17</td></tr>",
                            "<tr><td>RENATAK</td><td>Kardos Renáta</td><td>1988-05-17</td></tr>",
                            "<tr><td>RENATAK</td><td>Kardos Renáta</td><td>1988-05-17</td></tr>",
                            "<tr><td>RENATAS</td><td>Szirmai Renáta</td><td>1991-03-26</td></tr>",
                            "<tr><td>RENATAS</td><td>Szirmai Renáta</td><td>1991-03-26</td></tr>",
                            "<tr><td>RENATAS</td><td>Szirmai Renáta</td><td>1991-03-26</td></tr>",
                            "<tr><td>RENATAS</td><td>Szirmai Renáta</td><td>1991-03-26</td></tr>",
                            "<tr><td>RENATAS</td><td>Szirmai Renáta</td><td>1991-03-26</td></tr>",
                            "<tr><td>robert2</td><td>Patay Róbert</td><td>1977-01-08</td></tr>",
                            "<tr><td>robert2</td><td>Patay Róbert</td><td>1977-01-08</td></tr>",
                            "<tr><td>robert2</td><td>Patay Róbert</td><td>1977-01-08</td></tr>",
                            "<tr><td>robert2</td><td>Patay Róbert</td><td>1977-01-08</td></tr>",
                            "<tr><td>ROBERTI</td><td>Iván Róbert</td><td>1967-07-02</td></tr>",
                            "<tr><td>ROBERTI</td><td>Iván Róbert</td><td>1967-07-02</td></tr>",
                            "<tr><td>ROBERTI</td><td>Iván Róbert</td><td>1967-07-02</td></tr>",
                            "<tr><td>ROBERTI</td><td>Iván Róbert</td><td>1967-07-02</td></tr>",
                            "<tr><td>ROBERTI</td><td>Iván Róbert</td><td>1967-07-02</td></tr>",
                            "<tr><td>ROBERTI</td><td>Iván Róbert</td><td>1967-07-02</td></tr>",
                            "<tr><td>ROBERTI</td><td>Iván Róbert</td><td>1967-07-02</td></tr>",
                            "<tr><td>ROBERTI</td><td>Iván Róbert</td><td>1967-07-02</td></tr>",
                            "<tr><td>ROBERTP</td><td>Pásztor Róbert</td><td>1972-05-16</td></tr>",
                            "<tr><td>ROBERTP</td><td>Pásztor Róbert</td><td>1972-05-16</td></tr>",
                            "<tr><td>roland</td><td>Tóth Roland</td><td>1968-03-21</td></tr>",
                            "<tr><td>roland</td><td>Tóth Roland</td><td>1968-03-21</td></tr>",
                            "<tr><td>roland</td><td>Tóth Roland</td><td>1968-03-21</td></tr>",
                            "<tr><td>roland</td><td>Tóth Roland</td><td>1968-03-21</td></tr>",
                            "<tr><td>roland1</td><td>Ferencz Roland</td><td>1985-12-31</td></tr>",
                            "<tr><td>roland1</td><td>Ferencz Roland</td><td>1985-12-31</td></tr>",
                            "<tr><td>roland1</td><td>Ferencz Roland</td><td>1985-12-31</td></tr>",
                            "<tr><td>roland1</td><td>Ferencz Roland</td><td>1985-12-31</td></tr>",
                            "<tr><td>roza2</td><td>Bucskó Róza</td><td>1988-12-26</td></tr>",
                            "<tr><td>roza2</td><td>Bucskó Róza</td><td>1988-12-26</td></tr>",
                            "<tr><td>roza2</td><td>Bucskó Róza</td><td>1988-12-26</td></tr>",
                            "<tr><td>sandor</td><td>Karasz Sándor</td><td>1970-01-27</td></tr>",
                            "<tr><td>sandor</td><td>Karasz Sándor</td><td>1970-01-27</td></tr>",
                            "<tr><td>sandor</td><td>Karasz Sándor</td><td>1970-01-27</td></tr>",
                            "<tr><td>sandor</td><td>Karasz Sándor</td><td>1970-01-27</td></tr>",
                            "<tr><td>sandor3</td><td>Farkas Sándor</td><td>1989-01-27</td></tr>",
                            "<tr><td>sandor3</td><td>Farkas Sándor</td><td>1989-01-27</td></tr>",
                            "<tr><td>sandor3</td><td>Farkas Sándor</td><td>1989-01-27</td></tr>",
                            "<tr><td>sandor3</td><td>Farkas Sándor</td><td>1989-01-27</td></tr>",
                            "<tr><td>sandor3</td><td>Farkas Sándor</td><td>1989-01-27</td></tr>",
                            "<tr><td>sandor4</td><td>Nagy Sándor</td><td>1997-06-11</td></tr>",
                            "<tr><td>sandor4</td><td>Nagy Sándor</td><td>1997-06-11</td></tr>",
                            "<tr><td>sandor4</td><td>Nagy Sándor</td><td>1997-06-11</td></tr>",
                            "<tr><td>sandor4</td><td>Nagy Sándor</td><td>1997-06-11</td></tr>",
                            "<tr><td>sara</td><td>Farkas Sára</td><td>1973-04-05</td></tr>",
                            "<tr><td>sara</td><td>Farkas Sára</td><td>1973-04-05</td></tr>",
                            "<tr><td>sara</td><td>Farkas Sára</td><td>1973-04-05</td></tr>",
                            "<tr><td>sara</td><td>Farkas Sára</td><td>1973-04-05</td></tr>",
                            "<tr><td>sara</td><td>Farkas Sára</td><td>1973-04-05</td></tr>",
                            "<tr><td>sara</td><td>Farkas Sára</td><td>1973-04-05</td></tr>",
                            "<tr><td>sara</td><td>Farkas Sára</td><td>1973-04-05</td></tr>",
                            "<tr><td>sara</td><td>Farkas Sára</td><td>1973-04-05</td></tr>",
                            "<tr><td>sara</td><td>Farkas Sára</td><td>1973-04-05</td></tr>",
                            "<tr><td>sara</td><td>Farkas Sára</td><td>1973-04-05</td></tr>",
                            "<tr><td>sara</td><td>Farkas Sára</td><td>1973-04-05</td></tr>",
                            "<tr><td>sara</td><td>Farkas Sára</td><td>1973-04-05</td></tr>",
                            "<tr><td>SEBASTIANF</td><td>Foltényi Sebastián</td><td>1992-09-09</td></tr>",
                            "<tr><td>SEBASTIANF</td><td>Foltényi Sebastián</td><td>1992-09-09</td></tr>",
                            "<tr><td>SEBASTIANF</td><td>Foltényi Sebastián</td><td>1992-09-09</td></tr>",
                            "<tr><td>SEBASTIANF</td><td>Foltényi Sebastián</td><td>1992-09-09</td></tr>",
                            "<tr><td>SEBASTIANF</td><td>Foltényi Sebastián</td><td>1992-09-09</td></tr>",
                            "<tr><td>sebestyen</td><td>Rab Sebestyén</td><td>1992-03-03</td></tr>",
                            "<tr><td>sebestyen</td><td>Rab Sebestyén</td><td>1992-03-03</td></tr>",
                            "<tr><td>sebestyen</td><td>Rab Sebestyén</td><td>1992-03-03</td></tr>",
                            "<tr><td>sebestyen</td><td>Rab Sebestyén</td><td>1992-03-03</td></tr>",
                            "<tr><td>szabolcs</td><td>Bodor Szabolcs</td><td>1990-07-16</td></tr>",
                            "<tr><td>SZABOLCSM</td><td>Miklós Szabolcs</td><td>1980-08-11</td></tr>",
                            "<tr><td>SZABOLCSM</td><td>Miklós Szabolcs</td><td>1980-08-11</td></tr>",
                            "<tr><td>SZABOLCSM</td><td>Miklós Szabolcs</td><td>1980-08-11</td></tr>",
                            "<tr><td>SZABOLCSM</td><td>Miklós Szabolcs</td><td>1980-08-11</td></tr>",
                            "<tr><td>SZABOLCSM</td><td>Miklós Szabolcs</td><td>1980-08-11</td></tr>",
                            "<tr><td>SZABOLCSM</td><td>Miklós Szabolcs</td><td>1980-08-11</td></tr>",
                            "<tr><td>SZABOLCSM</td><td>Miklós Szabolcs</td><td>1980-08-11</td></tr>",
                            "<tr><td>SZILARDS</td><td>Szalai Szilárd</td><td>1967-09-28</td></tr>",
                            "<tr><td>SZILARDS</td><td>Szalai Szilárd</td><td>1967-09-28</td></tr>",
                            "<tr><td>SZILARDS</td><td>Szalai Szilárd</td><td>1967-09-28</td></tr>",
                            "<tr><td>SZILARDS</td><td>Szalai Szilárd</td><td>1967-09-28</td></tr>",
                            "<tr><td>SZILARDS</td><td>Szalai Szilárd</td><td>1967-09-28</td></tr>",
                            "<tr><td>SZILARDS</td><td>Szalai Szilárd</td><td>1967-09-28</td></tr>",
                            "<tr><td>SZILARDS</td><td>Szalai Szilárd</td><td>1967-09-28</td></tr>",
                            "<tr><td>szilvia1</td><td>Tari Szilvia</td><td>1971-03-09</td></tr>",
                            "<tr><td>szilvia1</td><td>Tari Szilvia</td><td>1971-03-09</td></tr>",
                            "<tr><td>szilvia1</td><td>Tari Szilvia</td><td>1971-03-09</td></tr>",
                            "<tr><td>szilvia1</td><td>Tari Szilvia</td><td>1971-03-09</td></tr>",
                            "<tr><td>szilvia1</td><td>Tari Szilvia</td><td>1971-03-09</td></tr>",
                            "<tr><td>szilvia1</td><td>Tari Szilvia</td><td>1971-03-09</td></tr>",
                            "<tr><td>szilvia1</td><td>Tari Szilvia</td><td>1971-03-09</td></tr>",
                            "<tr><td>szilvia1</td><td>Tari Szilvia</td><td>1971-03-09</td></tr>",
                            "<tr><td>szilvia1</td><td>Tari Szilvia</td><td>1971-03-09</td></tr>",
                            "<tr><td>tamara2</td><td>Miklós Tamara</td><td>1980-08-11</td></tr>",
                            "<tr><td>tamara2</td><td>Miklós Tamara</td><td>1980-08-11</td></tr>",
                            "<tr><td>tamas</td><td>Antal Tamás</td><td>1984-09-05</td></tr>",
                            "<tr><td>tamas</td><td>Antal Tamás</td><td>1984-09-05</td></tr>",
                            "<tr><td>tamas</td><td>Antal Tamás</td><td>1984-09-05</td></tr>",
                            "<tr><td>tamas</td><td>Antal Tamás</td><td>1984-09-05</td></tr>",
                            "<tr><td>TAMASF</td><td>Fényes Tamás</td><td>1997-11-06</td></tr>",
                            "<tr><td>TAMASF</td><td>Fényes Tamás</td><td>1997-11-06</td></tr>",
                            "<tr><td>TAMASF</td><td>Fényes Tamás</td><td>1997-11-06</td></tr>",
                            "<tr><td>TAMASF</td><td>Fényes Tamás</td><td>1997-11-06</td></tr>",
                            "<tr><td>TAMASF</td><td>Fényes Tamás</td><td>1997-11-06</td></tr>",
                            "<tr><td>TAMASF</td><td>Fényes Tamás</td><td>1997-11-06</td></tr>",
                            "<tr><td>TAMASF</td><td>Fényes Tamás</td><td>1997-11-06</td></tr>",
                            "<tr><td>TAMASF</td><td>Fényes Tamás</td><td>1997-11-06</td></tr>",
                            "<tr><td>TAMASF</td><td>Fényes Tamás</td><td>1997-11-06</td></tr>",
                            "<tr><td>tibor</td><td>Gombos Tibor</td><td>1993-11-28</td></tr>",
                            "<tr><td>tibor</td><td>Gombos Tibor</td><td>1993-11-28</td></tr>",
                            "<tr><td>tibor2</td><td>Dániel Tibor</td><td>1985-02-02</td></tr>",
                            "<tr><td>tihamer</td><td>Kazy Tihamér</td><td>1991-07-05</td></tr>",
                            "<tr><td>tihamer</td><td>Kazy Tihamér</td><td>1991-07-05</td></tr>",
                            "<tr><td>tihamer</td><td>Kazy Tihamér</td><td>1991-07-05</td></tr>",
                            "<tr><td>tihamer</td><td>Kazy Tihamér</td><td>1991-07-05</td></tr>",
                            "<tr><td>tihamer</td><td>Kazy Tihamér</td><td>1991-07-05</td></tr>",
                            "<tr><td>tihamer</td><td>Kazy Tihamér</td><td>1991-07-05</td></tr>",
                            "<tr><td>timea</td><td>Papós Tímea</td><td>1996-01-08</td></tr>",
                            "<tr><td>timea2</td><td>Dusha Tímea</td><td>1975-08-22</td></tr>",
                            "<tr><td>timea2</td><td>Dusha Tímea</td><td>1975-08-22</td></tr>",
                            "<tr><td>timea2</td><td>Dusha Tímea</td><td>1975-08-22</td></tr>",
                            "<tr><td>timea2</td><td>Dusha Tímea</td><td>1975-08-22</td></tr>",
                            "<tr><td>timea2</td><td>Dusha Tímea</td><td>1975-08-22</td></tr>",
                            "<tr><td>tunde</td><td>Turcsik Tünde</td><td>1974-02-12</td></tr>",
                            "<tr><td>tunde</td><td>Turcsik Tünde</td><td>1974-02-12</td></tr>",
                            "<tr><td>tunde</td><td>Turcsik Tünde</td><td>1974-02-12</td></tr>",
                            "<tr><td>tunde</td><td>Turcsik Tünde</td><td>1974-02-12</td></tr>",
                            "<tr><td>tunde</td><td>Turcsik Tünde</td><td>1974-02-12</td></tr>",
                            "<tr><td>tunde</td><td>Turcsik Tünde</td><td>1974-02-12</td></tr>",
                            "<tr><td>tunde</td><td>Turcsik Tünde</td><td>1974-02-12</td></tr>",
                            "<tr><td>tunde</td><td>Turcsik Tünde</td><td>1974-02-12</td></tr>",
                            "<tr><td>valentin</td><td>Feró Valentin</td><td>1986-01-09</td></tr>",
                            "<tr><td>valentin</td><td>Feró Valentin</td><td>1986-01-09</td></tr>",
                            "<tr><td>valentin</td><td>Feró Valentin</td><td>1986-01-09</td></tr>",
                            "<tr><td>valentin</td><td>Feró Valentin</td><td>1986-01-09</td></tr>",
                            "<tr><td>valentin</td><td>Feró Valentin</td><td>1986-01-09</td></tr>",
                            "<tr><td>veronika4</td><td>Tankó Veronika</td><td>1983-08-28</td></tr>",
                            "<tr><td>veronika4</td><td>Tankó Veronika</td><td>1983-08-28</td></tr>",
                            "<tr><td>veronika4</td><td>Tankó Veronika</td><td>1983-08-28</td></tr>",
                            "<tr><td>veronika4</td><td>Tankó Veronika</td><td>1983-08-28</td></tr>",
                            "<tr><td>veronika4</td><td>Tankó Veronika</td><td>1983-08-28</td></tr>",
                            "<tr><td>veronika4</td><td>Tankó Veronika</td><td>1983-08-28</td></tr>",
                            "<tr><td>VIKTORIAU</td><td>Urbán Viktoria</td><td>1996-05-03</td></tr>",
                            "<tr><td>VIKTORIAU</td><td>Urbán Viktoria</td><td>1996-05-03</td></tr>",
                            "<tr><td>VIKTORIAU</td><td>Urbán Viktoria</td><td>1996-05-03</td></tr>",
                            "<tr><td>VIKTORIAU</td><td>Urbán Viktoria</td><td>1996-05-03</td></tr>",
                            "<tr><td>VIKTORK</td><td>Keresztúri Viktor</td><td>1989-05-05</td></tr>",
                            "<tr><td>VIKTORK</td><td>Keresztúri Viktor</td><td>1989-05-05</td></tr>",
                            "<tr><td>vivien3</td><td>Boros Vivien</td><td>1991-07-01</td></tr>",
                            "<tr><td>vivien3</td><td>Boros Vivien</td><td>1991-07-01</td></tr>",
                            "<tr><td>vivien3</td><td>Boros Vivien</td><td>1991-07-01</td></tr>",
                            "<tr><td>vivien3</td><td>Boros Vivien</td><td>1991-07-01</td></tr>",
                            "<tr><td>vivien3</td><td>Boros Vivien</td><td>1991-07-01</td></tr>",
                            "<tr><td>vivien3</td><td>Boros Vivien</td><td>1991-07-01</td></tr>",
                            "<tr><td>vivien3</td><td>Boros Vivien</td><td>1991-07-01</td></tr>",
                            "<tr><td>zoltan</td><td>Fodor Zoltán</td><td>1979-11-25</td></tr>",
                            "<tr><td>zoltan</td><td>Fodor Zoltán</td><td>1979-11-25</td></tr>",
                            "<tr><td>zoltan4</td><td>Barna Zoltán</td><td>1986-05-20</td></tr>",
                            "<tr><td>zoltan4</td><td>Barna Zoltán</td><td>1986-05-20</td></tr>",
                            "<tr><td>zoltan4</td><td>Barna Zoltán</td><td>1986-05-20</td></tr>",
                            "<tr><td>zoltan4</td><td>Barna Zoltán</td><td>1986-05-20</td></tr>",
                            "<tr><td>zoltan4</td><td>Barna Zoltán</td><td>1986-05-20</td></tr>",
                            "<tr><td>zoltan4</td><td>Barna Zoltán</td><td>1986-05-20</td></tr>",
                            "<tr><td>zoltan4</td><td>Barna Zoltán</td><td>1986-05-20</td></tr>",
                            "<tr><td>zoltan4</td><td>Barna Zoltán</td><td>1986-05-20</td></tr>",
                            "<tr><td>zoltan4</td><td>Barna Zoltán</td><td>1986-05-20</td></tr>",
                            "<tr><td>zoltan4</td><td>Barna Zoltán</td><td>1986-05-20</td></tr>",
                            "<tr><td>zoltan4</td><td>Barna Zoltán</td><td>1986-05-20</td></tr>",
                            "<tr><td>zoltan4</td><td>Barna Zoltán</td><td>1986-05-20</td></tr>",
                            "<tr><td>ZOLTANP</td><td>Pintér Zoltán</td><td>1977-06-07</td></tr>",
                            "<tr><td>ZOLTANP</td><td>Pintér Zoltán</td><td>1977-06-07</td></tr>",
                            "<tr><td>ZOLTANP</td><td>Pintér Zoltán</td><td>1977-06-07</td></tr>",
                            "<tr><td>ZOLTANP</td><td>Pintér Zoltán</td><td>1977-06-07</td></tr>",
                            "<tr><td>ZOLTANP</td><td>Pintér Zoltán</td><td>1977-06-07</td></tr>",
                            "<tr><td>ZOLTANP</td><td>Pintér Zoltán</td><td>1977-06-07</td></tr>",
                            "<tr><td>ZOLTANT</td><td>Tóth Zoltán</td><td>1985-12-14</td></tr>",
                            "<tr><td>ZOLTANT</td><td>Tóth Zoltán</td><td>1985-12-14</td></tr>",
                            "<tr><td>ZOLTANT</td><td>Tóth Zoltán</td><td>1985-12-14</td></tr>",
                            "<tr><td>zsofi1</td><td>Molnár Zsófi</td><td>1983-11-17</td></tr>",
                            "<tr><td>zsofi1</td><td>Molnár Zsófi</td><td>1983-11-17</td></tr>",
                            "<tr><td>zsolt1</td><td>Pulai Zsolt</td><td>1988-05-27</td></tr>",
                            "<tr><td>zsolt1</td><td>Pulai Zsolt</td><td>1988-05-27</td></tr>",
                            "<tr><td>zsolt1</td><td>Pulai Zsolt</td><td>1988-05-27</td></tr>",
                            "<tr><td>zsolt1</td><td>Pulai Zsolt</td><td>1988-05-27</td></tr>",
                            "<tr><td>ZSOLTJ</td><td>Józsa Zsolt</td><td>1983-09-29</td></tr>",
                            "<tr><td>ZSOLTJ</td><td>Józsa Zsolt</td><td>1983-09-29</td></tr>",
                            "<tr><td>ZSOLTJ</td><td>Józsa Zsolt</td><td>1983-09-29</td></tr>",
                            "<tr><td>ZSOLTJ</td><td>Józsa Zsolt</td><td>1983-09-29</td></tr>",
                            "<tr><td>ZSOLTJ</td><td>Józsa Zsolt</td><td>1983-09-29</td></tr>",
                            "<tr><td>ZSOLTJ</td><td>Józsa Zsolt</td><td>1983-09-29</td></tr>",
                            "<tr><td>zsuzsa</td><td>Pusztai Zsuzsanna</td><td>1980-09-17</td></tr>",
                            "<tr><td>zsuzsa</td><td>Pusztai Zsuzsanna</td><td>1980-09-17</td></tr>",
                            "<tr><td>zsuzsa</td><td>Pusztai Zsuzsanna</td><td>1980-09-17</td></tr>",
                            "<tr><td>zsuzsa3</td><td>Varsányi Zsuzsa</td><td>1979-03-06</td></tr>",
                            "<tr><td>zsuzsa3</td><td>Varsányi Zsuzsa</td><td>1979-03-06</td></tr>",
                            "<tr><td>zsuzsa3</td><td>Varsányi Zsuzsa</td><td>1979-03-06</td></tr>",
                            "<tr><td>zsuzsa3</td><td>Varsányi Zsuzsa</td><td>1979-03-06</td></tr>",
                            "<tr><td>zsuzsanna</td><td>Barta Zsuzsanna</td><td>1994-10-07</td></tr>",
                            "<tr><td>zsuzsanna</td><td>Barta Zsuzsanna</td><td>1994-10-07</td></tr>",
                            "<tr><td>zsuzsanna</td><td>Barta Zsuzsanna</td><td>1994-10-07</td></tr>",
                            "<tr><td>zsuzsanna</td><td>Barta Zsuzsanna</td><td>1994-10-07</td></tr>",
                            "<tr><td>ZSUZSAV</td><td>Vajda Zsuzsa</td><td>1976-12-11</td></tr>",
                            "<tr><td>ZSUZSAV</td><td>Vajda Zsuzsa</td><td>1976-12-11</td></tr>",
                            "<tr><td>ZSUZSAV</td><td>Vajda Zsuzsa</td><td>1976-12-11</td></tr>",
                            "<tr><td>ZSUZSAV</td><td>Vajda Zsuzsa</td><td>1976-12-11</td></tr>",
                            "<tr><td>ZSUZSAV</td><td>Vajda Zsuzsa</td><td>1976-12-11</td></tr>",
                            "<tr><td>ZSUZSAV</td><td>Vajda Zsuzsa</td><td>1976-12-11</td></tr>",
                            "</table>"
                        ]
                    }
                }
            ],
            "execution_count": 9
        },
        {
            "cell_type": "markdown",
            "source": [
                "Jelenítsük meg, hogy hány foglalás történt szobánként, naponta (METTOL), valamint szobánként, azon belül naponta \n",
                "\n",
                "- Szempontonként külön-külön számoljuk a foglalásokat\n",
                "- A foglalások száma minden esetben legalább 2 legyen"
            ],
            "metadata": {
                "azdata_cell_guid": "3db8013c-c0f6-43ed-9c1d-ea4e488f2336"
            },
            "attachments": {}
        },
        {
            "cell_type": "code",
            "source": [
                "SELECT SZOBA_FK,\r\n",
                "    METTOL,\r\n",
                "    SUM(FOGLALAS_PK)\r\n",
                "FROM Foglalas\r\n",
                "GROUP BY SZOBA_FK, METTOL"
            ],
            "metadata": {
                "azdata_cell_guid": "ce0bacc8-2e3e-4966-a571-9c45bda3294e",
                "language": "sql",
                "tags": []
            },
            "outputs": [
                {
                    "output_type": "display_data",
                    "data": {
                        "text/html": "(1017 rows affected)"
                    },
                    "metadata": {}
                },
                {
                    "output_type": "display_data",
                    "data": {
                        "text/html": "Total execution time: 00:00:00.009"
                    },
                    "metadata": {}
                },
                {
                    "output_type": "execute_result",
                    "metadata": {},
                    "execution_count": 10,
                    "data": {
                        "application/vnd.dataresource+json": {
                            "schema": {
                                "fields": [
                                    {
                                        "name": "SZOBA_FK"
                                    },
                                    {
                                        "name": "METTOL"
                                    },
                                    {
                                        "name": "(No column name)"
                                    }
                                ]
                            },
                            "data": [
                                {
                                    "SZOBA_FK": "6",
                                    "METTOL": "2016-04-06",
                                    "(No column name)": "560"
                                },
                                {
                                    "SZOBA_FK": "7",
                                    "METTOL": "2016-04-06",
                                    "(No column name)": "562"
                                },
                                {
                                    "SZOBA_FK": "42",
                                    "METTOL": "2016-04-06",
                                    "(No column name)": "561"
                                },
                                {
                                    "SZOBA_FK": "87",
                                    "METTOL": "2016-04-06",
                                    "(No column name)": "558"
                                },
                                {
                                    "SZOBA_FK": "131",
                                    "METTOL": "2016-04-06",
                                    "(No column name)": "559"
                                },
                                {
                                    "SZOBA_FK": "68",
                                    "METTOL": "2016-04-07",
                                    "(No column name)": "563"
                                },
                                {
                                    "SZOBA_FK": "5",
                                    "METTOL": "2016-04-08",
                                    "(No column name)": "564"
                                },
                                {
                                    "SZOBA_FK": "141",
                                    "METTOL": "2016-04-08",
                                    "(No column name)": "565"
                                },
                                {
                                    "SZOBA_FK": "21",
                                    "METTOL": "2016-04-09",
                                    "(No column name)": "566"
                                },
                                {
                                    "SZOBA_FK": "10",
                                    "METTOL": "2016-04-10",
                                    "(No column name)": "569"
                                },
                                {
                                    "SZOBA_FK": "78",
                                    "METTOL": "2016-04-10",
                                    "(No column name)": "568"
                                },
                                {
                                    "SZOBA_FK": "83",
                                    "METTOL": "2016-04-10",
                                    "(No column name)": "572"
                                },
                                {
                                    "SZOBA_FK": "155",
                                    "METTOL": "2016-04-10",
                                    "(No column name)": "575"
                                },
                                {
                                    "SZOBA_FK": "164",
                                    "METTOL": "2016-04-10",
                                    "(No column name)": "570"
                                },
                                {
                                    "SZOBA_FK": "169",
                                    "METTOL": "2016-04-10",
                                    "(No column name)": "573"
                                },
                                {
                                    "SZOBA_FK": "170",
                                    "METTOL": "2016-04-10",
                                    "(No column name)": "567"
                                },
                                {
                                    "SZOBA_FK": "171",
                                    "METTOL": "2016-04-10",
                                    "(No column name)": "574"
                                },
                                {
                                    "SZOBA_FK": "182",
                                    "METTOL": "2016-04-10",
                                    "(No column name)": "571"
                                },
                                {
                                    "SZOBA_FK": "125",
                                    "METTOL": "2016-04-11",
                                    "(No column name)": "576"
                                },
                                {
                                    "SZOBA_FK": "155",
                                    "METTOL": "2016-04-12",
                                    "(No column name)": "577"
                                },
                                {
                                    "SZOBA_FK": "185",
                                    "METTOL": "2016-04-13",
                                    "(No column name)": "578"
                                },
                                {
                                    "SZOBA_FK": "130",
                                    "METTOL": "2016-04-14",
                                    "(No column name)": "580"
                                },
                                {
                                    "SZOBA_FK": "139",
                                    "METTOL": "2016-04-14",
                                    "(No column name)": "579"
                                },
                                {
                                    "SZOBA_FK": "144",
                                    "METTOL": "2016-04-15",
                                    "(No column name)": "581"
                                },
                                {
                                    "SZOBA_FK": "79",
                                    "METTOL": "2016-04-16",
                                    "(No column name)": "583"
                                },
                                {
                                    "SZOBA_FK": "137",
                                    "METTOL": "2016-04-16",
                                    "(No column name)": "582"
                                },
                                {
                                    "SZOBA_FK": "70",
                                    "METTOL": "2016-04-17",
                                    "(No column name)": "585"
                                },
                                {
                                    "SZOBA_FK": "136",
                                    "METTOL": "2016-04-17",
                                    "(No column name)": "584"
                                },
                                {
                                    "SZOBA_FK": "107",
                                    "METTOL": "2016-04-18",
                                    "(No column name)": "586"
                                },
                                {
                                    "SZOBA_FK": "42",
                                    "METTOL": "2016-04-19",
                                    "(No column name)": "590"
                                },
                                {
                                    "SZOBA_FK": "44",
                                    "METTOL": "2016-04-19",
                                    "(No column name)": "589"
                                },
                                {
                                    "SZOBA_FK": "123",
                                    "METTOL": "2016-04-19",
                                    "(No column name)": "587"
                                },
                                {
                                    "SZOBA_FK": "156",
                                    "METTOL": "2016-04-19",
                                    "(No column name)": "588"
                                },
                                {
                                    "SZOBA_FK": "149",
                                    "METTOL": "2016-04-20",
                                    "(No column name)": "591"
                                },
                                {
                                    "SZOBA_FK": "77",
                                    "METTOL": "2016-04-21",
                                    "(No column name)": "593"
                                },
                                {
                                    "SZOBA_FK": "176",
                                    "METTOL": "2016-04-21",
                                    "(No column name)": "592"
                                },
                                {
                                    "SZOBA_FK": "74",
                                    "METTOL": "2016-04-22",
                                    "(No column name)": "595"
                                },
                                {
                                    "SZOBA_FK": "153",
                                    "METTOL": "2016-04-22",
                                    "(No column name)": "594"
                                },
                                {
                                    "SZOBA_FK": "100",
                                    "METTOL": "2016-04-23",
                                    "(No column name)": "597"
                                },
                                {
                                    "SZOBA_FK": "115",
                                    "METTOL": "2016-04-23",
                                    "(No column name)": "596"
                                },
                                {
                                    "SZOBA_FK": "31",
                                    "METTOL": "2016-04-24",
                                    "(No column name)": "598"
                                },
                                {
                                    "SZOBA_FK": "162",
                                    "METTOL": "2016-04-24",
                                    "(No column name)": "599"
                                },
                                {
                                    "SZOBA_FK": "190",
                                    "METTOL": "2016-04-24",
                                    "(No column name)": "600"
                                },
                                {
                                    "SZOBA_FK": "39",
                                    "METTOL": "2016-04-25",
                                    "(No column name)": "601"
                                },
                                {
                                    "SZOBA_FK": "17",
                                    "METTOL": "2016-04-26",
                                    "(No column name)": "602"
                                },
                                {
                                    "SZOBA_FK": "48",
                                    "METTOL": "2016-04-26",
                                    "(No column name)": "603"
                                },
                                {
                                    "SZOBA_FK": "30",
                                    "METTOL": "2016-04-27",
                                    "(No column name)": "604"
                                },
                                {
                                    "SZOBA_FK": "31",
                                    "METTOL": "2016-04-27",
                                    "(No column name)": "606"
                                },
                                {
                                    "SZOBA_FK": "111",
                                    "METTOL": "2016-04-27",
                                    "(No column name)": "605"
                                },
                                {
                                    "SZOBA_FK": "96",
                                    "METTOL": "2016-04-28",
                                    "(No column name)": "607"
                                },
                                {
                                    "SZOBA_FK": "184",
                                    "METTOL": "2016-04-28",
                                    "(No column name)": "608"
                                },
                                {
                                    "SZOBA_FK": "9",
                                    "METTOL": "2016-04-29",
                                    "(No column name)": "609"
                                },
                                {
                                    "SZOBA_FK": "106",
                                    "METTOL": "2016-04-30",
                                    "(No column name)": "610"
                                },
                                {
                                    "SZOBA_FK": "29",
                                    "METTOL": "2016-05-01",
                                    "(No column name)": "611"
                                },
                                {
                                    "SZOBA_FK": "109",
                                    "METTOL": "2016-05-01",
                                    "(No column name)": "614"
                                },
                                {
                                    "SZOBA_FK": "117",
                                    "METTOL": "2016-05-01",
                                    "(No column name)": "612"
                                },
                                {
                                    "SZOBA_FK": "130",
                                    "METTOL": "2016-05-01",
                                    "(No column name)": "613"
                                },
                                {
                                    "SZOBA_FK": "186",
                                    "METTOL": "2016-05-01",
                                    "(No column name)": "615"
                                },
                                {
                                    "SZOBA_FK": "94",
                                    "METTOL": "2016-05-02",
                                    "(No column name)": "616"
                                },
                                {
                                    "SZOBA_FK": "117",
                                    "METTOL": "2016-05-02",
                                    "(No column name)": "617"
                                },
                                {
                                    "SZOBA_FK": "105",
                                    "METTOL": "2016-05-03",
                                    "(No column name)": "618"
                                },
                                {
                                    "SZOBA_FK": "132",
                                    "METTOL": "2016-05-04",
                                    "(No column name)": "619"
                                },
                                {
                                    "SZOBA_FK": "1",
                                    "METTOL": "2016-05-05",
                                    "(No column name)": "620"
                                },
                                {
                                    "SZOBA_FK": "109",
                                    "METTOL": "2016-05-06",
                                    "(No column name)": "621"
                                },
                                {
                                    "SZOBA_FK": "54",
                                    "METTOL": "2016-05-07",
                                    "(No column name)": "622"
                                },
                                {
                                    "SZOBA_FK": "18",
                                    "METTOL": "2016-05-08",
                                    "(No column name)": "626"
                                },
                                {
                                    "SZOBA_FK": "33",
                                    "METTOL": "2016-05-08",
                                    "(No column name)": "624"
                                },
                                {
                                    "SZOBA_FK": "38",
                                    "METTOL": "2016-05-08",
                                    "(No column name)": "627"
                                },
                                {
                                    "SZOBA_FK": "63",
                                    "METTOL": "2016-05-08",
                                    "(No column name)": "625"
                                },
                                {
                                    "SZOBA_FK": "96",
                                    "METTOL": "2016-05-08",
                                    "(No column name)": "623"
                                },
                                {
                                    "SZOBA_FK": "3",
                                    "METTOL": "2016-05-09",
                                    "(No column name)": "629"
                                },
                                {
                                    "SZOBA_FK": "48",
                                    "METTOL": "2016-05-09",
                                    "(No column name)": "628"
                                },
                                {
                                    "SZOBA_FK": "98",
                                    "METTOL": "2016-05-09",
                                    "(No column name)": "631"
                                },
                                {
                                    "SZOBA_FK": "99",
                                    "METTOL": "2016-05-09",
                                    "(No column name)": "632"
                                },
                                {
                                    "SZOBA_FK": "163",
                                    "METTOL": "2016-05-09",
                                    "(No column name)": "630"
                                },
                                {
                                    "SZOBA_FK": "187",
                                    "METTOL": "2016-05-09",
                                    "(No column name)": "633"
                                },
                                {
                                    "SZOBA_FK": "193",
                                    "METTOL": "2016-05-09",
                                    "(No column name)": "634"
                                },
                                {
                                    "SZOBA_FK": "91",
                                    "METTOL": "2016-05-10",
                                    "(No column name)": "636"
                                },
                                {
                                    "SZOBA_FK": "97",
                                    "METTOL": "2016-05-10",
                                    "(No column name)": "635"
                                },
                                {
                                    "SZOBA_FK": "100",
                                    "METTOL": "2016-05-11",
                                    "(No column name)": "637"
                                },
                                {
                                    "SZOBA_FK": "67",
                                    "METTOL": "2016-05-12",
                                    "(No column name)": "638"
                                },
                                {
                                    "SZOBA_FK": "161",
                                    "METTOL": "2016-05-12",
                                    "(No column name)": "639"
                                },
                                {
                                    "SZOBA_FK": "165",
                                    "METTOL": "2016-05-12",
                                    "(No column name)": "640"
                                },
                                {
                                    "SZOBA_FK": "54",
                                    "METTOL": "2016-05-13",
                                    "(No column name)": "642"
                                },
                                {
                                    "SZOBA_FK": "150",
                                    "METTOL": "2016-05-13",
                                    "(No column name)": "641"
                                },
                                {
                                    "SZOBA_FK": "67",
                                    "METTOL": "2016-05-14",
                                    "(No column name)": "645"
                                },
                                {
                                    "SZOBA_FK": "78",
                                    "METTOL": "2016-05-14",
                                    "(No column name)": "646"
                                },
                                {
                                    "SZOBA_FK": "127",
                                    "METTOL": "2016-05-14",
                                    "(No column name)": "643"
                                },
                                {
                                    "SZOBA_FK": "166",
                                    "METTOL": "2016-05-14",
                                    "(No column name)": "644"
                                },
                                {
                                    "SZOBA_FK": "85",
                                    "METTOL": "2016-05-15",
                                    "(No column name)": "647"
                                },
                                {
                                    "SZOBA_FK": "157",
                                    "METTOL": "2016-05-16",
                                    "(No column name)": "648"
                                },
                                {
                                    "SZOBA_FK": "4",
                                    "METTOL": "2016-05-17",
                                    "(No column name)": "651"
                                },
                                {
                                    "SZOBA_FK": "65",
                                    "METTOL": "2016-05-17",
                                    "(No column name)": "650"
                                },
                                {
                                    "SZOBA_FK": "137",
                                    "METTOL": "2016-05-17",
                                    "(No column name)": "649"
                                },
                                {
                                    "SZOBA_FK": "109",
                                    "METTOL": "2016-05-18",
                                    "(No column name)": "654"
                                },
                                {
                                    "SZOBA_FK": "131",
                                    "METTOL": "2016-05-18",
                                    "(No column name)": "655"
                                },
                                {
                                    "SZOBA_FK": "149",
                                    "METTOL": "2016-05-18",
                                    "(No column name)": "652"
                                },
                                {
                                    "SZOBA_FK": "161",
                                    "METTOL": "2016-05-18",
                                    "(No column name)": "653"
                                },
                                {
                                    "SZOBA_FK": "95",
                                    "METTOL": "2016-05-19",
                                    "(No column name)": "656"
                                },
                                {
                                    "SZOBA_FK": "137",
                                    "METTOL": "2016-05-20",
                                    "(No column name)": "657"
                                },
                                {
                                    "SZOBA_FK": "21",
                                    "METTOL": "2016-05-21",
                                    "(No column name)": "660"
                                },
                                {
                                    "SZOBA_FK": "44",
                                    "METTOL": "2016-05-21",
                                    "(No column name)": "658"
                                },
                                {
                                    "SZOBA_FK": "136",
                                    "METTOL": "2016-05-21",
                                    "(No column name)": "661"
                                },
                                {
                                    "SZOBA_FK": "169",
                                    "METTOL": "2016-05-21",
                                    "(No column name)": "659"
                                },
                                {
                                    "SZOBA_FK": "179",
                                    "METTOL": "2016-05-21",
                                    "(No column name)": "662"
                                },
                                {
                                    "SZOBA_FK": "14",
                                    "METTOL": "2016-05-22",
                                    "(No column name)": "663"
                                },
                                {
                                    "SZOBA_FK": "42",
                                    "METTOL": "2016-05-22",
                                    "(No column name)": "851"
                                },
                                {
                                    "SZOBA_FK": "24",
                                    "METTOL": "2016-05-23",
                                    "(No column name)": "852"
                                },
                                {
                                    "SZOBA_FK": "16",
                                    "METTOL": "2016-05-24",
                                    "(No column name)": "856"
                                },
                                {
                                    "SZOBA_FK": "53",
                                    "METTOL": "2016-05-24",
                                    "(No column name)": "855"
                                },
                                {
                                    "SZOBA_FK": "127",
                                    "METTOL": "2016-05-24",
                                    "(No column name)": "853"
                                },
                                {
                                    "SZOBA_FK": "167",
                                    "METTOL": "2016-05-24",
                                    "(No column name)": "854"
                                },
                                {
                                    "SZOBA_FK": "121",
                                    "METTOL": "2016-05-25",
                                    "(No column name)": "858"
                                },
                                {
                                    "SZOBA_FK": "165",
                                    "METTOL": "2016-05-25",
                                    "(No column name)": "857"
                                },
                                {
                                    "SZOBA_FK": "86",
                                    "METTOL": "2016-05-26",
                                    "(No column name)": "859"
                                },
                                {
                                    "SZOBA_FK": "70",
                                    "METTOL": "2016-05-27",
                                    "(No column name)": "860"
                                },
                                {
                                    "SZOBA_FK": "82",
                                    "METTOL": "2016-05-27",
                                    "(No column name)": "862"
                                },
                                {
                                    "SZOBA_FK": "124",
                                    "METTOL": "2016-05-27",
                                    "(No column name)": "861"
                                },
                                {
                                    "SZOBA_FK": "34",
                                    "METTOL": "2016-05-28",
                                    "(No column name)": "870"
                                },
                                {
                                    "SZOBA_FK": "51",
                                    "METTOL": "2016-05-28",
                                    "(No column name)": "865"
                                },
                                {
                                    "SZOBA_FK": "83",
                                    "METTOL": "2016-05-28",
                                    "(No column name)": "869"
                                },
                                {
                                    "SZOBA_FK": "88",
                                    "METTOL": "2016-05-28",
                                    "(No column name)": "866"
                                },
                                {
                                    "SZOBA_FK": "118",
                                    "METTOL": "2016-05-28",
                                    "(No column name)": "864"
                                },
                                {
                                    "SZOBA_FK": "175",
                                    "METTOL": "2016-05-28",
                                    "(No column name)": "867"
                                },
                                {
                                    "SZOBA_FK": "185",
                                    "METTOL": "2016-05-28",
                                    "(No column name)": "863"
                                },
                                {
                                    "SZOBA_FK": "187",
                                    "METTOL": "2016-05-28",
                                    "(No column name)": "868"
                                },
                                {
                                    "SZOBA_FK": "6",
                                    "METTOL": "2016-05-29",
                                    "(No column name)": "873"
                                },
                                {
                                    "SZOBA_FK": "28",
                                    "METTOL": "2016-05-29",
                                    "(No column name)": "872"
                                },
                                {
                                    "SZOBA_FK": "82",
                                    "METTOL": "2016-05-29",
                                    "(No column name)": "871"
                                },
                                {
                                    "SZOBA_FK": "8",
                                    "METTOL": "2016-05-30",
                                    "(No column name)": "882"
                                },
                                {
                                    "SZOBA_FK": "12",
                                    "METTOL": "2016-05-30",
                                    "(No column name)": "876"
                                },
                                {
                                    "SZOBA_FK": "58",
                                    "METTOL": "2016-05-30",
                                    "(No column name)": "883"
                                },
                                {
                                    "SZOBA_FK": "64",
                                    "METTOL": "2016-05-30",
                                    "(No column name)": "875"
                                },
                                {
                                    "SZOBA_FK": "67",
                                    "METTOL": "2016-05-30",
                                    "(No column name)": "874"
                                },
                                {
                                    "SZOBA_FK": "74",
                                    "METTOL": "2016-05-30",
                                    "(No column name)": "877"
                                },
                                {
                                    "SZOBA_FK": "83",
                                    "METTOL": "2016-05-30",
                                    "(No column name)": "878"
                                },
                                {
                                    "SZOBA_FK": "98",
                                    "METTOL": "2016-05-30",
                                    "(No column name)": "884"
                                },
                                {
                                    "SZOBA_FK": "127",
                                    "METTOL": "2016-05-30",
                                    "(No column name)": "879"
                                },
                                {
                                    "SZOBA_FK": "131",
                                    "METTOL": "2016-05-30",
                                    "(No column name)": "881"
                                },
                                {
                                    "SZOBA_FK": "184",
                                    "METTOL": "2016-05-30",
                                    "(No column name)": "880"
                                },
                                {
                                    "SZOBA_FK": "69",
                                    "METTOL": "2016-05-31",
                                    "(No column name)": "885"
                                },
                                {
                                    "SZOBA_FK": "28",
                                    "METTOL": "2016-06-01",
                                    "(No column name)": "886"
                                },
                                {
                                    "SZOBA_FK": "80",
                                    "METTOL": "2016-06-01",
                                    "(No column name)": "887"
                                },
                                {
                                    "SZOBA_FK": "49",
                                    "METTOL": "2016-06-02",
                                    "(No column name)": "888"
                                },
                                {
                                    "SZOBA_FK": "54",
                                    "METTOL": "2016-06-02",
                                    "(No column name)": "889"
                                },
                                {
                                    "SZOBA_FK": "63",
                                    "METTOL": "2016-06-02",
                                    "(No column name)": "891"
                                },
                                {
                                    "SZOBA_FK": "146",
                                    "METTOL": "2016-06-02",
                                    "(No column name)": "890"
                                },
                                {
                                    "SZOBA_FK": "16",
                                    "METTOL": "2016-06-03",
                                    "(No column name)": "896"
                                },
                                {
                                    "SZOBA_FK": "29",
                                    "METTOL": "2016-06-03",
                                    "(No column name)": "894"
                                },
                                {
                                    "SZOBA_FK": "36",
                                    "METTOL": "2016-06-03",
                                    "(No column name)": "895"
                                },
                                {
                                    "SZOBA_FK": "39",
                                    "METTOL": "2016-06-03",
                                    "(No column name)": "899"
                                },
                                {
                                    "SZOBA_FK": "151",
                                    "METTOL": "2016-06-03",
                                    "(No column name)": "893"
                                },
                                {
                                    "SZOBA_FK": "165",
                                    "METTOL": "2016-06-03",
                                    "(No column name)": "2689"
                                },
                                {
                                    "SZOBA_FK": "185",
                                    "METTOL": "2016-06-03",
                                    "(No column name)": "898"
                                },
                                {
                                    "SZOBA_FK": "22",
                                    "METTOL": "2016-06-04",
                                    "(No column name)": "906"
                                },
                                {
                                    "SZOBA_FK": "28",
                                    "METTOL": "2016-06-04",
                                    "(No column name)": "901"
                                },
                                {
                                    "SZOBA_FK": "34",
                                    "METTOL": "2016-06-04",
                                    "(No column name)": "904"
                                },
                                {
                                    "SZOBA_FK": "72",
                                    "METTOL": "2016-06-04",
                                    "(No column name)": "902"
                                },
                                {
                                    "SZOBA_FK": "180",
                                    "METTOL": "2016-06-04",
                                    "(No column name)": "905"
                                },
                                {
                                    "SZOBA_FK": "192",
                                    "METTOL": "2016-06-04",
                                    "(No column name)": "903"
                                },
                                {
                                    "SZOBA_FK": "141",
                                    "METTOL": "2016-06-05",
                                    "(No column name)": "908"
                                },
                                {
                                    "SZOBA_FK": "156",
                                    "METTOL": "2016-06-05",
                                    "(No column name)": "907"
                                },
                                {
                                    "SZOBA_FK": "11",
                                    "METTOL": "2016-06-06",
                                    "(No column name)": "918"
                                },
                                {
                                    "SZOBA_FK": "17",
                                    "METTOL": "2016-06-06",
                                    "(No column name)": "916"
                                },
                                {
                                    "SZOBA_FK": "32",
                                    "METTOL": "2016-06-06",
                                    "(No column name)": "920"
                                },
                                {
                                    "SZOBA_FK": "36",
                                    "METTOL": "2016-06-06",
                                    "(No column name)": "919"
                                },
                                {
                                    "SZOBA_FK": "48",
                                    "METTOL": "2016-06-06",
                                    "(No column name)": "914"
                                },
                                {
                                    "SZOBA_FK": "112",
                                    "METTOL": "2016-06-06",
                                    "(No column name)": "921"
                                },
                                {
                                    "SZOBA_FK": "130",
                                    "METTOL": "2016-06-06",
                                    "(No column name)": "910"
                                },
                                {
                                    "SZOBA_FK": "133",
                                    "METTOL": "2016-06-06",
                                    "(No column name)": "909"
                                },
                                {
                                    "SZOBA_FK": "140",
                                    "METTOL": "2016-06-06",
                                    "(No column name)": "915"
                                },
                                {
                                    "SZOBA_FK": "160",
                                    "METTOL": "2016-06-06",
                                    "(No column name)": "922"
                                },
                                {
                                    "SZOBA_FK": "161",
                                    "METTOL": "2016-06-06",
                                    "(No column name)": "911"
                                },
                                {
                                    "SZOBA_FK": "173",
                                    "METTOL": "2016-06-06",
                                    "(No column name)": "913"
                                },
                                {
                                    "SZOBA_FK": "174",
                                    "METTOL": "2016-06-06",
                                    "(No column name)": "917"
                                },
                                {
                                    "SZOBA_FK": "188",
                                    "METTOL": "2016-06-06",
                                    "(No column name)": "912"
                                },
                                {
                                    "SZOBA_FK": "40",
                                    "METTOL": "2016-06-07",
                                    "(No column name)": "1856"
                                },
                                {
                                    "SZOBA_FK": "80",
                                    "METTOL": "2016-06-07",
                                    "(No column name)": "929"
                                },
                                {
                                    "SZOBA_FK": "110",
                                    "METTOL": "2016-06-07",
                                    "(No column name)": "931"
                                },
                                {
                                    "SZOBA_FK": "123",
                                    "METTOL": "2016-06-07",
                                    "(No column name)": "923"
                                },
                                {
                                    "SZOBA_FK": "160",
                                    "METTOL": "2016-06-07",
                                    "(No column name)": "1860"
                                },
                                {
                                    "SZOBA_FK": "168",
                                    "METTOL": "2016-06-07",
                                    "(No column name)": "930"
                                },
                                {
                                    "SZOBA_FK": "182",
                                    "METTOL": "2016-06-07",
                                    "(No column name)": "928"
                                },
                                {
                                    "SZOBA_FK": "185",
                                    "METTOL": "2016-06-07",
                                    "(No column name)": "925"
                                },
                                {
                                    "SZOBA_FK": "193",
                                    "METTOL": "2016-06-07",
                                    "(No column name)": "926"
                                },
                                {
                                    "SZOBA_FK": "23",
                                    "METTOL": "2016-06-08",
                                    "(No column name)": "934"
                                },
                                {
                                    "SZOBA_FK": "56",
                                    "METTOL": "2016-06-08",
                                    "(No column name)": "935"
                                },
                                {
                                    "SZOBA_FK": "62",
                                    "METTOL": "2016-06-08",
                                    "(No column name)": "936"
                                },
                                {
                                    "SZOBA_FK": "181",
                                    "METTOL": "2016-06-08",
                                    "(No column name)": "937"
                                },
                                {
                                    "SZOBA_FK": "62",
                                    "METTOL": "2016-06-09",
                                    "(No column name)": "938"
                                },
                                {
                                    "SZOBA_FK": "74",
                                    "METTOL": "2016-06-09",
                                    "(No column name)": "940"
                                },
                                {
                                    "SZOBA_FK": "183",
                                    "METTOL": "2016-06-09",
                                    "(No column name)": "939"
                                },
                                {
                                    "SZOBA_FK": "1",
                                    "METTOL": "2016-06-10",
                                    "(No column name)": "949"
                                },
                                {
                                    "SZOBA_FK": "4",
                                    "METTOL": "2016-06-10",
                                    "(No column name)": "946"
                                },
                                {
                                    "SZOBA_FK": "8",
                                    "METTOL": "2016-06-10",
                                    "(No column name)": "947"
                                },
                                {
                                    "SZOBA_FK": "19",
                                    "METTOL": "2016-06-10",
                                    "(No column name)": "948"
                                },
                                {
                                    "SZOBA_FK": "23",
                                    "METTOL": "2016-06-10",
                                    "(No column name)": "945"
                                },
                                {
                                    "SZOBA_FK": "66",
                                    "METTOL": "2016-06-10",
                                    "(No column name)": "950"
                                },
                                {
                                    "SZOBA_FK": "92",
                                    "METTOL": "2016-06-10",
                                    "(No column name)": "942"
                                },
                                {
                                    "SZOBA_FK": "115",
                                    "METTOL": "2016-06-10",
                                    "(No column name)": "943"
                                },
                                {
                                    "SZOBA_FK": "163",
                                    "METTOL": "2016-06-10",
                                    "(No column name)": "941"
                                },
                                {
                                    "SZOBA_FK": "170",
                                    "METTOL": "2016-06-10",
                                    "(No column name)": "944"
                                },
                                {
                                    "SZOBA_FK": "12",
                                    "METTOL": "2016-06-11",
                                    "(No column name)": "951"
                                },
                                {
                                    "SZOBA_FK": "196",
                                    "METTOL": "2016-06-11",
                                    "(No column name)": "952"
                                },
                                {
                                    "SZOBA_FK": "117",
                                    "METTOL": "2016-06-12",
                                    "(No column name)": "953"
                                },
                                {
                                    "SZOBA_FK": "47",
                                    "METTOL": "2016-06-13",
                                    "(No column name)": "955"
                                },
                                {
                                    "SZOBA_FK": "84",
                                    "METTOL": "2016-06-13",
                                    "(No column name)": "954"
                                },
                                {
                                    "SZOBA_FK": "156",
                                    "METTOL": "2016-06-13",
                                    "(No column name)": "956"
                                },
                                {
                                    "SZOBA_FK": "181",
                                    "METTOL": "2016-06-13",
                                    "(No column name)": "958"
                                },
                                {
                                    "SZOBA_FK": "187",
                                    "METTOL": "2016-06-13",
                                    "(No column name)": "957"
                                },
                                {
                                    "SZOBA_FK": "111",
                                    "METTOL": "2016-06-14",
                                    "(No column name)": "959"
                                },
                                {
                                    "SZOBA_FK": "41",
                                    "METTOL": "2016-06-15",
                                    "(No column name)": "960"
                                },
                                {
                                    "SZOBA_FK": "5",
                                    "METTOL": "2016-06-16",
                                    "(No column name)": "965"
                                },
                                {
                                    "SZOBA_FK": "72",
                                    "METTOL": "2016-06-16",
                                    "(No column name)": "961"
                                },
                                {
                                    "SZOBA_FK": "74",
                                    "METTOL": "2016-06-16",
                                    "(No column name)": "963"
                                },
                                {
                                    "SZOBA_FK": "110",
                                    "METTOL": "2016-06-16",
                                    "(No column name)": "964"
                                },
                                {
                                    "SZOBA_FK": "114",
                                    "METTOL": "2016-06-16",
                                    "(No column name)": "966"
                                },
                                {
                                    "SZOBA_FK": "117",
                                    "METTOL": "2016-06-16",
                                    "(No column name)": "962"
                                },
                                {
                                    "SZOBA_FK": "123",
                                    "METTOL": "2016-06-16",
                                    "(No column name)": "967"
                                },
                                {
                                    "SZOBA_FK": "154",
                                    "METTOL": "2016-06-16",
                                    "(No column name)": "968"
                                },
                                {
                                    "SZOBA_FK": "12",
                                    "METTOL": "2016-06-17",
                                    "(No column name)": "970"
                                },
                                {
                                    "SZOBA_FK": "153",
                                    "METTOL": "2016-06-17",
                                    "(No column name)": "969"
                                },
                                {
                                    "SZOBA_FK": "35",
                                    "METTOL": "2016-06-18",
                                    "(No column name)": "971"
                                },
                                {
                                    "SZOBA_FK": "103",
                                    "METTOL": "2016-06-19",
                                    "(No column name)": "972"
                                },
                                {
                                    "SZOBA_FK": "16",
                                    "METTOL": "2016-06-20",
                                    "(No column name)": "973"
                                },
                                {
                                    "SZOBA_FK": "169",
                                    "METTOL": "2016-06-20",
                                    "(No column name)": "974"
                                },
                                {
                                    "SZOBA_FK": "94",
                                    "METTOL": "2016-06-21",
                                    "(No column name)": "975"
                                },
                                {
                                    "SZOBA_FK": "35",
                                    "METTOL": "2016-06-22",
                                    "(No column name)": "979"
                                },
                                {
                                    "SZOBA_FK": "76",
                                    "METTOL": "2016-06-22",
                                    "(No column name)": "976"
                                },
                                {
                                    "SZOBA_FK": "193",
                                    "METTOL": "2016-06-22",
                                    "(No column name)": "977"
                                },
                                {
                                    "SZOBA_FK": "198",
                                    "METTOL": "2016-06-22",
                                    "(No column name)": "978"
                                },
                                {
                                    "SZOBA_FK": "77",
                                    "METTOL": "2016-06-23",
                                    "(No column name)": "982"
                                },
                                {
                                    "SZOBA_FK": "80",
                                    "METTOL": "2016-06-23",
                                    "(No column name)": "983"
                                },
                                {
                                    "SZOBA_FK": "143",
                                    "METTOL": "2016-06-23",
                                    "(No column name)": "980"
                                },
                                {
                                    "SZOBA_FK": "171",
                                    "METTOL": "2016-06-23",
                                    "(No column name)": "981"
                                },
                                {
                                    "SZOBA_FK": "36",
                                    "METTOL": "2016-06-24",
                                    "(No column name)": "985"
                                },
                                {
                                    "SZOBA_FK": "172",
                                    "METTOL": "2016-06-24",
                                    "(No column name)": "984"
                                },
                                {
                                    "SZOBA_FK": "48",
                                    "METTOL": "2016-06-25",
                                    "(No column name)": "986"
                                },
                                {
                                    "SZOBA_FK": "53",
                                    "METTOL": "2016-06-26",
                                    "(No column name)": "987"
                                },
                                {
                                    "SZOBA_FK": "6",
                                    "METTOL": "2016-06-27",
                                    "(No column name)": "990"
                                },
                                {
                                    "SZOBA_FK": "133",
                                    "METTOL": "2016-06-27",
                                    "(No column name)": "988"
                                },
                                {
                                    "SZOBA_FK": "190",
                                    "METTOL": "2016-06-27",
                                    "(No column name)": "989"
                                },
                                {
                                    "SZOBA_FK": "178",
                                    "METTOL": "2016-06-28",
                                    "(No column name)": "991"
                                },
                                {
                                    "SZOBA_FK": "103",
                                    "METTOL": "2016-06-29",
                                    "(No column name)": "992"
                                },
                                {
                                    "SZOBA_FK": "83",
                                    "METTOL": "2016-06-30",
                                    "(No column name)": "995"
                                },
                                {
                                    "SZOBA_FK": "118",
                                    "METTOL": "2016-06-30",
                                    "(No column name)": "994"
                                },
                                {
                                    "SZOBA_FK": "197",
                                    "METTOL": "2016-06-30",
                                    "(No column name)": "993"
                                },
                                {
                                    "SZOBA_FK": "73",
                                    "METTOL": "2016-07-01",
                                    "(No column name)": "1000"
                                },
                                {
                                    "SZOBA_FK": "82",
                                    "METTOL": "2016-07-01",
                                    "(No column name)": "997"
                                },
                                {
                                    "SZOBA_FK": "118",
                                    "METTOL": "2016-07-01",
                                    "(No column name)": "996"
                                },
                                {
                                    "SZOBA_FK": "120",
                                    "METTOL": "2016-07-01",
                                    "(No column name)": "998"
                                },
                                {
                                    "SZOBA_FK": "132",
                                    "METTOL": "2016-07-01",
                                    "(No column name)": "999"
                                },
                                {
                                    "SZOBA_FK": "4",
                                    "METTOL": "2016-07-02",
                                    "(No column name)": "1001"
                                },
                                {
                                    "SZOBA_FK": "22",
                                    "METTOL": "2016-07-03",
                                    "(No column name)": "1005"
                                },
                                {
                                    "SZOBA_FK": "36",
                                    "METTOL": "2016-07-03",
                                    "(No column name)": "1003"
                                },
                                {
                                    "SZOBA_FK": "70",
                                    "METTOL": "2016-07-03",
                                    "(No column name)": "1006"
                                },
                                {
                                    "SZOBA_FK": "117",
                                    "METTOL": "2016-07-03",
                                    "(No column name)": "1002"
                                },
                                {
                                    "SZOBA_FK": "134",
                                    "METTOL": "2016-07-03",
                                    "(No column name)": "1004"
                                },
                                {
                                    "SZOBA_FK": "71",
                                    "METTOL": "2016-07-04",
                                    "(No column name)": "1009"
                                },
                                {
                                    "SZOBA_FK": "122",
                                    "METTOL": "2016-07-04",
                                    "(No column name)": "1007"
                                },
                                {
                                    "SZOBA_FK": "164",
                                    "METTOL": "2016-07-04",
                                    "(No column name)": "1010"
                                },
                                {
                                    "SZOBA_FK": "182",
                                    "METTOL": "2016-07-04",
                                    "(No column name)": "1008"
                                },
                                {
                                    "SZOBA_FK": "198",
                                    "METTOL": "2016-07-04",
                                    "(No column name)": "1011"
                                },
                                {
                                    "SZOBA_FK": "33",
                                    "METTOL": "2016-07-05",
                                    "(No column name)": "1012"
                                },
                                {
                                    "SZOBA_FK": "75",
                                    "METTOL": "2016-07-06",
                                    "(No column name)": "1013"
                                },
                                {
                                    "SZOBA_FK": "137",
                                    "METTOL": "2016-07-06",
                                    "(No column name)": "1014"
                                },
                                {
                                    "SZOBA_FK": "174",
                                    "METTOL": "2016-07-06",
                                    "(No column name)": "1015"
                                },
                                {
                                    "SZOBA_FK": "92",
                                    "METTOL": "2016-07-07",
                                    "(No column name)": "1016"
                                },
                                {
                                    "SZOBA_FK": "40",
                                    "METTOL": "2016-07-08",
                                    "(No column name)": "1018"
                                },
                                {
                                    "SZOBA_FK": "43",
                                    "METTOL": "2016-07-08",
                                    "(No column name)": "1019"
                                },
                                {
                                    "SZOBA_FK": "190",
                                    "METTOL": "2016-07-08",
                                    "(No column name)": "1017"
                                },
                                {
                                    "SZOBA_FK": "12",
                                    "METTOL": "2016-07-09",
                                    "(No column name)": "1020"
                                },
                                {
                                    "SZOBA_FK": "179",
                                    "METTOL": "2016-07-09",
                                    "(No column name)": "1021"
                                },
                                {
                                    "SZOBA_FK": "30",
                                    "METTOL": "2016-07-10",
                                    "(No column name)": "1023"
                                },
                                {
                                    "SZOBA_FK": "181",
                                    "METTOL": "2016-07-10",
                                    "(No column name)": "1022"
                                },
                                {
                                    "SZOBA_FK": "134",
                                    "METTOL": "2016-07-11",
                                    "(No column name)": "1024"
                                },
                                {
                                    "SZOBA_FK": "68",
                                    "METTOL": "2016-07-12",
                                    "(No column name)": "1027"
                                },
                                {
                                    "SZOBA_FK": "119",
                                    "METTOL": "2016-07-12",
                                    "(No column name)": "1026"
                                },
                                {
                                    "SZOBA_FK": "157",
                                    "METTOL": "2016-07-12",
                                    "(No column name)": "1025"
                                },
                                {
                                    "SZOBA_FK": "3",
                                    "METTOL": "2016-07-13",
                                    "(No column name)": "666"
                                },
                                {
                                    "SZOBA_FK": "15",
                                    "METTOL": "2016-07-13",
                                    "(No column name)": "1028"
                                },
                                {
                                    "SZOBA_FK": "80",
                                    "METTOL": "2016-07-13",
                                    "(No column name)": "667"
                                },
                                {
                                    "SZOBA_FK": "94",
                                    "METTOL": "2016-07-13",
                                    "(No column name)": "665"
                                },
                                {
                                    "SZOBA_FK": "146",
                                    "METTOL": "2016-07-13",
                                    "(No column name)": "664"
                                },
                                {
                                    "SZOBA_FK": "43",
                                    "METTOL": "2016-07-14",
                                    "(No column name)": "670"
                                },
                                {
                                    "SZOBA_FK": "54",
                                    "METTOL": "2016-07-14",
                                    "(No column name)": "668"
                                },
                                {
                                    "SZOBA_FK": "96",
                                    "METTOL": "2016-07-14",
                                    "(No column name)": "671"
                                },
                                {
                                    "SZOBA_FK": "173",
                                    "METTOL": "2016-07-14",
                                    "(No column name)": "669"
                                },
                                {
                                    "SZOBA_FK": "185",
                                    "METTOL": "2016-07-14",
                                    "(No column name)": "672"
                                },
                                {
                                    "SZOBA_FK": "196",
                                    "METTOL": "2016-07-14",
                                    "(No column name)": "673"
                                },
                                {
                                    "SZOBA_FK": "83",
                                    "METTOL": "2016-07-15",
                                    "(No column name)": "674"
                                },
                                {
                                    "SZOBA_FK": "193",
                                    "METTOL": "2016-07-15",
                                    "(No column name)": "675"
                                },
                                {
                                    "SZOBA_FK": "60",
                                    "METTOL": "2016-07-16",
                                    "(No column name)": "676"
                                },
                                {
                                    "SZOBA_FK": "181",
                                    "METTOL": "2016-07-16",
                                    "(No column name)": "677"
                                },
                                {
                                    "SZOBA_FK": "148",
                                    "METTOL": "2016-07-17",
                                    "(No column name)": "678"
                                },
                                {
                                    "SZOBA_FK": "185",
                                    "METTOL": "2016-07-17",
                                    "(No column name)": "679"
                                },
                                {
                                    "SZOBA_FK": "192",
                                    "METTOL": "2016-07-17",
                                    "(No column name)": "680"
                                },
                                {
                                    "SZOBA_FK": "16",
                                    "METTOL": "2016-07-18",
                                    "(No column name)": "687"
                                },
                                {
                                    "SZOBA_FK": "35",
                                    "METTOL": "2016-07-18",
                                    "(No column name)": "686"
                                },
                                {
                                    "SZOBA_FK": "71",
                                    "METTOL": "2016-07-18",
                                    "(No column name)": "681"
                                },
                                {
                                    "SZOBA_FK": "76",
                                    "METTOL": "2016-07-18",
                                    "(No column name)": "683"
                                },
                                {
                                    "SZOBA_FK": "110",
                                    "METTOL": "2016-07-18",
                                    "(No column name)": "685"
                                },
                                {
                                    "SZOBA_FK": "174",
                                    "METTOL": "2016-07-18",
                                    "(No column name)": "682"
                                },
                                {
                                    "SZOBA_FK": "184",
                                    "METTOL": "2016-07-18",
                                    "(No column name)": "684"
                                },
                                {
                                    "SZOBA_FK": "37",
                                    "METTOL": "2016-07-19",
                                    "(No column name)": "688"
                                },
                                {
                                    "SZOBA_FK": "102",
                                    "METTOL": "2016-07-19",
                                    "(No column name)": "689"
                                },
                                {
                                    "SZOBA_FK": "188",
                                    "METTOL": "2016-07-19",
                                    "(No column name)": "690"
                                },
                                {
                                    "SZOBA_FK": "8",
                                    "METTOL": "2016-07-20",
                                    "(No column name)": "694"
                                },
                                {
                                    "SZOBA_FK": "12",
                                    "METTOL": "2016-07-20",
                                    "(No column name)": "697"
                                },
                                {
                                    "SZOBA_FK": "19",
                                    "METTOL": "2016-07-20",
                                    "(No column name)": "696"
                                },
                                {
                                    "SZOBA_FK": "77",
                                    "METTOL": "2016-07-20",
                                    "(No column name)": "698"
                                },
                                {
                                    "SZOBA_FK": "78",
                                    "METTOL": "2016-07-20",
                                    "(No column name)": "700"
                                },
                                {
                                    "SZOBA_FK": "99",
                                    "METTOL": "2016-07-20",
                                    "(No column name)": "691"
                                },
                                {
                                    "SZOBA_FK": "156",
                                    "METTOL": "2016-07-20",
                                    "(No column name)": "692"
                                },
                                {
                                    "SZOBA_FK": "185",
                                    "METTOL": "2016-07-20",
                                    "(No column name)": "693"
                                },
                                {
                                    "SZOBA_FK": "187",
                                    "METTOL": "2016-07-20",
                                    "(No column name)": "695"
                                },
                                {
                                    "SZOBA_FK": "189",
                                    "METTOL": "2016-07-20",
                                    "(No column name)": "699"
                                },
                                {
                                    "SZOBA_FK": "61",
                                    "METTOL": "2016-07-21",
                                    "(No column name)": "701"
                                },
                                {
                                    "SZOBA_FK": "62",
                                    "METTOL": "2016-07-21",
                                    "(No column name)": "702"
                                },
                                {
                                    "SZOBA_FK": "37",
                                    "METTOL": "2016-07-22",
                                    "(No column name)": "705"
                                },
                                {
                                    "SZOBA_FK": "70",
                                    "METTOL": "2016-07-22",
                                    "(No column name)": "704"
                                },
                                {
                                    "SZOBA_FK": "119",
                                    "METTOL": "2016-07-22",
                                    "(No column name)": "706"
                                },
                                {
                                    "SZOBA_FK": "145",
                                    "METTOL": "2016-07-22",
                                    "(No column name)": "703"
                                },
                                {
                                    "SZOBA_FK": "35",
                                    "METTOL": "2016-07-23",
                                    "(No column name)": "707"
                                },
                                {
                                    "SZOBA_FK": "106",
                                    "METTOL": "2016-07-23",
                                    "(No column name)": "708"
                                },
                                {
                                    "SZOBA_FK": "17",
                                    "METTOL": "2016-07-24",
                                    "(No column name)": "713"
                                },
                                {
                                    "SZOBA_FK": "71",
                                    "METTOL": "2016-07-24",
                                    "(No column name)": "712"
                                },
                                {
                                    "SZOBA_FK": "172",
                                    "METTOL": "2016-07-24",
                                    "(No column name)": "709"
                                },
                                {
                                    "SZOBA_FK": "185",
                                    "METTOL": "2016-07-24",
                                    "(No column name)": "711"
                                },
                                {
                                    "SZOBA_FK": "188",
                                    "METTOL": "2016-07-24",
                                    "(No column name)": "710"
                                },
                                {
                                    "SZOBA_FK": "73",
                                    "METTOL": "2016-07-25",
                                    "(No column name)": "714"
                                },
                                {
                                    "SZOBA_FK": "101",
                                    "METTOL": "2016-07-25",
                                    "(No column name)": "715"
                                },
                                {
                                    "SZOBA_FK": "118",
                                    "METTOL": "2016-07-26",
                                    "(No column name)": "716"
                                },
                                {
                                    "SZOBA_FK": "128",
                                    "METTOL": "2016-07-26",
                                    "(No column name)": "717"
                                },
                                {
                                    "SZOBA_FK": "28",
                                    "METTOL": "2016-07-27",
                                    "(No column name)": "725"
                                },
                                {
                                    "SZOBA_FK": "31",
                                    "METTOL": "2016-07-27",
                                    "(No column name)": "728"
                                },
                                {
                                    "SZOBA_FK": "58",
                                    "METTOL": "2016-07-27",
                                    "(No column name)": "719"
                                },
                                {
                                    "SZOBA_FK": "94",
                                    "METTOL": "2016-07-27",
                                    "(No column name)": "727"
                                },
                                {
                                    "SZOBA_FK": "97",
                                    "METTOL": "2016-07-27",
                                    "(No column name)": "1444"
                                },
                                {
                                    "SZOBA_FK": "119",
                                    "METTOL": "2016-07-27",
                                    "(No column name)": "722"
                                },
                                {
                                    "SZOBA_FK": "129",
                                    "METTOL": "2016-07-27",
                                    "(No column name)": "723"
                                },
                                {
                                    "SZOBA_FK": "135",
                                    "METTOL": "2016-07-27",
                                    "(No column name)": "724"
                                },
                                {
                                    "SZOBA_FK": "160",
                                    "METTOL": "2016-07-27",
                                    "(No column name)": "720"
                                },
                                {
                                    "SZOBA_FK": "195",
                                    "METTOL": "2016-07-27",
                                    "(No column name)": "721"
                                },
                                {
                                    "SZOBA_FK": "55",
                                    "METTOL": "2016-07-28",
                                    "(No column name)": "734"
                                },
                                {
                                    "SZOBA_FK": "90",
                                    "METTOL": "2016-07-28",
                                    "(No column name)": "729"
                                },
                                {
                                    "SZOBA_FK": "91",
                                    "METTOL": "2016-07-28",
                                    "(No column name)": "732"
                                },
                                {
                                    "SZOBA_FK": "121",
                                    "METTOL": "2016-07-28",
                                    "(No column name)": "735"
                                },
                                {
                                    "SZOBA_FK": "140",
                                    "METTOL": "2016-07-28",
                                    "(No column name)": "733"
                                },
                                {
                                    "SZOBA_FK": "152",
                                    "METTOL": "2016-07-28",
                                    "(No column name)": "730"
                                },
                                {
                                    "SZOBA_FK": "181",
                                    "METTOL": "2016-07-28",
                                    "(No column name)": "731"
                                },
                                {
                                    "SZOBA_FK": "66",
                                    "METTOL": "2016-07-29",
                                    "(No column name)": "736"
                                },
                                {
                                    "SZOBA_FK": "114",
                                    "METTOL": "2016-07-29",
                                    "(No column name)": "737"
                                },
                                {
                                    "SZOBA_FK": "1",
                                    "METTOL": "2016-07-30",
                                    "(No column name)": "738"
                                },
                                {
                                    "SZOBA_FK": "93",
                                    "METTOL": "2016-07-30",
                                    "(No column name)": "741"
                                },
                                {
                                    "SZOBA_FK": "121",
                                    "METTOL": "2016-07-30",
                                    "(No column name)": "739"
                                },
                                {
                                    "SZOBA_FK": "182",
                                    "METTOL": "2016-07-30",
                                    "(No column name)": "740"
                                },
                                {
                                    "SZOBA_FK": "164",
                                    "METTOL": "2016-07-31",
                                    "(No column name)": "742"
                                },
                                {
                                    "SZOBA_FK": "187",
                                    "METTOL": "2016-07-31",
                                    "(No column name)": "743"
                                },
                                {
                                    "SZOBA_FK": "17",
                                    "METTOL": "2016-08-01",
                                    "(No column name)": "744"
                                },
                                {
                                    "SZOBA_FK": "139",
                                    "METTOL": "2016-08-01",
                                    "(No column name)": "745"
                                },
                                {
                                    "SZOBA_FK": "169",
                                    "METTOL": "2016-08-01",
                                    "(No column name)": "746"
                                },
                                {
                                    "SZOBA_FK": "188",
                                    "METTOL": "2016-08-01",
                                    "(No column name)": "747"
                                },
                                {
                                    "SZOBA_FK": "36",
                                    "METTOL": "2016-08-02",
                                    "(No column name)": "748"
                                },
                                {
                                    "SZOBA_FK": "172",
                                    "METTOL": "2016-08-02",
                                    "(No column name)": "749"
                                },
                                {
                                    "SZOBA_FK": "36",
                                    "METTOL": "2016-08-03",
                                    "(No column name)": "750"
                                },
                                {
                                    "SZOBA_FK": "46",
                                    "METTOL": "2016-08-03",
                                    "(No column name)": "752"
                                },
                                {
                                    "SZOBA_FK": "139",
                                    "METTOL": "2016-08-03",
                                    "(No column name)": "751"
                                },
                                {
                                    "SZOBA_FK": "189",
                                    "METTOL": "2016-08-03",
                                    "(No column name)": "753"
                                },
                                {
                                    "SZOBA_FK": "20",
                                    "METTOL": "2016-08-04",
                                    "(No column name)": "755"
                                },
                                {
                                    "SZOBA_FK": "126",
                                    "METTOL": "2016-08-04",
                                    "(No column name)": "754"
                                },
                                {
                                    "SZOBA_FK": "27",
                                    "METTOL": "2016-08-05",
                                    "(No column name)": "758"
                                },
                                {
                                    "SZOBA_FK": "61",
                                    "METTOL": "2016-08-05",
                                    "(No column name)": "756"
                                },
                                {
                                    "SZOBA_FK": "88",
                                    "METTOL": "2016-08-05",
                                    "(No column name)": "757"
                                },
                                {
                                    "SZOBA_FK": "7",
                                    "METTOL": "2016-08-06",
                                    "(No column name)": "759"
                                },
                                {
                                    "SZOBA_FK": "131",
                                    "METTOL": "2016-08-06",
                                    "(No column name)": "760"
                                },
                                {
                                    "SZOBA_FK": "141",
                                    "METTOL": "2016-08-06",
                                    "(No column name)": "761"
                                },
                                {
                                    "SZOBA_FK": "120",
                                    "METTOL": "2016-08-07",
                                    "(No column name)": "762"
                                },
                                {
                                    "SZOBA_FK": "13",
                                    "METTOL": "2016-08-08",
                                    "(No column name)": "763"
                                },
                                {
                                    "SZOBA_FK": "148",
                                    "METTOL": "2016-08-09",
                                    "(No column name)": "765"
                                },
                                {
                                    "SZOBA_FK": "197",
                                    "METTOL": "2016-08-09",
                                    "(No column name)": "764"
                                },
                                {
                                    "SZOBA_FK": "187",
                                    "METTOL": "2016-08-10",
                                    "(No column name)": "766"
                                },
                                {
                                    "SZOBA_FK": "18",
                                    "METTOL": "2016-08-11",
                                    "(No column name)": "767"
                                },
                                {
                                    "SZOBA_FK": "6",
                                    "METTOL": "2016-08-12",
                                    "(No column name)": "772"
                                },
                                {
                                    "SZOBA_FK": "42",
                                    "METTOL": "2016-08-12",
                                    "(No column name)": "770"
                                },
                                {
                                    "SZOBA_FK": "58",
                                    "METTOL": "2016-08-12",
                                    "(No column name)": "773"
                                },
                                {
                                    "SZOBA_FK": "63",
                                    "METTOL": "2016-08-12",
                                    "(No column name)": "769"
                                },
                                {
                                    "SZOBA_FK": "138",
                                    "METTOL": "2016-08-12",
                                    "(No column name)": "768"
                                },
                                {
                                    "SZOBA_FK": "147",
                                    "METTOL": "2016-08-12",
                                    "(No column name)": "771"
                                },
                                {
                                    "SZOBA_FK": "12",
                                    "METTOL": "2016-08-13",
                                    "(No column name)": "775"
                                },
                                {
                                    "SZOBA_FK": "190",
                                    "METTOL": "2016-08-13",
                                    "(No column name)": "774"
                                },
                                {
                                    "SZOBA_FK": "19",
                                    "METTOL": "2016-08-14",
                                    "(No column name)": "778"
                                },
                                {
                                    "SZOBA_FK": "34",
                                    "METTOL": "2016-08-14",
                                    "(No column name)": "777"
                                },
                                {
                                    "SZOBA_FK": "112",
                                    "METTOL": "2016-08-14",
                                    "(No column name)": "776"
                                },
                                {
                                    "SZOBA_FK": "96",
                                    "METTOL": "2016-08-15",
                                    "(No column name)": "780"
                                },
                                {
                                    "SZOBA_FK": "130",
                                    "METTOL": "2016-08-15",
                                    "(No column name)": "779"
                                },
                                {
                                    "SZOBA_FK": "3",
                                    "METTOL": "2016-08-16",
                                    "(No column name)": "788"
                                },
                                {
                                    "SZOBA_FK": "10",
                                    "METTOL": "2016-08-16",
                                    "(No column name)": "790"
                                },
                                {
                                    "SZOBA_FK": "15",
                                    "METTOL": "2016-08-16",
                                    "(No column name)": "791"
                                },
                                {
                                    "SZOBA_FK": "50",
                                    "METTOL": "2016-08-16",
                                    "(No column name)": "787"
                                },
                                {
                                    "SZOBA_FK": "111",
                                    "METTOL": "2016-08-16",
                                    "(No column name)": "786"
                                },
                                {
                                    "SZOBA_FK": "141",
                                    "METTOL": "2016-08-16",
                                    "(No column name)": "784"
                                },
                                {
                                    "SZOBA_FK": "146",
                                    "METTOL": "2016-08-16",
                                    "(No column name)": "789"
                                },
                                {
                                    "SZOBA_FK": "148",
                                    "METTOL": "2016-08-16",
                                    "(No column name)": "783"
                                },
                                {
                                    "SZOBA_FK": "163",
                                    "METTOL": "2016-08-16",
                                    "(No column name)": "782"
                                },
                                {
                                    "SZOBA_FK": "166",
                                    "METTOL": "2016-08-16",
                                    "(No column name)": "781"
                                },
                                {
                                    "SZOBA_FK": "168",
                                    "METTOL": "2016-08-16",
                                    "(No column name)": "792"
                                },
                                {
                                    "SZOBA_FK": "177",
                                    "METTOL": "2016-08-16",
                                    "(No column name)": "785"
                                },
                                {
                                    "SZOBA_FK": "10",
                                    "METTOL": "2016-08-17",
                                    "(No column name)": "795"
                                },
                                {
                                    "SZOBA_FK": "49",
                                    "METTOL": "2016-08-17",
                                    "(No column name)": "793"
                                },
                                {
                                    "SZOBA_FK": "138",
                                    "METTOL": "2016-08-17",
                                    "(No column name)": "796"
                                },
                                {
                                    "SZOBA_FK": "168",
                                    "METTOL": "2016-08-17",
                                    "(No column name)": "794"
                                },
                                {
                                    "SZOBA_FK": "74",
                                    "METTOL": "2016-08-18",
                                    "(No column name)": "797"
                                },
                                {
                                    "SZOBA_FK": "83",
                                    "METTOL": "2016-08-18",
                                    "(No column name)": "798"
                                },
                                {
                                    "SZOBA_FK": "175",
                                    "METTOL": "2016-08-19",
                                    "(No column name)": "799"
                                },
                                {
                                    "SZOBA_FK": "1",
                                    "METTOL": "2016-08-20",
                                    "(No column name)": "803"
                                },
                                {
                                    "SZOBA_FK": "45",
                                    "METTOL": "2016-08-20",
                                    "(No column name)": "1602"
                                },
                                {
                                    "SZOBA_FK": "112",
                                    "METTOL": "2016-08-20",
                                    "(No column name)": "801"
                                },
                                {
                                    "SZOBA_FK": "146",
                                    "METTOL": "2016-08-20",
                                    "(No column name)": "804"
                                },
                                {
                                    "SZOBA_FK": "21",
                                    "METTOL": "2016-08-21",
                                    "(No column name)": "805"
                                },
                                {
                                    "SZOBA_FK": "126",
                                    "METTOL": "2016-08-21",
                                    "(No column name)": "806"
                                },
                                {
                                    "SZOBA_FK": "27",
                                    "METTOL": "2016-08-22",
                                    "(No column name)": "807"
                                },
                                {
                                    "SZOBA_FK": "51",
                                    "METTOL": "2016-08-23",
                                    "(No column name)": "811"
                                },
                                {
                                    "SZOBA_FK": "92",
                                    "METTOL": "2016-08-23",
                                    "(No column name)": "809"
                                },
                                {
                                    "SZOBA_FK": "109",
                                    "METTOL": "2016-08-23",
                                    "(No column name)": "810"
                                },
                                {
                                    "SZOBA_FK": "148",
                                    "METTOL": "2016-08-23",
                                    "(No column name)": "1620"
                                },
                                {
                                    "SZOBA_FK": "8",
                                    "METTOL": "2016-08-24",
                                    "(No column name)": "818"
                                },
                                {
                                    "SZOBA_FK": "14",
                                    "METTOL": "2016-08-24",
                                    "(No column name)": "813"
                                },
                                {
                                    "SZOBA_FK": "20",
                                    "METTOL": "2016-08-24",
                                    "(No column name)": "820"
                                },
                                {
                                    "SZOBA_FK": "34",
                                    "METTOL": "2016-08-24",
                                    "(No column name)": "821"
                                },
                                {
                                    "SZOBA_FK": "52",
                                    "METTOL": "2016-08-24",
                                    "(No column name)": "822"
                                },
                                {
                                    "SZOBA_FK": "70",
                                    "METTOL": "2016-08-24",
                                    "(No column name)": "814"
                                },
                                {
                                    "SZOBA_FK": "84",
                                    "METTOL": "2016-08-24",
                                    "(No column name)": "819"
                                },
                                {
                                    "SZOBA_FK": "89",
                                    "METTOL": "2016-08-24",
                                    "(No column name)": "817"
                                },
                                {
                                    "SZOBA_FK": "128",
                                    "METTOL": "2016-08-24",
                                    "(No column name)": "815"
                                },
                                {
                                    "SZOBA_FK": "178",
                                    "METTOL": "2016-08-24",
                                    "(No column name)": "816"
                                },
                                {
                                    "SZOBA_FK": "44",
                                    "METTOL": "2016-08-25",
                                    "(No column name)": "823"
                                },
                                {
                                    "SZOBA_FK": "48",
                                    "METTOL": "2016-08-25",
                                    "(No column name)": "824"
                                },
                                {
                                    "SZOBA_FK": "158",
                                    "METTOL": "2016-08-25",
                                    "(No column name)": "825"
                                },
                                {
                                    "SZOBA_FK": "49",
                                    "METTOL": "2016-08-26",
                                    "(No column name)": "826"
                                },
                                {
                                    "SZOBA_FK": "114",
                                    "METTOL": "2016-08-26",
                                    "(No column name)": "827"
                                },
                                {
                                    "SZOBA_FK": "2",
                                    "METTOL": "2016-08-27",
                                    "(No column name)": "828"
                                },
                                {
                                    "SZOBA_FK": "8",
                                    "METTOL": "2016-08-28",
                                    "(No column name)": "832"
                                },
                                {
                                    "SZOBA_FK": "35",
                                    "METTOL": "2016-08-28",
                                    "(No column name)": "829"
                                },
                                {
                                    "SZOBA_FK": "74",
                                    "METTOL": "2016-08-28",
                                    "(No column name)": "830"
                                },
                                {
                                    "SZOBA_FK": "149",
                                    "METTOL": "2016-08-28",
                                    "(No column name)": "833"
                                },
                                {
                                    "SZOBA_FK": "177",
                                    "METTOL": "2016-08-28",
                                    "(No column name)": "831"
                                },
                                {
                                    "SZOBA_FK": "56",
                                    "METTOL": "2016-08-29",
                                    "(No column name)": "838"
                                },
                                {
                                    "SZOBA_FK": "97",
                                    "METTOL": "2016-08-29",
                                    "(No column name)": "836"
                                },
                                {
                                    "SZOBA_FK": "104",
                                    "METTOL": "2016-08-29",
                                    "(No column name)": "837"
                                },
                                {
                                    "SZOBA_FK": "149",
                                    "METTOL": "2016-08-29",
                                    "(No column name)": "834"
                                },
                                {
                                    "SZOBA_FK": "172",
                                    "METTOL": "2016-08-29",
                                    "(No column name)": "839"
                                },
                                {
                                    "SZOBA_FK": "193",
                                    "METTOL": "2016-08-29",
                                    "(No column name)": "835"
                                },
                                {
                                    "SZOBA_FK": "158",
                                    "METTOL": "2016-08-30",
                                    "(No column name)": "840"
                                },
                                {
                                    "SZOBA_FK": "92",
                                    "METTOL": "2016-08-31",
                                    "(No column name)": "841"
                                },
                                {
                                    "SZOBA_FK": "195",
                                    "METTOL": "2016-08-31",
                                    "(No column name)": "842"
                                },
                                {
                                    "SZOBA_FK": "149",
                                    "METTOL": "2016-09-01",
                                    "(No column name)": "843"
                                },
                                {
                                    "SZOBA_FK": "45",
                                    "METTOL": "2016-09-02",
                                    "(No column name)": "846"
                                },
                                {
                                    "SZOBA_FK": "63",
                                    "METTOL": "2016-09-02",
                                    "(No column name)": "845"
                                },
                                {
                                    "SZOBA_FK": "87",
                                    "METTOL": "2016-09-02",
                                    "(No column name)": "844"
                                },
                                {
                                    "SZOBA_FK": "74",
                                    "METTOL": "2016-09-03",
                                    "(No column name)": "847"
                                },
                                {
                                    "SZOBA_FK": "23",
                                    "METTOL": "2016-09-04",
                                    "(No column name)": "848"
                                },
                                {
                                    "SZOBA_FK": "6",
                                    "METTOL": "2016-09-05",
                                    "(No column name)": "850"
                                },
                                {
                                    "SZOBA_FK": "27",
                                    "METTOL": "2016-09-05",
                                    "(No column name)": "1031"
                                },
                                {
                                    "SZOBA_FK": "38",
                                    "METTOL": "2016-09-05",
                                    "(No column name)": "1033"
                                },
                                {
                                    "SZOBA_FK": "113",
                                    "METTOL": "2016-09-05",
                                    "(No column name)": "1029"
                                },
                                {
                                    "SZOBA_FK": "135",
                                    "METTOL": "2016-09-05",
                                    "(No column name)": "849"
                                },
                                {
                                    "SZOBA_FK": "146",
                                    "METTOL": "2016-09-05",
                                    "(No column name)": "1032"
                                },
                                {
                                    "SZOBA_FK": "188",
                                    "METTOL": "2016-09-05",
                                    "(No column name)": "1030"
                                },
                                {
                                    "SZOBA_FK": "127",
                                    "METTOL": "2016-09-06",
                                    "(No column name)": "1034"
                                },
                                {
                                    "SZOBA_FK": "18",
                                    "METTOL": "2016-09-07",
                                    "(No column name)": "1035"
                                },
                                {
                                    "SZOBA_FK": "3",
                                    "METTOL": "2016-09-08",
                                    "(No column name)": "1038"
                                },
                                {
                                    "SZOBA_FK": "89",
                                    "METTOL": "2016-09-08",
                                    "(No column name)": "1037"
                                },
                                {
                                    "SZOBA_FK": "122",
                                    "METTOL": "2016-09-08",
                                    "(No column name)": "1036"
                                },
                                {
                                    "SZOBA_FK": "130",
                                    "METTOL": "2016-09-09",
                                    "(No column name)": "1040"
                                },
                                {
                                    "SZOBA_FK": "191",
                                    "METTOL": "2016-09-09",
                                    "(No column name)": "1039"
                                },
                                {
                                    "SZOBA_FK": "110",
                                    "METTOL": "2016-09-10",
                                    "(No column name)": "1041"
                                },
                                {
                                    "SZOBA_FK": "139",
                                    "METTOL": "2016-09-10",
                                    "(No column name)": "1042"
                                },
                                {
                                    "SZOBA_FK": "193",
                                    "METTOL": "2016-09-11",
                                    "(No column name)": "1043"
                                },
                                {
                                    "SZOBA_FK": "13",
                                    "METTOL": "2016-09-12",
                                    "(No column name)": "1044"
                                },
                                {
                                    "SZOBA_FK": "134",
                                    "METTOL": "2016-09-12",
                                    "(No column name)": "1045"
                                },
                                {
                                    "SZOBA_FK": "136",
                                    "METTOL": "2016-09-12",
                                    "(No column name)": "1046"
                                },
                                {
                                    "SZOBA_FK": "95",
                                    "METTOL": "2016-09-13",
                                    "(No column name)": "1048"
                                },
                                {
                                    "SZOBA_FK": "98",
                                    "METTOL": "2016-09-13",
                                    "(No column name)": "1050"
                                },
                                {
                                    "SZOBA_FK": "121",
                                    "METTOL": "2016-09-13",
                                    "(No column name)": "1049"
                                },
                                {
                                    "SZOBA_FK": "157",
                                    "METTOL": "2016-09-13",
                                    "(No column name)": "1047"
                                },
                                {
                                    "SZOBA_FK": "2",
                                    "METTOL": "2016-09-14",
                                    "(No column name)": "1051"
                                },
                                {
                                    "SZOBA_FK": "25",
                                    "METTOL": "2016-09-14",
                                    "(No column name)": "1052"
                                },
                                {
                                    "SZOBA_FK": "33",
                                    "METTOL": "2016-09-15",
                                    "(No column name)": "1053"
                                },
                                {
                                    "SZOBA_FK": "69",
                                    "METTOL": "2016-09-15",
                                    "(No column name)": "1055"
                                },
                                {
                                    "SZOBA_FK": "79",
                                    "METTOL": "2016-09-15",
                                    "(No column name)": "1054"
                                },
                                {
                                    "SZOBA_FK": "47",
                                    "METTOL": "2016-09-16",
                                    "(No column name)": "1056"
                                },
                                {
                                    "SZOBA_FK": "86",
                                    "METTOL": "2016-09-16",
                                    "(No column name)": "1057"
                                },
                                {
                                    "SZOBA_FK": "151",
                                    "METTOL": "2016-09-16",
                                    "(No column name)": "1058"
                                },
                                {
                                    "SZOBA_FK": "38",
                                    "METTOL": "2016-09-17",
                                    "(No column name)": "1060"
                                },
                                {
                                    "SZOBA_FK": "85",
                                    "METTOL": "2016-09-17",
                                    "(No column name)": "1059"
                                },
                                {
                                    "SZOBA_FK": "122",
                                    "METTOL": "2016-09-17",
                                    "(No column name)": "1062"
                                },
                                {
                                    "SZOBA_FK": "154",
                                    "METTOL": "2016-09-17",
                                    "(No column name)": "1061"
                                },
                                {
                                    "SZOBA_FK": "49",
                                    "METTOL": "2016-09-18",
                                    "(No column name)": "1066"
                                },
                                {
                                    "SZOBA_FK": "50",
                                    "METTOL": "2016-09-18",
                                    "(No column name)": "1063"
                                },
                                {
                                    "SZOBA_FK": "139",
                                    "METTOL": "2016-09-18",
                                    "(No column name)": "1064"
                                },
                                {
                                    "SZOBA_FK": "198",
                                    "METTOL": "2016-09-18",
                                    "(No column name)": "1065"
                                },
                                {
                                    "SZOBA_FK": "2",
                                    "METTOL": "2016-09-19",
                                    "(No column name)": "1069"
                                },
                                {
                                    "SZOBA_FK": "20",
                                    "METTOL": "2016-09-19",
                                    "(No column name)": "1070"
                                },
                                {
                                    "SZOBA_FK": "161",
                                    "METTOL": "2016-09-19",
                                    "(No column name)": "1068"
                                },
                                {
                                    "SZOBA_FK": "183",
                                    "METTOL": "2016-09-19",
                                    "(No column name)": "1067"
                                },
                                {
                                    "SZOBA_FK": "80",
                                    "METTOL": "2016-09-20",
                                    "(No column name)": "1071"
                                },
                                {
                                    "SZOBA_FK": "99",
                                    "METTOL": "2016-09-20",
                                    "(No column name)": "1072"
                                },
                                {
                                    "SZOBA_FK": "5",
                                    "METTOL": "2016-09-21",
                                    "(No column name)": "1073"
                                },
                                {
                                    "SZOBA_FK": "195",
                                    "METTOL": "2016-09-22",
                                    "(No column name)": "1074"
                                },
                                {
                                    "SZOBA_FK": "29",
                                    "METTOL": "2016-09-23",
                                    "(No column name)": "1076"
                                },
                                {
                                    "SZOBA_FK": "38",
                                    "METTOL": "2016-09-23",
                                    "(No column name)": "1078"
                                },
                                {
                                    "SZOBA_FK": "145",
                                    "METTOL": "2016-09-23",
                                    "(No column name)": "1077"
                                },
                                {
                                    "SZOBA_FK": "163",
                                    "METTOL": "2016-09-23",
                                    "(No column name)": "1075"
                                },
                                {
                                    "SZOBA_FK": "86",
                                    "METTOL": "2016-09-24",
                                    "(No column name)": "1079"
                                },
                                {
                                    "SZOBA_FK": "59",
                                    "METTOL": "2016-09-25",
                                    "(No column name)": "1080"
                                },
                                {
                                    "SZOBA_FK": "27",
                                    "METTOL": "2016-09-26",
                                    "(No column name)": "1082"
                                },
                                {
                                    "SZOBA_FK": "62",
                                    "METTOL": "2016-09-26",
                                    "(No column name)": "1081"
                                },
                                {
                                    "SZOBA_FK": "109",
                                    "METTOL": "2016-09-27",
                                    "(No column name)": "1083"
                                },
                                {
                                    "SZOBA_FK": "55",
                                    "METTOL": "2016-09-28",
                                    "(No column name)": "1086"
                                },
                                {
                                    "SZOBA_FK": "59",
                                    "METTOL": "2016-09-28",
                                    "(No column name)": "1084"
                                },
                                {
                                    "SZOBA_FK": "113",
                                    "METTOL": "2016-09-28",
                                    "(No column name)": "1085"
                                },
                                {
                                    "SZOBA_FK": "43",
                                    "METTOL": "2016-09-29",
                                    "(No column name)": "1088"
                                },
                                {
                                    "SZOBA_FK": "144",
                                    "METTOL": "2016-09-29",
                                    "(No column name)": "1087"
                                },
                                {
                                    "SZOBA_FK": "54",
                                    "METTOL": "2016-09-30",
                                    "(No column name)": "1096"
                                },
                                {
                                    "SZOBA_FK": "70",
                                    "METTOL": "2016-09-30",
                                    "(No column name)": "1092"
                                },
                                {
                                    "SZOBA_FK": "74",
                                    "METTOL": "2016-09-30",
                                    "(No column name)": "1093"
                                },
                                {
                                    "SZOBA_FK": "120",
                                    "METTOL": "2016-09-30",
                                    "(No column name)": "1089"
                                },
                                {
                                    "SZOBA_FK": "132",
                                    "METTOL": "2016-09-30",
                                    "(No column name)": "1090"
                                },
                                {
                                    "SZOBA_FK": "175",
                                    "METTOL": "2016-09-30",
                                    "(No column name)": "1094"
                                },
                                {
                                    "SZOBA_FK": "194",
                                    "METTOL": "2016-09-30",
                                    "(No column name)": "1095"
                                },
                                {
                                    "SZOBA_FK": "197",
                                    "METTOL": "2016-09-30",
                                    "(No column name)": "1091"
                                },
                                {
                                    "SZOBA_FK": "3",
                                    "METTOL": "2016-10-01",
                                    "(No column name)": "1110"
                                },
                                {
                                    "SZOBA_FK": "6",
                                    "METTOL": "2016-10-01",
                                    "(No column name)": "1099"
                                },
                                {
                                    "SZOBA_FK": "20",
                                    "METTOL": "2016-10-01",
                                    "(No column name)": "2220"
                                },
                                {
                                    "SZOBA_FK": "58",
                                    "METTOL": "2016-10-01",
                                    "(No column name)": "1113"
                                },
                                {
                                    "SZOBA_FK": "77",
                                    "METTOL": "2016-10-01",
                                    "(No column name)": "1104"
                                },
                                {
                                    "SZOBA_FK": "86",
                                    "METTOL": "2016-10-01",
                                    "(No column name)": "1108"
                                },
                                {
                                    "SZOBA_FK": "87",
                                    "METTOL": "2016-10-01",
                                    "(No column name)": "1103"
                                },
                                {
                                    "SZOBA_FK": "89",
                                    "METTOL": "2016-10-01",
                                    "(No column name)": "1101"
                                },
                                {
                                    "SZOBA_FK": "95",
                                    "METTOL": "2016-10-01",
                                    "(No column name)": "1097"
                                },
                                {
                                    "SZOBA_FK": "108",
                                    "METTOL": "2016-10-01",
                                    "(No column name)": "1102"
                                },
                                {
                                    "SZOBA_FK": "110",
                                    "METTOL": "2016-10-01",
                                    "(No column name)": "1109"
                                },
                                {
                                    "SZOBA_FK": "132",
                                    "METTOL": "2016-10-01",
                                    "(No column name)": "1111"
                                },
                                {
                                    "SZOBA_FK": "140",
                                    "METTOL": "2016-10-01",
                                    "(No column name)": "1098"
                                },
                                {
                                    "SZOBA_FK": "150",
                                    "METTOL": "2016-10-01",
                                    "(No column name)": "2205"
                                },
                                {
                                    "SZOBA_FK": "155",
                                    "METTOL": "2016-10-01",
                                    "(No column name)": "1112"
                                },
                                {
                                    "SZOBA_FK": "163",
                                    "METTOL": "2016-10-01",
                                    "(No column name)": "1107"
                                },
                                {
                                    "SZOBA_FK": "151",
                                    "METTOL": "2016-10-02",
                                    "(No column name)": "1115"
                                },
                                {
                                    "SZOBA_FK": "40",
                                    "METTOL": "2016-10-03",
                                    "(No column name)": "1118"
                                },
                                {
                                    "SZOBA_FK": "158",
                                    "METTOL": "2016-10-03",
                                    "(No column name)": "1117"
                                },
                                {
                                    "SZOBA_FK": "198",
                                    "METTOL": "2016-10-03",
                                    "(No column name)": "1116"
                                },
                                {
                                    "SZOBA_FK": "83",
                                    "METTOL": "2016-10-04",
                                    "(No column name)": "1119"
                                },
                                {
                                    "SZOBA_FK": "115",
                                    "METTOL": "2016-10-04",
                                    "(No column name)": "1121"
                                },
                                {
                                    "SZOBA_FK": "145",
                                    "METTOL": "2016-10-04",
                                    "(No column name)": "1120"
                                },
                                {
                                    "SZOBA_FK": "11",
                                    "METTOL": "2016-10-05",
                                    "(No column name)": "1123"
                                },
                                {
                                    "SZOBA_FK": "64",
                                    "METTOL": "2016-10-05",
                                    "(No column name)": "1122"
                                },
                                {
                                    "SZOBA_FK": "112",
                                    "METTOL": "2016-10-06",
                                    "(No column name)": "1124"
                                },
                                {
                                    "SZOBA_FK": "185",
                                    "METTOL": "2016-10-06",
                                    "(No column name)": "1125"
                                },
                                {
                                    "SZOBA_FK": "4",
                                    "METTOL": "2016-10-07",
                                    "(No column name)": "1127"
                                },
                                {
                                    "SZOBA_FK": "70",
                                    "METTOL": "2016-10-07",
                                    "(No column name)": "1126"
                                },
                                {
                                    "SZOBA_FK": "4",
                                    "METTOL": "2016-10-08",
                                    "(No column name)": "1132"
                                },
                                {
                                    "SZOBA_FK": "7",
                                    "METTOL": "2016-10-08",
                                    "(No column name)": "1131"
                                },
                                {
                                    "SZOBA_FK": "15",
                                    "METTOL": "2016-10-08",
                                    "(No column name)": "1129"
                                },
                                {
                                    "SZOBA_FK": "22",
                                    "METTOL": "2016-10-08",
                                    "(No column name)": "1130"
                                },
                                {
                                    "SZOBA_FK": "121",
                                    "METTOL": "2016-10-08",
                                    "(No column name)": "1128"
                                },
                                {
                                    "SZOBA_FK": "126",
                                    "METTOL": "2016-10-08",
                                    "(No column name)": "1134"
                                },
                                {
                                    "SZOBA_FK": "175",
                                    "METTOL": "2016-10-08",
                                    "(No column name)": "1133"
                                },
                                {
                                    "SZOBA_FK": "1",
                                    "METTOL": "2016-10-09",
                                    "(No column name)": "1137"
                                },
                                {
                                    "SZOBA_FK": "12",
                                    "METTOL": "2016-10-09",
                                    "(No column name)": "1140"
                                },
                                {
                                    "SZOBA_FK": "19",
                                    "METTOL": "2016-10-09",
                                    "(No column name)": "1139"
                                },
                                {
                                    "SZOBA_FK": "30",
                                    "METTOL": "2016-10-09",
                                    "(No column name)": "1136"
                                },
                                {
                                    "SZOBA_FK": "41",
                                    "METTOL": "2016-10-09",
                                    "(No column name)": "1144"
                                },
                                {
                                    "SZOBA_FK": "45",
                                    "METTOL": "2016-10-09",
                                    "(No column name)": "1135"
                                },
                                {
                                    "SZOBA_FK": "145",
                                    "METTOL": "2016-10-09",
                                    "(No column name)": "1145"
                                },
                                {
                                    "SZOBA_FK": "165",
                                    "METTOL": "2016-10-09",
                                    "(No column name)": "1141"
                                },
                                {
                                    "SZOBA_FK": "172",
                                    "METTOL": "2016-10-09",
                                    "(No column name)": "1142"
                                },
                                {
                                    "SZOBA_FK": "176",
                                    "METTOL": "2016-10-09",
                                    "(No column name)": "1143"
                                },
                                {
                                    "SZOBA_FK": "198",
                                    "METTOL": "2016-10-09",
                                    "(No column name)": "1138"
                                },
                                {
                                    "SZOBA_FK": "149",
                                    "METTOL": "2016-10-10",
                                    "(No column name)": "1146"
                                },
                                {
                                    "SZOBA_FK": "183",
                                    "METTOL": "2016-10-10",
                                    "(No column name)": "1147"
                                },
                                {
                                    "SZOBA_FK": "61",
                                    "METTOL": "2016-10-11",
                                    "(No column name)": "1148"
                                },
                                {
                                    "SZOBA_FK": "133",
                                    "METTOL": "2016-10-12",
                                    "(No column name)": "1149"
                                },
                                {
                                    "SZOBA_FK": "28",
                                    "METTOL": "2016-10-13",
                                    "(No column name)": "1150"
                                },
                                {
                                    "SZOBA_FK": "3",
                                    "METTOL": "2016-10-14",
                                    "(No column name)": "1151"
                                },
                                {
                                    "SZOBA_FK": "1",
                                    "METTOL": "2016-10-15",
                                    "(No column name)": "1152"
                                },
                                {
                                    "SZOBA_FK": "9",
                                    "METTOL": "2016-10-15",
                                    "(No column name)": "1157"
                                },
                                {
                                    "SZOBA_FK": "115",
                                    "METTOL": "2016-10-15",
                                    "(No column name)": "1154"
                                },
                                {
                                    "SZOBA_FK": "140",
                                    "METTOL": "2016-10-15",
                                    "(No column name)": "1156"
                                },
                                {
                                    "SZOBA_FK": "143",
                                    "METTOL": "2016-10-15",
                                    "(No column name)": "1155"
                                },
                                {
                                    "SZOBA_FK": "186",
                                    "METTOL": "2016-10-15",
                                    "(No column name)": "1153"
                                },
                                {
                                    "SZOBA_FK": "26",
                                    "METTOL": "2016-10-16",
                                    "(No column name)": "1158"
                                },
                                {
                                    "SZOBA_FK": "73",
                                    "METTOL": "2016-10-16",
                                    "(No column name)": "1159"
                                },
                                {
                                    "SZOBA_FK": "152",
                                    "METTOL": "2016-10-16",
                                    "(No column name)": "1160"
                                },
                                {
                                    "SZOBA_FK": "55",
                                    "METTOL": "2016-10-17",
                                    "(No column name)": "1163"
                                },
                                {
                                    "SZOBA_FK": "110",
                                    "METTOL": "2016-10-17",
                                    "(No column name)": "1162"
                                },
                                {
                                    "SZOBA_FK": "198",
                                    "METTOL": "2016-10-17",
                                    "(No column name)": "1161"
                                },
                                {
                                    "SZOBA_FK": "12",
                                    "METTOL": "2016-10-18",
                                    "(No column name)": "1164"
                                },
                                {
                                    "SZOBA_FK": "24",
                                    "METTOL": "2016-10-19",
                                    "(No column name)": "1167"
                                },
                                {
                                    "SZOBA_FK": "51",
                                    "METTOL": "2016-10-19",
                                    "(No column name)": "1165"
                                },
                                {
                                    "SZOBA_FK": "122",
                                    "METTOL": "2016-10-19",
                                    "(No column name)": "1166"
                                },
                                {
                                    "SZOBA_FK": "154",
                                    "METTOL": "2016-10-19",
                                    "(No column name)": "1168"
                                },
                                {
                                    "SZOBA_FK": "59",
                                    "METTOL": "2016-10-20",
                                    "(No column name)": "1170"
                                },
                                {
                                    "SZOBA_FK": "93",
                                    "METTOL": "2016-10-20",
                                    "(No column name)": "1169"
                                },
                                {
                                    "SZOBA_FK": "172",
                                    "METTOL": "2016-10-20",
                                    "(No column name)": "1171"
                                },
                                {
                                    "SZOBA_FK": "197",
                                    "METTOL": "2016-10-20",
                                    "(No column name)": "1172"
                                },
                                {
                                    "SZOBA_FK": "7",
                                    "METTOL": "2016-10-21",
                                    "(No column name)": "1175"
                                },
                                {
                                    "SZOBA_FK": "18",
                                    "METTOL": "2016-10-21",
                                    "(No column name)": "1173"
                                },
                                {
                                    "SZOBA_FK": "90",
                                    "METTOL": "2016-10-21",
                                    "(No column name)": "1174"
                                },
                                {
                                    "SZOBA_FK": "177",
                                    "METTOL": "2016-10-21",
                                    "(No column name)": "1176"
                                },
                                {
                                    "SZOBA_FK": "74",
                                    "METTOL": "2016-10-22",
                                    "(No column name)": "1179"
                                },
                                {
                                    "SZOBA_FK": "104",
                                    "METTOL": "2016-10-22",
                                    "(No column name)": "1180"
                                },
                                {
                                    "SZOBA_FK": "134",
                                    "METTOL": "2016-10-22",
                                    "(No column name)": "1178"
                                },
                                {
                                    "SZOBA_FK": "150",
                                    "METTOL": "2016-10-22",
                                    "(No column name)": "1177"
                                },
                                {
                                    "SZOBA_FK": "7",
                                    "METTOL": "2016-10-23",
                                    "(No column name)": "1182"
                                },
                                {
                                    "SZOBA_FK": "29",
                                    "METTOL": "2016-10-23",
                                    "(No column name)": "1185"
                                },
                                {
                                    "SZOBA_FK": "46",
                                    "METTOL": "2016-10-23",
                                    "(No column name)": "1187"
                                },
                                {
                                    "SZOBA_FK": "58",
                                    "METTOL": "2016-10-23",
                                    "(No column name)": "1186"
                                },
                                {
                                    "SZOBA_FK": "171",
                                    "METTOL": "2016-10-23",
                                    "(No column name)": "1181"
                                },
                                {
                                    "SZOBA_FK": "185",
                                    "METTOL": "2016-10-23",
                                    "(No column name)": "1183"
                                },
                                {
                                    "SZOBA_FK": "195",
                                    "METTOL": "2016-10-23",
                                    "(No column name)": "1184"
                                },
                                {
                                    "SZOBA_FK": "89",
                                    "METTOL": "2016-10-24",
                                    "(No column name)": "1189"
                                },
                                {
                                    "SZOBA_FK": "161",
                                    "METTOL": "2016-10-24",
                                    "(No column name)": "1190"
                                },
                                {
                                    "SZOBA_FK": "182",
                                    "METTOL": "2016-10-24",
                                    "(No column name)": "1188"
                                },
                                {
                                    "SZOBA_FK": "59",
                                    "METTOL": "2016-10-25",
                                    "(No column name)": "1191"
                                },
                                {
                                    "SZOBA_FK": "18",
                                    "METTOL": "2016-10-26",
                                    "(No column name)": "1198"
                                },
                                {
                                    "SZOBA_FK": "22",
                                    "METTOL": "2016-10-26",
                                    "(No column name)": "1195"
                                },
                                {
                                    "SZOBA_FK": "49",
                                    "METTOL": "2016-10-26",
                                    "(No column name)": "1200"
                                },
                                {
                                    "SZOBA_FK": "52",
                                    "METTOL": "2016-10-26",
                                    "(No column name)": "1202"
                                },
                                {
                                    "SZOBA_FK": "88",
                                    "METTOL": "2016-10-26",
                                    "(No column name)": "1196"
                                },
                                {
                                    "SZOBA_FK": "117",
                                    "METTOL": "2016-10-26",
                                    "(No column name)": "1192"
                                },
                                {
                                    "SZOBA_FK": "137",
                                    "METTOL": "2016-10-26",
                                    "(No column name)": "1201"
                                },
                                {
                                    "SZOBA_FK": "143",
                                    "METTOL": "2016-10-26",
                                    "(No column name)": "1193"
                                },
                                {
                                    "SZOBA_FK": "144",
                                    "METTOL": "2016-10-26",
                                    "(No column name)": "1199"
                                },
                                {
                                    "SZOBA_FK": "150",
                                    "METTOL": "2016-10-26",
                                    "(No column name)": "1203"
                                },
                                {
                                    "SZOBA_FK": "152",
                                    "METTOL": "2016-10-26",
                                    "(No column name)": "1197"
                                },
                                {
                                    "SZOBA_FK": "170",
                                    "METTOL": "2016-10-26",
                                    "(No column name)": "1194"
                                },
                                {
                                    "SZOBA_FK": "22",
                                    "METTOL": "2016-10-27",
                                    "(No column name)": "1206"
                                },
                                {
                                    "SZOBA_FK": "43",
                                    "METTOL": "2016-10-27",
                                    "(No column name)": "1207"
                                },
                                {
                                    "SZOBA_FK": "162",
                                    "METTOL": "2016-10-27",
                                    "(No column name)": "1205"
                                },
                                {
                                    "SZOBA_FK": "189",
                                    "METTOL": "2016-10-27",
                                    "(No column name)": "1204"
                                },
                                {
                                    "SZOBA_FK": "21",
                                    "METTOL": "2016-10-28",
                                    "(No column name)": "1212"
                                },
                                {
                                    "SZOBA_FK": "58",
                                    "METTOL": "2016-10-28",
                                    "(No column name)": "1208"
                                },
                                {
                                    "SZOBA_FK": "91",
                                    "METTOL": "2016-10-28",
                                    "(No column name)": "1213"
                                },
                                {
                                    "SZOBA_FK": "122",
                                    "METTOL": "2016-10-28",
                                    "(No column name)": "1209"
                                },
                                {
                                    "SZOBA_FK": "124",
                                    "METTOL": "2016-10-28",
                                    "(No column name)": "1210"
                                },
                                {
                                    "SZOBA_FK": "178",
                                    "METTOL": "2016-10-28",
                                    "(No column name)": "1211"
                                },
                                {
                                    "SZOBA_FK": "39",
                                    "METTOL": "2016-10-29",
                                    "(No column name)": "1214"
                                },
                                {
                                    "SZOBA_FK": "61",
                                    "METTOL": "2016-10-29",
                                    "(No column name)": "1218"
                                },
                                {
                                    "SZOBA_FK": "93",
                                    "METTOL": "2016-10-29",
                                    "(No column name)": "1217"
                                },
                                {
                                    "SZOBA_FK": "121",
                                    "METTOL": "2016-10-29",
                                    "(No column name)": "1215"
                                },
                                {
                                    "SZOBA_FK": "198",
                                    "METTOL": "2016-10-29",
                                    "(No column name)": "1216"
                                },
                                {
                                    "SZOBA_FK": "9",
                                    "METTOL": "2016-10-30",
                                    "(No column name)": "1220"
                                },
                                {
                                    "SZOBA_FK": "43",
                                    "METTOL": "2016-10-30",
                                    "(No column name)": "1227"
                                },
                                {
                                    "SZOBA_FK": "49",
                                    "METTOL": "2016-10-30",
                                    "(No column name)": "1221"
                                },
                                {
                                    "SZOBA_FK": "50",
                                    "METTOL": "2016-10-30",
                                    "(No column name)": "1224"
                                },
                                {
                                    "SZOBA_FK": "55",
                                    "METTOL": "2016-10-30",
                                    "(No column name)": "1232"
                                },
                                {
                                    "SZOBA_FK": "69",
                                    "METTOL": "2016-10-30",
                                    "(No column name)": "1225"
                                },
                                {
                                    "SZOBA_FK": "79",
                                    "METTOL": "2016-10-30",
                                    "(No column name)": "1229"
                                },
                                {
                                    "SZOBA_FK": "106",
                                    "METTOL": "2016-10-30",
                                    "(No column name)": "1228"
                                },
                                {
                                    "SZOBA_FK": "123",
                                    "METTOL": "2016-10-30",
                                    "(No column name)": "1223"
                                },
                                {
                                    "SZOBA_FK": "127",
                                    "METTOL": "2016-10-30",
                                    "(No column name)": "1226"
                                },
                                {
                                    "SZOBA_FK": "134",
                                    "METTOL": "2016-10-30",
                                    "(No column name)": "1219"
                                },
                                {
                                    "SZOBA_FK": "143",
                                    "METTOL": "2016-10-30",
                                    "(No column name)": "1222"
                                },
                                {
                                    "SZOBA_FK": "182",
                                    "METTOL": "2016-10-30",
                                    "(No column name)": "2461"
                                },
                                {
                                    "SZOBA_FK": "64",
                                    "METTOL": "2016-10-31",
                                    "(No column name)": "1233"
                                },
                                {
                                    "SZOBA_FK": "11",
                                    "METTOL": "2016-11-01",
                                    "(No column name)": "1236"
                                },
                                {
                                    "SZOBA_FK": "29",
                                    "METTOL": "2016-11-01",
                                    "(No column name)": "1235"
                                },
                                {
                                    "SZOBA_FK": "66",
                                    "METTOL": "2016-11-01",
                                    "(No column name)": "1234"
                                },
                                {
                                    "SZOBA_FK": "19",
                                    "METTOL": "2016-11-02",
                                    "(No column name)": "1237"
                                },
                                {
                                    "SZOBA_FK": "15",
                                    "METTOL": "2016-11-03",
                                    "(No column name)": "1244"
                                },
                                {
                                    "SZOBA_FK": "48",
                                    "METTOL": "2016-11-03",
                                    "(No column name)": "1243"
                                },
                                {
                                    "SZOBA_FK": "59",
                                    "METTOL": "2016-11-03",
                                    "(No column name)": "1239"
                                },
                                {
                                    "SZOBA_FK": "94",
                                    "METTOL": "2016-11-03",
                                    "(No column name)": "1241"
                                },
                                {
                                    "SZOBA_FK": "157",
                                    "METTOL": "2016-11-03",
                                    "(No column name)": "1240"
                                },
                                {
                                    "SZOBA_FK": "178",
                                    "METTOL": "2016-11-03",
                                    "(No column name)": "1242"
                                },
                                {
                                    "SZOBA_FK": "193",
                                    "METTOL": "2016-11-03",
                                    "(No column name)": "1238"
                                },
                                {
                                    "SZOBA_FK": "122",
                                    "METTOL": "2016-11-04",
                                    "(No column name)": "1245"
                                },
                                {
                                    "SZOBA_FK": "7",
                                    "METTOL": "2016-11-05",
                                    "(No column name)": "1252"
                                },
                                {
                                    "SZOBA_FK": "69",
                                    "METTOL": "2016-11-05",
                                    "(No column name)": "1246"
                                },
                                {
                                    "SZOBA_FK": "89",
                                    "METTOL": "2016-11-05",
                                    "(No column name)": "1253"
                                },
                                {
                                    "SZOBA_FK": "107",
                                    "METTOL": "2016-11-05",
                                    "(No column name)": "1250"
                                },
                                {
                                    "SZOBA_FK": "117",
                                    "METTOL": "2016-11-05",
                                    "(No column name)": "1247"
                                },
                                {
                                    "SZOBA_FK": "168",
                                    "METTOL": "2016-11-05",
                                    "(No column name)": "1249"
                                },
                                {
                                    "SZOBA_FK": "184",
                                    "METTOL": "2016-11-05",
                                    "(No column name)": "1251"
                                },
                                {
                                    "SZOBA_FK": "186",
                                    "METTOL": "2016-11-05",
                                    "(No column name)": "1248"
                                },
                                {
                                    "SZOBA_FK": "58",
                                    "METTOL": "2016-11-06",
                                    "(No column name)": "1255"
                                },
                                {
                                    "SZOBA_FK": "138",
                                    "METTOL": "2016-11-06",
                                    "(No column name)": "1256"
                                },
                                {
                                    "SZOBA_FK": "141",
                                    "METTOL": "2016-11-06",
                                    "(No column name)": "1254"
                                },
                                {
                                    "SZOBA_FK": "5",
                                    "METTOL": "2016-11-07",
                                    "(No column name)": "1257"
                                },
                                {
                                    "SZOBA_FK": "9",
                                    "METTOL": "2016-11-07",
                                    "(No column name)": "1260"
                                },
                                {
                                    "SZOBA_FK": "52",
                                    "METTOL": "2016-11-07",
                                    "(No column name)": "1258"
                                },
                                {
                                    "SZOBA_FK": "58",
                                    "METTOL": "2016-11-07",
                                    "(No column name)": "1261"
                                },
                                {
                                    "SZOBA_FK": "140",
                                    "METTOL": "2016-11-07",
                                    "(No column name)": "1259"
                                },
                                {
                                    "SZOBA_FK": "154",
                                    "METTOL": "2016-11-07",
                                    "(No column name)": "1262"
                                },
                                {
                                    "SZOBA_FK": "66",
                                    "METTOL": "2016-11-08",
                                    "(No column name)": "1264"
                                },
                                {
                                    "SZOBA_FK": "113",
                                    "METTOL": "2016-11-08",
                                    "(No column name)": "1263"
                                },
                                {
                                    "SZOBA_FK": "163",
                                    "METTOL": "2016-11-08",
                                    "(No column name)": "1265"
                                },
                                {
                                    "SZOBA_FK": "168",
                                    "METTOL": "2016-11-08",
                                    "(No column name)": "1266"
                                },
                                {
                                    "SZOBA_FK": "78",
                                    "METTOL": "2016-11-09",
                                    "(No column name)": "1268"
                                },
                                {
                                    "SZOBA_FK": "89",
                                    "METTOL": "2016-11-09",
                                    "(No column name)": "1269"
                                },
                                {
                                    "SZOBA_FK": "170",
                                    "METTOL": "2016-11-09",
                                    "(No column name)": "1267"
                                },
                                {
                                    "SZOBA_FK": "43",
                                    "METTOL": "2016-11-10",
                                    "(No column name)": "1270"
                                },
                                {
                                    "SZOBA_FK": "50",
                                    "METTOL": "2016-11-10",
                                    "(No column name)": "1272"
                                },
                                {
                                    "SZOBA_FK": "88",
                                    "METTOL": "2016-11-10",
                                    "(No column name)": "1273"
                                },
                                {
                                    "SZOBA_FK": "106",
                                    "METTOL": "2016-11-10",
                                    "(No column name)": "1271"
                                },
                                {
                                    "SZOBA_FK": "1",
                                    "METTOL": "2016-11-11",
                                    "(No column name)": "1274"
                                },
                                {
                                    "SZOBA_FK": "27",
                                    "METTOL": "2016-11-11",
                                    "(No column name)": "1275"
                                },
                                {
                                    "SZOBA_FK": "82",
                                    "METTOL": "2016-11-12",
                                    "(No column name)": "1277"
                                },
                                {
                                    "SZOBA_FK": "174",
                                    "METTOL": "2016-11-12",
                                    "(No column name)": "1276"
                                },
                                {
                                    "SZOBA_FK": "176",
                                    "METTOL": "2016-11-13",
                                    "(No column name)": "1278"
                                },
                                {
                                    "SZOBA_FK": "80",
                                    "METTOL": "2016-11-14",
                                    "(No column name)": "1279"
                                },
                                {
                                    "SZOBA_FK": "78",
                                    "METTOL": "2016-11-15",
                                    "(No column name)": "1281"
                                },
                                {
                                    "SZOBA_FK": "123",
                                    "METTOL": "2016-11-15",
                                    "(No column name)": "1282"
                                },
                                {
                                    "SZOBA_FK": "137",
                                    "METTOL": "2016-11-15",
                                    "(No column name)": "1280"
                                },
                                {
                                    "SZOBA_FK": "58",
                                    "METTOL": "2016-11-16",
                                    "(No column name)": "1285"
                                },
                                {
                                    "SZOBA_FK": "127",
                                    "METTOL": "2016-11-16",
                                    "(No column name)": "1286"
                                },
                                {
                                    "SZOBA_FK": "138",
                                    "METTOL": "2016-11-16",
                                    "(No column name)": "1283"
                                },
                                {
                                    "SZOBA_FK": "164",
                                    "METTOL": "2016-11-16",
                                    "(No column name)": "1284"
                                },
                                {
                                    "SZOBA_FK": "22",
                                    "METTOL": "2016-11-17",
                                    "(No column name)": "1287"
                                },
                                {
                                    "SZOBA_FK": "59",
                                    "METTOL": "2016-11-17",
                                    "(No column name)": "1288"
                                },
                                {
                                    "SZOBA_FK": "135",
                                    "METTOL": "2016-11-18",
                                    "(No column name)": "1289"
                                },
                                {
                                    "SZOBA_FK": "44",
                                    "METTOL": "2016-11-19",
                                    "(No column name)": "1295"
                                },
                                {
                                    "SZOBA_FK": "46",
                                    "METTOL": "2016-11-19",
                                    "(No column name)": "1291"
                                },
                                {
                                    "SZOBA_FK": "58",
                                    "METTOL": "2016-11-19",
                                    "(No column name)": "1293"
                                },
                                {
                                    "SZOBA_FK": "111",
                                    "METTOL": "2016-11-19",
                                    "(No column name)": "1296"
                                },
                                {
                                    "SZOBA_FK": "128",
                                    "METTOL": "2016-11-19",
                                    "(No column name)": "1290"
                                },
                                {
                                    "SZOBA_FK": "138",
                                    "METTOL": "2016-11-19",
                                    "(No column name)": "1294"
                                },
                                {
                                    "SZOBA_FK": "144",
                                    "METTOL": "2016-11-19",
                                    "(No column name)": "1297"
                                },
                                {
                                    "SZOBA_FK": "164",
                                    "METTOL": "2016-11-19",
                                    "(No column name)": "1292"
                                },
                                {
                                    "SZOBA_FK": "109",
                                    "METTOL": "2016-11-20",
                                    "(No column name)": "1298"
                                },
                                {
                                    "SZOBA_FK": "88",
                                    "METTOL": "2016-11-21",
                                    "(No column name)": "1300"
                                },
                                {
                                    "SZOBA_FK": "90",
                                    "METTOL": "2016-11-21",
                                    "(No column name)": "1299"
                                },
                                {
                                    "SZOBA_FK": "45",
                                    "METTOL": "2016-11-22",
                                    "(No column name)": "1303"
                                },
                                {
                                    "SZOBA_FK": "94",
                                    "METTOL": "2016-11-22",
                                    "(No column name)": "1305"
                                },
                                {
                                    "SZOBA_FK": "132",
                                    "METTOL": "2016-11-22",
                                    "(No column name)": "1301"
                                },
                                {
                                    "SZOBA_FK": "133",
                                    "METTOL": "2016-11-22",
                                    "(No column name)": "1306"
                                },
                                {
                                    "SZOBA_FK": "191",
                                    "METTOL": "2016-11-22",
                                    "(No column name)": "1302"
                                },
                                {
                                    "SZOBA_FK": "197",
                                    "METTOL": "2016-11-22",
                                    "(No column name)": "1304"
                                },
                                {
                                    "SZOBA_FK": "2",
                                    "METTOL": "2016-11-23",
                                    "(No column name)": "1311"
                                },
                                {
                                    "SZOBA_FK": "42",
                                    "METTOL": "2016-11-23",
                                    "(No column name)": "1309"
                                },
                                {
                                    "SZOBA_FK": "58",
                                    "METTOL": "2016-11-23",
                                    "(No column name)": "1307"
                                },
                                {
                                    "SZOBA_FK": "94",
                                    "METTOL": "2016-11-23",
                                    "(No column name)": "1312"
                                },
                                {
                                    "SZOBA_FK": "143",
                                    "METTOL": "2016-11-23",
                                    "(No column name)": "1313"
                                },
                                {
                                    "SZOBA_FK": "155",
                                    "METTOL": "2016-11-23",
                                    "(No column name)": "1310"
                                },
                                {
                                    "SZOBA_FK": "182",
                                    "METTOL": "2016-11-23",
                                    "(No column name)": "1308"
                                },
                                {
                                    "SZOBA_FK": "196",
                                    "METTOL": "2016-11-23",
                                    "(No column name)": "1314"
                                },
                                {
                                    "SZOBA_FK": "100",
                                    "METTOL": "2016-11-24",
                                    "(No column name)": "1315"
                                },
                                {
                                    "SZOBA_FK": "10",
                                    "METTOL": "2016-11-25",
                                    "(No column name)": "1319"
                                },
                                {
                                    "SZOBA_FK": "17",
                                    "METTOL": "2016-11-25",
                                    "(No column name)": "1316"
                                },
                                {
                                    "SZOBA_FK": "33",
                                    "METTOL": "2016-11-25",
                                    "(No column name)": "1321"
                                },
                                {
                                    "SZOBA_FK": "72",
                                    "METTOL": "2016-11-25",
                                    "(No column name)": "1318"
                                },
                                {
                                    "SZOBA_FK": "85",
                                    "METTOL": "2016-11-25",
                                    "(No column name)": "1320"
                                },
                                {
                                    "SZOBA_FK": "182",
                                    "METTOL": "2016-11-25",
                                    "(No column name)": "1317"
                                },
                                {
                                    "SZOBA_FK": "58",
                                    "METTOL": "2016-11-26",
                                    "(No column name)": "1322"
                                },
                                {
                                    "SZOBA_FK": "68",
                                    "METTOL": "2016-11-27",
                                    "(No column name)": "1324"
                                },
                                {
                                    "SZOBA_FK": "70",
                                    "METTOL": "2016-11-27",
                                    "(No column name)": "1325"
                                },
                                {
                                    "SZOBA_FK": "191",
                                    "METTOL": "2016-11-27",
                                    "(No column name)": "1323"
                                },
                                {
                                    "SZOBA_FK": "54",
                                    "METTOL": "2016-11-28",
                                    "(No column name)": "1328"
                                },
                                {
                                    "SZOBA_FK": "55",
                                    "METTOL": "2016-11-28",
                                    "(No column name)": "1327"
                                },
                                {
                                    "SZOBA_FK": "182",
                                    "METTOL": "2016-11-28",
                                    "(No column name)": "1326"
                                },
                                {
                                    "SZOBA_FK": "73",
                                    "METTOL": "2016-11-29",
                                    "(No column name)": "1331"
                                },
                                {
                                    "SZOBA_FK": "101",
                                    "METTOL": "2016-11-29",
                                    "(No column name)": "1332"
                                },
                                {
                                    "SZOBA_FK": "124",
                                    "METTOL": "2016-11-29",
                                    "(No column name)": "1330"
                                },
                                {
                                    "SZOBA_FK": "171",
                                    "METTOL": "2016-11-29",
                                    "(No column name)": "1329"
                                },
                                {
                                    "SZOBA_FK": "70",
                                    "METTOL": "2016-11-30",
                                    "(No column name)": "1333"
                                },
                                {
                                    "SZOBA_FK": "1",
                                    "METTOL": "2016-12-01",
                                    "(No column name)": "1334"
                                },
                                {
                                    "SZOBA_FK": "37",
                                    "METTOL": "2016-12-01",
                                    "(No column name)": "1335"
                                },
                                {
                                    "SZOBA_FK": "122",
                                    "METTOL": "2016-12-02",
                                    "(No column name)": "1337"
                                },
                                {
                                    "SZOBA_FK": "145",
                                    "METTOL": "2016-12-02",
                                    "(No column name)": "1338"
                                },
                                {
                                    "SZOBA_FK": "172",
                                    "METTOL": "2016-12-02",
                                    "(No column name)": "1336"
                                },
                                {
                                    "SZOBA_FK": "120",
                                    "METTOL": "2016-12-03",
                                    "(No column name)": "1339"
                                },
                                {
                                    "SZOBA_FK": "82",
                                    "METTOL": "2016-12-04",
                                    "(No column name)": "1341"
                                },
                                {
                                    "SZOBA_FK": "170",
                                    "METTOL": "2016-12-04",
                                    "(No column name)": "1342"
                                },
                                {
                                    "SZOBA_FK": "196",
                                    "METTOL": "2016-12-04",
                                    "(No column name)": "1340"
                                },
                                {
                                    "SZOBA_FK": "33",
                                    "METTOL": "2016-12-05",
                                    "(No column name)": "1344"
                                },
                                {
                                    "SZOBA_FK": "79",
                                    "METTOL": "2016-12-05",
                                    "(No column name)": "1345"
                                },
                                {
                                    "SZOBA_FK": "102",
                                    "METTOL": "2016-12-05",
                                    "(No column name)": "1343"
                                },
                                {
                                    "SZOBA_FK": "181",
                                    "METTOL": "2016-12-05",
                                    "(No column name)": "1346"
                                },
                                {
                                    "SZOBA_FK": "13",
                                    "METTOL": "2016-12-06",
                                    "(No column name)": "1347"
                                },
                                {
                                    "SZOBA_FK": "38",
                                    "METTOL": "2016-12-06",
                                    "(No column name)": "1351"
                                },
                                {
                                    "SZOBA_FK": "57",
                                    "METTOL": "2016-12-06",
                                    "(No column name)": "1348"
                                },
                                {
                                    "SZOBA_FK": "87",
                                    "METTOL": "2016-12-06",
                                    "(No column name)": "1349"
                                },
                                {
                                    "SZOBA_FK": "173",
                                    "METTOL": "2016-12-06",
                                    "(No column name)": "1350"
                                },
                                {
                                    "SZOBA_FK": "107",
                                    "METTOL": "2016-12-07",
                                    "(No column name)": "1354"
                                },
                                {
                                    "SZOBA_FK": "111",
                                    "METTOL": "2016-12-07",
                                    "(No column name)": "1353"
                                },
                                {
                                    "SZOBA_FK": "115",
                                    "METTOL": "2016-12-07",
                                    "(No column name)": "1352"
                                },
                                {
                                    "SZOBA_FK": "93",
                                    "METTOL": "2016-12-08",
                                    "(No column name)": "1355"
                                },
                                {
                                    "SZOBA_FK": "169",
                                    "METTOL": "2016-12-09",
                                    "(No column name)": "1356"
                                },
                                {
                                    "SZOBA_FK": "140",
                                    "METTOL": "2016-12-10",
                                    "(No column name)": "1357"
                                },
                                {
                                    "SZOBA_FK": "138",
                                    "METTOL": "2016-12-11",
                                    "(No column name)": "1358"
                                },
                                {
                                    "SZOBA_FK": "88",
                                    "METTOL": "2016-12-12",
                                    "(No column name)": "1359"
                                },
                                {
                                    "SZOBA_FK": "129",
                                    "METTOL": "2016-12-13",
                                    "(No column name)": "1360"
                                },
                                {
                                    "SZOBA_FK": "25",
                                    "METTOL": "2016-12-14",
                                    "(No column name)": "1362"
                                },
                                {
                                    "SZOBA_FK": "140",
                                    "METTOL": "2016-12-14",
                                    "(No column name)": "1361"
                                },
                                {
                                    "SZOBA_FK": "70",
                                    "METTOL": "2016-12-15",
                                    "(No column name)": "1365"
                                },
                                {
                                    "SZOBA_FK": "126",
                                    "METTOL": "2016-12-15",
                                    "(No column name)": "1364"
                                },
                                {
                                    "SZOBA_FK": "133",
                                    "METTOL": "2016-12-15",
                                    "(No column name)": "1363"
                                },
                                {
                                    "SZOBA_FK": "81",
                                    "METTOL": "2016-12-16",
                                    "(No column name)": "1366"
                                },
                                {
                                    "SZOBA_FK": "80",
                                    "METTOL": "2016-12-17",
                                    "(No column name)": "1367"
                                },
                                {
                                    "SZOBA_FK": "84",
                                    "METTOL": "2016-12-17",
                                    "(No column name)": "1376"
                                },
                                {
                                    "SZOBA_FK": "94",
                                    "METTOL": "2016-12-17",
                                    "(No column name)": "1368"
                                },
                                {
                                    "SZOBA_FK": "106",
                                    "METTOL": "2016-12-17",
                                    "(No column name)": "1372"
                                },
                                {
                                    "SZOBA_FK": "118",
                                    "METTOL": "2016-12-17",
                                    "(No column name)": "1374"
                                },
                                {
                                    "SZOBA_FK": "121",
                                    "METTOL": "2016-12-17",
                                    "(No column name)": "1373"
                                },
                                {
                                    "SZOBA_FK": "138",
                                    "METTOL": "2016-12-17",
                                    "(No column name)": "1370"
                                },
                                {
                                    "SZOBA_FK": "140",
                                    "METTOL": "2016-12-17",
                                    "(No column name)": "1371"
                                },
                                {
                                    "SZOBA_FK": "142",
                                    "METTOL": "2016-12-17",
                                    "(No column name)": "1369"
                                },
                                {
                                    "SZOBA_FK": "165",
                                    "METTOL": "2016-12-17",
                                    "(No column name)": "1375"
                                },
                                {
                                    "SZOBA_FK": "27",
                                    "METTOL": "2016-12-18",
                                    "(No column name)": "1377"
                                },
                                {
                                    "SZOBA_FK": "96",
                                    "METTOL": "2016-12-18",
                                    "(No column name)": "1378"
                                },
                                {
                                    "SZOBA_FK": "83",
                                    "METTOL": "2016-12-19",
                                    "(No column name)": "1379"
                                },
                                {
                                    "SZOBA_FK": "39",
                                    "METTOL": "2016-12-20",
                                    "(No column name)": "1380"
                                },
                                {
                                    "SZOBA_FK": "33",
                                    "METTOL": "2016-12-21",
                                    "(No column name)": "1381"
                                },
                                {
                                    "SZOBA_FK": "67",
                                    "METTOL": "2016-12-22",
                                    "(No column name)": "1382"
                                },
                                {
                                    "SZOBA_FK": "84",
                                    "METTOL": "2016-12-22",
                                    "(No column name)": "1384"
                                },
                                {
                                    "SZOBA_FK": "176",
                                    "METTOL": "2016-12-22",
                                    "(No column name)": "1383"
                                },
                                {
                                    "SZOBA_FK": "122",
                                    "METTOL": "2016-12-23",
                                    "(No column name)": "1385"
                                },
                                {
                                    "SZOBA_FK": "26",
                                    "METTOL": "2016-12-24",
                                    "(No column name)": "1388"
                                },
                                {
                                    "SZOBA_FK": "55",
                                    "METTOL": "2016-12-24",
                                    "(No column name)": "1386"
                                },
                                {
                                    "SZOBA_FK": "197",
                                    "METTOL": "2016-12-24",
                                    "(No column name)": "1387"
                                },
                                {
                                    "SZOBA_FK": "57",
                                    "METTOL": "2016-12-25",
                                    "(No column name)": "1389"
                                },
                                {
                                    "SZOBA_FK": "72",
                                    "METTOL": "2016-12-25",
                                    "(No column name)": "1396"
                                },
                                {
                                    "SZOBA_FK": "91",
                                    "METTOL": "2016-12-25",
                                    "(No column name)": "1397"
                                },
                                {
                                    "SZOBA_FK": "93",
                                    "METTOL": "2016-12-25",
                                    "(No column name)": "1391"
                                },
                                {
                                    "SZOBA_FK": "97",
                                    "METTOL": "2016-12-25",
                                    "(No column name)": "1395"
                                },
                                {
                                    "SZOBA_FK": "108",
                                    "METTOL": "2016-12-25",
                                    "(No column name)": "1392"
                                },
                                {
                                    "SZOBA_FK": "121",
                                    "METTOL": "2016-12-25",
                                    "(No column name)": "1393"
                                },
                                {
                                    "SZOBA_FK": "143",
                                    "METTOL": "2016-12-25",
                                    "(No column name)": "1394"
                                },
                                {
                                    "SZOBA_FK": "188",
                                    "METTOL": "2016-12-25",
                                    "(No column name)": "1390"
                                },
                                {
                                    "SZOBA_FK": "89",
                                    "METTOL": "2016-12-26",
                                    "(No column name)": "1399"
                                },
                                {
                                    "SZOBA_FK": "103",
                                    "METTOL": "2016-12-26",
                                    "(No column name)": "1398"
                                },
                                {
                                    "SZOBA_FK": "162",
                                    "METTOL": "2016-12-26",
                                    "(No column name)": "1400"
                                },
                                {
                                    "SZOBA_FK": "141",
                                    "METTOL": "2016-12-27",
                                    "(No column name)": "1401"
                                },
                                {
                                    "SZOBA_FK": "98",
                                    "METTOL": "2016-12-28",
                                    "(No column name)": "1402"
                                },
                                {
                                    "SZOBA_FK": "35",
                                    "METTOL": "2016-12-29",
                                    "(No column name)": "1480"
                                },
                                {
                                    "SZOBA_FK": "82",
                                    "METTOL": "2016-12-29",
                                    "(No column name)": "1406"
                                },
                                {
                                    "SZOBA_FK": "90",
                                    "METTOL": "2016-12-29",
                                    "(No column name)": "1405"
                                },
                                {
                                    "SZOBA_FK": "124",
                                    "METTOL": "2016-12-29",
                                    "(No column name)": "1403"
                                },
                                {
                                    "SZOBA_FK": "187",
                                    "METTOL": "2016-12-29",
                                    "(No column name)": "1404"
                                },
                                {
                                    "SZOBA_FK": "175",
                                    "METTOL": "2016-12-30",
                                    "(No column name)": "1407"
                                },
                                {
                                    "SZOBA_FK": "99",
                                    "METTOL": "2016-12-31",
                                    "(No column name)": "1408"
                                },
                                {
                                    "SZOBA_FK": "35",
                                    "METTOL": "2017-01-01",
                                    "(No column name)": "1411"
                                },
                                {
                                    "SZOBA_FK": "75",
                                    "METTOL": "2017-01-01",
                                    "(No column name)": "1412"
                                },
                                {
                                    "SZOBA_FK": "133",
                                    "METTOL": "2017-01-01",
                                    "(No column name)": "1409"
                                },
                                {
                                    "SZOBA_FK": "182",
                                    "METTOL": "2017-01-01",
                                    "(No column name)": "1410"
                                },
                                {
                                    "SZOBA_FK": "119",
                                    "METTOL": "2017-01-02",
                                    "(No column name)": "1413"
                                },
                                {
                                    "SZOBA_FK": "167",
                                    "METTOL": "2017-01-02",
                                    "(No column name)": "1414"
                                },
                                {
                                    "SZOBA_FK": "24",
                                    "METTOL": "2017-01-03",
                                    "(No column name)": "1415"
                                },
                                {
                                    "SZOBA_FK": "38",
                                    "METTOL": "2017-01-03",
                                    "(No column name)": "1416"
                                },
                                {
                                    "SZOBA_FK": "97",
                                    "METTOL": "2017-01-03",
                                    "(No column name)": "1417"
                                },
                                {
                                    "SZOBA_FK": "15",
                                    "METTOL": "2017-01-04",
                                    "(No column name)": "1418"
                                },
                                {
                                    "SZOBA_FK": "124",
                                    "METTOL": "2017-01-05",
                                    "(No column name)": "1419"
                                },
                                {
                                    "SZOBA_FK": "172",
                                    "METTOL": "2017-01-05",
                                    "(No column name)": "1421"
                                },
                                {
                                    "SZOBA_FK": "198",
                                    "METTOL": "2017-01-05",
                                    "(No column name)": "1420"
                                },
                                {
                                    "SZOBA_FK": "9",
                                    "METTOL": "2017-01-06",
                                    "(No column name)": "1423"
                                },
                                {
                                    "SZOBA_FK": "182",
                                    "METTOL": "2017-01-06",
                                    "(No column name)": "1422"
                                },
                                {
                                    "SZOBA_FK": "110",
                                    "METTOL": "2017-01-07",
                                    "(No column name)": "1424"
                                },
                                {
                                    "SZOBA_FK": "44",
                                    "METTOL": "2017-01-08",
                                    "(No column name)": "1425"
                                },
                                {
                                    "SZOBA_FK": "12",
                                    "METTOL": "2017-01-09",
                                    "(No column name)": "1430"
                                },
                                {
                                    "SZOBA_FK": "62",
                                    "METTOL": "2017-01-09",
                                    "(No column name)": "1426"
                                },
                                {
                                    "SZOBA_FK": "126",
                                    "METTOL": "2017-01-09",
                                    "(No column name)": "1428"
                                },
                                {
                                    "SZOBA_FK": "169",
                                    "METTOL": "2017-01-09",
                                    "(No column name)": "1427"
                                },
                                {
                                    "SZOBA_FK": "173",
                                    "METTOL": "2017-01-09",
                                    "(No column name)": "1429"
                                },
                                {
                                    "SZOBA_FK": "52",
                                    "METTOL": "2017-01-10",
                                    "(No column name)": "1431"
                                },
                                {
                                    "SZOBA_FK": "150",
                                    "METTOL": "2017-01-10",
                                    "(No column name)": "1432"
                                },
                                {
                                    "SZOBA_FK": "139",
                                    "METTOL": "2017-01-11",
                                    "(No column name)": "1433"
                                },
                                {
                                    "SZOBA_FK": "3",
                                    "METTOL": "2017-01-12",
                                    "(No column name)": "1434"
                                },
                                {
                                    "SZOBA_FK": "39",
                                    "METTOL": "2017-01-12",
                                    "(No column name)": "1435"
                                },
                                {
                                    "SZOBA_FK": "35",
                                    "METTOL": "2017-01-13",
                                    "(No column name)": "1436"
                                },
                                {
                                    "SZOBA_FK": "183",
                                    "METTOL": "2017-01-13",
                                    "(No column name)": "1437"
                                },
                                {
                                    "SZOBA_FK": "96",
                                    "METTOL": "2017-01-14",
                                    "(No column name)": "1438"
                                },
                                {
                                    "SZOBA_FK": "77",
                                    "METTOL": "2017-01-15",
                                    "(No column name)": "1439"
                                },
                                {
                                    "SZOBA_FK": "122",
                                    "METTOL": "2017-01-15",
                                    "(No column name)": "1440"
                                },
                                {
                                    "SZOBA_FK": "15",
                                    "METTOL": "2017-01-16",
                                    "(No column name)": "1442"
                                },
                                {
                                    "SZOBA_FK": "42",
                                    "METTOL": "2017-01-16",
                                    "(No column name)": "1444"
                                },
                                {
                                    "SZOBA_FK": "64",
                                    "METTOL": "2017-01-16",
                                    "(No column name)": "1446"
                                },
                                {
                                    "SZOBA_FK": "79",
                                    "METTOL": "2017-01-16",
                                    "(No column name)": "1447"
                                },
                                {
                                    "SZOBA_FK": "81",
                                    "METTOL": "2017-01-16",
                                    "(No column name)": "1443"
                                },
                                {
                                    "SZOBA_FK": "129",
                                    "METTOL": "2017-01-16",
                                    "(No column name)": "1445"
                                },
                                {
                                    "SZOBA_FK": "143",
                                    "METTOL": "2017-01-16",
                                    "(No column name)": "1448"
                                },
                                {
                                    "SZOBA_FK": "185",
                                    "METTOL": "2017-01-16",
                                    "(No column name)": "1441"
                                },
                                {
                                    "SZOBA_FK": "58",
                                    "METTOL": "2017-01-17",
                                    "(No column name)": "1451"
                                },
                                {
                                    "SZOBA_FK": "86",
                                    "METTOL": "2017-01-17",
                                    "(No column name)": "1453"
                                },
                                {
                                    "SZOBA_FK": "107",
                                    "METTOL": "2017-01-17",
                                    "(No column name)": "1452"
                                },
                                {
                                    "SZOBA_FK": "139",
                                    "METTOL": "2017-01-17",
                                    "(No column name)": "1450"
                                },
                                {
                                    "SZOBA_FK": "189",
                                    "METTOL": "2017-01-17",
                                    "(No column name)": "1449"
                                },
                                {
                                    "SZOBA_FK": "39",
                                    "METTOL": "2017-01-18",
                                    "(No column name)": "1454"
                                },
                                {
                                    "SZOBA_FK": "116",
                                    "METTOL": "2017-01-18",
                                    "(No column name)": "1455"
                                },
                                {
                                    "SZOBA_FK": "70",
                                    "METTOL": "2017-01-19",
                                    "(No column name)": "1457"
                                },
                                {
                                    "SZOBA_FK": "75",
                                    "METTOL": "2017-01-19",
                                    "(No column name)": "1458"
                                },
                                {
                                    "SZOBA_FK": "87",
                                    "METTOL": "2017-01-19",
                                    "(No column name)": "1456"
                                },
                                {
                                    "SZOBA_FK": "28",
                                    "METTOL": "2017-01-20",
                                    "(No column name)": "1459"
                                },
                                {
                                    "SZOBA_FK": "153",
                                    "METTOL": "2017-01-21",
                                    "(No column name)": "1460"
                                },
                                {
                                    "SZOBA_FK": "57",
                                    "METTOL": "2017-01-22",
                                    "(No column name)": "1466"
                                },
                                {
                                    "SZOBA_FK": "64",
                                    "METTOL": "2017-01-22",
                                    "(No column name)": "1465"
                                },
                                {
                                    "SZOBA_FK": "77",
                                    "METTOL": "2017-01-22",
                                    "(No column name)": "1461"
                                },
                                {
                                    "SZOBA_FK": "81",
                                    "METTOL": "2017-01-22",
                                    "(No column name)": "1464"
                                },
                                {
                                    "SZOBA_FK": "156",
                                    "METTOL": "2017-01-22",
                                    "(No column name)": "1462"
                                },
                                {
                                    "SZOBA_FK": "185",
                                    "METTOL": "2017-01-22",
                                    "(No column name)": "1463"
                                },
                                {
                                    "SZOBA_FK": "186",
                                    "METTOL": "2017-01-22",
                                    "(No column name)": "1467"
                                },
                                {
                                    "SZOBA_FK": "13",
                                    "METTOL": "2017-01-23",
                                    "(No column name)": "1469"
                                },
                                {
                                    "SZOBA_FK": "117",
                                    "METTOL": "2017-01-23",
                                    "(No column name)": "1468"
                                },
                                {
                                    "SZOBA_FK": "145",
                                    "METTOL": "2017-01-23",
                                    "(No column name)": "1471"
                                },
                                {
                                    "SZOBA_FK": "153",
                                    "METTOL": "2017-01-23",
                                    "(No column name)": "1470"
                                },
                                {
                                    "SZOBA_FK": "118",
                                    "METTOL": "2017-01-24",
                                    "(No column name)": "1472"
                                },
                                {
                                    "SZOBA_FK": "195",
                                    "METTOL": "2017-01-24",
                                    "(No column name)": "1473"
                                },
                                {
                                    "SZOBA_FK": "131",
                                    "METTOL": "2017-01-25",
                                    "(No column name)": "1474"
                                },
                                {
                                    "SZOBA_FK": "130",
                                    "METTOL": "2017-01-26",
                                    "(No column name)": "1475"
                                },
                                {
                                    "SZOBA_FK": "27",
                                    "METTOL": "2017-01-27",
                                    "(No column name)": "1476"
                                },
                                {
                                    "SZOBA_FK": "38",
                                    "METTOL": "2017-01-28",
                                    "(No column name)": "1478"
                                },
                                {
                                    "SZOBA_FK": "51",
                                    "METTOL": "2017-01-28",
                                    "(No column name)": "1477"
                                },
                                {
                                    "SZOBA_FK": "146",
                                    "METTOL": "2017-01-28",
                                    "(No column name)": "1479"
                                },
                                {
                                    "SZOBA_FK": "100",
                                    "METTOL": "2017-01-29",
                                    "(No column name)": "1482"
                                },
                                {
                                    "SZOBA_FK": "118",
                                    "METTOL": "2017-01-29",
                                    "(No column name)": "1481"
                                },
                                {
                                    "SZOBA_FK": "103",
                                    "METTOL": "2017-01-30",
                                    "(No column name)": "1485"
                                },
                                {
                                    "SZOBA_FK": "120",
                                    "METTOL": "2017-01-30",
                                    "(No column name)": "1483"
                                },
                                {
                                    "SZOBA_FK": "195",
                                    "METTOL": "2017-01-30",
                                    "(No column name)": "1484"
                                },
                                {
                                    "SZOBA_FK": "99",
                                    "METTOL": "2017-01-31",
                                    "(No column name)": "1486"
                                },
                                {
                                    "SZOBA_FK": "119",
                                    "METTOL": "2017-02-01",
                                    "(No column name)": "1488"
                                },
                                {
                                    "SZOBA_FK": "163",
                                    "METTOL": "2017-02-01",
                                    "(No column name)": "1487"
                                },
                                {
                                    "SZOBA_FK": "110",
                                    "METTOL": "2017-02-02",
                                    "(No column name)": "1489"
                                },
                                {
                                    "SZOBA_FK": "4",
                                    "METTOL": "2017-02-03",
                                    "(No column name)": "1492"
                                },
                                {
                                    "SZOBA_FK": "156",
                                    "METTOL": "2017-02-03",
                                    "(No column name)": "1490"
                                },
                                {
                                    "SZOBA_FK": "172",
                                    "METTOL": "2017-02-03",
                                    "(No column name)": "1491"
                                },
                                {
                                    "SZOBA_FK": "16",
                                    "METTOL": "2017-02-04",
                                    "(No column name)": "1498"
                                },
                                {
                                    "SZOBA_FK": "61",
                                    "METTOL": "2017-02-04",
                                    "(No column name)": "1496"
                                },
                                {
                                    "SZOBA_FK": "107",
                                    "METTOL": "2017-02-04",
                                    "(No column name)": "1494"
                                },
                                {
                                    "SZOBA_FK": "113",
                                    "METTOL": "2017-02-04",
                                    "(No column name)": "1495"
                                },
                                {
                                    "SZOBA_FK": "120",
                                    "METTOL": "2017-02-04",
                                    "(No column name)": "1493"
                                },
                                {
                                    "SZOBA_FK": "179",
                                    "METTOL": "2017-02-04",
                                    "(No column name)": "1497"
                                },
                                {
                                    "SZOBA_FK": "113",
                                    "METTOL": "2017-02-05",
                                    "(No column name)": "1499"
                                },
                                {
                                    "SZOBA_FK": "116",
                                    "METTOL": "2017-02-05",
                                    "(No column name)": "1501"
                                },
                                {
                                    "SZOBA_FK": "126",
                                    "METTOL": "2017-02-05",
                                    "(No column name)": "1500"
                                },
                                {
                                    "SZOBA_FK": "177",
                                    "METTOL": "2017-02-05",
                                    "(No column name)": "1503"
                                },
                                {
                                    "SZOBA_FK": "191",
                                    "METTOL": "2017-02-05",
                                    "(No column name)": "1502"
                                },
                                {
                                    "SZOBA_FK": "18",
                                    "METTOL": "2017-02-06",
                                    "(No column name)": "1505"
                                },
                                {
                                    "SZOBA_FK": "57",
                                    "METTOL": "2017-02-06",
                                    "(No column name)": "1504"
                                },
                                {
                                    "SZOBA_FK": "81",
                                    "METTOL": "2017-02-06",
                                    "(No column name)": "1506"
                                },
                                {
                                    "SZOBA_FK": "153",
                                    "METTOL": "2017-02-07",
                                    "(No column name)": "1507"
                                },
                                {
                                    "SZOBA_FK": "55",
                                    "METTOL": "2017-02-08",
                                    "(No column name)": "1512"
                                },
                                {
                                    "SZOBA_FK": "106",
                                    "METTOL": "2017-02-08",
                                    "(No column name)": "1510"
                                },
                                {
                                    "SZOBA_FK": "129",
                                    "METTOL": "2017-02-08",
                                    "(No column name)": "1509"
                                },
                                {
                                    "SZOBA_FK": "176",
                                    "METTOL": "2017-02-08",
                                    "(No column name)": "1511"
                                },
                                {
                                    "SZOBA_FK": "191",
                                    "METTOL": "2017-02-08",
                                    "(No column name)": "1508"
                                },
                                {
                                    "SZOBA_FK": "85",
                                    "METTOL": "2017-02-09",
                                    "(No column name)": "1513"
                                },
                                {
                                    "SZOBA_FK": "149",
                                    "METTOL": "2017-02-09",
                                    "(No column name)": "1514"
                                },
                                {
                                    "SZOBA_FK": "46",
                                    "METTOL": "2017-02-10",
                                    "(No column name)": "1515"
                                },
                                {
                                    "SZOBA_FK": "101",
                                    "METTOL": "2017-02-10",
                                    "(No column name)": "1516"
                                },
                                {
                                    "SZOBA_FK": "190",
                                    "METTOL": "2017-02-11",
                                    "(No column name)": "1517"
                                },
                                {
                                    "SZOBA_FK": "11",
                                    "METTOL": "2017-02-12",
                                    "(No column name)": "1523"
                                },
                                {
                                    "SZOBA_FK": "43",
                                    "METTOL": "2017-02-12",
                                    "(No column name)": "1524"
                                },
                                {
                                    "SZOBA_FK": "55",
                                    "METTOL": "2017-02-12",
                                    "(No column name)": "1520"
                                },
                                {
                                    "SZOBA_FK": "89",
                                    "METTOL": "2017-02-12",
                                    "(No column name)": "1521"
                                },
                                {
                                    "SZOBA_FK": "94",
                                    "METTOL": "2017-02-12",
                                    "(No column name)": "1518"
                                },
                                {
                                    "SZOBA_FK": "104",
                                    "METTOL": "2017-02-12",
                                    "(No column name)": "1522"
                                },
                                {
                                    "SZOBA_FK": "105",
                                    "METTOL": "2017-02-12",
                                    "(No column name)": "1525"
                                },
                                {
                                    "SZOBA_FK": "132",
                                    "METTOL": "2017-02-12",
                                    "(No column name)": "1519"
                                },
                                {
                                    "SZOBA_FK": "166",
                                    "METTOL": "2017-02-12",
                                    "(No column name)": "1526"
                                },
                                {
                                    "SZOBA_FK": "35",
                                    "METTOL": "2017-02-13",
                                    "(No column name)": "1529"
                                },
                                {
                                    "SZOBA_FK": "92",
                                    "METTOL": "2017-02-13",
                                    "(No column name)": "1527"
                                },
                                {
                                    "SZOBA_FK": "97",
                                    "METTOL": "2017-02-13",
                                    "(No column name)": "1528"
                                },
                                {
                                    "SZOBA_FK": "112",
                                    "METTOL": "2017-02-13",
                                    "(No column name)": "1530"
                                },
                                {
                                    "SZOBA_FK": "124",
                                    "METTOL": "2017-02-13",
                                    "(No column name)": "1531"
                                },
                                {
                                    "SZOBA_FK": "19",
                                    "METTOL": "2017-02-14",
                                    "(No column name)": "1533"
                                },
                                {
                                    "SZOBA_FK": "52",
                                    "METTOL": "2017-02-14",
                                    "(No column name)": "1534"
                                },
                                {
                                    "SZOBA_FK": "104",
                                    "METTOL": "2017-02-14",
                                    "(No column name)": "1532"
                                },
                                {
                                    "SZOBA_FK": "134",
                                    "METTOL": "2017-02-15",
                                    "(No column name)": "1535"
                                },
                                {
                                    "SZOBA_FK": "3",
                                    "METTOL": "2017-02-16",
                                    "(No column name)": "1544"
                                },
                                {
                                    "SZOBA_FK": "9",
                                    "METTOL": "2017-02-16",
                                    "(No column name)": "1537"
                                },
                                {
                                    "SZOBA_FK": "14",
                                    "METTOL": "2017-02-16",
                                    "(No column name)": "1542"
                                },
                                {
                                    "SZOBA_FK": "39",
                                    "METTOL": "2017-02-16",
                                    "(No column name)": "1538"
                                },
                                {
                                    "SZOBA_FK": "49",
                                    "METTOL": "2017-02-16",
                                    "(No column name)": "1536"
                                },
                                {
                                    "SZOBA_FK": "95",
                                    "METTOL": "2017-02-16",
                                    "(No column name)": "1543"
                                },
                                {
                                    "SZOBA_FK": "114",
                                    "METTOL": "2017-02-16",
                                    "(No column name)": "1540"
                                },
                                {
                                    "SZOBA_FK": "154",
                                    "METTOL": "2017-02-16",
                                    "(No column name)": "1539"
                                },
                                {
                                    "SZOBA_FK": "155",
                                    "METTOL": "2017-02-16",
                                    "(No column name)": "1541"
                                },
                                {
                                    "SZOBA_FK": "48",
                                    "METTOL": "2017-02-17",
                                    "(No column name)": "1546"
                                },
                                {
                                    "SZOBA_FK": "142",
                                    "METTOL": "2017-02-17",
                                    "(No column name)": "1545"
                                },
                                {
                                    "SZOBA_FK": "17",
                                    "METTOL": "2017-02-18",
                                    "(No column name)": "1549"
                                },
                                {
                                    "SZOBA_FK": "48",
                                    "METTOL": "2017-02-18",
                                    "(No column name)": "1547"
                                },
                                {
                                    "SZOBA_FK": "51",
                                    "METTOL": "2017-02-18",
                                    "(No column name)": "1550"
                                },
                                {
                                    "SZOBA_FK": "88",
                                    "METTOL": "2017-02-18",
                                    "(No column name)": "1548"
                                },
                                {
                                    "SZOBA_FK": "157",
                                    "METTOL": "2017-02-19",
                                    "(No column name)": "1551"
                                },
                                {
                                    "SZOBA_FK": "43",
                                    "METTOL": "2017-02-20",
                                    "(No column name)": "1553"
                                },
                                {
                                    "SZOBA_FK": "44",
                                    "METTOL": "2017-02-20",
                                    "(No column name)": "1552"
                                },
                                {
                                    "SZOBA_FK": "92",
                                    "METTOL": "2017-02-20",
                                    "(No column name)": "1555"
                                },
                                {
                                    "SZOBA_FK": "115",
                                    "METTOL": "2017-02-20",
                                    "(No column name)": "1554"
                                },
                                {
                                    "SZOBA_FK": "38",
                                    "METTOL": "2017-02-21",
                                    "(No column name)": "1556"
                                },
                                {
                                    "SZOBA_FK": "76",
                                    "METTOL": "2017-02-21",
                                    "(No column name)": "1557"
                                },
                                {
                                    "SZOBA_FK": "152",
                                    "METTOL": "2017-02-21",
                                    "(No column name)": "1558"
                                },
                                {
                                    "SZOBA_FK": "180",
                                    "METTOL": "2017-02-22",
                                    "(No column name)": "1559"
                                },
                                {
                                    "SZOBA_FK": "81",
                                    "METTOL": "2017-02-23",
                                    "(No column name)": "1562"
                                },
                                {
                                    "SZOBA_FK": "94",
                                    "METTOL": "2017-02-23",
                                    "(No column name)": "1564"
                                },
                                {
                                    "SZOBA_FK": "109",
                                    "METTOL": "2017-02-23",
                                    "(No column name)": "1560"
                                },
                                {
                                    "SZOBA_FK": "156",
                                    "METTOL": "2017-02-23",
                                    "(No column name)": "1561"
                                },
                                {
                                    "SZOBA_FK": "160",
                                    "METTOL": "2017-02-23",
                                    "(No column name)": "1565"
                                },
                                {
                                    "SZOBA_FK": "180",
                                    "METTOL": "2017-02-23",
                                    "(No column name)": "1563"
                                },
                                {
                                    "SZOBA_FK": "29",
                                    "METTOL": "2017-02-24",
                                    "(No column name)": "1568"
                                },
                                {
                                    "SZOBA_FK": "96",
                                    "METTOL": "2017-02-24",
                                    "(No column name)": "1569"
                                },
                                {
                                    "SZOBA_FK": "115",
                                    "METTOL": "2017-02-24",
                                    "(No column name)": "1566"
                                },
                                {
                                    "SZOBA_FK": "171",
                                    "METTOL": "2017-02-24",
                                    "(No column name)": "1567"
                                },
                                {
                                    "SZOBA_FK": "176",
                                    "METTOL": "2017-02-24",
                                    "(No column name)": "1570"
                                },
                                {
                                    "SZOBA_FK": "144",
                                    "METTOL": "2017-02-25",
                                    "(No column name)": "1572"
                                },
                                {
                                    "SZOBA_FK": "161",
                                    "METTOL": "2017-02-25",
                                    "(No column name)": "1571"
                                },
                                {
                                    "SZOBA_FK": "59",
                                    "METTOL": "2017-02-26",
                                    "(No column name)": "1573"
                                },
                                {
                                    "SZOBA_FK": "88",
                                    "METTOL": "2017-02-26",
                                    "(No column name)": "1575"
                                },
                                {
                                    "SZOBA_FK": "128",
                                    "METTOL": "2017-02-26",
                                    "(No column name)": "1574"
                                },
                                {
                                    "SZOBA_FK": "189",
                                    "METTOL": "2017-02-26",
                                    "(No column name)": "1576"
                                },
                                {
                                    "SZOBA_FK": "78",
                                    "METTOL": "2017-02-27",
                                    "(No column name)": "1577"
                                },
                                {
                                    "SZOBA_FK": "148",
                                    "METTOL": "2017-02-27",
                                    "(No column name)": "1578"
                                },
                                {
                                    "SZOBA_FK": "127",
                                    "METTOL": "2017-02-28",
                                    "(No column name)": "1579"
                                },
                                {
                                    "SZOBA_FK": "48",
                                    "METTOL": "2017-03-01",
                                    "(No column name)": "1581"
                                },
                                {
                                    "SZOBA_FK": "67",
                                    "METTOL": "2017-03-01",
                                    "(No column name)": "1580"
                                },
                                {
                                    "SZOBA_FK": "64",
                                    "METTOL": "2017-03-02",
                                    "(No column name)": "1582"
                                },
                                {
                                    "SZOBA_FK": "67",
                                    "METTOL": "2017-03-03",
                                    "(No column name)": "1584"
                                },
                                {
                                    "SZOBA_FK": "128",
                                    "METTOL": "2017-03-03",
                                    "(No column name)": "1583"
                                }
                            ]
                        },
                        "text/html": [
                            "<table>",
                            "<tr><th>SZOBA_FK</th><th>METTOL</th><th>(No column name)</th></tr>",
                            "<tr><td>6</td><td>2016-04-06</td><td>560</td></tr>",
                            "<tr><td>7</td><td>2016-04-06</td><td>562</td></tr>",
                            "<tr><td>42</td><td>2016-04-06</td><td>561</td></tr>",
                            "<tr><td>87</td><td>2016-04-06</td><td>558</td></tr>",
                            "<tr><td>131</td><td>2016-04-06</td><td>559</td></tr>",
                            "<tr><td>68</td><td>2016-04-07</td><td>563</td></tr>",
                            "<tr><td>5</td><td>2016-04-08</td><td>564</td></tr>",
                            "<tr><td>141</td><td>2016-04-08</td><td>565</td></tr>",
                            "<tr><td>21</td><td>2016-04-09</td><td>566</td></tr>",
                            "<tr><td>10</td><td>2016-04-10</td><td>569</td></tr>",
                            "<tr><td>78</td><td>2016-04-10</td><td>568</td></tr>",
                            "<tr><td>83</td><td>2016-04-10</td><td>572</td></tr>",
                            "<tr><td>155</td><td>2016-04-10</td><td>575</td></tr>",
                            "<tr><td>164</td><td>2016-04-10</td><td>570</td></tr>",
                            "<tr><td>169</td><td>2016-04-10</td><td>573</td></tr>",
                            "<tr><td>170</td><td>2016-04-10</td><td>567</td></tr>",
                            "<tr><td>171</td><td>2016-04-10</td><td>574</td></tr>",
                            "<tr><td>182</td><td>2016-04-10</td><td>571</td></tr>",
                            "<tr><td>125</td><td>2016-04-11</td><td>576</td></tr>",
                            "<tr><td>155</td><td>2016-04-12</td><td>577</td></tr>",
                            "<tr><td>185</td><td>2016-04-13</td><td>578</td></tr>",
                            "<tr><td>130</td><td>2016-04-14</td><td>580</td></tr>",
                            "<tr><td>139</td><td>2016-04-14</td><td>579</td></tr>",
                            "<tr><td>144</td><td>2016-04-15</td><td>581</td></tr>",
                            "<tr><td>79</td><td>2016-04-16</td><td>583</td></tr>",
                            "<tr><td>137</td><td>2016-04-16</td><td>582</td></tr>",
                            "<tr><td>70</td><td>2016-04-17</td><td>585</td></tr>",
                            "<tr><td>136</td><td>2016-04-17</td><td>584</td></tr>",
                            "<tr><td>107</td><td>2016-04-18</td><td>586</td></tr>",
                            "<tr><td>42</td><td>2016-04-19</td><td>590</td></tr>",
                            "<tr><td>44</td><td>2016-04-19</td><td>589</td></tr>",
                            "<tr><td>123</td><td>2016-04-19</td><td>587</td></tr>",
                            "<tr><td>156</td><td>2016-04-19</td><td>588</td></tr>",
                            "<tr><td>149</td><td>2016-04-20</td><td>591</td></tr>",
                            "<tr><td>77</td><td>2016-04-21</td><td>593</td></tr>",
                            "<tr><td>176</td><td>2016-04-21</td><td>592</td></tr>",
                            "<tr><td>74</td><td>2016-04-22</td><td>595</td></tr>",
                            "<tr><td>153</td><td>2016-04-22</td><td>594</td></tr>",
                            "<tr><td>100</td><td>2016-04-23</td><td>597</td></tr>",
                            "<tr><td>115</td><td>2016-04-23</td><td>596</td></tr>",
                            "<tr><td>31</td><td>2016-04-24</td><td>598</td></tr>",
                            "<tr><td>162</td><td>2016-04-24</td><td>599</td></tr>",
                            "<tr><td>190</td><td>2016-04-24</td><td>600</td></tr>",
                            "<tr><td>39</td><td>2016-04-25</td><td>601</td></tr>",
                            "<tr><td>17</td><td>2016-04-26</td><td>602</td></tr>",
                            "<tr><td>48</td><td>2016-04-26</td><td>603</td></tr>",
                            "<tr><td>30</td><td>2016-04-27</td><td>604</td></tr>",
                            "<tr><td>31</td><td>2016-04-27</td><td>606</td></tr>",
                            "<tr><td>111</td><td>2016-04-27</td><td>605</td></tr>",
                            "<tr><td>96</td><td>2016-04-28</td><td>607</td></tr>",
                            "<tr><td>184</td><td>2016-04-28</td><td>608</td></tr>",
                            "<tr><td>9</td><td>2016-04-29</td><td>609</td></tr>",
                            "<tr><td>106</td><td>2016-04-30</td><td>610</td></tr>",
                            "<tr><td>29</td><td>2016-05-01</td><td>611</td></tr>",
                            "<tr><td>109</td><td>2016-05-01</td><td>614</td></tr>",
                            "<tr><td>117</td><td>2016-05-01</td><td>612</td></tr>",
                            "<tr><td>130</td><td>2016-05-01</td><td>613</td></tr>",
                            "<tr><td>186</td><td>2016-05-01</td><td>615</td></tr>",
                            "<tr><td>94</td><td>2016-05-02</td><td>616</td></tr>",
                            "<tr><td>117</td><td>2016-05-02</td><td>617</td></tr>",
                            "<tr><td>105</td><td>2016-05-03</td><td>618</td></tr>",
                            "<tr><td>132</td><td>2016-05-04</td><td>619</td></tr>",
                            "<tr><td>1</td><td>2016-05-05</td><td>620</td></tr>",
                            "<tr><td>109</td><td>2016-05-06</td><td>621</td></tr>",
                            "<tr><td>54</td><td>2016-05-07</td><td>622</td></tr>",
                            "<tr><td>18</td><td>2016-05-08</td><td>626</td></tr>",
                            "<tr><td>33</td><td>2016-05-08</td><td>624</td></tr>",
                            "<tr><td>38</td><td>2016-05-08</td><td>627</td></tr>",
                            "<tr><td>63</td><td>2016-05-08</td><td>625</td></tr>",
                            "<tr><td>96</td><td>2016-05-08</td><td>623</td></tr>",
                            "<tr><td>3</td><td>2016-05-09</td><td>629</td></tr>",
                            "<tr><td>48</td><td>2016-05-09</td><td>628</td></tr>",
                            "<tr><td>98</td><td>2016-05-09</td><td>631</td></tr>",
                            "<tr><td>99</td><td>2016-05-09</td><td>632</td></tr>",
                            "<tr><td>163</td><td>2016-05-09</td><td>630</td></tr>",
                            "<tr><td>187</td><td>2016-05-09</td><td>633</td></tr>",
                            "<tr><td>193</td><td>2016-05-09</td><td>634</td></tr>",
                            "<tr><td>91</td><td>2016-05-10</td><td>636</td></tr>",
                            "<tr><td>97</td><td>2016-05-10</td><td>635</td></tr>",
                            "<tr><td>100</td><td>2016-05-11</td><td>637</td></tr>",
                            "<tr><td>67</td><td>2016-05-12</td><td>638</td></tr>",
                            "<tr><td>161</td><td>2016-05-12</td><td>639</td></tr>",
                            "<tr><td>165</td><td>2016-05-12</td><td>640</td></tr>",
                            "<tr><td>54</td><td>2016-05-13</td><td>642</td></tr>",
                            "<tr><td>150</td><td>2016-05-13</td><td>641</td></tr>",
                            "<tr><td>67</td><td>2016-05-14</td><td>645</td></tr>",
                            "<tr><td>78</td><td>2016-05-14</td><td>646</td></tr>",
                            "<tr><td>127</td><td>2016-05-14</td><td>643</td></tr>",
                            "<tr><td>166</td><td>2016-05-14</td><td>644</td></tr>",
                            "<tr><td>85</td><td>2016-05-15</td><td>647</td></tr>",
                            "<tr><td>157</td><td>2016-05-16</td><td>648</td></tr>",
                            "<tr><td>4</td><td>2016-05-17</td><td>651</td></tr>",
                            "<tr><td>65</td><td>2016-05-17</td><td>650</td></tr>",
                            "<tr><td>137</td><td>2016-05-17</td><td>649</td></tr>",
                            "<tr><td>109</td><td>2016-05-18</td><td>654</td></tr>",
                            "<tr><td>131</td><td>2016-05-18</td><td>655</td></tr>",
                            "<tr><td>149</td><td>2016-05-18</td><td>652</td></tr>",
                            "<tr><td>161</td><td>2016-05-18</td><td>653</td></tr>",
                            "<tr><td>95</td><td>2016-05-19</td><td>656</td></tr>",
                            "<tr><td>137</td><td>2016-05-20</td><td>657</td></tr>",
                            "<tr><td>21</td><td>2016-05-21</td><td>660</td></tr>",
                            "<tr><td>44</td><td>2016-05-21</td><td>658</td></tr>",
                            "<tr><td>136</td><td>2016-05-21</td><td>661</td></tr>",
                            "<tr><td>169</td><td>2016-05-21</td><td>659</td></tr>",
                            "<tr><td>179</td><td>2016-05-21</td><td>662</td></tr>",
                            "<tr><td>14</td><td>2016-05-22</td><td>663</td></tr>",
                            "<tr><td>42</td><td>2016-05-22</td><td>851</td></tr>",
                            "<tr><td>24</td><td>2016-05-23</td><td>852</td></tr>",
                            "<tr><td>16</td><td>2016-05-24</td><td>856</td></tr>",
                            "<tr><td>53</td><td>2016-05-24</td><td>855</td></tr>",
                            "<tr><td>127</td><td>2016-05-24</td><td>853</td></tr>",
                            "<tr><td>167</td><td>2016-05-24</td><td>854</td></tr>",
                            "<tr><td>121</td><td>2016-05-25</td><td>858</td></tr>",
                            "<tr><td>165</td><td>2016-05-25</td><td>857</td></tr>",
                            "<tr><td>86</td><td>2016-05-26</td><td>859</td></tr>",
                            "<tr><td>70</td><td>2016-05-27</td><td>860</td></tr>",
                            "<tr><td>82</td><td>2016-05-27</td><td>862</td></tr>",
                            "<tr><td>124</td><td>2016-05-27</td><td>861</td></tr>",
                            "<tr><td>34</td><td>2016-05-28</td><td>870</td></tr>",
                            "<tr><td>51</td><td>2016-05-28</td><td>865</td></tr>",
                            "<tr><td>83</td><td>2016-05-28</td><td>869</td></tr>",
                            "<tr><td>88</td><td>2016-05-28</td><td>866</td></tr>",
                            "<tr><td>118</td><td>2016-05-28</td><td>864</td></tr>",
                            "<tr><td>175</td><td>2016-05-28</td><td>867</td></tr>",
                            "<tr><td>185</td><td>2016-05-28</td><td>863</td></tr>",
                            "<tr><td>187</td><td>2016-05-28</td><td>868</td></tr>",
                            "<tr><td>6</td><td>2016-05-29</td><td>873</td></tr>",
                            "<tr><td>28</td><td>2016-05-29</td><td>872</td></tr>",
                            "<tr><td>82</td><td>2016-05-29</td><td>871</td></tr>",
                            "<tr><td>8</td><td>2016-05-30</td><td>882</td></tr>",
                            "<tr><td>12</td><td>2016-05-30</td><td>876</td></tr>",
                            "<tr><td>58</td><td>2016-05-30</td><td>883</td></tr>",
                            "<tr><td>64</td><td>2016-05-30</td><td>875</td></tr>",
                            "<tr><td>67</td><td>2016-05-30</td><td>874</td></tr>",
                            "<tr><td>74</td><td>2016-05-30</td><td>877</td></tr>",
                            "<tr><td>83</td><td>2016-05-30</td><td>878</td></tr>",
                            "<tr><td>98</td><td>2016-05-30</td><td>884</td></tr>",
                            "<tr><td>127</td><td>2016-05-30</td><td>879</td></tr>",
                            "<tr><td>131</td><td>2016-05-30</td><td>881</td></tr>",
                            "<tr><td>184</td><td>2016-05-30</td><td>880</td></tr>",
                            "<tr><td>69</td><td>2016-05-31</td><td>885</td></tr>",
                            "<tr><td>28</td><td>2016-06-01</td><td>886</td></tr>",
                            "<tr><td>80</td><td>2016-06-01</td><td>887</td></tr>",
                            "<tr><td>49</td><td>2016-06-02</td><td>888</td></tr>",
                            "<tr><td>54</td><td>2016-06-02</td><td>889</td></tr>",
                            "<tr><td>63</td><td>2016-06-02</td><td>891</td></tr>",
                            "<tr><td>146</td><td>2016-06-02</td><td>890</td></tr>",
                            "<tr><td>16</td><td>2016-06-03</td><td>896</td></tr>",
                            "<tr><td>29</td><td>2016-06-03</td><td>894</td></tr>",
                            "<tr><td>36</td><td>2016-06-03</td><td>895</td></tr>",
                            "<tr><td>39</td><td>2016-06-03</td><td>899</td></tr>",
                            "<tr><td>151</td><td>2016-06-03</td><td>893</td></tr>",
                            "<tr><td>165</td><td>2016-06-03</td><td>2689</td></tr>",
                            "<tr><td>185</td><td>2016-06-03</td><td>898</td></tr>",
                            "<tr><td>22</td><td>2016-06-04</td><td>906</td></tr>",
                            "<tr><td>28</td><td>2016-06-04</td><td>901</td></tr>",
                            "<tr><td>34</td><td>2016-06-04</td><td>904</td></tr>",
                            "<tr><td>72</td><td>2016-06-04</td><td>902</td></tr>",
                            "<tr><td>180</td><td>2016-06-04</td><td>905</td></tr>",
                            "<tr><td>192</td><td>2016-06-04</td><td>903</td></tr>",
                            "<tr><td>141</td><td>2016-06-05</td><td>908</td></tr>",
                            "<tr><td>156</td><td>2016-06-05</td><td>907</td></tr>",
                            "<tr><td>11</td><td>2016-06-06</td><td>918</td></tr>",
                            "<tr><td>17</td><td>2016-06-06</td><td>916</td></tr>",
                            "<tr><td>32</td><td>2016-06-06</td><td>920</td></tr>",
                            "<tr><td>36</td><td>2016-06-06</td><td>919</td></tr>",
                            "<tr><td>48</td><td>2016-06-06</td><td>914</td></tr>",
                            "<tr><td>112</td><td>2016-06-06</td><td>921</td></tr>",
                            "<tr><td>130</td><td>2016-06-06</td><td>910</td></tr>",
                            "<tr><td>133</td><td>2016-06-06</td><td>909</td></tr>",
                            "<tr><td>140</td><td>2016-06-06</td><td>915</td></tr>",
                            "<tr><td>160</td><td>2016-06-06</td><td>922</td></tr>",
                            "<tr><td>161</td><td>2016-06-06</td><td>911</td></tr>",
                            "<tr><td>173</td><td>2016-06-06</td><td>913</td></tr>",
                            "<tr><td>174</td><td>2016-06-06</td><td>917</td></tr>",
                            "<tr><td>188</td><td>2016-06-06</td><td>912</td></tr>",
                            "<tr><td>40</td><td>2016-06-07</td><td>1856</td></tr>",
                            "<tr><td>80</td><td>2016-06-07</td><td>929</td></tr>",
                            "<tr><td>110</td><td>2016-06-07</td><td>931</td></tr>",
                            "<tr><td>123</td><td>2016-06-07</td><td>923</td></tr>",
                            "<tr><td>160</td><td>2016-06-07</td><td>1860</td></tr>",
                            "<tr><td>168</td><td>2016-06-07</td><td>930</td></tr>",
                            "<tr><td>182</td><td>2016-06-07</td><td>928</td></tr>",
                            "<tr><td>185</td><td>2016-06-07</td><td>925</td></tr>",
                            "<tr><td>193</td><td>2016-06-07</td><td>926</td></tr>",
                            "<tr><td>23</td><td>2016-06-08</td><td>934</td></tr>",
                            "<tr><td>56</td><td>2016-06-08</td><td>935</td></tr>",
                            "<tr><td>62</td><td>2016-06-08</td><td>936</td></tr>",
                            "<tr><td>181</td><td>2016-06-08</td><td>937</td></tr>",
                            "<tr><td>62</td><td>2016-06-09</td><td>938</td></tr>",
                            "<tr><td>74</td><td>2016-06-09</td><td>940</td></tr>",
                            "<tr><td>183</td><td>2016-06-09</td><td>939</td></tr>",
                            "<tr><td>1</td><td>2016-06-10</td><td>949</td></tr>",
                            "<tr><td>4</td><td>2016-06-10</td><td>946</td></tr>",
                            "<tr><td>8</td><td>2016-06-10</td><td>947</td></tr>",
                            "<tr><td>19</td><td>2016-06-10</td><td>948</td></tr>",
                            "<tr><td>23</td><td>2016-06-10</td><td>945</td></tr>",
                            "<tr><td>66</td><td>2016-06-10</td><td>950</td></tr>",
                            "<tr><td>92</td><td>2016-06-10</td><td>942</td></tr>",
                            "<tr><td>115</td><td>2016-06-10</td><td>943</td></tr>",
                            "<tr><td>163</td><td>2016-06-10</td><td>941</td></tr>",
                            "<tr><td>170</td><td>2016-06-10</td><td>944</td></tr>",
                            "<tr><td>12</td><td>2016-06-11</td><td>951</td></tr>",
                            "<tr><td>196</td><td>2016-06-11</td><td>952</td></tr>",
                            "<tr><td>117</td><td>2016-06-12</td><td>953</td></tr>",
                            "<tr><td>47</td><td>2016-06-13</td><td>955</td></tr>",
                            "<tr><td>84</td><td>2016-06-13</td><td>954</td></tr>",
                            "<tr><td>156</td><td>2016-06-13</td><td>956</td></tr>",
                            "<tr><td>181</td><td>2016-06-13</td><td>958</td></tr>",
                            "<tr><td>187</td><td>2016-06-13</td><td>957</td></tr>",
                            "<tr><td>111</td><td>2016-06-14</td><td>959</td></tr>",
                            "<tr><td>41</td><td>2016-06-15</td><td>960</td></tr>",
                            "<tr><td>5</td><td>2016-06-16</td><td>965</td></tr>",
                            "<tr><td>72</td><td>2016-06-16</td><td>961</td></tr>",
                            "<tr><td>74</td><td>2016-06-16</td><td>963</td></tr>",
                            "<tr><td>110</td><td>2016-06-16</td><td>964</td></tr>",
                            "<tr><td>114</td><td>2016-06-16</td><td>966</td></tr>",
                            "<tr><td>117</td><td>2016-06-16</td><td>962</td></tr>",
                            "<tr><td>123</td><td>2016-06-16</td><td>967</td></tr>",
                            "<tr><td>154</td><td>2016-06-16</td><td>968</td></tr>",
                            "<tr><td>12</td><td>2016-06-17</td><td>970</td></tr>",
                            "<tr><td>153</td><td>2016-06-17</td><td>969</td></tr>",
                            "<tr><td>35</td><td>2016-06-18</td><td>971</td></tr>",
                            "<tr><td>103</td><td>2016-06-19</td><td>972</td></tr>",
                            "<tr><td>16</td><td>2016-06-20</td><td>973</td></tr>",
                            "<tr><td>169</td><td>2016-06-20</td><td>974</td></tr>",
                            "<tr><td>94</td><td>2016-06-21</td><td>975</td></tr>",
                            "<tr><td>35</td><td>2016-06-22</td><td>979</td></tr>",
                            "<tr><td>76</td><td>2016-06-22</td><td>976</td></tr>",
                            "<tr><td>193</td><td>2016-06-22</td><td>977</td></tr>",
                            "<tr><td>198</td><td>2016-06-22</td><td>978</td></tr>",
                            "<tr><td>77</td><td>2016-06-23</td><td>982</td></tr>",
                            "<tr><td>80</td><td>2016-06-23</td><td>983</td></tr>",
                            "<tr><td>143</td><td>2016-06-23</td><td>980</td></tr>",
                            "<tr><td>171</td><td>2016-06-23</td><td>981</td></tr>",
                            "<tr><td>36</td><td>2016-06-24</td><td>985</td></tr>",
                            "<tr><td>172</td><td>2016-06-24</td><td>984</td></tr>",
                            "<tr><td>48</td><td>2016-06-25</td><td>986</td></tr>",
                            "<tr><td>53</td><td>2016-06-26</td><td>987</td></tr>",
                            "<tr><td>6</td><td>2016-06-27</td><td>990</td></tr>",
                            "<tr><td>133</td><td>2016-06-27</td><td>988</td></tr>",
                            "<tr><td>190</td><td>2016-06-27</td><td>989</td></tr>",
                            "<tr><td>178</td><td>2016-06-28</td><td>991</td></tr>",
                            "<tr><td>103</td><td>2016-06-29</td><td>992</td></tr>",
                            "<tr><td>83</td><td>2016-06-30</td><td>995</td></tr>",
                            "<tr><td>118</td><td>2016-06-30</td><td>994</td></tr>",
                            "<tr><td>197</td><td>2016-06-30</td><td>993</td></tr>",
                            "<tr><td>73</td><td>2016-07-01</td><td>1000</td></tr>",
                            "<tr><td>82</td><td>2016-07-01</td><td>997</td></tr>",
                            "<tr><td>118</td><td>2016-07-01</td><td>996</td></tr>",
                            "<tr><td>120</td><td>2016-07-01</td><td>998</td></tr>",
                            "<tr><td>132</td><td>2016-07-01</td><td>999</td></tr>",
                            "<tr><td>4</td><td>2016-07-02</td><td>1001</td></tr>",
                            "<tr><td>22</td><td>2016-07-03</td><td>1005</td></tr>",
                            "<tr><td>36</td><td>2016-07-03</td><td>1003</td></tr>",
                            "<tr><td>70</td><td>2016-07-03</td><td>1006</td></tr>",
                            "<tr><td>117</td><td>2016-07-03</td><td>1002</td></tr>",
                            "<tr><td>134</td><td>2016-07-03</td><td>1004</td></tr>",
                            "<tr><td>71</td><td>2016-07-04</td><td>1009</td></tr>",
                            "<tr><td>122</td><td>2016-07-04</td><td>1007</td></tr>",
                            "<tr><td>164</td><td>2016-07-04</td><td>1010</td></tr>",
                            "<tr><td>182</td><td>2016-07-04</td><td>1008</td></tr>",
                            "<tr><td>198</td><td>2016-07-04</td><td>1011</td></tr>",
                            "<tr><td>33</td><td>2016-07-05</td><td>1012</td></tr>",
                            "<tr><td>75</td><td>2016-07-06</td><td>1013</td></tr>",
                            "<tr><td>137</td><td>2016-07-06</td><td>1014</td></tr>",
                            "<tr><td>174</td><td>2016-07-06</td><td>1015</td></tr>",
                            "<tr><td>92</td><td>2016-07-07</td><td>1016</td></tr>",
                            "<tr><td>40</td><td>2016-07-08</td><td>1018</td></tr>",
                            "<tr><td>43</td><td>2016-07-08</td><td>1019</td></tr>",
                            "<tr><td>190</td><td>2016-07-08</td><td>1017</td></tr>",
                            "<tr><td>12</td><td>2016-07-09</td><td>1020</td></tr>",
                            "<tr><td>179</td><td>2016-07-09</td><td>1021</td></tr>",
                            "<tr><td>30</td><td>2016-07-10</td><td>1023</td></tr>",
                            "<tr><td>181</td><td>2016-07-10</td><td>1022</td></tr>",
                            "<tr><td>134</td><td>2016-07-11</td><td>1024</td></tr>",
                            "<tr><td>68</td><td>2016-07-12</td><td>1027</td></tr>",
                            "<tr><td>119</td><td>2016-07-12</td><td>1026</td></tr>",
                            "<tr><td>157</td><td>2016-07-12</td><td>1025</td></tr>",
                            "<tr><td>3</td><td>2016-07-13</td><td>666</td></tr>",
                            "<tr><td>15</td><td>2016-07-13</td><td>1028</td></tr>",
                            "<tr><td>80</td><td>2016-07-13</td><td>667</td></tr>",
                            "<tr><td>94</td><td>2016-07-13</td><td>665</td></tr>",
                            "<tr><td>146</td><td>2016-07-13</td><td>664</td></tr>",
                            "<tr><td>43</td><td>2016-07-14</td><td>670</td></tr>",
                            "<tr><td>54</td><td>2016-07-14</td><td>668</td></tr>",
                            "<tr><td>96</td><td>2016-07-14</td><td>671</td></tr>",
                            "<tr><td>173</td><td>2016-07-14</td><td>669</td></tr>",
                            "<tr><td>185</td><td>2016-07-14</td><td>672</td></tr>",
                            "<tr><td>196</td><td>2016-07-14</td><td>673</td></tr>",
                            "<tr><td>83</td><td>2016-07-15</td><td>674</td></tr>",
                            "<tr><td>193</td><td>2016-07-15</td><td>675</td></tr>",
                            "<tr><td>60</td><td>2016-07-16</td><td>676</td></tr>",
                            "<tr><td>181</td><td>2016-07-16</td><td>677</td></tr>",
                            "<tr><td>148</td><td>2016-07-17</td><td>678</td></tr>",
                            "<tr><td>185</td><td>2016-07-17</td><td>679</td></tr>",
                            "<tr><td>192</td><td>2016-07-17</td><td>680</td></tr>",
                            "<tr><td>16</td><td>2016-07-18</td><td>687</td></tr>",
                            "<tr><td>35</td><td>2016-07-18</td><td>686</td></tr>",
                            "<tr><td>71</td><td>2016-07-18</td><td>681</td></tr>",
                            "<tr><td>76</td><td>2016-07-18</td><td>683</td></tr>",
                            "<tr><td>110</td><td>2016-07-18</td><td>685</td></tr>",
                            "<tr><td>174</td><td>2016-07-18</td><td>682</td></tr>",
                            "<tr><td>184</td><td>2016-07-18</td><td>684</td></tr>",
                            "<tr><td>37</td><td>2016-07-19</td><td>688</td></tr>",
                            "<tr><td>102</td><td>2016-07-19</td><td>689</td></tr>",
                            "<tr><td>188</td><td>2016-07-19</td><td>690</td></tr>",
                            "<tr><td>8</td><td>2016-07-20</td><td>694</td></tr>",
                            "<tr><td>12</td><td>2016-07-20</td><td>697</td></tr>",
                            "<tr><td>19</td><td>2016-07-20</td><td>696</td></tr>",
                            "<tr><td>77</td><td>2016-07-20</td><td>698</td></tr>",
                            "<tr><td>78</td><td>2016-07-20</td><td>700</td></tr>",
                            "<tr><td>99</td><td>2016-07-20</td><td>691</td></tr>",
                            "<tr><td>156</td><td>2016-07-20</td><td>692</td></tr>",
                            "<tr><td>185</td><td>2016-07-20</td><td>693</td></tr>",
                            "<tr><td>187</td><td>2016-07-20</td><td>695</td></tr>",
                            "<tr><td>189</td><td>2016-07-20</td><td>699</td></tr>",
                            "<tr><td>61</td><td>2016-07-21</td><td>701</td></tr>",
                            "<tr><td>62</td><td>2016-07-21</td><td>702</td></tr>",
                            "<tr><td>37</td><td>2016-07-22</td><td>705</td></tr>",
                            "<tr><td>70</td><td>2016-07-22</td><td>704</td></tr>",
                            "<tr><td>119</td><td>2016-07-22</td><td>706</td></tr>",
                            "<tr><td>145</td><td>2016-07-22</td><td>703</td></tr>",
                            "<tr><td>35</td><td>2016-07-23</td><td>707</td></tr>",
                            "<tr><td>106</td><td>2016-07-23</td><td>708</td></tr>",
                            "<tr><td>17</td><td>2016-07-24</td><td>713</td></tr>",
                            "<tr><td>71</td><td>2016-07-24</td><td>712</td></tr>",
                            "<tr><td>172</td><td>2016-07-24</td><td>709</td></tr>",
                            "<tr><td>185</td><td>2016-07-24</td><td>711</td></tr>",
                            "<tr><td>188</td><td>2016-07-24</td><td>710</td></tr>",
                            "<tr><td>73</td><td>2016-07-25</td><td>714</td></tr>",
                            "<tr><td>101</td><td>2016-07-25</td><td>715</td></tr>",
                            "<tr><td>118</td><td>2016-07-26</td><td>716</td></tr>",
                            "<tr><td>128</td><td>2016-07-26</td><td>717</td></tr>",
                            "<tr><td>28</td><td>2016-07-27</td><td>725</td></tr>",
                            "<tr><td>31</td><td>2016-07-27</td><td>728</td></tr>",
                            "<tr><td>58</td><td>2016-07-27</td><td>719</td></tr>",
                            "<tr><td>94</td><td>2016-07-27</td><td>727</td></tr>",
                            "<tr><td>97</td><td>2016-07-27</td><td>1444</td></tr>",
                            "<tr><td>119</td><td>2016-07-27</td><td>722</td></tr>",
                            "<tr><td>129</td><td>2016-07-27</td><td>723</td></tr>",
                            "<tr><td>135</td><td>2016-07-27</td><td>724</td></tr>",
                            "<tr><td>160</td><td>2016-07-27</td><td>720</td></tr>",
                            "<tr><td>195</td><td>2016-07-27</td><td>721</td></tr>",
                            "<tr><td>55</td><td>2016-07-28</td><td>734</td></tr>",
                            "<tr><td>90</td><td>2016-07-28</td><td>729</td></tr>",
                            "<tr><td>91</td><td>2016-07-28</td><td>732</td></tr>",
                            "<tr><td>121</td><td>2016-07-28</td><td>735</td></tr>",
                            "<tr><td>140</td><td>2016-07-28</td><td>733</td></tr>",
                            "<tr><td>152</td><td>2016-07-28</td><td>730</td></tr>",
                            "<tr><td>181</td><td>2016-07-28</td><td>731</td></tr>",
                            "<tr><td>66</td><td>2016-07-29</td><td>736</td></tr>",
                            "<tr><td>114</td><td>2016-07-29</td><td>737</td></tr>",
                            "<tr><td>1</td><td>2016-07-30</td><td>738</td></tr>",
                            "<tr><td>93</td><td>2016-07-30</td><td>741</td></tr>",
                            "<tr><td>121</td><td>2016-07-30</td><td>739</td></tr>",
                            "<tr><td>182</td><td>2016-07-30</td><td>740</td></tr>",
                            "<tr><td>164</td><td>2016-07-31</td><td>742</td></tr>",
                            "<tr><td>187</td><td>2016-07-31</td><td>743</td></tr>",
                            "<tr><td>17</td><td>2016-08-01</td><td>744</td></tr>",
                            "<tr><td>139</td><td>2016-08-01</td><td>745</td></tr>",
                            "<tr><td>169</td><td>2016-08-01</td><td>746</td></tr>",
                            "<tr><td>188</td><td>2016-08-01</td><td>747</td></tr>",
                            "<tr><td>36</td><td>2016-08-02</td><td>748</td></tr>",
                            "<tr><td>172</td><td>2016-08-02</td><td>749</td></tr>",
                            "<tr><td>36</td><td>2016-08-03</td><td>750</td></tr>",
                            "<tr><td>46</td><td>2016-08-03</td><td>752</td></tr>",
                            "<tr><td>139</td><td>2016-08-03</td><td>751</td></tr>",
                            "<tr><td>189</td><td>2016-08-03</td><td>753</td></tr>",
                            "<tr><td>20</td><td>2016-08-04</td><td>755</td></tr>",
                            "<tr><td>126</td><td>2016-08-04</td><td>754</td></tr>",
                            "<tr><td>27</td><td>2016-08-05</td><td>758</td></tr>",
                            "<tr><td>61</td><td>2016-08-05</td><td>756</td></tr>",
                            "<tr><td>88</td><td>2016-08-05</td><td>757</td></tr>",
                            "<tr><td>7</td><td>2016-08-06</td><td>759</td></tr>",
                            "<tr><td>131</td><td>2016-08-06</td><td>760</td></tr>",
                            "<tr><td>141</td><td>2016-08-06</td><td>761</td></tr>",
                            "<tr><td>120</td><td>2016-08-07</td><td>762</td></tr>",
                            "<tr><td>13</td><td>2016-08-08</td><td>763</td></tr>",
                            "<tr><td>148</td><td>2016-08-09</td><td>765</td></tr>",
                            "<tr><td>197</td><td>2016-08-09</td><td>764</td></tr>",
                            "<tr><td>187</td><td>2016-08-10</td><td>766</td></tr>",
                            "<tr><td>18</td><td>2016-08-11</td><td>767</td></tr>",
                            "<tr><td>6</td><td>2016-08-12</td><td>772</td></tr>",
                            "<tr><td>42</td><td>2016-08-12</td><td>770</td></tr>",
                            "<tr><td>58</td><td>2016-08-12</td><td>773</td></tr>",
                            "<tr><td>63</td><td>2016-08-12</td><td>769</td></tr>",
                            "<tr><td>138</td><td>2016-08-12</td><td>768</td></tr>",
                            "<tr><td>147</td><td>2016-08-12</td><td>771</td></tr>",
                            "<tr><td>12</td><td>2016-08-13</td><td>775</td></tr>",
                            "<tr><td>190</td><td>2016-08-13</td><td>774</td></tr>",
                            "<tr><td>19</td><td>2016-08-14</td><td>778</td></tr>",
                            "<tr><td>34</td><td>2016-08-14</td><td>777</td></tr>",
                            "<tr><td>112</td><td>2016-08-14</td><td>776</td></tr>",
                            "<tr><td>96</td><td>2016-08-15</td><td>780</td></tr>",
                            "<tr><td>130</td><td>2016-08-15</td><td>779</td></tr>",
                            "<tr><td>3</td><td>2016-08-16</td><td>788</td></tr>",
                            "<tr><td>10</td><td>2016-08-16</td><td>790</td></tr>",
                            "<tr><td>15</td><td>2016-08-16</td><td>791</td></tr>",
                            "<tr><td>50</td><td>2016-08-16</td><td>787</td></tr>",
                            "<tr><td>111</td><td>2016-08-16</td><td>786</td></tr>",
                            "<tr><td>141</td><td>2016-08-16</td><td>784</td></tr>",
                            "<tr><td>146</td><td>2016-08-16</td><td>789</td></tr>",
                            "<tr><td>148</td><td>2016-08-16</td><td>783</td></tr>",
                            "<tr><td>163</td><td>2016-08-16</td><td>782</td></tr>",
                            "<tr><td>166</td><td>2016-08-16</td><td>781</td></tr>",
                            "<tr><td>168</td><td>2016-08-16</td><td>792</td></tr>",
                            "<tr><td>177</td><td>2016-08-16</td><td>785</td></tr>",
                            "<tr><td>10</td><td>2016-08-17</td><td>795</td></tr>",
                            "<tr><td>49</td><td>2016-08-17</td><td>793</td></tr>",
                            "<tr><td>138</td><td>2016-08-17</td><td>796</td></tr>",
                            "<tr><td>168</td><td>2016-08-17</td><td>794</td></tr>",
                            "<tr><td>74</td><td>2016-08-18</td><td>797</td></tr>",
                            "<tr><td>83</td><td>2016-08-18</td><td>798</td></tr>",
                            "<tr><td>175</td><td>2016-08-19</td><td>799</td></tr>",
                            "<tr><td>1</td><td>2016-08-20</td><td>803</td></tr>",
                            "<tr><td>45</td><td>2016-08-20</td><td>1602</td></tr>",
                            "<tr><td>112</td><td>2016-08-20</td><td>801</td></tr>",
                            "<tr><td>146</td><td>2016-08-20</td><td>804</td></tr>",
                            "<tr><td>21</td><td>2016-08-21</td><td>805</td></tr>",
                            "<tr><td>126</td><td>2016-08-21</td><td>806</td></tr>",
                            "<tr><td>27</td><td>2016-08-22</td><td>807</td></tr>",
                            "<tr><td>51</td><td>2016-08-23</td><td>811</td></tr>",
                            "<tr><td>92</td><td>2016-08-23</td><td>809</td></tr>",
                            "<tr><td>109</td><td>2016-08-23</td><td>810</td></tr>",
                            "<tr><td>148</td><td>2016-08-23</td><td>1620</td></tr>",
                            "<tr><td>8</td><td>2016-08-24</td><td>818</td></tr>",
                            "<tr><td>14</td><td>2016-08-24</td><td>813</td></tr>",
                            "<tr><td>20</td><td>2016-08-24</td><td>820</td></tr>",
                            "<tr><td>34</td><td>2016-08-24</td><td>821</td></tr>",
                            "<tr><td>52</td><td>2016-08-24</td><td>822</td></tr>",
                            "<tr><td>70</td><td>2016-08-24</td><td>814</td></tr>",
                            "<tr><td>84</td><td>2016-08-24</td><td>819</td></tr>",
                            "<tr><td>89</td><td>2016-08-24</td><td>817</td></tr>",
                            "<tr><td>128</td><td>2016-08-24</td><td>815</td></tr>",
                            "<tr><td>178</td><td>2016-08-24</td><td>816</td></tr>",
                            "<tr><td>44</td><td>2016-08-25</td><td>823</td></tr>",
                            "<tr><td>48</td><td>2016-08-25</td><td>824</td></tr>",
                            "<tr><td>158</td><td>2016-08-25</td><td>825</td></tr>",
                            "<tr><td>49</td><td>2016-08-26</td><td>826</td></tr>",
                            "<tr><td>114</td><td>2016-08-26</td><td>827</td></tr>",
                            "<tr><td>2</td><td>2016-08-27</td><td>828</td></tr>",
                            "<tr><td>8</td><td>2016-08-28</td><td>832</td></tr>",
                            "<tr><td>35</td><td>2016-08-28</td><td>829</td></tr>",
                            "<tr><td>74</td><td>2016-08-28</td><td>830</td></tr>",
                            "<tr><td>149</td><td>2016-08-28</td><td>833</td></tr>",
                            "<tr><td>177</td><td>2016-08-28</td><td>831</td></tr>",
                            "<tr><td>56</td><td>2016-08-29</td><td>838</td></tr>",
                            "<tr><td>97</td><td>2016-08-29</td><td>836</td></tr>",
                            "<tr><td>104</td><td>2016-08-29</td><td>837</td></tr>",
                            "<tr><td>149</td><td>2016-08-29</td><td>834</td></tr>",
                            "<tr><td>172</td><td>2016-08-29</td><td>839</td></tr>",
                            "<tr><td>193</td><td>2016-08-29</td><td>835</td></tr>",
                            "<tr><td>158</td><td>2016-08-30</td><td>840</td></tr>",
                            "<tr><td>92</td><td>2016-08-31</td><td>841</td></tr>",
                            "<tr><td>195</td><td>2016-08-31</td><td>842</td></tr>",
                            "<tr><td>149</td><td>2016-09-01</td><td>843</td></tr>",
                            "<tr><td>45</td><td>2016-09-02</td><td>846</td></tr>",
                            "<tr><td>63</td><td>2016-09-02</td><td>845</td></tr>",
                            "<tr><td>87</td><td>2016-09-02</td><td>844</td></tr>",
                            "<tr><td>74</td><td>2016-09-03</td><td>847</td></tr>",
                            "<tr><td>23</td><td>2016-09-04</td><td>848</td></tr>",
                            "<tr><td>6</td><td>2016-09-05</td><td>850</td></tr>",
                            "<tr><td>27</td><td>2016-09-05</td><td>1031</td></tr>",
                            "<tr><td>38</td><td>2016-09-05</td><td>1033</td></tr>",
                            "<tr><td>113</td><td>2016-09-05</td><td>1029</td></tr>",
                            "<tr><td>135</td><td>2016-09-05</td><td>849</td></tr>",
                            "<tr><td>146</td><td>2016-09-05</td><td>1032</td></tr>",
                            "<tr><td>188</td><td>2016-09-05</td><td>1030</td></tr>",
                            "<tr><td>127</td><td>2016-09-06</td><td>1034</td></tr>",
                            "<tr><td>18</td><td>2016-09-07</td><td>1035</td></tr>",
                            "<tr><td>3</td><td>2016-09-08</td><td>1038</td></tr>",
                            "<tr><td>89</td><td>2016-09-08</td><td>1037</td></tr>",
                            "<tr><td>122</td><td>2016-09-08</td><td>1036</td></tr>",
                            "<tr><td>130</td><td>2016-09-09</td><td>1040</td></tr>",
                            "<tr><td>191</td><td>2016-09-09</td><td>1039</td></tr>",
                            "<tr><td>110</td><td>2016-09-10</td><td>1041</td></tr>",
                            "<tr><td>139</td><td>2016-09-10</td><td>1042</td></tr>",
                            "<tr><td>193</td><td>2016-09-11</td><td>1043</td></tr>",
                            "<tr><td>13</td><td>2016-09-12</td><td>1044</td></tr>",
                            "<tr><td>134</td><td>2016-09-12</td><td>1045</td></tr>",
                            "<tr><td>136</td><td>2016-09-12</td><td>1046</td></tr>",
                            "<tr><td>95</td><td>2016-09-13</td><td>1048</td></tr>",
                            "<tr><td>98</td><td>2016-09-13</td><td>1050</td></tr>",
                            "<tr><td>121</td><td>2016-09-13</td><td>1049</td></tr>",
                            "<tr><td>157</td><td>2016-09-13</td><td>1047</td></tr>",
                            "<tr><td>2</td><td>2016-09-14</td><td>1051</td></tr>",
                            "<tr><td>25</td><td>2016-09-14</td><td>1052</td></tr>",
                            "<tr><td>33</td><td>2016-09-15</td><td>1053</td></tr>",
                            "<tr><td>69</td><td>2016-09-15</td><td>1055</td></tr>",
                            "<tr><td>79</td><td>2016-09-15</td><td>1054</td></tr>",
                            "<tr><td>47</td><td>2016-09-16</td><td>1056</td></tr>",
                            "<tr><td>86</td><td>2016-09-16</td><td>1057</td></tr>",
                            "<tr><td>151</td><td>2016-09-16</td><td>1058</td></tr>",
                            "<tr><td>38</td><td>2016-09-17</td><td>1060</td></tr>",
                            "<tr><td>85</td><td>2016-09-17</td><td>1059</td></tr>",
                            "<tr><td>122</td><td>2016-09-17</td><td>1062</td></tr>",
                            "<tr><td>154</td><td>2016-09-17</td><td>1061</td></tr>",
                            "<tr><td>49</td><td>2016-09-18</td><td>1066</td></tr>",
                            "<tr><td>50</td><td>2016-09-18</td><td>1063</td></tr>",
                            "<tr><td>139</td><td>2016-09-18</td><td>1064</td></tr>",
                            "<tr><td>198</td><td>2016-09-18</td><td>1065</td></tr>",
                            "<tr><td>2</td><td>2016-09-19</td><td>1069</td></tr>",
                            "<tr><td>20</td><td>2016-09-19</td><td>1070</td></tr>",
                            "<tr><td>161</td><td>2016-09-19</td><td>1068</td></tr>",
                            "<tr><td>183</td><td>2016-09-19</td><td>1067</td></tr>",
                            "<tr><td>80</td><td>2016-09-20</td><td>1071</td></tr>",
                            "<tr><td>99</td><td>2016-09-20</td><td>1072</td></tr>",
                            "<tr><td>5</td><td>2016-09-21</td><td>1073</td></tr>",
                            "<tr><td>195</td><td>2016-09-22</td><td>1074</td></tr>",
                            "<tr><td>29</td><td>2016-09-23</td><td>1076</td></tr>",
                            "<tr><td>38</td><td>2016-09-23</td><td>1078</td></tr>",
                            "<tr><td>145</td><td>2016-09-23</td><td>1077</td></tr>",
                            "<tr><td>163</td><td>2016-09-23</td><td>1075</td></tr>",
                            "<tr><td>86</td><td>2016-09-24</td><td>1079</td></tr>",
                            "<tr><td>59</td><td>2016-09-25</td><td>1080</td></tr>",
                            "<tr><td>27</td><td>2016-09-26</td><td>1082</td></tr>",
                            "<tr><td>62</td><td>2016-09-26</td><td>1081</td></tr>",
                            "<tr><td>109</td><td>2016-09-27</td><td>1083</td></tr>",
                            "<tr><td>55</td><td>2016-09-28</td><td>1086</td></tr>",
                            "<tr><td>59</td><td>2016-09-28</td><td>1084</td></tr>",
                            "<tr><td>113</td><td>2016-09-28</td><td>1085</td></tr>",
                            "<tr><td>43</td><td>2016-09-29</td><td>1088</td></tr>",
                            "<tr><td>144</td><td>2016-09-29</td><td>1087</td></tr>",
                            "<tr><td>54</td><td>2016-09-30</td><td>1096</td></tr>",
                            "<tr><td>70</td><td>2016-09-30</td><td>1092</td></tr>",
                            "<tr><td>74</td><td>2016-09-30</td><td>1093</td></tr>",
                            "<tr><td>120</td><td>2016-09-30</td><td>1089</td></tr>",
                            "<tr><td>132</td><td>2016-09-30</td><td>1090</td></tr>",
                            "<tr><td>175</td><td>2016-09-30</td><td>1094</td></tr>",
                            "<tr><td>194</td><td>2016-09-30</td><td>1095</td></tr>",
                            "<tr><td>197</td><td>2016-09-30</td><td>1091</td></tr>",
                            "<tr><td>3</td><td>2016-10-01</td><td>1110</td></tr>",
                            "<tr><td>6</td><td>2016-10-01</td><td>1099</td></tr>",
                            "<tr><td>20</td><td>2016-10-01</td><td>2220</td></tr>",
                            "<tr><td>58</td><td>2016-10-01</td><td>1113</td></tr>",
                            "<tr><td>77</td><td>2016-10-01</td><td>1104</td></tr>",
                            "<tr><td>86</td><td>2016-10-01</td><td>1108</td></tr>",
                            "<tr><td>87</td><td>2016-10-01</td><td>1103</td></tr>",
                            "<tr><td>89</td><td>2016-10-01</td><td>1101</td></tr>",
                            "<tr><td>95</td><td>2016-10-01</td><td>1097</td></tr>",
                            "<tr><td>108</td><td>2016-10-01</td><td>1102</td></tr>",
                            "<tr><td>110</td><td>2016-10-01</td><td>1109</td></tr>",
                            "<tr><td>132</td><td>2016-10-01</td><td>1111</td></tr>",
                            "<tr><td>140</td><td>2016-10-01</td><td>1098</td></tr>",
                            "<tr><td>150</td><td>2016-10-01</td><td>2205</td></tr>",
                            "<tr><td>155</td><td>2016-10-01</td><td>1112</td></tr>",
                            "<tr><td>163</td><td>2016-10-01</td><td>1107</td></tr>",
                            "<tr><td>151</td><td>2016-10-02</td><td>1115</td></tr>",
                            "<tr><td>40</td><td>2016-10-03</td><td>1118</td></tr>",
                            "<tr><td>158</td><td>2016-10-03</td><td>1117</td></tr>",
                            "<tr><td>198</td><td>2016-10-03</td><td>1116</td></tr>",
                            "<tr><td>83</td><td>2016-10-04</td><td>1119</td></tr>",
                            "<tr><td>115</td><td>2016-10-04</td><td>1121</td></tr>",
                            "<tr><td>145</td><td>2016-10-04</td><td>1120</td></tr>",
                            "<tr><td>11</td><td>2016-10-05</td><td>1123</td></tr>",
                            "<tr><td>64</td><td>2016-10-05</td><td>1122</td></tr>",
                            "<tr><td>112</td><td>2016-10-06</td><td>1124</td></tr>",
                            "<tr><td>185</td><td>2016-10-06</td><td>1125</td></tr>",
                            "<tr><td>4</td><td>2016-10-07</td><td>1127</td></tr>",
                            "<tr><td>70</td><td>2016-10-07</td><td>1126</td></tr>",
                            "<tr><td>4</td><td>2016-10-08</td><td>1132</td></tr>",
                            "<tr><td>7</td><td>2016-10-08</td><td>1131</td></tr>",
                            "<tr><td>15</td><td>2016-10-08</td><td>1129</td></tr>",
                            "<tr><td>22</td><td>2016-10-08</td><td>1130</td></tr>",
                            "<tr><td>121</td><td>2016-10-08</td><td>1128</td></tr>",
                            "<tr><td>126</td><td>2016-10-08</td><td>1134</td></tr>",
                            "<tr><td>175</td><td>2016-10-08</td><td>1133</td></tr>",
                            "<tr><td>1</td><td>2016-10-09</td><td>1137</td></tr>",
                            "<tr><td>12</td><td>2016-10-09</td><td>1140</td></tr>",
                            "<tr><td>19</td><td>2016-10-09</td><td>1139</td></tr>",
                            "<tr><td>30</td><td>2016-10-09</td><td>1136</td></tr>",
                            "<tr><td>41</td><td>2016-10-09</td><td>1144</td></tr>",
                            "<tr><td>45</td><td>2016-10-09</td><td>1135</td></tr>",
                            "<tr><td>145</td><td>2016-10-09</td><td>1145</td></tr>",
                            "<tr><td>165</td><td>2016-10-09</td><td>1141</td></tr>",
                            "<tr><td>172</td><td>2016-10-09</td><td>1142</td></tr>",
                            "<tr><td>176</td><td>2016-10-09</td><td>1143</td></tr>",
                            "<tr><td>198</td><td>2016-10-09</td><td>1138</td></tr>",
                            "<tr><td>149</td><td>2016-10-10</td><td>1146</td></tr>",
                            "<tr><td>183</td><td>2016-10-10</td><td>1147</td></tr>",
                            "<tr><td>61</td><td>2016-10-11</td><td>1148</td></tr>",
                            "<tr><td>133</td><td>2016-10-12</td><td>1149</td></tr>",
                            "<tr><td>28</td><td>2016-10-13</td><td>1150</td></tr>",
                            "<tr><td>3</td><td>2016-10-14</td><td>1151</td></tr>",
                            "<tr><td>1</td><td>2016-10-15</td><td>1152</td></tr>",
                            "<tr><td>9</td><td>2016-10-15</td><td>1157</td></tr>",
                            "<tr><td>115</td><td>2016-10-15</td><td>1154</td></tr>",
                            "<tr><td>140</td><td>2016-10-15</td><td>1156</td></tr>",
                            "<tr><td>143</td><td>2016-10-15</td><td>1155</td></tr>",
                            "<tr><td>186</td><td>2016-10-15</td><td>1153</td></tr>",
                            "<tr><td>26</td><td>2016-10-16</td><td>1158</td></tr>",
                            "<tr><td>73</td><td>2016-10-16</td><td>1159</td></tr>",
                            "<tr><td>152</td><td>2016-10-16</td><td>1160</td></tr>",
                            "<tr><td>55</td><td>2016-10-17</td><td>1163</td></tr>",
                            "<tr><td>110</td><td>2016-10-17</td><td>1162</td></tr>",
                            "<tr><td>198</td><td>2016-10-17</td><td>1161</td></tr>",
                            "<tr><td>12</td><td>2016-10-18</td><td>1164</td></tr>",
                            "<tr><td>24</td><td>2016-10-19</td><td>1167</td></tr>",
                            "<tr><td>51</td><td>2016-10-19</td><td>1165</td></tr>",
                            "<tr><td>122</td><td>2016-10-19</td><td>1166</td></tr>",
                            "<tr><td>154</td><td>2016-10-19</td><td>1168</td></tr>",
                            "<tr><td>59</td><td>2016-10-20</td><td>1170</td></tr>",
                            "<tr><td>93</td><td>2016-10-20</td><td>1169</td></tr>",
                            "<tr><td>172</td><td>2016-10-20</td><td>1171</td></tr>",
                            "<tr><td>197</td><td>2016-10-20</td><td>1172</td></tr>",
                            "<tr><td>7</td><td>2016-10-21</td><td>1175</td></tr>",
                            "<tr><td>18</td><td>2016-10-21</td><td>1173</td></tr>",
                            "<tr><td>90</td><td>2016-10-21</td><td>1174</td></tr>",
                            "<tr><td>177</td><td>2016-10-21</td><td>1176</td></tr>",
                            "<tr><td>74</td><td>2016-10-22</td><td>1179</td></tr>",
                            "<tr><td>104</td><td>2016-10-22</td><td>1180</td></tr>",
                            "<tr><td>134</td><td>2016-10-22</td><td>1178</td></tr>",
                            "<tr><td>150</td><td>2016-10-22</td><td>1177</td></tr>",
                            "<tr><td>7</td><td>2016-10-23</td><td>1182</td></tr>",
                            "<tr><td>29</td><td>2016-10-23</td><td>1185</td></tr>",
                            "<tr><td>46</td><td>2016-10-23</td><td>1187</td></tr>",
                            "<tr><td>58</td><td>2016-10-23</td><td>1186</td></tr>",
                            "<tr><td>171</td><td>2016-10-23</td><td>1181</td></tr>",
                            "<tr><td>185</td><td>2016-10-23</td><td>1183</td></tr>",
                            "<tr><td>195</td><td>2016-10-23</td><td>1184</td></tr>",
                            "<tr><td>89</td><td>2016-10-24</td><td>1189</td></tr>",
                            "<tr><td>161</td><td>2016-10-24</td><td>1190</td></tr>",
                            "<tr><td>182</td><td>2016-10-24</td><td>1188</td></tr>",
                            "<tr><td>59</td><td>2016-10-25</td><td>1191</td></tr>",
                            "<tr><td>18</td><td>2016-10-26</td><td>1198</td></tr>",
                            "<tr><td>22</td><td>2016-10-26</td><td>1195</td></tr>",
                            "<tr><td>49</td><td>2016-10-26</td><td>1200</td></tr>",
                            "<tr><td>52</td><td>2016-10-26</td><td>1202</td></tr>",
                            "<tr><td>88</td><td>2016-10-26</td><td>1196</td></tr>",
                            "<tr><td>117</td><td>2016-10-26</td><td>1192</td></tr>",
                            "<tr><td>137</td><td>2016-10-26</td><td>1201</td></tr>",
                            "<tr><td>143</td><td>2016-10-26</td><td>1193</td></tr>",
                            "<tr><td>144</td><td>2016-10-26</td><td>1199</td></tr>",
                            "<tr><td>150</td><td>2016-10-26</td><td>1203</td></tr>",
                            "<tr><td>152</td><td>2016-10-26</td><td>1197</td></tr>",
                            "<tr><td>170</td><td>2016-10-26</td><td>1194</td></tr>",
                            "<tr><td>22</td><td>2016-10-27</td><td>1206</td></tr>",
                            "<tr><td>43</td><td>2016-10-27</td><td>1207</td></tr>",
                            "<tr><td>162</td><td>2016-10-27</td><td>1205</td></tr>",
                            "<tr><td>189</td><td>2016-10-27</td><td>1204</td></tr>",
                            "<tr><td>21</td><td>2016-10-28</td><td>1212</td></tr>",
                            "<tr><td>58</td><td>2016-10-28</td><td>1208</td></tr>",
                            "<tr><td>91</td><td>2016-10-28</td><td>1213</td></tr>",
                            "<tr><td>122</td><td>2016-10-28</td><td>1209</td></tr>",
                            "<tr><td>124</td><td>2016-10-28</td><td>1210</td></tr>",
                            "<tr><td>178</td><td>2016-10-28</td><td>1211</td></tr>",
                            "<tr><td>39</td><td>2016-10-29</td><td>1214</td></tr>",
                            "<tr><td>61</td><td>2016-10-29</td><td>1218</td></tr>",
                            "<tr><td>93</td><td>2016-10-29</td><td>1217</td></tr>",
                            "<tr><td>121</td><td>2016-10-29</td><td>1215</td></tr>",
                            "<tr><td>198</td><td>2016-10-29</td><td>1216</td></tr>",
                            "<tr><td>9</td><td>2016-10-30</td><td>1220</td></tr>",
                            "<tr><td>43</td><td>2016-10-30</td><td>1227</td></tr>",
                            "<tr><td>49</td><td>2016-10-30</td><td>1221</td></tr>",
                            "<tr><td>50</td><td>2016-10-30</td><td>1224</td></tr>",
                            "<tr><td>55</td><td>2016-10-30</td><td>1232</td></tr>",
                            "<tr><td>69</td><td>2016-10-30</td><td>1225</td></tr>",
                            "<tr><td>79</td><td>2016-10-30</td><td>1229</td></tr>",
                            "<tr><td>106</td><td>2016-10-30</td><td>1228</td></tr>",
                            "<tr><td>123</td><td>2016-10-30</td><td>1223</td></tr>",
                            "<tr><td>127</td><td>2016-10-30</td><td>1226</td></tr>",
                            "<tr><td>134</td><td>2016-10-30</td><td>1219</td></tr>",
                            "<tr><td>143</td><td>2016-10-30</td><td>1222</td></tr>",
                            "<tr><td>182</td><td>2016-10-30</td><td>2461</td></tr>",
                            "<tr><td>64</td><td>2016-10-31</td><td>1233</td></tr>",
                            "<tr><td>11</td><td>2016-11-01</td><td>1236</td></tr>",
                            "<tr><td>29</td><td>2016-11-01</td><td>1235</td></tr>",
                            "<tr><td>66</td><td>2016-11-01</td><td>1234</td></tr>",
                            "<tr><td>19</td><td>2016-11-02</td><td>1237</td></tr>",
                            "<tr><td>15</td><td>2016-11-03</td><td>1244</td></tr>",
                            "<tr><td>48</td><td>2016-11-03</td><td>1243</td></tr>",
                            "<tr><td>59</td><td>2016-11-03</td><td>1239</td></tr>",
                            "<tr><td>94</td><td>2016-11-03</td><td>1241</td></tr>",
                            "<tr><td>157</td><td>2016-11-03</td><td>1240</td></tr>",
                            "<tr><td>178</td><td>2016-11-03</td><td>1242</td></tr>",
                            "<tr><td>193</td><td>2016-11-03</td><td>1238</td></tr>",
                            "<tr><td>122</td><td>2016-11-04</td><td>1245</td></tr>",
                            "<tr><td>7</td><td>2016-11-05</td><td>1252</td></tr>",
                            "<tr><td>69</td><td>2016-11-05</td><td>1246</td></tr>",
                            "<tr><td>89</td><td>2016-11-05</td><td>1253</td></tr>",
                            "<tr><td>107</td><td>2016-11-05</td><td>1250</td></tr>",
                            "<tr><td>117</td><td>2016-11-05</td><td>1247</td></tr>",
                            "<tr><td>168</td><td>2016-11-05</td><td>1249</td></tr>",
                            "<tr><td>184</td><td>2016-11-05</td><td>1251</td></tr>",
                            "<tr><td>186</td><td>2016-11-05</td><td>1248</td></tr>",
                            "<tr><td>58</td><td>2016-11-06</td><td>1255</td></tr>",
                            "<tr><td>138</td><td>2016-11-06</td><td>1256</td></tr>",
                            "<tr><td>141</td><td>2016-11-06</td><td>1254</td></tr>",
                            "<tr><td>5</td><td>2016-11-07</td><td>1257</td></tr>",
                            "<tr><td>9</td><td>2016-11-07</td><td>1260</td></tr>",
                            "<tr><td>52</td><td>2016-11-07</td><td>1258</td></tr>",
                            "<tr><td>58</td><td>2016-11-07</td><td>1261</td></tr>",
                            "<tr><td>140</td><td>2016-11-07</td><td>1259</td></tr>",
                            "<tr><td>154</td><td>2016-11-07</td><td>1262</td></tr>",
                            "<tr><td>66</td><td>2016-11-08</td><td>1264</td></tr>",
                            "<tr><td>113</td><td>2016-11-08</td><td>1263</td></tr>",
                            "<tr><td>163</td><td>2016-11-08</td><td>1265</td></tr>",
                            "<tr><td>168</td><td>2016-11-08</td><td>1266</td></tr>",
                            "<tr><td>78</td><td>2016-11-09</td><td>1268</td></tr>",
                            "<tr><td>89</td><td>2016-11-09</td><td>1269</td></tr>",
                            "<tr><td>170</td><td>2016-11-09</td><td>1267</td></tr>",
                            "<tr><td>43</td><td>2016-11-10</td><td>1270</td></tr>",
                            "<tr><td>50</td><td>2016-11-10</td><td>1272</td></tr>",
                            "<tr><td>88</td><td>2016-11-10</td><td>1273</td></tr>",
                            "<tr><td>106</td><td>2016-11-10</td><td>1271</td></tr>",
                            "<tr><td>1</td><td>2016-11-11</td><td>1274</td></tr>",
                            "<tr><td>27</td><td>2016-11-11</td><td>1275</td></tr>",
                            "<tr><td>82</td><td>2016-11-12</td><td>1277</td></tr>",
                            "<tr><td>174</td><td>2016-11-12</td><td>1276</td></tr>",
                            "<tr><td>176</td><td>2016-11-13</td><td>1278</td></tr>",
                            "<tr><td>80</td><td>2016-11-14</td><td>1279</td></tr>",
                            "<tr><td>78</td><td>2016-11-15</td><td>1281</td></tr>",
                            "<tr><td>123</td><td>2016-11-15</td><td>1282</td></tr>",
                            "<tr><td>137</td><td>2016-11-15</td><td>1280</td></tr>",
                            "<tr><td>58</td><td>2016-11-16</td><td>1285</td></tr>",
                            "<tr><td>127</td><td>2016-11-16</td><td>1286</td></tr>",
                            "<tr><td>138</td><td>2016-11-16</td><td>1283</td></tr>",
                            "<tr><td>164</td><td>2016-11-16</td><td>1284</td></tr>",
                            "<tr><td>22</td><td>2016-11-17</td><td>1287</td></tr>",
                            "<tr><td>59</td><td>2016-11-17</td><td>1288</td></tr>",
                            "<tr><td>135</td><td>2016-11-18</td><td>1289</td></tr>",
                            "<tr><td>44</td><td>2016-11-19</td><td>1295</td></tr>",
                            "<tr><td>46</td><td>2016-11-19</td><td>1291</td></tr>",
                            "<tr><td>58</td><td>2016-11-19</td><td>1293</td></tr>",
                            "<tr><td>111</td><td>2016-11-19</td><td>1296</td></tr>",
                            "<tr><td>128</td><td>2016-11-19</td><td>1290</td></tr>",
                            "<tr><td>138</td><td>2016-11-19</td><td>1294</td></tr>",
                            "<tr><td>144</td><td>2016-11-19</td><td>1297</td></tr>",
                            "<tr><td>164</td><td>2016-11-19</td><td>1292</td></tr>",
                            "<tr><td>109</td><td>2016-11-20</td><td>1298</td></tr>",
                            "<tr><td>88</td><td>2016-11-21</td><td>1300</td></tr>",
                            "<tr><td>90</td><td>2016-11-21</td><td>1299</td></tr>",
                            "<tr><td>45</td><td>2016-11-22</td><td>1303</td></tr>",
                            "<tr><td>94</td><td>2016-11-22</td><td>1305</td></tr>",
                            "<tr><td>132</td><td>2016-11-22</td><td>1301</td></tr>",
                            "<tr><td>133</td><td>2016-11-22</td><td>1306</td></tr>",
                            "<tr><td>191</td><td>2016-11-22</td><td>1302</td></tr>",
                            "<tr><td>197</td><td>2016-11-22</td><td>1304</td></tr>",
                            "<tr><td>2</td><td>2016-11-23</td><td>1311</td></tr>",
                            "<tr><td>42</td><td>2016-11-23</td><td>1309</td></tr>",
                            "<tr><td>58</td><td>2016-11-23</td><td>1307</td></tr>",
                            "<tr><td>94</td><td>2016-11-23</td><td>1312</td></tr>",
                            "<tr><td>143</td><td>2016-11-23</td><td>1313</td></tr>",
                            "<tr><td>155</td><td>2016-11-23</td><td>1310</td></tr>",
                            "<tr><td>182</td><td>2016-11-23</td><td>1308</td></tr>",
                            "<tr><td>196</td><td>2016-11-23</td><td>1314</td></tr>",
                            "<tr><td>100</td><td>2016-11-24</td><td>1315</td></tr>",
                            "<tr><td>10</td><td>2016-11-25</td><td>1319</td></tr>",
                            "<tr><td>17</td><td>2016-11-25</td><td>1316</td></tr>",
                            "<tr><td>33</td><td>2016-11-25</td><td>1321</td></tr>",
                            "<tr><td>72</td><td>2016-11-25</td><td>1318</td></tr>",
                            "<tr><td>85</td><td>2016-11-25</td><td>1320</td></tr>",
                            "<tr><td>182</td><td>2016-11-25</td><td>1317</td></tr>",
                            "<tr><td>58</td><td>2016-11-26</td><td>1322</td></tr>",
                            "<tr><td>68</td><td>2016-11-27</td><td>1324</td></tr>",
                            "<tr><td>70</td><td>2016-11-27</td><td>1325</td></tr>",
                            "<tr><td>191</td><td>2016-11-27</td><td>1323</td></tr>",
                            "<tr><td>54</td><td>2016-11-28</td><td>1328</td></tr>",
                            "<tr><td>55</td><td>2016-11-28</td><td>1327</td></tr>",
                            "<tr><td>182</td><td>2016-11-28</td><td>1326</td></tr>",
                            "<tr><td>73</td><td>2016-11-29</td><td>1331</td></tr>",
                            "<tr><td>101</td><td>2016-11-29</td><td>1332</td></tr>",
                            "<tr><td>124</td><td>2016-11-29</td><td>1330</td></tr>",
                            "<tr><td>171</td><td>2016-11-29</td><td>1329</td></tr>",
                            "<tr><td>70</td><td>2016-11-30</td><td>1333</td></tr>",
                            "<tr><td>1</td><td>2016-12-01</td><td>1334</td></tr>",
                            "<tr><td>37</td><td>2016-12-01</td><td>1335</td></tr>",
                            "<tr><td>122</td><td>2016-12-02</td><td>1337</td></tr>",
                            "<tr><td>145</td><td>2016-12-02</td><td>1338</td></tr>",
                            "<tr><td>172</td><td>2016-12-02</td><td>1336</td></tr>",
                            "<tr><td>120</td><td>2016-12-03</td><td>1339</td></tr>",
                            "<tr><td>82</td><td>2016-12-04</td><td>1341</td></tr>",
                            "<tr><td>170</td><td>2016-12-04</td><td>1342</td></tr>",
                            "<tr><td>196</td><td>2016-12-04</td><td>1340</td></tr>",
                            "<tr><td>33</td><td>2016-12-05</td><td>1344</td></tr>",
                            "<tr><td>79</td><td>2016-12-05</td><td>1345</td></tr>",
                            "<tr><td>102</td><td>2016-12-05</td><td>1343</td></tr>",
                            "<tr><td>181</td><td>2016-12-05</td><td>1346</td></tr>",
                            "<tr><td>13</td><td>2016-12-06</td><td>1347</td></tr>",
                            "<tr><td>38</td><td>2016-12-06</td><td>1351</td></tr>",
                            "<tr><td>57</td><td>2016-12-06</td><td>1348</td></tr>",
                            "<tr><td>87</td><td>2016-12-06</td><td>1349</td></tr>",
                            "<tr><td>173</td><td>2016-12-06</td><td>1350</td></tr>",
                            "<tr><td>107</td><td>2016-12-07</td><td>1354</td></tr>",
                            "<tr><td>111</td><td>2016-12-07</td><td>1353</td></tr>",
                            "<tr><td>115</td><td>2016-12-07</td><td>1352</td></tr>",
                            "<tr><td>93</td><td>2016-12-08</td><td>1355</td></tr>",
                            "<tr><td>169</td><td>2016-12-09</td><td>1356</td></tr>",
                            "<tr><td>140</td><td>2016-12-10</td><td>1357</td></tr>",
                            "<tr><td>138</td><td>2016-12-11</td><td>1358</td></tr>",
                            "<tr><td>88</td><td>2016-12-12</td><td>1359</td></tr>",
                            "<tr><td>129</td><td>2016-12-13</td><td>1360</td></tr>",
                            "<tr><td>25</td><td>2016-12-14</td><td>1362</td></tr>",
                            "<tr><td>140</td><td>2016-12-14</td><td>1361</td></tr>",
                            "<tr><td>70</td><td>2016-12-15</td><td>1365</td></tr>",
                            "<tr><td>126</td><td>2016-12-15</td><td>1364</td></tr>",
                            "<tr><td>133</td><td>2016-12-15</td><td>1363</td></tr>",
                            "<tr><td>81</td><td>2016-12-16</td><td>1366</td></tr>",
                            "<tr><td>80</td><td>2016-12-17</td><td>1367</td></tr>",
                            "<tr><td>84</td><td>2016-12-17</td><td>1376</td></tr>",
                            "<tr><td>94</td><td>2016-12-17</td><td>1368</td></tr>",
                            "<tr><td>106</td><td>2016-12-17</td><td>1372</td></tr>",
                            "<tr><td>118</td><td>2016-12-17</td><td>1374</td></tr>",
                            "<tr><td>121</td><td>2016-12-17</td><td>1373</td></tr>",
                            "<tr><td>138</td><td>2016-12-17</td><td>1370</td></tr>",
                            "<tr><td>140</td><td>2016-12-17</td><td>1371</td></tr>",
                            "<tr><td>142</td><td>2016-12-17</td><td>1369</td></tr>",
                            "<tr><td>165</td><td>2016-12-17</td><td>1375</td></tr>",
                            "<tr><td>27</td><td>2016-12-18</td><td>1377</td></tr>",
                            "<tr><td>96</td><td>2016-12-18</td><td>1378</td></tr>",
                            "<tr><td>83</td><td>2016-12-19</td><td>1379</td></tr>",
                            "<tr><td>39</td><td>2016-12-20</td><td>1380</td></tr>",
                            "<tr><td>33</td><td>2016-12-21</td><td>1381</td></tr>",
                            "<tr><td>67</td><td>2016-12-22</td><td>1382</td></tr>",
                            "<tr><td>84</td><td>2016-12-22</td><td>1384</td></tr>",
                            "<tr><td>176</td><td>2016-12-22</td><td>1383</td></tr>",
                            "<tr><td>122</td><td>2016-12-23</td><td>1385</td></tr>",
                            "<tr><td>26</td><td>2016-12-24</td><td>1388</td></tr>",
                            "<tr><td>55</td><td>2016-12-24</td><td>1386</td></tr>",
                            "<tr><td>197</td><td>2016-12-24</td><td>1387</td></tr>",
                            "<tr><td>57</td><td>2016-12-25</td><td>1389</td></tr>",
                            "<tr><td>72</td><td>2016-12-25</td><td>1396</td></tr>",
                            "<tr><td>91</td><td>2016-12-25</td><td>1397</td></tr>",
                            "<tr><td>93</td><td>2016-12-25</td><td>1391</td></tr>",
                            "<tr><td>97</td><td>2016-12-25</td><td>1395</td></tr>",
                            "<tr><td>108</td><td>2016-12-25</td><td>1392</td></tr>",
                            "<tr><td>121</td><td>2016-12-25</td><td>1393</td></tr>",
                            "<tr><td>143</td><td>2016-12-25</td><td>1394</td></tr>",
                            "<tr><td>188</td><td>2016-12-25</td><td>1390</td></tr>",
                            "<tr><td>89</td><td>2016-12-26</td><td>1399</td></tr>",
                            "<tr><td>103</td><td>2016-12-26</td><td>1398</td></tr>",
                            "<tr><td>162</td><td>2016-12-26</td><td>1400</td></tr>",
                            "<tr><td>141</td><td>2016-12-27</td><td>1401</td></tr>",
                            "<tr><td>98</td><td>2016-12-28</td><td>1402</td></tr>",
                            "<tr><td>35</td><td>2016-12-29</td><td>1480</td></tr>",
                            "<tr><td>82</td><td>2016-12-29</td><td>1406</td></tr>",
                            "<tr><td>90</td><td>2016-12-29</td><td>1405</td></tr>",
                            "<tr><td>124</td><td>2016-12-29</td><td>1403</td></tr>",
                            "<tr><td>187</td><td>2016-12-29</td><td>1404</td></tr>",
                            "<tr><td>175</td><td>2016-12-30</td><td>1407</td></tr>",
                            "<tr><td>99</td><td>2016-12-31</td><td>1408</td></tr>",
                            "<tr><td>35</td><td>2017-01-01</td><td>1411</td></tr>",
                            "<tr><td>75</td><td>2017-01-01</td><td>1412</td></tr>",
                            "<tr><td>133</td><td>2017-01-01</td><td>1409</td></tr>",
                            "<tr><td>182</td><td>2017-01-01</td><td>1410</td></tr>",
                            "<tr><td>119</td><td>2017-01-02</td><td>1413</td></tr>",
                            "<tr><td>167</td><td>2017-01-02</td><td>1414</td></tr>",
                            "<tr><td>24</td><td>2017-01-03</td><td>1415</td></tr>",
                            "<tr><td>38</td><td>2017-01-03</td><td>1416</td></tr>",
                            "<tr><td>97</td><td>2017-01-03</td><td>1417</td></tr>",
                            "<tr><td>15</td><td>2017-01-04</td><td>1418</td></tr>",
                            "<tr><td>124</td><td>2017-01-05</td><td>1419</td></tr>",
                            "<tr><td>172</td><td>2017-01-05</td><td>1421</td></tr>",
                            "<tr><td>198</td><td>2017-01-05</td><td>1420</td></tr>",
                            "<tr><td>9</td><td>2017-01-06</td><td>1423</td></tr>",
                            "<tr><td>182</td><td>2017-01-06</td><td>1422</td></tr>",
                            "<tr><td>110</td><td>2017-01-07</td><td>1424</td></tr>",
                            "<tr><td>44</td><td>2017-01-08</td><td>1425</td></tr>",
                            "<tr><td>12</td><td>2017-01-09</td><td>1430</td></tr>",
                            "<tr><td>62</td><td>2017-01-09</td><td>1426</td></tr>",
                            "<tr><td>126</td><td>2017-01-09</td><td>1428</td></tr>",
                            "<tr><td>169</td><td>2017-01-09</td><td>1427</td></tr>",
                            "<tr><td>173</td><td>2017-01-09</td><td>1429</td></tr>",
                            "<tr><td>52</td><td>2017-01-10</td><td>1431</td></tr>",
                            "<tr><td>150</td><td>2017-01-10</td><td>1432</td></tr>",
                            "<tr><td>139</td><td>2017-01-11</td><td>1433</td></tr>",
                            "<tr><td>3</td><td>2017-01-12</td><td>1434</td></tr>",
                            "<tr><td>39</td><td>2017-01-12</td><td>1435</td></tr>",
                            "<tr><td>35</td><td>2017-01-13</td><td>1436</td></tr>",
                            "<tr><td>183</td><td>2017-01-13</td><td>1437</td></tr>",
                            "<tr><td>96</td><td>2017-01-14</td><td>1438</td></tr>",
                            "<tr><td>77</td><td>2017-01-15</td><td>1439</td></tr>",
                            "<tr><td>122</td><td>2017-01-15</td><td>1440</td></tr>",
                            "<tr><td>15</td><td>2017-01-16</td><td>1442</td></tr>",
                            "<tr><td>42</td><td>2017-01-16</td><td>1444</td></tr>",
                            "<tr><td>64</td><td>2017-01-16</td><td>1446</td></tr>",
                            "<tr><td>79</td><td>2017-01-16</td><td>1447</td></tr>",
                            "<tr><td>81</td><td>2017-01-16</td><td>1443</td></tr>",
                            "<tr><td>129</td><td>2017-01-16</td><td>1445</td></tr>",
                            "<tr><td>143</td><td>2017-01-16</td><td>1448</td></tr>",
                            "<tr><td>185</td><td>2017-01-16</td><td>1441</td></tr>",
                            "<tr><td>58</td><td>2017-01-17</td><td>1451</td></tr>",
                            "<tr><td>86</td><td>2017-01-17</td><td>1453</td></tr>",
                            "<tr><td>107</td><td>2017-01-17</td><td>1452</td></tr>",
                            "<tr><td>139</td><td>2017-01-17</td><td>1450</td></tr>",
                            "<tr><td>189</td><td>2017-01-17</td><td>1449</td></tr>",
                            "<tr><td>39</td><td>2017-01-18</td><td>1454</td></tr>",
                            "<tr><td>116</td><td>2017-01-18</td><td>1455</td></tr>",
                            "<tr><td>70</td><td>2017-01-19</td><td>1457</td></tr>",
                            "<tr><td>75</td><td>2017-01-19</td><td>1458</td></tr>",
                            "<tr><td>87</td><td>2017-01-19</td><td>1456</td></tr>",
                            "<tr><td>28</td><td>2017-01-20</td><td>1459</td></tr>",
                            "<tr><td>153</td><td>2017-01-21</td><td>1460</td></tr>",
                            "<tr><td>57</td><td>2017-01-22</td><td>1466</td></tr>",
                            "<tr><td>64</td><td>2017-01-22</td><td>1465</td></tr>",
                            "<tr><td>77</td><td>2017-01-22</td><td>1461</td></tr>",
                            "<tr><td>81</td><td>2017-01-22</td><td>1464</td></tr>",
                            "<tr><td>156</td><td>2017-01-22</td><td>1462</td></tr>",
                            "<tr><td>185</td><td>2017-01-22</td><td>1463</td></tr>",
                            "<tr><td>186</td><td>2017-01-22</td><td>1467</td></tr>",
                            "<tr><td>13</td><td>2017-01-23</td><td>1469</td></tr>",
                            "<tr><td>117</td><td>2017-01-23</td><td>1468</td></tr>",
                            "<tr><td>145</td><td>2017-01-23</td><td>1471</td></tr>",
                            "<tr><td>153</td><td>2017-01-23</td><td>1470</td></tr>",
                            "<tr><td>118</td><td>2017-01-24</td><td>1472</td></tr>",
                            "<tr><td>195</td><td>2017-01-24</td><td>1473</td></tr>",
                            "<tr><td>131</td><td>2017-01-25</td><td>1474</td></tr>",
                            "<tr><td>130</td><td>2017-01-26</td><td>1475</td></tr>",
                            "<tr><td>27</td><td>2017-01-27</td><td>1476</td></tr>",
                            "<tr><td>38</td><td>2017-01-28</td><td>1478</td></tr>",
                            "<tr><td>51</td><td>2017-01-28</td><td>1477</td></tr>",
                            "<tr><td>146</td><td>2017-01-28</td><td>1479</td></tr>",
                            "<tr><td>100</td><td>2017-01-29</td><td>1482</td></tr>",
                            "<tr><td>118</td><td>2017-01-29</td><td>1481</td></tr>",
                            "<tr><td>103</td><td>2017-01-30</td><td>1485</td></tr>",
                            "<tr><td>120</td><td>2017-01-30</td><td>1483</td></tr>",
                            "<tr><td>195</td><td>2017-01-30</td><td>1484</td></tr>",
                            "<tr><td>99</td><td>2017-01-31</td><td>1486</td></tr>",
                            "<tr><td>119</td><td>2017-02-01</td><td>1488</td></tr>",
                            "<tr><td>163</td><td>2017-02-01</td><td>1487</td></tr>",
                            "<tr><td>110</td><td>2017-02-02</td><td>1489</td></tr>",
                            "<tr><td>4</td><td>2017-02-03</td><td>1492</td></tr>",
                            "<tr><td>156</td><td>2017-02-03</td><td>1490</td></tr>",
                            "<tr><td>172</td><td>2017-02-03</td><td>1491</td></tr>",
                            "<tr><td>16</td><td>2017-02-04</td><td>1498</td></tr>",
                            "<tr><td>61</td><td>2017-02-04</td><td>1496</td></tr>",
                            "<tr><td>107</td><td>2017-02-04</td><td>1494</td></tr>",
                            "<tr><td>113</td><td>2017-02-04</td><td>1495</td></tr>",
                            "<tr><td>120</td><td>2017-02-04</td><td>1493</td></tr>",
                            "<tr><td>179</td><td>2017-02-04</td><td>1497</td></tr>",
                            "<tr><td>113</td><td>2017-02-05</td><td>1499</td></tr>",
                            "<tr><td>116</td><td>2017-02-05</td><td>1501</td></tr>",
                            "<tr><td>126</td><td>2017-02-05</td><td>1500</td></tr>",
                            "<tr><td>177</td><td>2017-02-05</td><td>1503</td></tr>",
                            "<tr><td>191</td><td>2017-02-05</td><td>1502</td></tr>",
                            "<tr><td>18</td><td>2017-02-06</td><td>1505</td></tr>",
                            "<tr><td>57</td><td>2017-02-06</td><td>1504</td></tr>",
                            "<tr><td>81</td><td>2017-02-06</td><td>1506</td></tr>",
                            "<tr><td>153</td><td>2017-02-07</td><td>1507</td></tr>",
                            "<tr><td>55</td><td>2017-02-08</td><td>1512</td></tr>",
                            "<tr><td>106</td><td>2017-02-08</td><td>1510</td></tr>",
                            "<tr><td>129</td><td>2017-02-08</td><td>1509</td></tr>",
                            "<tr><td>176</td><td>2017-02-08</td><td>1511</td></tr>",
                            "<tr><td>191</td><td>2017-02-08</td><td>1508</td></tr>",
                            "<tr><td>85</td><td>2017-02-09</td><td>1513</td></tr>",
                            "<tr><td>149</td><td>2017-02-09</td><td>1514</td></tr>",
                            "<tr><td>46</td><td>2017-02-10</td><td>1515</td></tr>",
                            "<tr><td>101</td><td>2017-02-10</td><td>1516</td></tr>",
                            "<tr><td>190</td><td>2017-02-11</td><td>1517</td></tr>",
                            "<tr><td>11</td><td>2017-02-12</td><td>1523</td></tr>",
                            "<tr><td>43</td><td>2017-02-12</td><td>1524</td></tr>",
                            "<tr><td>55</td><td>2017-02-12</td><td>1520</td></tr>",
                            "<tr><td>89</td><td>2017-02-12</td><td>1521</td></tr>",
                            "<tr><td>94</td><td>2017-02-12</td><td>1518</td></tr>",
                            "<tr><td>104</td><td>2017-02-12</td><td>1522</td></tr>",
                            "<tr><td>105</td><td>2017-02-12</td><td>1525</td></tr>",
                            "<tr><td>132</td><td>2017-02-12</td><td>1519</td></tr>",
                            "<tr><td>166</td><td>2017-02-12</td><td>1526</td></tr>",
                            "<tr><td>35</td><td>2017-02-13</td><td>1529</td></tr>",
                            "<tr><td>92</td><td>2017-02-13</td><td>1527</td></tr>",
                            "<tr><td>97</td><td>2017-02-13</td><td>1528</td></tr>",
                            "<tr><td>112</td><td>2017-02-13</td><td>1530</td></tr>",
                            "<tr><td>124</td><td>2017-02-13</td><td>1531</td></tr>",
                            "<tr><td>19</td><td>2017-02-14</td><td>1533</td></tr>",
                            "<tr><td>52</td><td>2017-02-14</td><td>1534</td></tr>",
                            "<tr><td>104</td><td>2017-02-14</td><td>1532</td></tr>",
                            "<tr><td>134</td><td>2017-02-15</td><td>1535</td></tr>",
                            "<tr><td>3</td><td>2017-02-16</td><td>1544</td></tr>",
                            "<tr><td>9</td><td>2017-02-16</td><td>1537</td></tr>",
                            "<tr><td>14</td><td>2017-02-16</td><td>1542</td></tr>",
                            "<tr><td>39</td><td>2017-02-16</td><td>1538</td></tr>",
                            "<tr><td>49</td><td>2017-02-16</td><td>1536</td></tr>",
                            "<tr><td>95</td><td>2017-02-16</td><td>1543</td></tr>",
                            "<tr><td>114</td><td>2017-02-16</td><td>1540</td></tr>",
                            "<tr><td>154</td><td>2017-02-16</td><td>1539</td></tr>",
                            "<tr><td>155</td><td>2017-02-16</td><td>1541</td></tr>",
                            "<tr><td>48</td><td>2017-02-17</td><td>1546</td></tr>",
                            "<tr><td>142</td><td>2017-02-17</td><td>1545</td></tr>",
                            "<tr><td>17</td><td>2017-02-18</td><td>1549</td></tr>",
                            "<tr><td>48</td><td>2017-02-18</td><td>1547</td></tr>",
                            "<tr><td>51</td><td>2017-02-18</td><td>1550</td></tr>",
                            "<tr><td>88</td><td>2017-02-18</td><td>1548</td></tr>",
                            "<tr><td>157</td><td>2017-02-19</td><td>1551</td></tr>",
                            "<tr><td>43</td><td>2017-02-20</td><td>1553</td></tr>",
                            "<tr><td>44</td><td>2017-02-20</td><td>1552</td></tr>",
                            "<tr><td>92</td><td>2017-02-20</td><td>1555</td></tr>",
                            "<tr><td>115</td><td>2017-02-20</td><td>1554</td></tr>",
                            "<tr><td>38</td><td>2017-02-21</td><td>1556</td></tr>",
                            "<tr><td>76</td><td>2017-02-21</td><td>1557</td></tr>",
                            "<tr><td>152</td><td>2017-02-21</td><td>1558</td></tr>",
                            "<tr><td>180</td><td>2017-02-22</td><td>1559</td></tr>",
                            "<tr><td>81</td><td>2017-02-23</td><td>1562</td></tr>",
                            "<tr><td>94</td><td>2017-02-23</td><td>1564</td></tr>",
                            "<tr><td>109</td><td>2017-02-23</td><td>1560</td></tr>",
                            "<tr><td>156</td><td>2017-02-23</td><td>1561</td></tr>",
                            "<tr><td>160</td><td>2017-02-23</td><td>1565</td></tr>",
                            "<tr><td>180</td><td>2017-02-23</td><td>1563</td></tr>",
                            "<tr><td>29</td><td>2017-02-24</td><td>1568</td></tr>",
                            "<tr><td>96</td><td>2017-02-24</td><td>1569</td></tr>",
                            "<tr><td>115</td><td>2017-02-24</td><td>1566</td></tr>",
                            "<tr><td>171</td><td>2017-02-24</td><td>1567</td></tr>",
                            "<tr><td>176</td><td>2017-02-24</td><td>1570</td></tr>",
                            "<tr><td>144</td><td>2017-02-25</td><td>1572</td></tr>",
                            "<tr><td>161</td><td>2017-02-25</td><td>1571</td></tr>",
                            "<tr><td>59</td><td>2017-02-26</td><td>1573</td></tr>",
                            "<tr><td>88</td><td>2017-02-26</td><td>1575</td></tr>",
                            "<tr><td>128</td><td>2017-02-26</td><td>1574</td></tr>",
                            "<tr><td>189</td><td>2017-02-26</td><td>1576</td></tr>",
                            "<tr><td>78</td><td>2017-02-27</td><td>1577</td></tr>",
                            "<tr><td>148</td><td>2017-02-27</td><td>1578</td></tr>",
                            "<tr><td>127</td><td>2017-02-28</td><td>1579</td></tr>",
                            "<tr><td>48</td><td>2017-03-01</td><td>1581</td></tr>",
                            "<tr><td>67</td><td>2017-03-01</td><td>1580</td></tr>",
                            "<tr><td>64</td><td>2017-03-02</td><td>1582</td></tr>",
                            "<tr><td>67</td><td>2017-03-03</td><td>1584</td></tr>",
                            "<tr><td>128</td><td>2017-03-03</td><td>1583</td></tr>",
                            "</table>"
                        ]
                    }
                }
            ],
            "execution_count": 10
        },
        {
            "cell_type": "markdown",
            "source": [
                "Készítsünk ideiglenes táblát #MASKED\\_GUEST néven, ahol \n",
                "\n",
                "- a tábla felépítése megegyezik a vendég tábláéval, DE\n",
                "- a vendégek nevének csak az első 2, és az utolsó 3 karaktere jelenjen meg, közötte X-ek legyenek!"
            ],
            "metadata": {
                "azdata_cell_guid": "4ecbd98b-2576-451e-a4b4-a6b485c6fe39"
            },
            "attachments": {}
        },
        {
            "cell_type": "code",
            "source": [
                "CREATE TABLE #MASKED_GUEST\r\n",
                "(\r\n",
                "    usernev nvarchar(20) PRIMARY KEY,\r\n",
                "    nev nvarchar(50) MASKED WITH (Function = 'partial(2,\"xxx\",3'),\r\n",
                "    email NVARCHAR(60),\r\n",
                "    szaml_cim nvarchar(100),\r\n",
                "    szul_dat date\r\n",
                "\r\n",
                ")"
            ],
            "metadata": {
                "azdata_cell_guid": "6ed03150-c0ec-4efc-8f2e-109f212ffb13",
                "language": "sql"
            },
            "outputs": [
                {
                    "output_type": "error",
                    "evalue": "Msg 16006, Level 16, State 0, Line 1\r\nInvalid data masking format for function 'partial' in column 'nev'.",
                    "ename": "",
                    "traceback": []
                },
                {
                    "output_type": "display_data",
                    "data": {
                        "text/html": "Total execution time: 00:00:00.001"
                    },
                    "metadata": {}
                }
            ],
            "execution_count": 11
        },
        {
            "cell_type": "markdown",
            "source": [
                "Oldja meg REDIS-ben a következő feladatokat:\n",
                "\n",
                "- hozzon létre egy string kulcsot, amely egy könyvtár nevét tartalmazza\n",
                "- hozzon létre egy hash kulcsot, amely egy könyv legalább 3 adatát tartalmazza\n",
                "- hozzon létre egy set kulcsot, amely a könyvtárban lévő könyvek műfajait tartalmazza (legalább 3)\n",
                "- hozzon létre egy list kulcsot, amely a kikölcsönzött könyvek címeit tartalmazza (legalább 3)\n",
                "- hozzon létre egy sorted set kulcsot, amely az adott könyvek címeit és a könyv kölcsönzéseinek számát tartalmazza (legalább 3)"
            ],
            "metadata": {
                "azdata_cell_guid": "abf45940-eb48-4623-8cb0-c597c319c0c7"
            },
            "attachments": {}
        },
        {
            "cell_type": "code",
            "source": [
                ""
            ],
            "metadata": {
                "azdata_cell_guid": "09066ab5-0dfd-4826-9ebb-d4ab17107190",
                "language": "sql"
            },
            "outputs": [],
            "execution_count": null
        },
        {
            "cell_type": "markdown",
            "source": [
                "Cassandra:\n",
                "\n",
                "STUDENT(ID, Nev, Teljesitett\\_felevek, Eredmenyek, Nyelvtudas)\n",
                "\n",
                "- Az ID legyen az elsődleges kulcs\n",
                "- A Teljesitett félévek legyen LIST, tartalma egész számok, pl: 1, 2, 3\n",
                "- Az Eredmenyek legyen MAP, tartalma, hogy melyik félévben mennyi volt az átlag, pl: 1: 3,00, 2: 4.55, 3: 4,10\n",
                "- A Nyelvtudas legyen SET, tartalma a nyelvek megnevezése\n",
                "\n",
                "Vigyen fel legalább 2 rekordot!"
            ],
            "metadata": {
                "azdata_cell_guid": "d531020e-0bb5-4d1a-9a85-27f2e8bb985e"
            },
            "attachments": {}
        },
        {
            "cell_type": "code",
            "source": [
                "CREATE TABLE STUDENT\r\n",
                "(\r\n",
                "    ID int PRIMARY KEY,\r\n",
                "    NEV text,\r\n",
                "    Teljesitett_felevek list<int>,\r\n",
                "    Eredmenyek MAP<float>,\r\n",
                "    Nyelvtudas SET<text>\r\n",
                "\r\n",
                ");\r\n",
                "\r\n",
                "INSERT INTO STUDENT (ID, Nev, Teljesitett_felevek, Eredmenyek, Nyelvtudas)\r\n",
                "VALUES (1,'Kiss Bela', [1,2], [1:3,00, 2:4,55], [angol]);\r\n",
                "\r\n",
                "INSERT INTO STUDENT (ID, Nev, Teljesitett_felevek, Eredmenyek, Nyelvtudas)\r\n",
                "VALUES (2,'Nagy Bela', [1], [1:3,00], [nemet]);"
            ],
            "metadata": {
                "azdata_cell_guid": "71f16052-3d49-4308-bd5d-27316cec24ef",
                "language": "sql"
            },
            "outputs": [],
            "execution_count": null
        },
        {
            "cell_type": "markdown",
            "source": [
                "A Neo4j Sandbox-ban vagy a Desktopban jelenítsük meg azon személyeket, akik egy filmben szerepeltek Tom Hanks-sel.\n",
                "\n",
                "- Egy szereplő neve csak egyszer jelenjen meg\n",
                "- Tom Hanks ne legyen benne a listában"
            ],
            "metadata": {
                "azdata_cell_guid": "f5f3c6ae-1088-452d-9bc7-277764d61c79"
            },
            "attachments": {}
        },
        {
            "cell_type": "code",
            "source": [
                "match (p:Person)-[ACTED_IN]->(m:Movie)\r\n",
                "where m.name contains 'Tom Hanks'\r\n",
                "return p.name"
            ],
            "metadata": {
                "azdata_cell_guid": "9421b107-7618-450f-87c6-4f63235936c3",
                "language": "sql"
            },
            "outputs": [],
            "execution_count": null
        }
    ]
}