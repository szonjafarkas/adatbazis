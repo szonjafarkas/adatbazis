{
    "metadata": {
        "kernelspec": {
            "name": "SQL",
            "display_name": "SQL",
            "language": "sql"
        },
        "language_info": {
            "name": "sql",
            "version": ""
        }
    },
    "nbformat_minor": 2,
    "nbformat": 4,
    "cells": [
        {
            "cell_type": "markdown",
            "source": [
                "Jelenítsük meg minden egyes szoba esetén, hogy hányszor foglalták le!\n",
                "\n",
                "  \n",
                "\n",
                "<span style=\"color: #6796e6;\">-</span> Csak a szoba azonosítója és a foglalások darabszáma jelenjen meg\n",
                "\n",
                "<span style=\"color: #6796e6;\">-</span> Azok a szobák is jelenjenek meg, ahol nem történt foglalás"
            ],
            "metadata": {
                "azdata_cell_guid": "8a16e216-73d2-4b84-ab09-12eb7d3ec76d"
            },
            "attachments": {}
        },
        {
            "cell_type": "code",
            "source": [
                "SELECT sz.SZOBA_SZAMA,\r\n",
                "    COUNT(*)\r\n",
                "FROM Szoba sz LEFT JOIN Foglalas f ON sz.SZOBA_ID = f.SZOBA_FK\r\n",
                "GROUP BY sz.SZOBA_SZAMA"
            ],
            "metadata": {
                "azdata_cell_guid": "f7e252b3-1bd6-4377-9a75-52b017ca95f1",
                "language": "sql"
            },
            "outputs": [
                {
                    "output_type": "display_data",
                    "data": {
                        "text/html": "(50 rows affected)"
                    },
                    "metadata": {}
                },
                {
                    "output_type": "display_data",
                    "data": {
                        "text/html": "Total execution time: 00:00:00.052"
                    },
                    "metadata": {}
                },
                {
                    "output_type": "execute_result",
                    "execution_count": 2,
                    "data": {
                        "application/vnd.dataresource+json": {
                            "schema": {
                                "fields": [
                                    {
                                        "name": "SZOBA_SZAMA"
                                    },
                                    {
                                        "name": "(No column name)"
                                    }
                                ]
                            },
                            "data": [
                                {
                                    "SZOBA_SZAMA": "2",
                                    "(No column name)": "58"
                                },
                                {
                                    "SZOBA_SZAMA": "34",
                                    "(No column name)": "22"
                                },
                                {
                                    "SZOBA_SZAMA": "39",
                                    "(No column name)": "5"
                                },
                                {
                                    "SZOBA_SZAMA": "15",
                                    "(No column name)": "27"
                                },
                                {
                                    "SZOBA_SZAMA": "45",
                                    "(No column name)": "1"
                                },
                                {
                                    "SZOBA_SZAMA": "3",
                                    "(No column name)": "73"
                                },
                                {
                                    "SZOBA_SZAMA": "26",
                                    "(No column name)": "10"
                                },
                                {
                                    "SZOBA_SZAMA": "6",
                                    "(No column name)": "57"
                                },
                                {
                                    "SZOBA_SZAMA": "21",
                                    "(No column name)": "33"
                                },
                                {
                                    "SZOBA_SZAMA": "23",
                                    "(No column name)": "21"
                                },
                                {
                                    "SZOBA_SZAMA": "11",
                                    "(No column name)": "32"
                                },
                                {
                                    "SZOBA_SZAMA": "46",
                                    "(No column name)": "1"
                                },
                                {
                                    "SZOBA_SZAMA": "41",
                                    "(No column name)": "1"
                                },
                                {
                                    "SZOBA_SZAMA": "4",
                                    "(No column name)": "82"
                                },
                                {
                                    "SZOBA_SZAMA": "35",
                                    "(No column name)": "6"
                                },
                                {
                                    "SZOBA_SZAMA": "49",
                                    "(No column name)": "1"
                                },
                                {
                                    "SZOBA_SZAMA": "16",
                                    "(No column name)": "17"
                                },
                                {
                                    "SZOBA_SZAMA": "22",
                                    "(No column name)": "19"
                                },
                                {
                                    "SZOBA_SZAMA": "31",
                                    "(No column name)": "21"
                                },
                                {
                                    "SZOBA_SZAMA": "10",
                                    "(No column name)": "40"
                                },
                                {
                                    "SZOBA_SZAMA": "27",
                                    "(No column name)": "16"
                                },
                                {
                                    "SZOBA_SZAMA": "40",
                                    "(No column name)": "1"
                                },
                                {
                                    "SZOBA_SZAMA": "13",
                                    "(No column name)": "19"
                                },
                                {
                                    "SZOBA_SZAMA": "47",
                                    "(No column name)": "1"
                                },
                                {
                                    "SZOBA_SZAMA": "43",
                                    "(No column name)": "1"
                                },
                                {
                                    "SZOBA_SZAMA": "29",
                                    "(No column name)": "18"
                                },
                                {
                                    "SZOBA_SZAMA": "24",
                                    "(No column name)": "17"
                                },
                                {
                                    "SZOBA_SZAMA": "38",
                                    "(No column name)": "6"
                                },
                                {
                                    "SZOBA_SZAMA": "19",
                                    "(No column name)": "20"
                                },
                                {
                                    "SZOBA_SZAMA": "14",
                                    "(No column name)": "28"
                                },
                                {
                                    "SZOBA_SZAMA": "20",
                                    "(No column name)": "22"
                                },
                                {
                                    "SZOBA_SZAMA": "12",
                                    "(No column name)": "38"
                                },
                                {
                                    "SZOBA_SZAMA": "44",
                                    "(No column name)": "1"
                                },
                                {
                                    "SZOBA_SZAMA": "50",
                                    "(No column name)": "1"
                                },
                                {
                                    "SZOBA_SZAMA": "42",
                                    "(No column name)": "1"
                                },
                                {
                                    "SZOBA_SZAMA": "17",
                                    "(No column name)": "19"
                                },
                                {
                                    "SZOBA_SZAMA": "7",
                                    "(No column name)": "41"
                                },
                                {
                                    "SZOBA_SZAMA": "30",
                                    "(No column name)": "12"
                                },
                                {
                                    "SZOBA_SZAMA": "37",
                                    "(No column name)": "8"
                                },
                                {
                                    "SZOBA_SZAMA": "33",
                                    "(No column name)": "17"
                                },
                                {
                                    "SZOBA_SZAMA": "8",
                                    "(No column name)": "35"
                                },
                                {
                                    "SZOBA_SZAMA": "25",
                                    "(No column name)": "22"
                                },
                                {
                                    "SZOBA_SZAMA": "28",
                                    "(No column name)": "15"
                                },
                                {
                                    "SZOBA_SZAMA": "48",
                                    "(No column name)": "1"
                                },
                                {
                                    "SZOBA_SZAMA": "5",
                                    "(No column name)": "67"
                                },
                                {
                                    "SZOBA_SZAMA": "32",
                                    "(No column name)": "18"
                                },
                                {
                                    "SZOBA_SZAMA": "1",
                                    "(No column name)": "65"
                                },
                                {
                                    "SZOBA_SZAMA": "36",
                                    "(No column name)": "7"
                                },
                                {
                                    "SZOBA_SZAMA": "9",
                                    "(No column name)": "55"
                                },
                                {
                                    "SZOBA_SZAMA": "18",
                                    "(No column name)": "25"
                                }
                            ]
                        },
                        "text/html": "<table><tr><th>SZOBA_SZAMA</th><th>(No column name)</th></tr><tr><td>2</td><td>58</td></tr><tr><td>34</td><td>22</td></tr><tr><td>39</td><td>5</td></tr><tr><td>15</td><td>27</td></tr><tr><td>45</td><td>1</td></tr><tr><td>3</td><td>73</td></tr><tr><td>26</td><td>10</td></tr><tr><td>6</td><td>57</td></tr><tr><td>21</td><td>33</td></tr><tr><td>23</td><td>21</td></tr><tr><td>11</td><td>32</td></tr><tr><td>46</td><td>1</td></tr><tr><td>41</td><td>1</td></tr><tr><td>4</td><td>82</td></tr><tr><td>35</td><td>6</td></tr><tr><td>49</td><td>1</td></tr><tr><td>16</td><td>17</td></tr><tr><td>22</td><td>19</td></tr><tr><td>31</td><td>21</td></tr><tr><td>10</td><td>40</td></tr><tr><td>27</td><td>16</td></tr><tr><td>40</td><td>1</td></tr><tr><td>13</td><td>19</td></tr><tr><td>47</td><td>1</td></tr><tr><td>43</td><td>1</td></tr><tr><td>29</td><td>18</td></tr><tr><td>24</td><td>17</td></tr><tr><td>38</td><td>6</td></tr><tr><td>19</td><td>20</td></tr><tr><td>14</td><td>28</td></tr><tr><td>20</td><td>22</td></tr><tr><td>12</td><td>38</td></tr><tr><td>44</td><td>1</td></tr><tr><td>50</td><td>1</td></tr><tr><td>42</td><td>1</td></tr><tr><td>17</td><td>19</td></tr><tr><td>7</td><td>41</td></tr><tr><td>30</td><td>12</td></tr><tr><td>37</td><td>8</td></tr><tr><td>33</td><td>17</td></tr><tr><td>8</td><td>35</td></tr><tr><td>25</td><td>22</td></tr><tr><td>28</td><td>15</td></tr><tr><td>48</td><td>1</td></tr><tr><td>5</td><td>67</td></tr><tr><td>32</td><td>18</td></tr><tr><td>1</td><td>65</td></tr><tr><td>36</td><td>7</td></tr><tr><td>9</td><td>55</td></tr><tr><td>18</td><td>25</td></tr></table>"
                    },
                    "metadata": {}
                }
            ],
            "execution_count": 2
        },
        {
            "cell_type": "markdown",
            "source": [
                "Listázzuk azon szálláshelyek azonosítóját és nevét, amelyek a saját helyükön (HELY) a legtöbb csillaggal rendelkeznek!"
            ],
            "metadata": {
                "azdata_cell_guid": "836d7d54-b032-45a3-9afc-df9ff8e3d800"
            },
            "attachments": {}
        },
        {
            "cell_type": "code",
            "source": [
                "WITH RankedHotels AS (\r\n",
                "    SELECT\r\n",
                "        szallas_id,\r\n",
                "        SZALLAS_NEV,\r\n",
                "        HELY,\r\n",
                "        CSILLAGOK_SZAMA,\r\n",
                "        RANK() OVER (PARTITION BY Hely ORDER BY CSILLAGOK_SZAMA DESC) AS rank\r\n",
                "    FROM\r\n",
                "        Szallashely\r\n",
                ")\r\n",
                "SELECT\r\n",
                "    szallas_id,\r\n",
                "SZALLAS_NEV\r\n",
                "FROM\r\n",
                "    RankedHotels\r\n",
                "WHERE\r\n",
                "    rank = 1;"
            ],
            "metadata": {
                "azdata_cell_guid": "b1b2f288-cad0-4ee7-8db6-6ae5f74d9292",
                "language": "sql"
            },
            "outputs": [
                {
                    "output_type": "display_data",
                    "data": {
                        "text/html": "(11 rows affected)"
                    },
                    "metadata": {}
                },
                {
                    "output_type": "display_data",
                    "data": {
                        "text/html": "Total execution time: 00:00:00.050"
                    },
                    "metadata": {}
                },
                {
                    "output_type": "execute_result",
                    "execution_count": 6,
                    "data": {
                        "application/vnd.dataresource+json": {
                            "schema": {
                                "fields": [
                                    {
                                        "name": "szallas_id"
                                    },
                                    {
                                        "name": "SZALLAS_NEV"
                                    }
                                ]
                            },
                            "data": [
                                {
                                    "szallas_id": "8",
                                    "SZALLAS_NEV": "Hotel Három Hattyú"
                                },
                                {
                                    "szallas_id": "11",
                                    "SZALLAS_NEV": "Partiszél Vendégház"
                                },
                                {
                                    "szallas_id": "5",
                                    "SZALLAS_NEV": "Fortuna Panzió"
                                },
                                {
                                    "szallas_id": "10",
                                    "SZALLAS_NEV": "Lagúna Hotel"
                                },
                                {
                                    "szallas_id": "13",
                                    "SZALLAS_NEV": "Riviéra Panzió"
                                },
                                {
                                    "szallas_id": "18",
                                    "SZALLAS_NEV": "Fortuna Apartman"
                                },
                                {
                                    "szallas_id": "19",
                                    "SZALLAS_NEV": "Nyárfás Vendégház"
                                },
                                {
                                    "szallas_id": "21",
                                    "SZALLAS_NEV": "Müller Vendégház"
                                },
                                {
                                    "szallas_id": "3",
                                    "SZALLAS_NEV": "Fortuna Apartman"
                                },
                                {
                                    "szallas_id": "16",
                                    "SZALLAS_NEV": "Bagoly Hotel"
                                },
                                {
                                    "szallas_id": "17",
                                    "SZALLAS_NEV": "Szarvas Hotel"
                                }
                            ]
                        },
                        "text/html": "<table><tr><th>szallas_id</th><th>SZALLAS_NEV</th></tr><tr><td>8</td><td>Hotel Három Hattyú</td></tr><tr><td>11</td><td>Partiszél Vendégház</td></tr><tr><td>5</td><td>Fortuna Panzió</td></tr><tr><td>10</td><td>Lagúna Hotel</td></tr><tr><td>13</td><td>Riviéra Panzió</td></tr><tr><td>18</td><td>Fortuna Apartman</td></tr><tr><td>19</td><td>Nyárfás Vendégház</td></tr><tr><td>21</td><td>Müller Vendégház</td></tr><tr><td>3</td><td>Fortuna Apartman</td></tr><tr><td>16</td><td>Bagoly Hotel</td></tr><tr><td>17</td><td>Szarvas Hotel</td></tr></table>"
                    },
                    "metadata": {}
                }
            ],
            "execution_count": 6
        },
        {
            "cell_type": "markdown",
            "source": [
                "Listázzuk a vendégek azonosítóját, nevét és születési dátumát!\n",
                "\n",
                "  \n",
                "\n",
                "<span style=\"color: #6796e6;\">-</span> Vegyünk fel két új oszlopot, amelyben a vendég legelső, illetve legutolsó foglalásának dátuma szerepel\n",
                "\n",
                "<span style=\"color: #6796e6;\">-</span> A foglalás dátumánál a METTOL oszlopot használjuk"
            ],
            "metadata": {
                "azdata_cell_guid": "90cbbfec-2c63-4219-82f0-b125f4d40220"
            },
            "attachments": {}
        },
        {
            "cell_type": "code",
            "source": [
                "SELECT USERNEV,\r\n",
                "    NEV,\r\n",
                "    SZUL_DAT,\r\n",
                "    MIN(f.mettol) AS first_booking_date,\r\n",
                "    MAX(f.mettol) AS last_booking_date\r\n",
                "FROM Vendeg v JOIN Foglalas f ON v.USERNEV = f.UGYFEL_FK\r\n",
                "GROUP BY v.USERNEV, v.NEV, v.SZUL_DAT"
            ],
            "metadata": {
                "azdata_cell_guid": "bb760f0e-0ada-425b-8f2c-bf432e4acd92",
                "language": "sql"
            },
            "outputs": [
                {
                    "output_type": "display_data",
                    "data": {
                        "text/html": "(195 rows affected)"
                    },
                    "metadata": {}
                },
                {
                    "output_type": "display_data",
                    "data": {
                        "text/html": "Total execution time: 00:00:00.068"
                    },
                    "metadata": {}
                },
                {
                    "output_type": "execute_result",
                    "metadata": {},
                    "execution_count": 3,
                    "data": {
                        "application/vnd.dataresource+json": {
                            "schema": {
                                "fields": [
                                    {
                                        "name": "USERNEV"
                                    },
                                    {
                                        "name": "NEV"
                                    },
                                    {
                                        "name": "SZUL_DAT"
                                    },
                                    {
                                        "name": "first_booking_date"
                                    },
                                    {
                                        "name": "last_booking_date"
                                    }
                                ]
                            },
                            "data": [
                                {
                                    "USERNEV": "adam1",
                                    "NEV": "Kiss Ádám",
                                    "SZUL_DAT": "1991-12-28",
                                    "first_booking_date": "2016-05-28",
                                    "last_booking_date": "2016-10-19"
                                },
                                {
                                    "USERNEV": "adam3",
                                    "NEV": "Barkóci Ádám",
                                    "SZUL_DAT": "1970-06-07",
                                    "first_booking_date": "2016-09-12",
                                    "last_booking_date": "2017-02-06"
                                },
                                {
                                    "USERNEV": "adam4",
                                    "NEV": "Bieniek Ádám",
                                    "SZUL_DAT": "1976-08-01",
                                    "first_booking_date": "2016-08-28",
                                    "last_booking_date": "2017-02-23"
                                },
                                {
                                    "USERNEV": "agnes",
                                    "NEV": "Lengyel Ágnes",
                                    "SZUL_DAT": "1979-12-10",
                                    "first_booking_date": "2016-05-09",
                                    "last_booking_date": "2016-11-07"
                                },
                                {
                                    "USERNEV": "agnes3",
                                    "NEV": "Hartyánszky Ágnes",
                                    "SZUL_DAT": "1967-04-11",
                                    "first_booking_date": "2016-08-04",
                                    "last_booking_date": "2017-02-16"
                                },
                                {
                                    "USERNEV": "AGNESH",
                                    "NEV": "Horváth Ágnes",
                                    "SZUL_DAT": "1981-12-24",
                                    "first_booking_date": "2016-04-10",
                                    "last_booking_date": "2017-01-16"
                                },
                                {
                                    "USERNEV": "AGNESK",
                                    "NEV": "Kovács Ágnes",
                                    "SZUL_DAT": "1988-10-02",
                                    "first_booking_date": "2016-07-29",
                                    "last_booking_date": "2016-12-17"
                                },
                                {
                                    "USERNEV": "akos",
                                    "NEV": "Bíró Ákos",
                                    "SZUL_DAT": "1982-04-24",
                                    "first_booking_date": "2016-05-18",
                                    "last_booking_date": "2016-12-29"
                                },
                                {
                                    "USERNEV": "aladar",
                                    "NEV": "Dunai Aladár",
                                    "SZUL_DAT": "1980-11-01",
                                    "first_booking_date": "2016-05-17",
                                    "last_booking_date": "2016-11-22"
                                },
                                {
                                    "USERNEV": "alexandra",
                                    "NEV": "Bagóczki Alexandra",
                                    "SZUL_DAT": "1992-03-25",
                                    "first_booking_date": "2016-05-21",
                                    "last_booking_date": "2017-01-19"
                                },
                                {
                                    "USERNEV": "andi",
                                    "NEV": "Maródi Andrea",
                                    "SZUL_DAT": "1968-05-07",
                                    "first_booking_date": "2016-05-08",
                                    "last_booking_date": "2017-01-13"
                                },
                                {
                                    "USERNEV": "andras2",
                                    "NEV": "Tóth András",
                                    "SZUL_DAT": "1997-10-31",
                                    "first_booking_date": "2016-05-30",
                                    "last_booking_date": "2017-02-08"
                                },
                                {
                                    "USERNEV": "andras21",
                                    "NEV": "Molnár András",
                                    "SZUL_DAT": "1977-11-16",
                                    "first_booking_date": "2016-06-21",
                                    "last_booking_date": "2017-01-28"
                                },
                                {
                                    "USERNEV": "andras3",
                                    "NEV": "Vígh András",
                                    "SZUL_DAT": "1971-04-02",
                                    "first_booking_date": "2016-05-01",
                                    "last_booking_date": "2017-02-02"
                                },
                                {
                                    "USERNEV": "andras4",
                                    "NEV": "Back András",
                                    "SZUL_DAT": "1984-04-07",
                                    "first_booking_date": "2016-09-17",
                                    "last_booking_date": "2017-01-09"
                                },
                                {
                                    "USERNEV": "andras41",
                                    "NEV": "Komjáti András",
                                    "SZUL_DAT": "1997-10-25",
                                    "first_booking_date": "2016-05-14",
                                    "last_booking_date": "2016-11-23"
                                },
                                {
                                    "USERNEV": "ANDRASE",
                                    "NEV": "Erdei András",
                                    "SZUL_DAT": "1997-05-29",
                                    "first_booking_date": "2016-04-24",
                                    "last_booking_date": "2016-11-29"
                                },
                                {
                                    "USERNEV": "ANDRASN",
                                    "NEV": "Nagy András",
                                    "SZUL_DAT": "1980-09-05",
                                    "first_booking_date": "2016-11-25",
                                    "last_booking_date": "2016-11-25"
                                },
                                {
                                    "USERNEV": "andrea",
                                    "NEV": "Kiss Andrea",
                                    "SZUL_DAT": "1993-03-25",
                                    "first_booking_date": "2016-07-27",
                                    "last_booking_date": "2017-02-09"
                                },
                                {
                                    "USERNEV": "andrea3",
                                    "NEV": "Szomor Andrea",
                                    "SZUL_DAT": "1996-05-10",
                                    "first_booking_date": "2016-11-19",
                                    "last_booking_date": "2016-11-19"
                                },
                                {
                                    "USERNEV": "andrea4",
                                    "NEV": "Neizer Andrea",
                                    "SZUL_DAT": "1981-05-17",
                                    "first_booking_date": "2016-05-27",
                                    "last_booking_date": "2017-01-22"
                                },
                                {
                                    "USERNEV": "ANDREAT",
                                    "NEV": "Tornyos Andrea",
                                    "SZUL_DAT": "1986-11-14",
                                    "first_booking_date": "2016-07-27",
                                    "last_booking_date": "2016-10-08"
                                },
                                {
                                    "USERNEV": "anett3",
                                    "NEV": "Pivarcsi Anett",
                                    "SZUL_DAT": "1967-01-03",
                                    "first_booking_date": "2016-04-10",
                                    "last_booking_date": "2016-10-16"
                                },
                                {
                                    "USERNEV": "aniko",
                                    "NEV": "Tóth Anikó",
                                    "SZUL_DAT": "1973-06-03",
                                    "first_booking_date": "2016-06-25",
                                    "last_booking_date": "2017-02-23"
                                },
                                {
                                    "USERNEV": "aniko4",
                                    "NEV": "Böröcz Anikó",
                                    "SZUL_DAT": "1978-03-26",
                                    "first_booking_date": "2016-07-02",
                                    "last_booking_date": "2016-10-16"
                                },
                                {
                                    "USERNEV": "ANIKOS",
                                    "NEV": "Simon Anikó",
                                    "SZUL_DAT": "1988-12-14",
                                    "first_booking_date": "2016-04-19",
                                    "last_booking_date": "2016-11-10"
                                },
                                {
                                    "USERNEV": "anita",
                                    "NEV": "Hamvay-Kovács Anita",
                                    "SZUL_DAT": "1971-03-20",
                                    "first_booking_date": "2016-09-28",
                                    "last_booking_date": "2017-02-20"
                                },
                                {
                                    "USERNEV": "annamaria1",
                                    "NEV": "Szűcs Annamária",
                                    "SZUL_DAT": "1990-04-27",
                                    "first_booking_date": "2016-06-06",
                                    "last_booking_date": "2017-01-30"
                                },
                                {
                                    "USERNEV": "ANNAMARIAR",
                                    "NEV": "Regős Annamária",
                                    "SZUL_DAT": "1977-09-26",
                                    "first_booking_date": "2016-06-08",
                                    "last_booking_date": "2017-02-16"
                                },
                                {
                                    "USERNEV": "aron2",
                                    "NEV": "Jakab Áron",
                                    "SZUL_DAT": "1971-04-26",
                                    "first_booking_date": "2016-04-11",
                                    "last_booking_date": "2017-02-26"
                                },
                                {
                                    "USERNEV": "ARONK",
                                    "NEV": "Kelemen Áron",
                                    "SZUL_DAT": "1989-08-10",
                                    "first_booking_date": "2016-04-06",
                                    "last_booking_date": "2017-02-21"
                                },
                                {
                                    "USERNEV": "arpad2",
                                    "NEV": "Ötvös Árpád",
                                    "SZUL_DAT": "1990-06-08",
                                    "first_booking_date": "2016-06-05",
                                    "last_booking_date": "2017-02-18"
                                },
                                {
                                    "USERNEV": "ARPADH",
                                    "NEV": "Horváth Árpád",
                                    "SZUL_DAT": "1990-05-18",
                                    "first_booking_date": "2016-06-06",
                                    "last_booking_date": "2017-02-16"
                                },
                                {
                                    "USERNEV": "ARPADM",
                                    "NEV": "Móricz Árpád",
                                    "SZUL_DAT": "1986-04-20",
                                    "first_booking_date": "2016-05-29",
                                    "last_booking_date": "2017-02-12"
                                },
                                {
                                    "USERNEV": "attila",
                                    "NEV": "Csóti Attila",
                                    "SZUL_DAT": "1979-12-25",
                                    "first_booking_date": "2016-09-30",
                                    "last_booking_date": "2016-12-22"
                                },
                                {
                                    "USERNEV": "attila1",
                                    "NEV": "Gulyás Attila",
                                    "SZUL_DAT": "1982-08-16",
                                    "first_booking_date": "2016-05-20",
                                    "last_booking_date": "2017-01-23"
                                },
                                {
                                    "USERNEV": "attila4",
                                    "NEV": "Baróti Attila",
                                    "SZUL_DAT": "1975-11-06",
                                    "first_booking_date": "2016-08-18",
                                    "last_booking_date": "2017-02-15"
                                },
                                {
                                    "USERNEV": "ATTILAO",
                                    "NEV": "Opra Attila",
                                    "SZUL_DAT": "1995-05-08",
                                    "first_booking_date": "2016-05-21",
                                    "last_booking_date": "2017-02-22"
                                },
                                {
                                    "USERNEV": "balazs1",
                                    "NEV": "Bozsik Balázs",
                                    "SZUL_DAT": "1992-11-03",
                                    "first_booking_date": "2016-05-07",
                                    "last_booking_date": "2017-02-12"
                                },
                                {
                                    "USERNEV": "balazs2",
                                    "NEV": "Szűcs Balázs",
                                    "SZUL_DAT": "1984-10-31",
                                    "first_booking_date": "2016-04-16",
                                    "last_booking_date": "2017-02-27"
                                },
                                {
                                    "USERNEV": "balazs3",
                                    "NEV": "Bakódy Balázs",
                                    "SZUL_DAT": "1986-09-09",
                                    "first_booking_date": "2016-07-17",
                                    "last_booking_date": "2017-01-20"
                                },
                                {
                                    "USERNEV": "balint",
                                    "NEV": "Horváth Bálint",
                                    "SZUL_DAT": "1996-03-17",
                                    "first_booking_date": "2016-04-22",
                                    "last_booking_date": "2016-11-24"
                                },
                                {
                                    "USERNEV": "balint1",
                                    "NEV": "Molnár Bálint",
                                    "SZUL_DAT": "1989-08-24",
                                    "first_booking_date": "2016-06-07",
                                    "last_booking_date": "2017-01-03"
                                },
                                {
                                    "USERNEV": "balint2",
                                    "NEV": "Vukasinovity Bálint",
                                    "SZUL_DAT": "1997-09-03",
                                    "first_booking_date": "2016-07-21",
                                    "last_booking_date": "2016-12-04"
                                },
                                {
                                    "USERNEV": "balu",
                                    "NEV": "Endresz Bálint",
                                    "SZUL_DAT": "1976-08-01",
                                    "first_booking_date": "2016-08-06",
                                    "last_booking_date": "2016-12-22"
                                },
                                {
                                    "USERNEV": "beata4",
                                    "NEV": "Bagi Beáta",
                                    "SZUL_DAT": "1994-03-19",
                                    "first_booking_date": "2016-04-20",
                                    "last_booking_date": "2016-10-03"
                                },
                                {
                                    "USERNEV": "BEATRIXK",
                                    "NEV": "Kerényi Beatrix",
                                    "SZUL_DAT": "1972-04-06",
                                    "first_booking_date": "2016-06-10",
                                    "last_booking_date": "2017-02-08"
                                },
                                {
                                    "USERNEV": "BEATRIXS",
                                    "NEV": "Szekendi Beatrix",
                                    "SZUL_DAT": "1981-04-06",
                                    "first_booking_date": "2016-04-18",
                                    "last_booking_date": "2017-02-03"
                                },
                                {
                                    "USERNEV": "BELAF",
                                    "NEV": "Farkas Béla",
                                    "SZUL_DAT": "1995-02-24",
                                    "first_booking_date": "2016-07-27",
                                    "last_booking_date": "2016-12-06"
                                },
                                {
                                    "USERNEV": "bence",
                                    "NEV": "Győrffy Bence",
                                    "SZUL_DAT": "1987-07-09",
                                    "first_booking_date": "2016-05-08",
                                    "last_booking_date": "2017-02-05"
                                },
                                {
                                    "USERNEV": "BENCEB",
                                    "NEV": "Bajusz Bence",
                                    "SZUL_DAT": "1973-06-21",
                                    "first_booking_date": "2016-05-14",
                                    "last_booking_date": "2017-02-12"
                                },
                                {
                                    "USERNEV": "bernadett1",
                                    "NEV": "Simon Bernadett",
                                    "SZUL_DAT": "1984-10-13",
                                    "first_booking_date": "2016-06-12",
                                    "last_booking_date": "2017-02-24"
                                },
                                {
                                    "USERNEV": "bernadett2",
                                    "NEV": "Kovács Bernadett",
                                    "SZUL_DAT": "1996-08-20",
                                    "first_booking_date": "2016-05-01",
                                    "last_booking_date": "2017-01-24"
                                },
                                {
                                    "USERNEV": "BERNADETTO",
                                    "NEV": "Orbán Bernadett",
                                    "SZUL_DAT": "1987-12-07",
                                    "first_booking_date": "2016-04-10",
                                    "last_booking_date": "2017-01-28"
                                },
                                {
                                    "USERNEV": "bertalan",
                                    "NEV": "Csiger Bertalan",
                                    "SZUL_DAT": "1977-10-15",
                                    "first_booking_date": "2016-05-18",
                                    "last_booking_date": "2017-02-20"
                                },
                                {
                                    "USERNEV": "brigitta",
                                    "NEV": "Székely Brigitta",
                                    "SZUL_DAT": "1978-09-13",
                                    "first_booking_date": "2016-05-30",
                                    "last_booking_date": "2017-01-23"
                                },
                                {
                                    "USERNEV": "brigitta3",
                                    "NEV": "Pataki Brigitta",
                                    "SZUL_DAT": "1991-05-23",
                                    "first_booking_date": "2016-06-01",
                                    "last_booking_date": "2017-02-09"
                                },
                                {
                                    "USERNEV": "csongor3",
                                    "NEV": "Nagymihály Csongor",
                                    "SZUL_DAT": "1984-03-05",
                                    "first_booking_date": "2016-05-01",
                                    "last_booking_date": "2017-02-13"
                                },
                                {
                                    "USERNEV": "dani",
                                    "NEV": "Vörös Dániel",
                                    "SZUL_DAT": "1986-10-14",
                                    "first_booking_date": "2016-06-06",
                                    "last_booking_date": "2017-02-25"
                                },
                                {
                                    "USERNEV": "daniel",
                                    "NEV": "Rácz Dániel",
                                    "SZUL_DAT": "1978-11-28",
                                    "first_booking_date": "2016-04-10",
                                    "last_booking_date": "2017-02-20"
                                },
                                {
                                    "USERNEV": "daniel1",
                                    "NEV": "Keszler Dániel",
                                    "SZUL_DAT": "1969-07-16",
                                    "first_booking_date": "2016-04-10",
                                    "last_booking_date": "2017-03-01"
                                },
                                {
                                    "USERNEV": "david",
                                    "NEV": "Ambrus Dávid",
                                    "SZUL_DAT": "1974-02-11",
                                    "first_booking_date": "2016-05-18",
                                    "last_booking_date": "2017-01-18"
                                },
                                {
                                    "USERNEV": "david1",
                                    "NEV": "Sobják Dávid",
                                    "SZUL_DAT": "1970-08-16",
                                    "first_booking_date": "2016-09-20",
                                    "last_booking_date": "2017-02-25"
                                },
                                {
                                    "USERNEV": "david4",
                                    "NEV": "Berta Dávid",
                                    "SZUL_DAT": "1990-10-08",
                                    "first_booking_date": "2017-02-16",
                                    "last_booking_date": "2017-02-16"
                                },
                                {
                                    "USERNEV": "debora",
                                    "NEV": "Barna Debóra",
                                    "SZUL_DAT": "1976-10-14",
                                    "first_booking_date": "2016-06-22",
                                    "last_booking_date": "2017-02-04"
                                },
                                {
                                    "USERNEV": "denes",
                                    "NEV": "Tömböly Dénes",
                                    "SZUL_DAT": "1975-03-14",
                                    "first_booking_date": "2016-05-27",
                                    "last_booking_date": "2016-11-06"
                                },
                                {
                                    "USERNEV": "dora3",
                                    "NEV": "Sarodi Dóra",
                                    "SZUL_DAT": "1995-05-18",
                                    "first_booking_date": "2016-08-16",
                                    "last_booking_date": "2016-11-22"
                                },
                                {
                                    "USERNEV": "edit",
                                    "NEV": "Bittmann Edit",
                                    "SZUL_DAT": "1984-04-20",
                                    "first_booking_date": "2016-07-14",
                                    "last_booking_date": "2017-02-08"
                                },
                                {
                                    "USERNEV": "emese",
                                    "NEV": "Kuruc Emese",
                                    "SZUL_DAT": "1989-08-10",
                                    "first_booking_date": "2016-07-22",
                                    "last_booking_date": "2017-01-30"
                                },
                                {
                                    "USERNEV": "eszter",
                                    "NEV": "Molnár Eszter",
                                    "SZUL_DAT": "1987-05-10",
                                    "first_booking_date": "2016-08-12",
                                    "last_booking_date": "2016-12-23"
                                },
                                {
                                    "USERNEV": "eszter2",
                                    "NEV": "Balogh Eszter",
                                    "SZUL_DAT": "1998-01-31",
                                    "first_booking_date": "2016-06-30",
                                    "last_booking_date": "2016-12-29"
                                },
                                {
                                    "USERNEV": "eszter4",
                                    "NEV": "Fülöp Eszter",
                                    "SZUL_DAT": "1993-06-28",
                                    "first_booking_date": "2017-01-05",
                                    "last_booking_date": "2017-02-26"
                                },
                                {
                                    "USERNEV": "ESZTERE",
                                    "NEV": "Érsek Eszter",
                                    "SZUL_DAT": "1978-08-28",
                                    "first_booking_date": "2016-05-30",
                                    "last_booking_date": "2017-02-10"
                                },
                                {
                                    "USERNEV": "eva",
                                    "NEV": "Enyedi Éva",
                                    "SZUL_DAT": "1967-06-30",
                                    "first_booking_date": "2016-10-06",
                                    "last_booking_date": "2017-01-14"
                                },
                                {
                                    "USERNEV": "eva2",
                                    "NEV": "Perlinger Éva",
                                    "SZUL_DAT": "1971-08-19",
                                    "first_booking_date": "2016-09-02",
                                    "last_booking_date": "2017-01-06"
                                },
                                {
                                    "USERNEV": "EVAV",
                                    "NEV": "Viktor Éva",
                                    "SZUL_DAT": "1980-12-26",
                                    "first_booking_date": "2016-05-01",
                                    "last_booking_date": "2017-02-04"
                                },
                                {
                                    "USERNEV": "ferenc1",
                                    "NEV": "Orosz Ferenc",
                                    "SZUL_DAT": "1983-10-08",
                                    "first_booking_date": "2016-05-08",
                                    "last_booking_date": "2016-11-07"
                                },
                                {
                                    "USERNEV": "fruzsina4",
                                    "NEV": "Frank Fruzsina",
                                    "SZUL_DAT": "1996-08-16",
                                    "first_booking_date": "2016-06-02",
                                    "last_booking_date": "2017-01-22"
                                },
                                {
                                    "USERNEV": "gabor1",
                                    "NEV": "Köves Gábor",
                                    "SZUL_DAT": "1973-07-15",
                                    "first_booking_date": "2016-06-20",
                                    "last_booking_date": "2016-11-19"
                                },
                                {
                                    "USERNEV": "gabor4",
                                    "NEV": "Telek Gábor",
                                    "SZUL_DAT": "1987-03-15",
                                    "first_booking_date": "2016-04-26",
                                    "last_booking_date": "2016-11-07"
                                },
                                {
                                    "USERNEV": "gabriella1",
                                    "NEV": "Nagy Gabriella",
                                    "SZUL_DAT": "1982-11-01",
                                    "first_booking_date": "2016-04-21",
                                    "last_booking_date": "2017-02-21"
                                },
                                {
                                    "USERNEV": "gabriella10",
                                    "NEV": "Vida Gabriella",
                                    "SZUL_DAT": "1969-06-18",
                                    "first_booking_date": "2016-10-01",
                                    "last_booking_date": "2016-10-01"
                                },
                                {
                                    "USERNEV": "georgij",
                                    "NEV": "Nyíri Georgij",
                                    "SZUL_DAT": "1983-02-23",
                                    "first_booking_date": "2016-06-16",
                                    "last_booking_date": "2016-09-18"
                                },
                                {
                                    "USERNEV": "gusztav",
                                    "NEV": "Bárci Gusztáv",
                                    "SZUL_DAT": "1967-02-25",
                                    "first_booking_date": "2016-05-06",
                                    "last_booking_date": "2017-02-23"
                                },
                                {
                                    "USERNEV": "GYONGYIK",
                                    "NEV": "Kornseé Gyöngyi",
                                    "SZUL_DAT": "1974-06-07",
                                    "first_booking_date": "2016-06-02",
                                    "last_booking_date": "2017-01-22"
                                },
                                {
                                    "USERNEV": "GYORGYO",
                                    "NEV": "Oroszi György",
                                    "SZUL_DAT": "1980-03-23",
                                    "first_booking_date": "2016-05-27",
                                    "last_booking_date": "2017-02-24"
                                },
                                {
                                    "USERNEV": "henrik3",
                                    "NEV": "Nádudvari Henrik",
                                    "SZUL_DAT": "1986-12-05",
                                    "first_booking_date": "2016-08-24",
                                    "last_booking_date": "2017-01-27"
                                },
                                {
                                    "USERNEV": "IBOLYAA",
                                    "NEV": "Andor Ibolya",
                                    "SZUL_DAT": "1983-11-27",
                                    "first_booking_date": "2016-08-29",
                                    "last_booking_date": "2017-01-17"
                                },
                                {
                                    "USERNEV": "ilona3",
                                    "NEV": "Bosnyák Ilona",
                                    "SZUL_DAT": "1990-08-06",
                                    "first_booking_date": "2016-07-31",
                                    "last_booking_date": "2016-12-25"
                                },
                                {
                                    "USERNEV": "imre",
                                    "NEV": "Búza Imre",
                                    "SZUL_DAT": "1988-09-30",
                                    "first_booking_date": "2016-09-17",
                                    "last_booking_date": "2016-10-28"
                                },
                                {
                                    "USERNEV": "imre1",
                                    "NEV": "Papp Imre",
                                    "SZUL_DAT": "1976-06-25",
                                    "first_booking_date": "2016-06-23",
                                    "last_booking_date": "2017-02-05"
                                },
                                {
                                    "USERNEV": "istvan",
                                    "NEV": "Soós István",
                                    "SZUL_DAT": "1986-06-28",
                                    "first_booking_date": "2016-10-07",
                                    "last_booking_date": "2017-01-02"
                                },
                                {
                                    "USERNEV": "istvan1",
                                    "NEV": "Vizi István",
                                    "SZUL_DAT": "1997-12-01",
                                    "first_booking_date": "2016-04-16",
                                    "last_booking_date": "2017-02-07"
                                },
                                {
                                    "USERNEV": "ISTVANV",
                                    "NEV": "Varga István",
                                    "SZUL_DAT": "1989-04-09",
                                    "first_booking_date": "2016-07-01",
                                    "last_booking_date": "2016-09-29"
                                },
                                {
                                    "USERNEV": "janos3",
                                    "NEV": "Harangozó János",
                                    "SZUL_DAT": "1967-11-02",
                                    "first_booking_date": "2016-06-04",
                                    "last_booking_date": "2017-02-12"
                                },
                                {
                                    "USERNEV": "JANOSG",
                                    "NEV": "Giliga János",
                                    "SZUL_DAT": "1975-01-03",
                                    "first_booking_date": "2016-05-09",
                                    "last_booking_date": "2017-01-31"
                                },
                                {
                                    "USERNEV": "JANOSP",
                                    "NEV": "Pálinkás János",
                                    "SZUL_DAT": "1984-10-12",
                                    "first_booking_date": "2016-07-04",
                                    "last_booking_date": "2016-12-18"
                                },
                                {
                                    "USERNEV": "jozsef",
                                    "NEV": "Gergely József",
                                    "SZUL_DAT": "1985-11-01",
                                    "first_booking_date": "2016-09-13",
                                    "last_booking_date": "2016-12-06"
                                },
                                {
                                    "USERNEV": "jozsef2",
                                    "NEV": "Vajda József",
                                    "SZUL_DAT": "1978-09-04",
                                    "first_booking_date": "2016-07-06",
                                    "last_booking_date": "2016-11-25"
                                },
                                {
                                    "USERNEV": "JOZSEFG",
                                    "NEV": "Gyuris József",
                                    "SZUL_DAT": "1975-05-26",
                                    "first_booking_date": "2016-05-02",
                                    "last_booking_date": "2017-02-24"
                                },
                                {
                                    "USERNEV": "JUDITH",
                                    "NEV": "Hídasi Judit",
                                    "SZUL_DAT": "1997-07-12",
                                    "first_booking_date": "2016-06-06",
                                    "last_booking_date": "2016-12-19"
                                },
                                {
                                    "USERNEV": "julia",
                                    "NEV": "Tóth Júlia",
                                    "SZUL_DAT": "1993-03-02",
                                    "first_booking_date": "2016-04-21",
                                    "last_booking_date": "2017-02-27"
                                },
                                {
                                    "USERNEV": "julia4",
                                    "NEV": "Nagy Júlia",
                                    "SZUL_DAT": "1985-08-11",
                                    "first_booking_date": "2016-11-07",
                                    "last_booking_date": "2017-02-04"
                                },
                                {
                                    "USERNEV": "julianna4",
                                    "NEV": "Szabó Julianna",
                                    "SZUL_DAT": "1990-09-29",
                                    "first_booking_date": "2016-07-20",
                                    "last_booking_date": "2016-11-27"
                                },
                                {
                                    "USERNEV": "kata",
                                    "NEV": "Gondos Katalin",
                                    "SZUL_DAT": "1968-06-22",
                                    "first_booking_date": "2016-04-10",
                                    "last_booking_date": "2017-01-15"
                                },
                                {
                                    "USERNEV": "katalin",
                                    "NEV": "Horváth Katalin",
                                    "SZUL_DAT": "1968-01-01",
                                    "first_booking_date": "2016-04-10",
                                    "last_booking_date": "2017-02-24"
                                },
                                {
                                    "USERNEV": "katalin4",
                                    "NEV": "Kertész Katalin",
                                    "SZUL_DAT": "1986-04-13",
                                    "first_booking_date": "2016-07-01",
                                    "last_booking_date": "2017-01-24"
                                },
                                {
                                    "USERNEV": "kati",
                                    "NEV": "Zatykó Katalin",
                                    "SZUL_DAT": "1995-05-01",
                                    "first_booking_date": "2016-06-06",
                                    "last_booking_date": "2016-10-30"
                                },
                                {
                                    "USERNEV": "katka",
                                    "NEV": "Kovács Katalin",
                                    "SZUL_DAT": "1975-03-31",
                                    "first_booking_date": "2016-04-10",
                                    "last_booking_date": "2017-01-19"
                                },
                                {
                                    "USERNEV": "klaudia2",
                                    "NEV": "Bakó Klaudia",
                                    "SZUL_DAT": "1982-04-16",
                                    "first_booking_date": "2016-06-06",
                                    "last_booking_date": "2016-10-02"
                                },
                                {
                                    "USERNEV": "kornel4",
                                    "NEV": "Lukács Kornél",
                                    "SZUL_DAT": "1975-09-30",
                                    "first_booking_date": "2016-05-08",
                                    "last_booking_date": "2016-09-23"
                                },
                                {
                                    "USERNEV": "kristof4",
                                    "NEV": "Poprádi Kristóf",
                                    "SZUL_DAT": "1984-01-15",
                                    "first_booking_date": "2016-04-08",
                                    "last_booking_date": "2016-09-30"
                                },
                                {
                                    "USERNEV": "kriszti",
                                    "NEV": "Horváth Krisztina",
                                    "SZUL_DAT": "1978-06-12",
                                    "first_booking_date": "2016-05-19",
                                    "last_booking_date": "2017-03-03"
                                },
                                {
                                    "USERNEV": "krisztian4",
                                    "NEV": "Czérna Krisztián",
                                    "SZUL_DAT": "1970-08-01",
                                    "first_booking_date": "2016-06-03",
                                    "last_booking_date": "2017-02-23"
                                },
                                {
                                    "USERNEV": "KRISZTIANM",
                                    "NEV": "Mogyródi Krisztián",
                                    "SZUL_DAT": "1968-05-27",
                                    "first_booking_date": "2016-04-09",
                                    "last_booking_date": "2017-01-16"
                                },
                                {
                                    "USERNEV": "krisztina",
                                    "NEV": "Szedlár Krisztina",
                                    "SZUL_DAT": "1979-05-10",
                                    "first_booking_date": "2016-05-21",
                                    "last_booking_date": "2017-02-16"
                                },
                                {
                                    "USERNEV": "krisztina1",
                                    "NEV": "Bori Krisztina",
                                    "SZUL_DAT": "1969-10-13",
                                    "first_booking_date": "2016-04-28",
                                    "last_booking_date": "2017-01-21"
                                },
                                {
                                    "USERNEV": "KRISZTINAG",
                                    "NEV": "Gyárfás Krisztina",
                                    "SZUL_DAT": "1987-09-19",
                                    "first_booking_date": "2016-04-23",
                                    "last_booking_date": "2017-01-25"
                                },
                                {
                                    "USERNEV": "lajos",
                                    "NEV": "Kiss Lajos",
                                    "SZUL_DAT": "1978-10-31",
                                    "first_booking_date": "2016-07-18",
                                    "last_booking_date": "2017-02-12"
                                },
                                {
                                    "USERNEV": "lala",
                                    "NEV": "Nagymihály Lajos",
                                    "SZUL_DAT": "1997-02-24",
                                    "first_booking_date": "2016-06-16",
                                    "last_booking_date": "2017-01-17"
                                },
                                {
                                    "USERNEV": "laszlo1",
                                    "NEV": "Farkas László",
                                    "SZUL_DAT": "1967-10-30",
                                    "first_booking_date": "2016-09-23",
                                    "last_booking_date": "2016-09-23"
                                },
                                {
                                    "USERNEV": "laszlo2",
                                    "NEV": "Móra László",
                                    "SZUL_DAT": "1975-02-19",
                                    "first_booking_date": "2016-04-06",
                                    "last_booking_date": "2016-11-25"
                                },
                                {
                                    "USERNEV": "LASZLOA",
                                    "NEV": "Antal László",
                                    "SZUL_DAT": "1969-06-29",
                                    "first_booking_date": "2016-06-03",
                                    "last_booking_date": "2017-02-08"
                                },
                                {
                                    "USERNEV": "LASZLON",
                                    "NEV": "Nagy László",
                                    "SZUL_DAT": "1969-04-12",
                                    "first_booking_date": "2016-06-03",
                                    "last_booking_date": "2017-02-18"
                                },
                                {
                                    "USERNEV": "maria1",
                                    "NEV": "Baráth Mária",
                                    "SZUL_DAT": "1995-11-19",
                                    "first_booking_date": "2016-05-13",
                                    "last_booking_date": "2017-02-24"
                                },
                                {
                                    "USERNEV": "mark",
                                    "NEV": "Kispál Márk",
                                    "SZUL_DAT": "1996-01-23",
                                    "first_booking_date": "2016-04-19",
                                    "last_booking_date": "2016-11-19"
                                },
                                {
                                    "USERNEV": "MARKH",
                                    "NEV": "Horváth Márk",
                                    "SZUL_DAT": "1997-09-23",
                                    "first_booking_date": "2016-09-14",
                                    "last_booking_date": "2017-01-22"
                                },
                                {
                                    "USERNEV": "marton",
                                    "NEV": "Kalacsi Márton",
                                    "SZUL_DAT": "1989-06-24",
                                    "first_booking_date": "2016-04-27",
                                    "last_booking_date": "2017-03-02"
                                },
                                {
                                    "USERNEV": "MATEK",
                                    "NEV": "Koza Máté",
                                    "SZUL_DAT": "1997-02-28",
                                    "first_booking_date": "2016-08-17",
                                    "last_booking_date": "2017-01-16"
                                },
                                {
                                    "USERNEV": "matyas2",
                                    "NEV": "Botka Mátyás",
                                    "SZUL_DAT": "1972-07-07",
                                    "first_booking_date": "2016-07-13",
                                    "last_booking_date": "2016-12-09"
                                },
                                {
                                    "USERNEV": "MATYASS",
                                    "NEV": "Szilágyi Mátyás",
                                    "SZUL_DAT": "1975-03-22",
                                    "first_booking_date": "2016-05-10",
                                    "last_booking_date": "2017-01-09"
                                },
                                {
                                    "USERNEV": "MIHALYJ",
                                    "NEV": "Juhász Mihály",
                                    "SZUL_DAT": "1979-10-12",
                                    "first_booking_date": "2016-05-30",
                                    "last_booking_date": "2017-02-06"
                                },
                                {
                                    "USERNEV": "miklos2",
                                    "NEV": "Gondos Miklós",
                                    "SZUL_DAT": "1995-10-07",
                                    "first_booking_date": "2016-04-19",
                                    "last_booking_date": "2016-11-16"
                                },
                                {
                                    "USERNEV": "MIKLOSB",
                                    "NEV": "Balla Miklós",
                                    "SZUL_DAT": "1979-02-16",
                                    "first_booking_date": "2016-06-26",
                                    "last_booking_date": "2016-12-05"
                                },
                                {
                                    "USERNEV": "MONIKAM",
                                    "NEV": "Mohos Mónika",
                                    "SZUL_DAT": "1974-10-01",
                                    "first_booking_date": "2016-04-29",
                                    "last_booking_date": "2017-02-23"
                                },
                                {
                                    "USERNEV": "NANDORF",
                                    "NEV": "Fő Nándor",
                                    "SZUL_DAT": "1968-11-12",
                                    "first_booking_date": "2016-04-06",
                                    "last_booking_date": "2017-02-05"
                                },
                                {
                                    "USERNEV": "nikolett3",
                                    "NEV": "Horváth Nikolett",
                                    "SZUL_DAT": "1981-09-29",
                                    "first_booking_date": "2016-05-24",
                                    "last_booking_date": "2016-10-22"
                                },
                                {
                                    "USERNEV": "nikoletta4",
                                    "NEV": "Kő Nikoletta",
                                    "SZUL_DAT": "1972-01-10",
                                    "first_booking_date": "2016-04-08",
                                    "last_booking_date": "2017-02-01"
                                },
                                {
                                    "USERNEV": "NIKOLETTAT",
                                    "NEV": "Tatár Nikoletta",
                                    "SZUL_DAT": "1997-10-19",
                                    "first_booking_date": "2016-05-22",
                                    "last_booking_date": "2016-09-21"
                                },
                                {
                                    "USERNEV": "norbert",
                                    "NEV": "Szűcs Norbert",
                                    "SZUL_DAT": "1969-07-17",
                                    "first_booking_date": "2016-07-08",
                                    "last_booking_date": "2017-02-26"
                                },
                                {
                                    "USERNEV": "norbert2",
                                    "NEV": "Hegedűs Norbert",
                                    "SZUL_DAT": "1991-07-17",
                                    "first_booking_date": "2016-04-19",
                                    "last_booking_date": "2017-01-29"
                                },
                                {
                                    "USERNEV": "norbert4",
                                    "NEV": "Mile Norbert",
                                    "SZUL_DAT": "1983-06-15",
                                    "first_booking_date": "2016-04-10",
                                    "last_booking_date": "2017-03-03"
                                },
                                {
                                    "USERNEV": "norbert5",
                                    "NEV": "Béres Norbert",
                                    "SZUL_DAT": "1975-07-27",
                                    "first_booking_date": "2016-06-24",
                                    "last_booking_date": "2016-11-05"
                                },
                                {
                                    "USERNEV": "pal",
                                    "NEV": "Barabás Pál",
                                    "SZUL_DAT": "1968-02-06",
                                    "first_booking_date": "2016-08-14",
                                    "last_booking_date": "2017-02-20"
                                },
                                {
                                    "USERNEV": "peter1",
                                    "NEV": "Kozma Péter",
                                    "SZUL_DAT": "1976-03-18",
                                    "first_booking_date": "2016-07-14",
                                    "last_booking_date": "2017-02-28"
                                },
                                {
                                    "USERNEV": "peter2",
                                    "NEV": "Bozsó Péter",
                                    "SZUL_DAT": "1976-01-26",
                                    "first_booking_date": "2016-07-03",
                                    "last_booking_date": "2016-11-15"
                                },
                                {
                                    "USERNEV": "peter3",
                                    "NEV": "Szalai Péter",
                                    "SZUL_DAT": "1983-07-18",
                                    "first_booking_date": "2016-06-30",
                                    "last_booking_date": "2017-02-21"
                                },
                                {
                                    "USERNEV": "peter4",
                                    "NEV": "Bíró Péter",
                                    "SZUL_DAT": "1985-09-01",
                                    "first_booking_date": "2016-04-12",
                                    "last_booking_date": "2017-02-05"
                                },
                                {
                                    "USERNEV": "PETERB",
                                    "NEV": "Berendi Péter",
                                    "SZUL_DAT": "1969-01-01",
                                    "first_booking_date": "2016-04-06",
                                    "last_booking_date": "2016-11-17"
                                },
                                {
                                    "USERNEV": "polla",
                                    "NEV": "Palágyi Polla",
                                    "SZUL_DAT": "1994-02-04",
                                    "first_booking_date": "2016-04-17",
                                    "last_booking_date": "2017-02-11"
                                },
                                {
                                    "USERNEV": "rajmond4",
                                    "NEV": "Rácz Rajmond",
                                    "SZUL_DAT": "1993-09-25",
                                    "first_booking_date": "2016-09-05",
                                    "last_booking_date": "2016-11-16"
                                },
                                {
                                    "USERNEV": "reka4",
                                    "NEV": "Szikszai Réka",
                                    "SZUL_DAT": "1969-11-27",
                                    "first_booking_date": "2016-07-27",
                                    "last_booking_date": "2017-02-26"
                                },
                                {
                                    "USERNEV": "RENATAK",
                                    "NEV": "Kardos Renáta",
                                    "SZUL_DAT": "1988-05-17",
                                    "first_booking_date": "2016-10-27",
                                    "last_booking_date": "2017-03-01"
                                },
                                {
                                    "USERNEV": "RENATAS",
                                    "NEV": "Szirmai Renáta",
                                    "SZUL_DAT": "1991-03-26",
                                    "first_booking_date": "2016-05-04",
                                    "last_booking_date": "2017-02-14"
                                },
                                {
                                    "USERNEV": "robert2",
                                    "NEV": "Patay Róbert",
                                    "SZUL_DAT": "1977-01-08",
                                    "first_booking_date": "2016-05-15",
                                    "last_booking_date": "2016-12-17"
                                },
                                {
                                    "USERNEV": "ROBERTI",
                                    "NEV": "Iván Róbert",
                                    "SZUL_DAT": "1967-07-02",
                                    "first_booking_date": "2016-07-12",
                                    "last_booking_date": "2017-02-17"
                                },
                                {
                                    "USERNEV": "ROBERTP",
                                    "NEV": "Pásztor Róbert",
                                    "SZUL_DAT": "1972-05-16",
                                    "first_booking_date": "2016-07-30",
                                    "last_booking_date": "2016-09-08"
                                },
                                {
                                    "USERNEV": "roland",
                                    "NEV": "Tóth Roland",
                                    "SZUL_DAT": "1968-03-21",
                                    "first_booking_date": "2016-06-09",
                                    "last_booking_date": "2016-11-19"
                                },
                                {
                                    "USERNEV": "roland1",
                                    "NEV": "Ferencz Roland",
                                    "SZUL_DAT": "1985-12-31",
                                    "first_booking_date": "2016-11-05",
                                    "last_booking_date": "2017-01-16"
                                },
                                {
                                    "USERNEV": "roza2",
                                    "NEV": "Bucskó Róza",
                                    "SZUL_DAT": "1988-12-26",
                                    "first_booking_date": "2016-09-10",
                                    "last_booking_date": "2017-02-18"
                                },
                                {
                                    "USERNEV": "sandor",
                                    "NEV": "Karasz Sándor",
                                    "SZUL_DAT": "1970-01-27",
                                    "first_booking_date": "2016-07-04",
                                    "last_booking_date": "2016-09-19"
                                },
                                {
                                    "USERNEV": "sandor3",
                                    "NEV": "Farkas Sándor",
                                    "SZUL_DAT": "1989-01-27",
                                    "first_booking_date": "2016-05-12",
                                    "last_booking_date": "2016-11-10"
                                },
                                {
                                    "USERNEV": "sandor4",
                                    "NEV": "Nagy Sándor",
                                    "SZUL_DAT": "1997-06-11",
                                    "first_booking_date": "2016-10-15",
                                    "last_booking_date": "2017-01-22"
                                },
                                {
                                    "USERNEV": "sara",
                                    "NEV": "Farkas Sára",
                                    "SZUL_DAT": "1973-04-05",
                                    "first_booking_date": "2016-05-28",
                                    "last_booking_date": "2016-12-25"
                                },
                                {
                                    "USERNEV": "SEBASTIANF",
                                    "NEV": "Foltényi Sebastián",
                                    "SZUL_DAT": "1992-09-09",
                                    "first_booking_date": "2016-04-06",
                                    "last_booking_date": "2016-09-17"
                                },
                                {
                                    "USERNEV": "sebestyen",
                                    "NEV": "Rab Sebestyén",
                                    "SZUL_DAT": "1992-03-03",
                                    "first_booking_date": "2016-04-07",
                                    "last_booking_date": "2016-10-26"
                                },
                                {
                                    "USERNEV": "szabolcs",
                                    "NEV": "Bodor Szabolcs",
                                    "SZUL_DAT": "1990-07-16",
                                    "first_booking_date": "2016-12-05",
                                    "last_booking_date": "2016-12-05"
                                },
                                {
                                    "USERNEV": "SZABOLCSM",
                                    "NEV": "Miklós Szabolcs",
                                    "SZUL_DAT": "1980-08-11",
                                    "first_booking_date": "2016-06-18",
                                    "last_booking_date": "2017-02-04"
                                },
                                {
                                    "USERNEV": "SZILARDS",
                                    "NEV": "Szalai Szilárd",
                                    "SZUL_DAT": "1967-09-28",
                                    "first_booking_date": "2016-04-23",
                                    "last_booking_date": "2017-02-08"
                                },
                                {
                                    "USERNEV": "szilvia1",
                                    "NEV": "Tari Szilvia",
                                    "SZUL_DAT": "1971-03-09",
                                    "first_booking_date": "2016-05-14",
                                    "last_booking_date": "2017-01-28"
                                },
                                {
                                    "USERNEV": "tamara2",
                                    "NEV": "Miklós Tamara",
                                    "SZUL_DAT": "1980-08-11",
                                    "first_booking_date": "2016-08-12",
                                    "last_booking_date": "2016-11-15"
                                },
                                {
                                    "USERNEV": "tamas",
                                    "NEV": "Antal Tamás",
                                    "SZUL_DAT": "1984-09-05",
                                    "first_booking_date": "2016-05-17",
                                    "last_booking_date": "2017-02-14"
                                },
                                {
                                    "USERNEV": "TAMASF",
                                    "NEV": "Fényes Tamás",
                                    "SZUL_DAT": "1997-11-06",
                                    "first_booking_date": "2016-05-03",
                                    "last_booking_date": "2017-02-16"
                                },
                                {
                                    "USERNEV": "tibor",
                                    "NEV": "Gombos Tibor",
                                    "SZUL_DAT": "1993-11-28",
                                    "first_booking_date": "2016-10-09",
                                    "last_booking_date": "2016-11-05"
                                },
                                {
                                    "USERNEV": "tibor2",
                                    "NEV": "Dániel Tibor",
                                    "SZUL_DAT": "1985-02-02",
                                    "first_booking_date": "2016-10-20",
                                    "last_booking_date": "2016-10-20"
                                },
                                {
                                    "USERNEV": "tihamer",
                                    "NEV": "Kazy Tihamér",
                                    "SZUL_DAT": "1991-07-05",
                                    "first_booking_date": "2016-05-30",
                                    "last_booking_date": "2016-12-25"
                                },
                                {
                                    "USERNEV": "timea",
                                    "NEV": "Papós Tímea",
                                    "SZUL_DAT": "1996-01-08",
                                    "first_booking_date": "2016-12-26",
                                    "last_booking_date": "2016-12-26"
                                },
                                {
                                    "USERNEV": "timea2",
                                    "NEV": "Dusha Tímea",
                                    "SZUL_DAT": "1975-08-22",
                                    "first_booking_date": "2016-06-06",
                                    "last_booking_date": "2016-12-14"
                                },
                                {
                                    "USERNEV": "tunde",
                                    "NEV": "Turcsik Tünde",
                                    "SZUL_DAT": "1974-02-12",
                                    "first_booking_date": "2016-06-03",
                                    "last_booking_date": "2017-01-03"
                                },
                                {
                                    "USERNEV": "valentin",
                                    "NEV": "Feró Valentin",
                                    "SZUL_DAT": "1986-01-09",
                                    "first_booking_date": "2016-05-24",
                                    "last_booking_date": "2016-12-01"
                                },
                                {
                                    "USERNEV": "veronika4",
                                    "NEV": "Tankó Veronika",
                                    "SZUL_DAT": "1983-08-28",
                                    "first_booking_date": "2016-05-30",
                                    "last_booking_date": "2017-02-03"
                                },
                                {
                                    "USERNEV": "VIKTORIAU",
                                    "NEV": "Urbán Viktoria",
                                    "SZUL_DAT": "1996-05-03",
                                    "first_booking_date": "2016-04-30",
                                    "last_booking_date": "2016-10-26"
                                },
                                {
                                    "USERNEV": "VIKTORK",
                                    "NEV": "Keresztúri Viktor",
                                    "SZUL_DAT": "1989-05-05",
                                    "first_booking_date": "2016-05-30",
                                    "last_booking_date": "2016-06-06"
                                },
                                {
                                    "USERNEV": "vivien3",
                                    "NEV": "Boros Vivien",
                                    "SZUL_DAT": "1991-07-01",
                                    "first_booking_date": "2016-05-02",
                                    "last_booking_date": "2016-12-24"
                                },
                                {
                                    "USERNEV": "zoltan",
                                    "NEV": "Fodor Zoltán",
                                    "SZUL_DAT": "1979-11-25",
                                    "first_booking_date": "2016-08-24",
                                    "last_booking_date": "2016-09-05"
                                },
                                {
                                    "USERNEV": "zoltan4",
                                    "NEV": "Barna Zoltán",
                                    "SZUL_DAT": "1986-05-20",
                                    "first_booking_date": "2016-05-12",
                                    "last_booking_date": "2017-01-01"
                                },
                                {
                                    "USERNEV": "ZOLTANP",
                                    "NEV": "Pintér Zoltán",
                                    "SZUL_DAT": "1977-06-07",
                                    "first_booking_date": "2016-06-05",
                                    "last_booking_date": "2016-12-25"
                                },
                                {
                                    "USERNEV": "ZOLTANT",
                                    "NEV": "Tóth Zoltán",
                                    "SZUL_DAT": "1985-12-14",
                                    "first_booking_date": "2016-05-01",
                                    "last_booking_date": "2017-01-16"
                                },
                                {
                                    "USERNEV": "zsofi1",
                                    "NEV": "Molnár Zsófi",
                                    "SZUL_DAT": "1983-11-17",
                                    "first_booking_date": "2016-06-16",
                                    "last_booking_date": "2017-02-18"
                                },
                                {
                                    "USERNEV": "zsolt1",
                                    "NEV": "Pulai Zsolt",
                                    "SZUL_DAT": "1988-05-27",
                                    "first_booking_date": "2016-04-14",
                                    "last_booking_date": "2016-07-31"
                                },
                                {
                                    "USERNEV": "ZSOLTJ",
                                    "NEV": "Józsa Zsolt",
                                    "SZUL_DAT": "1983-09-29",
                                    "first_booking_date": "2016-04-24",
                                    "last_booking_date": "2016-10-01"
                                },
                                {
                                    "USERNEV": "zsuzsa",
                                    "NEV": "Pusztai Zsuzsanna",
                                    "SZUL_DAT": "1980-09-17",
                                    "first_booking_date": "2016-07-24",
                                    "last_booking_date": "2016-11-28"
                                },
                                {
                                    "USERNEV": "zsuzsa3",
                                    "NEV": "Varsányi Zsuzsa",
                                    "SZUL_DAT": "1979-03-06",
                                    "first_booking_date": "2016-07-30",
                                    "last_booking_date": "2016-10-27"
                                },
                                {
                                    "USERNEV": "zsuzsanna",
                                    "NEV": "Barta Zsuzsanna",
                                    "SZUL_DAT": "1994-10-07",
                                    "first_booking_date": "2016-05-17",
                                    "last_booking_date": "2017-01-16"
                                },
                                {
                                    "USERNEV": "ZSUZSAV",
                                    "NEV": "Vajda Zsuzsa",
                                    "SZUL_DAT": "1976-12-11",
                                    "first_booking_date": "2016-04-14",
                                    "last_booking_date": "2016-11-21"
                                }
                            ]
                        },
                        "text/html": [
                            "<table>",
                            "<tr><th>USERNEV</th><th>NEV</th><th>SZUL_DAT</th><th>first_booking_date</th><th>last_booking_date</th></tr>",
                            "<tr><td>adam1</td><td>Kiss Ádám</td><td>1991-12-28</td><td>2016-05-28</td><td>2016-10-19</td></tr>",
                            "<tr><td>adam3</td><td>Barkóci Ádám</td><td>1970-06-07</td><td>2016-09-12</td><td>2017-02-06</td></tr>",
                            "<tr><td>adam4</td><td>Bieniek Ádám</td><td>1976-08-01</td><td>2016-08-28</td><td>2017-02-23</td></tr>",
                            "<tr><td>agnes</td><td>Lengyel Ágnes</td><td>1979-12-10</td><td>2016-05-09</td><td>2016-11-07</td></tr>",
                            "<tr><td>agnes3</td><td>Hartyánszky Ágnes</td><td>1967-04-11</td><td>2016-08-04</td><td>2017-02-16</td></tr>",
                            "<tr><td>AGNESH</td><td>Horváth Ágnes</td><td>1981-12-24</td><td>2016-04-10</td><td>2017-01-16</td></tr>",
                            "<tr><td>AGNESK</td><td>Kovács Ágnes</td><td>1988-10-02</td><td>2016-07-29</td><td>2016-12-17</td></tr>",
                            "<tr><td>akos</td><td>Bíró Ákos</td><td>1982-04-24</td><td>2016-05-18</td><td>2016-12-29</td></tr>",
                            "<tr><td>aladar</td><td>Dunai Aladár</td><td>1980-11-01</td><td>2016-05-17</td><td>2016-11-22</td></tr>",
                            "<tr><td>alexandra</td><td>Bagóczki Alexandra</td><td>1992-03-25</td><td>2016-05-21</td><td>2017-01-19</td></tr>",
                            "<tr><td>andi</td><td>Maródi Andrea</td><td>1968-05-07</td><td>2016-05-08</td><td>2017-01-13</td></tr>",
                            "<tr><td>andras2</td><td>Tóth András</td><td>1997-10-31</td><td>2016-05-30</td><td>2017-02-08</td></tr>",
                            "<tr><td>andras21</td><td>Molnár András</td><td>1977-11-16</td><td>2016-06-21</td><td>2017-01-28</td></tr>",
                            "<tr><td>andras3</td><td>Vígh András</td><td>1971-04-02</td><td>2016-05-01</td><td>2017-02-02</td></tr>",
                            "<tr><td>andras4</td><td>Back András</td><td>1984-04-07</td><td>2016-09-17</td><td>2017-01-09</td></tr>",
                            "<tr><td>andras41</td><td>Komjáti András</td><td>1997-10-25</td><td>2016-05-14</td><td>2016-11-23</td></tr>",
                            "<tr><td>ANDRASE</td><td>Erdei András</td><td>1997-05-29</td><td>2016-04-24</td><td>2016-11-29</td></tr>",
                            "<tr><td>ANDRASN</td><td>Nagy András</td><td>1980-09-05</td><td>2016-11-25</td><td>2016-11-25</td></tr>",
                            "<tr><td>andrea</td><td>Kiss Andrea</td><td>1993-03-25</td><td>2016-07-27</td><td>2017-02-09</td></tr>",
                            "<tr><td>andrea3</td><td>Szomor Andrea</td><td>1996-05-10</td><td>2016-11-19</td><td>2016-11-19</td></tr>",
                            "<tr><td>andrea4</td><td>Neizer Andrea</td><td>1981-05-17</td><td>2016-05-27</td><td>2017-01-22</td></tr>",
                            "<tr><td>ANDREAT</td><td>Tornyos Andrea</td><td>1986-11-14</td><td>2016-07-27</td><td>2016-10-08</td></tr>",
                            "<tr><td>anett3</td><td>Pivarcsi Anett</td><td>1967-01-03</td><td>2016-04-10</td><td>2016-10-16</td></tr>",
                            "<tr><td>aniko</td><td>Tóth Anikó</td><td>1973-06-03</td><td>2016-06-25</td><td>2017-02-23</td></tr>",
                            "<tr><td>aniko4</td><td>Böröcz Anikó</td><td>1978-03-26</td><td>2016-07-02</td><td>2016-10-16</td></tr>",
                            "<tr><td>ANIKOS</td><td>Simon Anikó</td><td>1988-12-14</td><td>2016-04-19</td><td>2016-11-10</td></tr>",
                            "<tr><td>anita</td><td>Hamvay-Kovács Anita</td><td>1971-03-20</td><td>2016-09-28</td><td>2017-02-20</td></tr>",
                            "<tr><td>annamaria1</td><td>Szűcs Annamária</td><td>1990-04-27</td><td>2016-06-06</td><td>2017-01-30</td></tr>",
                            "<tr><td>ANNAMARIAR</td><td>Regős Annamária</td><td>1977-09-26</td><td>2016-06-08</td><td>2017-02-16</td></tr>",
                            "<tr><td>aron2</td><td>Jakab Áron</td><td>1971-04-26</td><td>2016-04-11</td><td>2017-02-26</td></tr>",
                            "<tr><td>ARONK</td><td>Kelemen Áron</td><td>1989-08-10</td><td>2016-04-06</td><td>2017-02-21</td></tr>",
                            "<tr><td>arpad2</td><td>Ötvös Árpád</td><td>1990-06-08</td><td>2016-06-05</td><td>2017-02-18</td></tr>",
                            "<tr><td>ARPADH</td><td>Horváth Árpád</td><td>1990-05-18</td><td>2016-06-06</td><td>2017-02-16</td></tr>",
                            "<tr><td>ARPADM</td><td>Móricz Árpád</td><td>1986-04-20</td><td>2016-05-29</td><td>2017-02-12</td></tr>",
                            "<tr><td>attila</td><td>Csóti Attila</td><td>1979-12-25</td><td>2016-09-30</td><td>2016-12-22</td></tr>",
                            "<tr><td>attila1</td><td>Gulyás Attila</td><td>1982-08-16</td><td>2016-05-20</td><td>2017-01-23</td></tr>",
                            "<tr><td>attila4</td><td>Baróti Attila</td><td>1975-11-06</td><td>2016-08-18</td><td>2017-02-15</td></tr>",
                            "<tr><td>ATTILAO</td><td>Opra Attila</td><td>1995-05-08</td><td>2016-05-21</td><td>2017-02-22</td></tr>",
                            "<tr><td>balazs1</td><td>Bozsik Balázs</td><td>1992-11-03</td><td>2016-05-07</td><td>2017-02-12</td></tr>",
                            "<tr><td>balazs2</td><td>Szűcs Balázs</td><td>1984-10-31</td><td>2016-04-16</td><td>2017-02-27</td></tr>",
                            "<tr><td>balazs3</td><td>Bakódy Balázs</td><td>1986-09-09</td><td>2016-07-17</td><td>2017-01-20</td></tr>",
                            "<tr><td>balint</td><td>Horváth Bálint</td><td>1996-03-17</td><td>2016-04-22</td><td>2016-11-24</td></tr>",
                            "<tr><td>balint1</td><td>Molnár Bálint</td><td>1989-08-24</td><td>2016-06-07</td><td>2017-01-03</td></tr>",
                            "<tr><td>balint2</td><td>Vukasinovity Bálint</td><td>1997-09-03</td><td>2016-07-21</td><td>2016-12-04</td></tr>",
                            "<tr><td>balu</td><td>Endresz Bálint</td><td>1976-08-01</td><td>2016-08-06</td><td>2016-12-22</td></tr>",
                            "<tr><td>beata4</td><td>Bagi Beáta</td><td>1994-03-19</td><td>2016-04-20</td><td>2016-10-03</td></tr>",
                            "<tr><td>BEATRIXK</td><td>Kerényi Beatrix</td><td>1972-04-06</td><td>2016-06-10</td><td>2017-02-08</td></tr>",
                            "<tr><td>BEATRIXS</td><td>Szekendi Beatrix</td><td>1981-04-06</td><td>2016-04-18</td><td>2017-02-03</td></tr>",
                            "<tr><td>BELAF</td><td>Farkas Béla</td><td>1995-02-24</td><td>2016-07-27</td><td>2016-12-06</td></tr>",
                            "<tr><td>bence</td><td>Győrffy Bence</td><td>1987-07-09</td><td>2016-05-08</td><td>2017-02-05</td></tr>",
                            "<tr><td>BENCEB</td><td>Bajusz Bence</td><td>1973-06-21</td><td>2016-05-14</td><td>2017-02-12</td></tr>",
                            "<tr><td>bernadett1</td><td>Simon Bernadett</td><td>1984-10-13</td><td>2016-06-12</td><td>2017-02-24</td></tr>",
                            "<tr><td>bernadett2</td><td>Kovács Bernadett</td><td>1996-08-20</td><td>2016-05-01</td><td>2017-01-24</td></tr>",
                            "<tr><td>BERNADETTO</td><td>Orbán Bernadett</td><td>1987-12-07</td><td>2016-04-10</td><td>2017-01-28</td></tr>",
                            "<tr><td>bertalan</td><td>Csiger Bertalan</td><td>1977-10-15</td><td>2016-05-18</td><td>2017-02-20</td></tr>",
                            "<tr><td>brigitta</td><td>Székely Brigitta</td><td>1978-09-13</td><td>2016-05-30</td><td>2017-01-23</td></tr>",
                            "<tr><td>brigitta3</td><td>Pataki Brigitta</td><td>1991-05-23</td><td>2016-06-01</td><td>2017-02-09</td></tr>",
                            "<tr><td>csongor3</td><td>Nagymihály Csongor</td><td>1984-03-05</td><td>2016-05-01</td><td>2017-02-13</td></tr>",
                            "<tr><td>dani</td><td>Vörös Dániel</td><td>1986-10-14</td><td>2016-06-06</td><td>2017-02-25</td></tr>",
                            "<tr><td>daniel</td><td>Rácz Dániel</td><td>1978-11-28</td><td>2016-04-10</td><td>2017-02-20</td></tr>",
                            "<tr><td>daniel1</td><td>Keszler Dániel</td><td>1969-07-16</td><td>2016-04-10</td><td>2017-03-01</td></tr>",
                            "<tr><td>david</td><td>Ambrus Dávid</td><td>1974-02-11</td><td>2016-05-18</td><td>2017-01-18</td></tr>",
                            "<tr><td>david1</td><td>Sobják Dávid</td><td>1970-08-16</td><td>2016-09-20</td><td>2017-02-25</td></tr>",
                            "<tr><td>david4</td><td>Berta Dávid</td><td>1990-10-08</td><td>2017-02-16</td><td>2017-02-16</td></tr>",
                            "<tr><td>debora</td><td>Barna Debóra</td><td>1976-10-14</td><td>2016-06-22</td><td>2017-02-04</td></tr>",
                            "<tr><td>denes</td><td>Tömböly Dénes</td><td>1975-03-14</td><td>2016-05-27</td><td>2016-11-06</td></tr>",
                            "<tr><td>dora3</td><td>Sarodi Dóra</td><td>1995-05-18</td><td>2016-08-16</td><td>2016-11-22</td></tr>",
                            "<tr><td>edit</td><td>Bittmann Edit</td><td>1984-04-20</td><td>2016-07-14</td><td>2017-02-08</td></tr>",
                            "<tr><td>emese</td><td>Kuruc Emese</td><td>1989-08-10</td><td>2016-07-22</td><td>2017-01-30</td></tr>",
                            "<tr><td>eszter</td><td>Molnár Eszter</td><td>1987-05-10</td><td>2016-08-12</td><td>2016-12-23</td></tr>",
                            "<tr><td>eszter2</td><td>Balogh Eszter</td><td>1998-01-31</td><td>2016-06-30</td><td>2016-12-29</td></tr>",
                            "<tr><td>eszter4</td><td>Fülöp Eszter</td><td>1993-06-28</td><td>2017-01-05</td><td>2017-02-26</td></tr>",
                            "<tr><td>ESZTERE</td><td>Érsek Eszter</td><td>1978-08-28</td><td>2016-05-30</td><td>2017-02-10</td></tr>",
                            "<tr><td>eva</td><td>Enyedi Éva</td><td>1967-06-30</td><td>2016-10-06</td><td>2017-01-14</td></tr>",
                            "<tr><td>eva2</td><td>Perlinger Éva</td><td>1971-08-19</td><td>2016-09-02</td><td>2017-01-06</td></tr>",
                            "<tr><td>EVAV</td><td>Viktor Éva</td><td>1980-12-26</td><td>2016-05-01</td><td>2017-02-04</td></tr>",
                            "<tr><td>ferenc1</td><td>Orosz Ferenc</td><td>1983-10-08</td><td>2016-05-08</td><td>2016-11-07</td></tr>",
                            "<tr><td>fruzsina4</td><td>Frank Fruzsina</td><td>1996-08-16</td><td>2016-06-02</td><td>2017-01-22</td></tr>",
                            "<tr><td>gabor1</td><td>Köves Gábor</td><td>1973-07-15</td><td>2016-06-20</td><td>2016-11-19</td></tr>",
                            "<tr><td>gabor4</td><td>Telek Gábor</td><td>1987-03-15</td><td>2016-04-26</td><td>2016-11-07</td></tr>",
                            "<tr><td>gabriella1</td><td>Nagy Gabriella</td><td>1982-11-01</td><td>2016-04-21</td><td>2017-02-21</td></tr>",
                            "<tr><td>gabriella10</td><td>Vida Gabriella</td><td>1969-06-18</td><td>2016-10-01</td><td>2016-10-01</td></tr>",
                            "<tr><td>georgij</td><td>Nyíri Georgij</td><td>1983-02-23</td><td>2016-06-16</td><td>2016-09-18</td></tr>",
                            "<tr><td>gusztav</td><td>Bárci Gusztáv</td><td>1967-02-25</td><td>2016-05-06</td><td>2017-02-23</td></tr>",
                            "<tr><td>GYONGYIK</td><td>Kornseé Gyöngyi</td><td>1974-06-07</td><td>2016-06-02</td><td>2017-01-22</td></tr>",
                            "<tr><td>GYORGYO</td><td>Oroszi György</td><td>1980-03-23</td><td>2016-05-27</td><td>2017-02-24</td></tr>",
                            "<tr><td>henrik3</td><td>Nádudvari Henrik</td><td>1986-12-05</td><td>2016-08-24</td><td>2017-01-27</td></tr>",
                            "<tr><td>IBOLYAA</td><td>Andor Ibolya</td><td>1983-11-27</td><td>2016-08-29</td><td>2017-01-17</td></tr>",
                            "<tr><td>ilona3</td><td>Bosnyák Ilona</td><td>1990-08-06</td><td>2016-07-31</td><td>2016-12-25</td></tr>",
                            "<tr><td>imre</td><td>Búza Imre</td><td>1988-09-30</td><td>2016-09-17</td><td>2016-10-28</td></tr>",
                            "<tr><td>imre1</td><td>Papp Imre</td><td>1976-06-25</td><td>2016-06-23</td><td>2017-02-05</td></tr>",
                            "<tr><td>istvan</td><td>Soós István</td><td>1986-06-28</td><td>2016-10-07</td><td>2017-01-02</td></tr>",
                            "<tr><td>istvan1</td><td>Vizi István</td><td>1997-12-01</td><td>2016-04-16</td><td>2017-02-07</td></tr>",
                            "<tr><td>ISTVANV</td><td>Varga István</td><td>1989-04-09</td><td>2016-07-01</td><td>2016-09-29</td></tr>",
                            "<tr><td>janos3</td><td>Harangozó János</td><td>1967-11-02</td><td>2016-06-04</td><td>2017-02-12</td></tr>",
                            "<tr><td>JANOSG</td><td>Giliga János</td><td>1975-01-03</td><td>2016-05-09</td><td>2017-01-31</td></tr>",
                            "<tr><td>JANOSP</td><td>Pálinkás János</td><td>1984-10-12</td><td>2016-07-04</td><td>2016-12-18</td></tr>",
                            "<tr><td>jozsef</td><td>Gergely József</td><td>1985-11-01</td><td>2016-09-13</td><td>2016-12-06</td></tr>",
                            "<tr><td>jozsef2</td><td>Vajda József</td><td>1978-09-04</td><td>2016-07-06</td><td>2016-11-25</td></tr>",
                            "<tr><td>JOZSEFG</td><td>Gyuris József</td><td>1975-05-26</td><td>2016-05-02</td><td>2017-02-24</td></tr>",
                            "<tr><td>JUDITH</td><td>Hídasi Judit</td><td>1997-07-12</td><td>2016-06-06</td><td>2016-12-19</td></tr>",
                            "<tr><td>julia</td><td>Tóth Júlia</td><td>1993-03-02</td><td>2016-04-21</td><td>2017-02-27</td></tr>",
                            "<tr><td>julia4</td><td>Nagy Júlia</td><td>1985-08-11</td><td>2016-11-07</td><td>2017-02-04</td></tr>",
                            "<tr><td>julianna4</td><td>Szabó Julianna</td><td>1990-09-29</td><td>2016-07-20</td><td>2016-11-27</td></tr>",
                            "<tr><td>kata</td><td>Gondos Katalin</td><td>1968-06-22</td><td>2016-04-10</td><td>2017-01-15</td></tr>",
                            "<tr><td>katalin</td><td>Horváth Katalin</td><td>1968-01-01</td><td>2016-04-10</td><td>2017-02-24</td></tr>",
                            "<tr><td>katalin4</td><td>Kertész Katalin</td><td>1986-04-13</td><td>2016-07-01</td><td>2017-01-24</td></tr>",
                            "<tr><td>kati</td><td>Zatykó Katalin</td><td>1995-05-01</td><td>2016-06-06</td><td>2016-10-30</td></tr>",
                            "<tr><td>katka</td><td>Kovács Katalin</td><td>1975-03-31</td><td>2016-04-10</td><td>2017-01-19</td></tr>",
                            "<tr><td>klaudia2</td><td>Bakó Klaudia</td><td>1982-04-16</td><td>2016-06-06</td><td>2016-10-02</td></tr>",
                            "<tr><td>kornel4</td><td>Lukács Kornél</td><td>1975-09-30</td><td>2016-05-08</td><td>2016-09-23</td></tr>",
                            "<tr><td>kristof4</td><td>Poprádi Kristóf</td><td>1984-01-15</td><td>2016-04-08</td><td>2016-09-30</td></tr>",
                            "<tr><td>kriszti</td><td>Horváth Krisztina</td><td>1978-06-12</td><td>2016-05-19</td><td>2017-03-03</td></tr>",
                            "<tr><td>krisztian4</td><td>Czérna Krisztián</td><td>1970-08-01</td><td>2016-06-03</td><td>2017-02-23</td></tr>",
                            "<tr><td>KRISZTIANM</td><td>Mogyródi Krisztián</td><td>1968-05-27</td><td>2016-04-09</td><td>2017-01-16</td></tr>",
                            "<tr><td>krisztina</td><td>Szedlár Krisztina</td><td>1979-05-10</td><td>2016-05-21</td><td>2017-02-16</td></tr>",
                            "<tr><td>krisztina1</td><td>Bori Krisztina</td><td>1969-10-13</td><td>2016-04-28</td><td>2017-01-21</td></tr>",
                            "<tr><td>KRISZTINAG</td><td>Gyárfás Krisztina</td><td>1987-09-19</td><td>2016-04-23</td><td>2017-01-25</td></tr>",
                            "<tr><td>lajos</td><td>Kiss Lajos</td><td>1978-10-31</td><td>2016-07-18</td><td>2017-02-12</td></tr>",
                            "<tr><td>lala</td><td>Nagymihály Lajos</td><td>1997-02-24</td><td>2016-06-16</td><td>2017-01-17</td></tr>",
                            "<tr><td>laszlo1</td><td>Farkas László</td><td>1967-10-30</td><td>2016-09-23</td><td>2016-09-23</td></tr>",
                            "<tr><td>laszlo2</td><td>Móra László</td><td>1975-02-19</td><td>2016-04-06</td><td>2016-11-25</td></tr>",
                            "<tr><td>LASZLOA</td><td>Antal László</td><td>1969-06-29</td><td>2016-06-03</td><td>2017-02-08</td></tr>",
                            "<tr><td>LASZLON</td><td>Nagy László</td><td>1969-04-12</td><td>2016-06-03</td><td>2017-02-18</td></tr>",
                            "<tr><td>maria1</td><td>Baráth Mária</td><td>1995-11-19</td><td>2016-05-13</td><td>2017-02-24</td></tr>",
                            "<tr><td>mark</td><td>Kispál Márk</td><td>1996-01-23</td><td>2016-04-19</td><td>2016-11-19</td></tr>",
                            "<tr><td>MARKH</td><td>Horváth Márk</td><td>1997-09-23</td><td>2016-09-14</td><td>2017-01-22</td></tr>",
                            "<tr><td>marton</td><td>Kalacsi Márton</td><td>1989-06-24</td><td>2016-04-27</td><td>2017-03-02</td></tr>",
                            "<tr><td>MATEK</td><td>Koza Máté</td><td>1997-02-28</td><td>2016-08-17</td><td>2017-01-16</td></tr>",
                            "<tr><td>matyas2</td><td>Botka Mátyás</td><td>1972-07-07</td><td>2016-07-13</td><td>2016-12-09</td></tr>",
                            "<tr><td>MATYASS</td><td>Szilágyi Mátyás</td><td>1975-03-22</td><td>2016-05-10</td><td>2017-01-09</td></tr>",
                            "<tr><td>MIHALYJ</td><td>Juhász Mihály</td><td>1979-10-12</td><td>2016-05-30</td><td>2017-02-06</td></tr>",
                            "<tr><td>miklos2</td><td>Gondos Miklós</td><td>1995-10-07</td><td>2016-04-19</td><td>2016-11-16</td></tr>",
                            "<tr><td>MIKLOSB</td><td>Balla Miklós</td><td>1979-02-16</td><td>2016-06-26</td><td>2016-12-05</td></tr>",
                            "<tr><td>MONIKAM</td><td>Mohos Mónika</td><td>1974-10-01</td><td>2016-04-29</td><td>2017-02-23</td></tr>",
                            "<tr><td>NANDORF</td><td>Fő Nándor</td><td>1968-11-12</td><td>2016-04-06</td><td>2017-02-05</td></tr>",
                            "<tr><td>nikolett3</td><td>Horváth Nikolett</td><td>1981-09-29</td><td>2016-05-24</td><td>2016-10-22</td></tr>",
                            "<tr><td>nikoletta4</td><td>Kő Nikoletta</td><td>1972-01-10</td><td>2016-04-08</td><td>2017-02-01</td></tr>",
                            "<tr><td>NIKOLETTAT</td><td>Tatár Nikoletta</td><td>1997-10-19</td><td>2016-05-22</td><td>2016-09-21</td></tr>",
                            "<tr><td>norbert</td><td>Szűcs Norbert</td><td>1969-07-17</td><td>2016-07-08</td><td>2017-02-26</td></tr>",
                            "<tr><td>norbert2</td><td>Hegedűs Norbert</td><td>1991-07-17</td><td>2016-04-19</td><td>2017-01-29</td></tr>",
                            "<tr><td>norbert4</td><td>Mile Norbert</td><td>1983-06-15</td><td>2016-04-10</td><td>2017-03-03</td></tr>",
                            "<tr><td>norbert5</td><td>Béres Norbert</td><td>1975-07-27</td><td>2016-06-24</td><td>2016-11-05</td></tr>",
                            "<tr><td>pal</td><td>Barabás Pál</td><td>1968-02-06</td><td>2016-08-14</td><td>2017-02-20</td></tr>",
                            "<tr><td>peter1</td><td>Kozma Péter</td><td>1976-03-18</td><td>2016-07-14</td><td>2017-02-28</td></tr>",
                            "<tr><td>peter2</td><td>Bozsó Péter</td><td>1976-01-26</td><td>2016-07-03</td><td>2016-11-15</td></tr>",
                            "<tr><td>peter3</td><td>Szalai Péter</td><td>1983-07-18</td><td>2016-06-30</td><td>2017-02-21</td></tr>",
                            "<tr><td>peter4</td><td>Bíró Péter</td><td>1985-09-01</td><td>2016-04-12</td><td>2017-02-05</td></tr>",
                            "<tr><td>PETERB</td><td>Berendi Péter</td><td>1969-01-01</td><td>2016-04-06</td><td>2016-11-17</td></tr>",
                            "<tr><td>polla</td><td>Palágyi Polla</td><td>1994-02-04</td><td>2016-04-17</td><td>2017-02-11</td></tr>",
                            "<tr><td>rajmond4</td><td>Rácz Rajmond</td><td>1993-09-25</td><td>2016-09-05</td><td>2016-11-16</td></tr>",
                            "<tr><td>reka4</td><td>Szikszai Réka</td><td>1969-11-27</td><td>2016-07-27</td><td>2017-02-26</td></tr>",
                            "<tr><td>RENATAK</td><td>Kardos Renáta</td><td>1988-05-17</td><td>2016-10-27</td><td>2017-03-01</td></tr>",
                            "<tr><td>RENATAS</td><td>Szirmai Renáta</td><td>1991-03-26</td><td>2016-05-04</td><td>2017-02-14</td></tr>",
                            "<tr><td>robert2</td><td>Patay Róbert</td><td>1977-01-08</td><td>2016-05-15</td><td>2016-12-17</td></tr>",
                            "<tr><td>ROBERTI</td><td>Iván Róbert</td><td>1967-07-02</td><td>2016-07-12</td><td>2017-02-17</td></tr>",
                            "<tr><td>ROBERTP</td><td>Pásztor Róbert</td><td>1972-05-16</td><td>2016-07-30</td><td>2016-09-08</td></tr>",
                            "<tr><td>roland</td><td>Tóth Roland</td><td>1968-03-21</td><td>2016-06-09</td><td>2016-11-19</td></tr>",
                            "<tr><td>roland1</td><td>Ferencz Roland</td><td>1985-12-31</td><td>2016-11-05</td><td>2017-01-16</td></tr>",
                            "<tr><td>roza2</td><td>Bucskó Róza</td><td>1988-12-26</td><td>2016-09-10</td><td>2017-02-18</td></tr>",
                            "<tr><td>sandor</td><td>Karasz Sándor</td><td>1970-01-27</td><td>2016-07-04</td><td>2016-09-19</td></tr>",
                            "<tr><td>sandor3</td><td>Farkas Sándor</td><td>1989-01-27</td><td>2016-05-12</td><td>2016-11-10</td></tr>",
                            "<tr><td>sandor4</td><td>Nagy Sándor</td><td>1997-06-11</td><td>2016-10-15</td><td>2017-01-22</td></tr>",
                            "<tr><td>sara</td><td>Farkas Sára</td><td>1973-04-05</td><td>2016-05-28</td><td>2016-12-25</td></tr>",
                            "<tr><td>SEBASTIANF</td><td>Foltényi Sebastián</td><td>1992-09-09</td><td>2016-04-06</td><td>2016-09-17</td></tr>",
                            "<tr><td>sebestyen</td><td>Rab Sebestyén</td><td>1992-03-03</td><td>2016-04-07</td><td>2016-10-26</td></tr>",
                            "<tr><td>szabolcs</td><td>Bodor Szabolcs</td><td>1990-07-16</td><td>2016-12-05</td><td>2016-12-05</td></tr>",
                            "<tr><td>SZABOLCSM</td><td>Miklós Szabolcs</td><td>1980-08-11</td><td>2016-06-18</td><td>2017-02-04</td></tr>",
                            "<tr><td>SZILARDS</td><td>Szalai Szilárd</td><td>1967-09-28</td><td>2016-04-23</td><td>2017-02-08</td></tr>",
                            "<tr><td>szilvia1</td><td>Tari Szilvia</td><td>1971-03-09</td><td>2016-05-14</td><td>2017-01-28</td></tr>",
                            "<tr><td>tamara2</td><td>Miklós Tamara</td><td>1980-08-11</td><td>2016-08-12</td><td>2016-11-15</td></tr>",
                            "<tr><td>tamas</td><td>Antal Tamás</td><td>1984-09-05</td><td>2016-05-17</td><td>2017-02-14</td></tr>",
                            "<tr><td>TAMASF</td><td>Fényes Tamás</td><td>1997-11-06</td><td>2016-05-03</td><td>2017-02-16</td></tr>",
                            "<tr><td>tibor</td><td>Gombos Tibor</td><td>1993-11-28</td><td>2016-10-09</td><td>2016-11-05</td></tr>",
                            "<tr><td>tibor2</td><td>Dániel Tibor</td><td>1985-02-02</td><td>2016-10-20</td><td>2016-10-20</td></tr>",
                            "<tr><td>tihamer</td><td>Kazy Tihamér</td><td>1991-07-05</td><td>2016-05-30</td><td>2016-12-25</td></tr>",
                            "<tr><td>timea</td><td>Papós Tímea</td><td>1996-01-08</td><td>2016-12-26</td><td>2016-12-26</td></tr>",
                            "<tr><td>timea2</td><td>Dusha Tímea</td><td>1975-08-22</td><td>2016-06-06</td><td>2016-12-14</td></tr>",
                            "<tr><td>tunde</td><td>Turcsik Tünde</td><td>1974-02-12</td><td>2016-06-03</td><td>2017-01-03</td></tr>",
                            "<tr><td>valentin</td><td>Feró Valentin</td><td>1986-01-09</td><td>2016-05-24</td><td>2016-12-01</td></tr>",
                            "<tr><td>veronika4</td><td>Tankó Veronika</td><td>1983-08-28</td><td>2016-05-30</td><td>2017-02-03</td></tr>",
                            "<tr><td>VIKTORIAU</td><td>Urbán Viktoria</td><td>1996-05-03</td><td>2016-04-30</td><td>2016-10-26</td></tr>",
                            "<tr><td>VIKTORK</td><td>Keresztúri Viktor</td><td>1989-05-05</td><td>2016-05-30</td><td>2016-06-06</td></tr>",
                            "<tr><td>vivien3</td><td>Boros Vivien</td><td>1991-07-01</td><td>2016-05-02</td><td>2016-12-24</td></tr>",
                            "<tr><td>zoltan</td><td>Fodor Zoltán</td><td>1979-11-25</td><td>2016-08-24</td><td>2016-09-05</td></tr>",
                            "<tr><td>zoltan4</td><td>Barna Zoltán</td><td>1986-05-20</td><td>2016-05-12</td><td>2017-01-01</td></tr>",
                            "<tr><td>ZOLTANP</td><td>Pintér Zoltán</td><td>1977-06-07</td><td>2016-06-05</td><td>2016-12-25</td></tr>",
                            "<tr><td>ZOLTANT</td><td>Tóth Zoltán</td><td>1985-12-14</td><td>2016-05-01</td><td>2017-01-16</td></tr>",
                            "<tr><td>zsofi1</td><td>Molnár Zsófi</td><td>1983-11-17</td><td>2016-06-16</td><td>2017-02-18</td></tr>",
                            "<tr><td>zsolt1</td><td>Pulai Zsolt</td><td>1988-05-27</td><td>2016-04-14</td><td>2016-07-31</td></tr>",
                            "<tr><td>ZSOLTJ</td><td>Józsa Zsolt</td><td>1983-09-29</td><td>2016-04-24</td><td>2016-10-01</td></tr>",
                            "<tr><td>zsuzsa</td><td>Pusztai Zsuzsanna</td><td>1980-09-17</td><td>2016-07-24</td><td>2016-11-28</td></tr>",
                            "<tr><td>zsuzsa3</td><td>Varsányi Zsuzsa</td><td>1979-03-06</td><td>2016-07-30</td><td>2016-10-27</td></tr>",
                            "<tr><td>zsuzsanna</td><td>Barta Zsuzsanna</td><td>1994-10-07</td><td>2016-05-17</td><td>2017-01-16</td></tr>",
                            "<tr><td>ZSUZSAV</td><td>Vajda Zsuzsa</td><td>1976-12-11</td><td>2016-04-14</td><td>2016-11-21</td></tr>",
                            "</table>"
                        ]
                    }
                }
            ],
            "execution_count": 3
        },
        {
            "cell_type": "markdown",
            "source": [
                "Jelenítsük meg, hogy hány foglalás történt szobánként, naponta (METTOL), valamint szobánként, azon belül naponta \n",
                "\n",
                "  \n",
                "\n",
                "<span style=\"color: #6796e6;\">-</span> Szempontonként külön-külön számoljuk a foglalásokat\n",
                "\n",
                "<span style=\"color: #6796e6;\">-</span> A foglalások száma minden esetben legalább 2 legyen"
            ],
            "metadata": {
                "azdata_cell_guid": "2c20316b-65ef-4f36-a5ee-85bc3fcea66e"
            },
            "attachments": {}
        },
        {
            "cell_type": "code",
            "source": [
                ""
            ],
            "metadata": {
                "azdata_cell_guid": "1e053a89-4085-45e0-bc15-29cb51c58bb0",
                "language": "sql"
            },
            "outputs": [
                {
                    "output_type": "error",
                    "evalue": "Msg 205, Level 16, State 1, Line 2\r\nAll queries combined using a UNION, INTERSECT or EXCEPT operator must have an equal number of expressions in their target lists.",
                    "ename": "",
                    "traceback": []
                },
                {
                    "output_type": "display_data",
                    "data": {
                        "text/html": "Total execution time: 00:00:00.031"
                    },
                    "metadata": {}
                }
            ],
            "execution_count": 8
        },
        {
            "cell_type": "markdown",
            "source": [
                "Készítsünk ideiglenes táblát #MASKED<span style=\"color: #d7ba7d;\">\\_</span>GUEST néven, ahol \n",
                "\n",
                "  \n",
                "\n",
                "<span style=\"color: #6796e6;\">-</span> a tábla felépítése megegyezik a vendég tábláéval, DE\n",
                "\n",
                "<span style=\"color: #6796e6;\">-</span> a vendégek nevének csak az első 2, és az utolsó 3 karaktere jelenjen meg, közötte X-ek legyenek!"
            ],
            "metadata": {
                "azdata_cell_guid": "12c0abc7-8cd9-4eaf-a412-81623b25bf8e"
            },
            "attachments": {}
        },
        {
            "cell_type": "code",
            "source": [
                "CREATE TABLE #MASKED_GUEST\r\n",
                "(\r\n",
                "    usernev nvarchar(20) PRIMARY KEY,\r\n",
                "    nev nvarchar(50) MASKED WITH (Function = 'partial(2,\"xxx\",3'),\r\n",
                "    email NVARCHAR(60),\r\n",
                "    szaml_cim nvarchar(100),\r\n",
                "    szul_dat date\r\n",
                "\r\n",
                ")"
            ],
            "metadata": {
                "azdata_cell_guid": "7a62f86d-b1eb-4a44-bd74-7ff78f2cd703",
                "language": "sql"
            },
            "outputs": [],
            "execution_count": null
        },
        {
            "cell_type": "markdown",
            "source": [
                "Oldja meg REDIS-ben a következő feladatokat:\n",
                "\n",
                "  \n",
                "\n",
                "<span style=\"color: #6796e6;\">-</span> hozzon létre egy string kulcsot, amely egy könyvtár nevét tartalmazza\n",
                "\n",
                "<span style=\"color: #6796e6;\">-</span> hozzon létre egy hash kulcsot, amely egy könyv legalább 3 adatát tartalmazza\n",
                "\n",
                "<span style=\"color: #6796e6;\">-</span> hozzon létre egy set kulcsot, amely a könyvtárban lévő könyvek műfajait tartalmazza (legalább 3)\n",
                "\n",
                "<span style=\"color: #6796e6;\">-</span> hozzon létre egy list kulcsot, amely a kikölcsönzött könyvek címeit tartalmazza (legalább 3)\n",
                "\n",
                "<span style=\"color: #6796e6;\">-</span> hozzon létre egy sorted set kulcsot, amely az adott könyvek címeit és a könyv kölcsönzéseinek számát tartalmazza (legalább 3)"
            ],
            "metadata": {
                "azdata_cell_guid": "da06c2e4-f5b0-4a23-92ee-ceef46303918"
            },
            "attachments": {}
        },
        {
            "cell_type": "code",
            "source": [
                "SET library_name \"City Library\"\r\n",
                "HSET book:1 title \"1984\" author \"George Orwell\" year \"1949\"\r\n",
                "SADD genres \"Dystopian\" \"Science Fiction\" \"Classic\"\r\n",
                "RPUSH borrowed_books \"1984\" \"Brave New World\" \"Fahrenheit 451\"\r\n",
                "ZADD book_loans 5 \"1984\" 3 \"Brave New World\" 4 \"Fahrenheit 451\""
            ],
            "metadata": {
                "azdata_cell_guid": "299cc148-e852-479c-a17e-0c21fc5fc900",
                "language": "sql"
            },
            "outputs": [],
            "execution_count": null
        },
        {
            "cell_type": "markdown",
            "source": [
                "Cassandra:\n",
                "\n",
                "  \n",
                "\n",
                "STUDENT(ID, Nev, Teljesitett<span style=\"color: #d7ba7d;\">\\_</span>felevek, Eredmenyek, Nyelvtudas)\n",
                "\n",
                "  \n",
                "\n",
                "<span style=\"color: #6796e6;\">-</span> Az ID legyen az elsődleges kulcs\n",
                "\n",
                "<span style=\"color: #6796e6;\">-</span> A Teljesitett félévek legyen LIST, tartalma egész számok, pl: 1, 2, 3\n",
                "\n",
                "<span style=\"color: #6796e6;\">-</span> Az Eredmenyek legyen MAP, tartalma, hogy melyik félévben mennyi volt az átlag, pl: 1: 3,00, 2: 4.55, 3: 4,10\n",
                "\n",
                "<span style=\"color: #6796e6;\">-</span> A Nyelvtudas legyen SET, tartalma a nyelvek megnevezése\n",
                "\n",
                "  \n",
                "\n",
                "Vigyen fel legalább 2 rekordot!"
            ],
            "metadata": {
                "azdata_cell_guid": "a591cdeb-eb1b-4dfd-9a3f-d37618ac2617"
            },
            "attachments": {}
        },
        {
            "cell_type": "code",
            "source": [
                "CREATE TABLE STUDENT\r\n",
                "(\r\n",
                "    ID int PRIMARY KEY,\r\n",
                "    NEV text,\r\n",
                "    Teljesitett_felevek list<int>,\r\n",
                "    Eredmenyek MAP<float>,\r\n",
                "    Nyelvtudas SET<text>\r\n",
                "\r\n",
                ");\r\n",
                "\r\n",
                "INSERT INTO STUDENT (ID, Nev, Teljesitett_felevek, Eredmenyek, Nyelvtudas)\r\n",
                "VALUES (1,'Kiss Bela', [1,2], [1:3,00, 2:4,55], [angol]);\r\n",
                "\r\n",
                "INSERT INTO STUDENT (ID, Nev, Teljesitett_felevek, Eredmenyek, Nyelvtudas)\r\n",
                "VALUES (2,'Nagy Bela', [1], [1:3,00], [nemet]);"
            ],
            "metadata": {
                "azdata_cell_guid": "65994f8b-4801-45c1-a3a6-17958c083a01",
                "language": "sql"
            },
            "outputs": [],
            "execution_count": null
        },
        {
            "cell_type": "markdown",
            "source": [
                "A Neo4j Sandbox-ban vagy a Desktopban jelenítsük meg azon személyeket, akik egy filmben szerepeltek Tom Hanks-sel.\n",
                "\n",
                "  \n",
                "\n",
                "<span style=\"color: #6796e6;\">-</span> Egy szereplő neve csak egyszer jelenjen meg\n",
                "\n",
                "<span style=\"color: #6796e6;\">-</span> Tom Hanks ne legyen benne a listában"
            ],
            "metadata": {
                "azdata_cell_guid": "59d229ef-257d-450e-a4a9-e42967d9f0f4"
            },
            "attachments": {}
        },
        {
            "cell_type": "code",
            "source": [
                "MATCH (tom:Person {name: \"Tom Hanks\"})-[:ACTED_IN]->(movie:Movie)<-[:ACTED_IN]-(coactors:Person)\r\n",
                "WHERE coactors.name <> \"Tom Hanks\"\r\n",
                "RETURN DISTINCT coactors.name AS coactor_name"
            ],
            "metadata": {
                "azdata_cell_guid": "1d9ba3b7-58f8-41c7-993a-afa41066d623",
                "language": "sql"
            },
            "outputs": [],
            "execution_count": null
        }
    ]
}